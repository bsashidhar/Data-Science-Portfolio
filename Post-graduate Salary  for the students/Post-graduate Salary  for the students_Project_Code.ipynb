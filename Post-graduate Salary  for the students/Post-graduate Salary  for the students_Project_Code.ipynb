{
 "cells": [
  {
   "cell_type": "code",
   "execution_count": 1,
   "id": "500d2134",
   "metadata": {},
   "outputs": [],
   "source": [
    "# Assignment: DSC540 Final Project\n",
    "# Name: Bezawada, Sashidhar\n",
    "# Date: 2023-03-01\n",
    "# Milestone 2 : Cleaning/Formatting Flat File Source\n",
    "# Milestone 3 : Cleaning/Formatting Website Data\n",
    "# Milestone 4 : Connecting to an API/Pulling in the Data and Cleaning/Formatting\n",
    "# Milestone 5 : Merging the Data and Storing in a Database/Visualizing Data"
   ]
  },
  {
   "cell_type": "markdown",
   "id": "e1d93027",
   "metadata": {},
   "source": [
    "## Milestone 2\n",
    "### Perform at least 5 data transformation and/or cleansing steps to your flat file data. For example:\n",
    "1. Replace Headers\n",
    "2. Format data into a more readable format\n",
    "3. Identify outliers and bad data\n",
    "4. Find duplicates\n",
    "5. Fix casing or inconsistent values\n",
    "6. Conduct Fuzzy Matching\n",
    "\n",
    "### Reading in flat files"
   ]
  },
  {
   "cell_type": "code",
   "execution_count": 2,
   "id": "3553e809",
   "metadata": {},
   "outputs": [],
   "source": [
    "import pandas as pd\n",
    "import seaborn as sns\n",
    "from scipy import stats\n",
    "import numpy as np\n",
    "import matplotlib.pyplot as plt"
   ]
  },
  {
   "cell_type": "code",
   "execution_count": 3,
   "id": "eab345e7",
   "metadata": {},
   "outputs": [
    {
     "name": "stdout",
     "output_type": "stream",
     "text": [
      "                                School Name      Region  \\\n",
      "0                       Stanford University  California   \n",
      "1  California Institute of Technology (CIT)  California   \n",
      "2                       Harvey Mudd College  California   \n",
      "3        University of California, Berkeley  California   \n",
      "4                        Occidental College  California   \n",
      "\n",
      "  Starting Median Salary Mid-Career Median Salary  \\\n",
      "0             $70,400.00              $129,000.00   \n",
      "1             $75,500.00              $123,000.00   \n",
      "2             $71,800.00              $122,000.00   \n",
      "3             $59,900.00              $112,000.00   \n",
      "4             $51,900.00              $105,000.00   \n",
      "\n",
      "  Mid-Career 10th Percentile Salary Mid-Career 25th Percentile Salary  \\\n",
      "0                        $68,400.00                        $93,100.00   \n",
      "1                               NaN                       $104,000.00   \n",
      "2                               NaN                        $96,000.00   \n",
      "3                        $59,500.00                        $81,000.00   \n",
      "4                               NaN                        $54,800.00   \n",
      "\n",
      "  Mid-Career 75th Percentile Salary Mid-Career 90th Percentile Salary  \n",
      "0                       $184,000.00                       $257,000.00  \n",
      "1                       $161,000.00                               NaN  \n",
      "2                       $180,000.00                               NaN  \n",
      "3                       $149,000.00                       $201,000.00  \n",
      "4                       $157,000.00                               NaN  \n"
     ]
    }
   ],
   "source": [
    "#salaries_by_region.csv\n",
    "#Reading flat files into DataFrame object\n",
    "salaries_region = pd.read_csv(\"datasets/salaries-by-region.csv\")\n",
    "print(salaries_region.head())"
   ]
  },
  {
   "cell_type": "code",
   "execution_count": 4,
   "id": "da8fd795",
   "metadata": {},
   "outputs": [
    {
     "name": "stdout",
     "output_type": "stream",
     "text": [
      "                                    School Name  School Type  \\\n",
      "0   Massachusetts Institute of Technology (MIT)  Engineering   \n",
      "1      California Institute of Technology (CIT)  Engineering   \n",
      "2                           Harvey Mudd College  Engineering   \n",
      "3  Polytechnic University of New York, Brooklyn  Engineering   \n",
      "4                                  Cooper Union  Engineering   \n",
      "\n",
      "  Starting Median Salary Mid-Career Median Salary  \\\n",
      "0             $72,200.00              $126,000.00   \n",
      "1             $75,500.00              $123,000.00   \n",
      "2             $71,800.00              $122,000.00   \n",
      "3             $62,400.00              $114,000.00   \n",
      "4             $62,200.00              $114,000.00   \n",
      "\n",
      "  Mid-Career 10th Percentile Salary Mid-Career 25th Percentile Salary  \\\n",
      "0                        $76,800.00                        $99,200.00   \n",
      "1                               NaN                       $104,000.00   \n",
      "2                               NaN                        $96,000.00   \n",
      "3                        $66,800.00                        $94,300.00   \n",
      "4                               NaN                        $80,200.00   \n",
      "\n",
      "  Mid-Career 75th Percentile Salary Mid-Career 90th Percentile Salary  \n",
      "0                       $168,000.00                       $220,000.00  \n",
      "1                       $161,000.00                               NaN  \n",
      "2                       $180,000.00                               NaN  \n",
      "3                       $143,000.00                       $190,000.00  \n",
      "4                       $142,000.00                               NaN  \n"
     ]
    }
   ],
   "source": [
    "#salaries_by_region.csv\n",
    "#Reading flat files into DataFrame object\n",
    "salaries_college_type = pd.read_csv(\"datasets/salaries-by-college-type.csv\")\n",
    "print(salaries_college_type.head())"
   ]
  },
  {
   "cell_type": "markdown",
   "id": "70c50ad7",
   "metadata": {},
   "source": [
    "## Merging 2 Salaries Flat Files"
   ]
  },
  {
   "cell_type": "code",
   "execution_count": 5,
   "id": "02fc2f47",
   "metadata": {},
   "outputs": [
    {
     "data": {
      "text/html": [
       "<div>\n",
       "<style scoped>\n",
       "    .dataframe tbody tr th:only-of-type {\n",
       "        vertical-align: middle;\n",
       "    }\n",
       "\n",
       "    .dataframe tbody tr th {\n",
       "        vertical-align: top;\n",
       "    }\n",
       "\n",
       "    .dataframe thead th {\n",
       "        text-align: right;\n",
       "    }\n",
       "</style>\n",
       "<table border=\"1\" class=\"dataframe\">\n",
       "  <thead>\n",
       "    <tr style=\"text-align: right;\">\n",
       "      <th></th>\n",
       "      <th>School Name</th>\n",
       "      <th>Region</th>\n",
       "      <th>Starting Median Salary_x</th>\n",
       "      <th>Mid-Career Median Salary_x</th>\n",
       "      <th>Mid-Career 10th Percentile Salary_x</th>\n",
       "      <th>Mid-Career 25th Percentile Salary_x</th>\n",
       "      <th>Mid-Career 75th Percentile Salary_x</th>\n",
       "      <th>Mid-Career 90th Percentile Salary_x</th>\n",
       "      <th>School Type</th>\n",
       "      <th>Starting Median Salary_y</th>\n",
       "      <th>Mid-Career Median Salary_y</th>\n",
       "      <th>Mid-Career 10th Percentile Salary_y</th>\n",
       "      <th>Mid-Career 25th Percentile Salary_y</th>\n",
       "      <th>Mid-Career 75th Percentile Salary_y</th>\n",
       "      <th>Mid-Career 90th Percentile Salary_y</th>\n",
       "    </tr>\n",
       "  </thead>\n",
       "  <tbody>\n",
       "    <tr>\n",
       "      <th>0</th>\n",
       "      <td>California Institute of Technology (CIT)</td>\n",
       "      <td>California</td>\n",
       "      <td>$75,500.00</td>\n",
       "      <td>$123,000.00</td>\n",
       "      <td>NaN</td>\n",
       "      <td>$104,000.00</td>\n",
       "      <td>$161,000.00</td>\n",
       "      <td>NaN</td>\n",
       "      <td>Engineering</td>\n",
       "      <td>$75,500.00</td>\n",
       "      <td>$123,000.00</td>\n",
       "      <td>NaN</td>\n",
       "      <td>$104,000.00</td>\n",
       "      <td>$161,000.00</td>\n",
       "      <td>NaN</td>\n",
       "    </tr>\n",
       "    <tr>\n",
       "      <th>1</th>\n",
       "      <td>Harvey Mudd College</td>\n",
       "      <td>California</td>\n",
       "      <td>$71,800.00</td>\n",
       "      <td>$122,000.00</td>\n",
       "      <td>NaN</td>\n",
       "      <td>$96,000.00</td>\n",
       "      <td>$180,000.00</td>\n",
       "      <td>NaN</td>\n",
       "      <td>Engineering</td>\n",
       "      <td>$71,800.00</td>\n",
       "      <td>$122,000.00</td>\n",
       "      <td>NaN</td>\n",
       "      <td>$96,000.00</td>\n",
       "      <td>$180,000.00</td>\n",
       "      <td>NaN</td>\n",
       "    </tr>\n",
       "    <tr>\n",
       "      <th>2</th>\n",
       "      <td>University of California, Berkeley</td>\n",
       "      <td>California</td>\n",
       "      <td>$59,900.00</td>\n",
       "      <td>$112,000.00</td>\n",
       "      <td>$59,500.00</td>\n",
       "      <td>$81,000.00</td>\n",
       "      <td>$149,000.00</td>\n",
       "      <td>$201,000.00</td>\n",
       "      <td>State</td>\n",
       "      <td>$59,900.00</td>\n",
       "      <td>$112,000.00</td>\n",
       "      <td>$59,500.00</td>\n",
       "      <td>$81,000.00</td>\n",
       "      <td>$149,000.00</td>\n",
       "      <td>$201,000.00</td>\n",
       "    </tr>\n",
       "    <tr>\n",
       "      <th>3</th>\n",
       "      <td>Occidental College</td>\n",
       "      <td>California</td>\n",
       "      <td>$51,900.00</td>\n",
       "      <td>$105,000.00</td>\n",
       "      <td>NaN</td>\n",
       "      <td>$54,800.00</td>\n",
       "      <td>$157,000.00</td>\n",
       "      <td>NaN</td>\n",
       "      <td>Liberal Arts</td>\n",
       "      <td>$51,900.00</td>\n",
       "      <td>$105,000.00</td>\n",
       "      <td>NaN</td>\n",
       "      <td>$54,800.00</td>\n",
       "      <td>$157,000.00</td>\n",
       "      <td>NaN</td>\n",
       "    </tr>\n",
       "    <tr>\n",
       "      <th>4</th>\n",
       "      <td>Cal Poly San Luis Obispo</td>\n",
       "      <td>California</td>\n",
       "      <td>$57,200.00</td>\n",
       "      <td>$101,000.00</td>\n",
       "      <td>$55,000.00</td>\n",
       "      <td>$74,700.00</td>\n",
       "      <td>$133,000.00</td>\n",
       "      <td>$178,000.00</td>\n",
       "      <td>State</td>\n",
       "      <td>$57,200.00</td>\n",
       "      <td>$101,000.00</td>\n",
       "      <td>$55,000.00</td>\n",
       "      <td>$74,700.00</td>\n",
       "      <td>$133,000.00</td>\n",
       "      <td>$178,000.00</td>\n",
       "    </tr>\n",
       "  </tbody>\n",
       "</table>\n",
       "</div>"
      ],
      "text/plain": [
       "                                School Name      Region  \\\n",
       "0  California Institute of Technology (CIT)  California   \n",
       "1                       Harvey Mudd College  California   \n",
       "2        University of California, Berkeley  California   \n",
       "3                        Occidental College  California   \n",
       "4                  Cal Poly San Luis Obispo  California   \n",
       "\n",
       "  Starting Median Salary_x Mid-Career Median Salary_x  \\\n",
       "0               $75,500.00                $123,000.00   \n",
       "1               $71,800.00                $122,000.00   \n",
       "2               $59,900.00                $112,000.00   \n",
       "3               $51,900.00                $105,000.00   \n",
       "4               $57,200.00                $101,000.00   \n",
       "\n",
       "  Mid-Career 10th Percentile Salary_x Mid-Career 25th Percentile Salary_x  \\\n",
       "0                                 NaN                         $104,000.00   \n",
       "1                                 NaN                          $96,000.00   \n",
       "2                          $59,500.00                          $81,000.00   \n",
       "3                                 NaN                          $54,800.00   \n",
       "4                          $55,000.00                          $74,700.00   \n",
       "\n",
       "  Mid-Career 75th Percentile Salary_x Mid-Career 90th Percentile Salary_x  \\\n",
       "0                         $161,000.00                                 NaN   \n",
       "1                         $180,000.00                                 NaN   \n",
       "2                         $149,000.00                         $201,000.00   \n",
       "3                         $157,000.00                                 NaN   \n",
       "4                         $133,000.00                         $178,000.00   \n",
       "\n",
       "    School Type Starting Median Salary_y Mid-Career Median Salary_y  \\\n",
       "0   Engineering               $75,500.00                $123,000.00   \n",
       "1   Engineering               $71,800.00                $122,000.00   \n",
       "2         State               $59,900.00                $112,000.00   \n",
       "3  Liberal Arts               $51,900.00                $105,000.00   \n",
       "4         State               $57,200.00                $101,000.00   \n",
       "\n",
       "  Mid-Career 10th Percentile Salary_y Mid-Career 25th Percentile Salary_y  \\\n",
       "0                                 NaN                         $104,000.00   \n",
       "1                                 NaN                          $96,000.00   \n",
       "2                          $59,500.00                          $81,000.00   \n",
       "3                                 NaN                          $54,800.00   \n",
       "4                          $55,000.00                          $74,700.00   \n",
       "\n",
       "  Mid-Career 75th Percentile Salary_y Mid-Career 90th Percentile Salary_y  \n",
       "0                         $161,000.00                                 NaN  \n",
       "1                         $180,000.00                                 NaN  \n",
       "2                         $149,000.00                         $201,000.00  \n",
       "3                         $157,000.00                                 NaN  \n",
       "4                         $133,000.00                         $178,000.00  "
      ]
     },
     "execution_count": 5,
     "metadata": {},
     "output_type": "execute_result"
    }
   ],
   "source": [
    "salaries_merged = pd.merge(salaries_region,salaries_college_type,on='School Name')\n",
    "salaries_merged.head()"
   ]
  },
  {
   "cell_type": "markdown",
   "id": "53810a34",
   "metadata": {},
   "source": [
    "## Removing Duplicate and Unncessary Columns"
   ]
  },
  {
   "cell_type": "markdown",
   "id": "ac3002bc",
   "metadata": {},
   "source": [
    "For the percentile columns, we have values for the 10th, 25th, 50th, 75th, and 90th percentiles. Given that we can find the interquartile range for a dataset by using Q3 (75th) and Q1 (25th), I don't think we will need the 10th and 90th percentile fields. The IQR will give us a good idea of statistical dispersion, and is commonly used as a robust measure of scale.\n",
    "\n",
    "I am also going to drop the 10th and 90th percentile columns from the first DataFrame."
   ]
  },
  {
   "cell_type": "code",
   "execution_count": 6,
   "id": "31cef995",
   "metadata": {},
   "outputs": [],
   "source": [
    "#removing second set of salary columns as they contain same data from first dataframe\n",
    "salaries_merged = salaries_merged.drop(['Mid-Career 10th Percentile Salary_x','Mid-Career 90th Percentile Salary_x','Starting Median Salary_y','Mid-Career 10th Percentile Salary_y','Mid-Career 25th Percentile Salary_y','Mid-Career 75th Percentile Salary_y','Mid-Career 90th Percentile Salary_y','Mid-Career Median Salary_y'],axis='columns')"
   ]
  },
  {
   "cell_type": "code",
   "execution_count": 7,
   "id": "9f5d93a2",
   "metadata": {},
   "outputs": [
    {
     "name": "stdout",
     "output_type": "stream",
     "text": [
      "                                School Name      Region  \\\n",
      "0  California Institute of Technology (CIT)  California   \n",
      "1                       Harvey Mudd College  California   \n",
      "2        University of California, Berkeley  California   \n",
      "3                        Occidental College  California   \n",
      "4                  Cal Poly San Luis Obispo  California   \n",
      "\n",
      "  Starting Median Salary_x Mid-Career Median Salary_x  \\\n",
      "0               $75,500.00                $123,000.00   \n",
      "1               $71,800.00                $122,000.00   \n",
      "2               $59,900.00                $112,000.00   \n",
      "3               $51,900.00                $105,000.00   \n",
      "4               $57,200.00                $101,000.00   \n",
      "\n",
      "  Mid-Career 25th Percentile Salary_x Mid-Career 75th Percentile Salary_x  \\\n",
      "0                         $104,000.00                         $161,000.00   \n",
      "1                          $96,000.00                         $180,000.00   \n",
      "2                          $81,000.00                         $149,000.00   \n",
      "3                          $54,800.00                         $157,000.00   \n",
      "4                          $74,700.00                         $133,000.00   \n",
      "\n",
      "    School Type  \n",
      "0   Engineering  \n",
      "1   Engineering  \n",
      "2         State  \n",
      "3  Liberal Arts  \n",
      "4         State  \n"
     ]
    }
   ],
   "source": [
    "print(salaries_merged.head())"
   ]
  },
  {
   "cell_type": "markdown",
   "id": "12b37f17",
   "metadata": {},
   "source": [
    "## Rearranging Columns in Merged DataFrame"
   ]
  },
  {
   "cell_type": "code",
   "execution_count": 8,
   "id": "c4f3f094",
   "metadata": {},
   "outputs": [
    {
     "data": {
      "text/plain": [
       "['School Name',\n",
       " 'Region',\n",
       " 'Starting Median Salary_x',\n",
       " 'Mid-Career Median Salary_x',\n",
       " 'Mid-Career 25th Percentile Salary_x',\n",
       " 'Mid-Career 75th Percentile Salary_x',\n",
       " 'School Type']"
      ]
     },
     "execution_count": 8,
     "metadata": {},
     "output_type": "execute_result"
    }
   ],
   "source": [
    "#retrieve columns of the merged dataframe in list form\n",
    "cols = salaries_merged.columns.tolist()\n",
    "cols"
   ]
  },
  {
   "cell_type": "code",
   "execution_count": 9,
   "id": "74d571b0",
   "metadata": {},
   "outputs": [],
   "source": [
    "#reassign cols list in the order wanted\n",
    "cols = ['School Name','Region','School Type','Starting Median Salary_x','Mid-Career Median Salary_x','Mid-Career 25th Percentile Salary_x','Mid-Career 75th Percentile Salary_x']\n",
    "salaries_merged = salaries_merged[cols]"
   ]
  },
  {
   "cell_type": "code",
   "execution_count": 10,
   "id": "31c10ee1",
   "metadata": {},
   "outputs": [
    {
     "name": "stdout",
     "output_type": "stream",
     "text": [
      "                                School Name      Region   School Type  \\\n",
      "0  California Institute of Technology (CIT)  California   Engineering   \n",
      "1                       Harvey Mudd College  California   Engineering   \n",
      "2        University of California, Berkeley  California         State   \n",
      "3                        Occidental College  California  Liberal Arts   \n",
      "4                  Cal Poly San Luis Obispo  California         State   \n",
      "\n",
      "  Starting Median Salary_x Mid-Career Median Salary_x  \\\n",
      "0               $75,500.00                $123,000.00   \n",
      "1               $71,800.00                $122,000.00   \n",
      "2               $59,900.00                $112,000.00   \n",
      "3               $51,900.00                $105,000.00   \n",
      "4               $57,200.00                $101,000.00   \n",
      "\n",
      "  Mid-Career 25th Percentile Salary_x Mid-Career 75th Percentile Salary_x  \n",
      "0                         $104,000.00                         $161,000.00  \n",
      "1                          $96,000.00                         $180,000.00  \n",
      "2                          $81,000.00                         $149,000.00  \n",
      "3                          $54,800.00                         $157,000.00  \n",
      "4                          $74,700.00                         $133,000.00  \n"
     ]
    }
   ],
   "source": [
    "print(salaries_merged.head())"
   ]
  },
  {
   "cell_type": "markdown",
   "id": "4af4a590",
   "metadata": {},
   "source": [
    "## Renaming Existing Columns"
   ]
  },
  {
   "cell_type": "code",
   "execution_count": 11,
   "id": "8ffa0864",
   "metadata": {},
   "outputs": [],
   "source": [
    "salaries_merged = salaries_merged.rename(columns={'School Name':'school_name','School Type':'school_type','Starting Median Salary_x':'starting_median_salary','Mid-Career Median Salary_x':'midCareer_median_salary','Mid-Career 25th Percentile Salary_x':'midCareer_25th_salary','Mid-Career 75th Percentile Salary_x':'midCareer_75th_salary'})"
   ]
  },
  {
   "cell_type": "code",
   "execution_count": 12,
   "id": "1a0b797b",
   "metadata": {},
   "outputs": [
    {
     "name": "stdout",
     "output_type": "stream",
     "text": [
      "                                school_name      Region   school_type  \\\n",
      "0  California Institute of Technology (CIT)  California   Engineering   \n",
      "1                       Harvey Mudd College  California   Engineering   \n",
      "2        University of California, Berkeley  California         State   \n",
      "3                        Occidental College  California  Liberal Arts   \n",
      "4                  Cal Poly San Luis Obispo  California         State   \n",
      "\n",
      "  starting_median_salary midCareer_median_salary midCareer_25th_salary  \\\n",
      "0             $75,500.00             $123,000.00           $104,000.00   \n",
      "1             $71,800.00             $122,000.00            $96,000.00   \n",
      "2             $59,900.00             $112,000.00            $81,000.00   \n",
      "3             $51,900.00             $105,000.00            $54,800.00   \n",
      "4             $57,200.00             $101,000.00            $74,700.00   \n",
      "\n",
      "  midCareer_75th_salary  \n",
      "0           $161,000.00  \n",
      "1           $180,000.00  \n",
      "2           $149,000.00  \n",
      "3           $157,000.00  \n",
      "4           $133,000.00  \n"
     ]
    }
   ],
   "source": [
    "print(salaries_merged.head())"
   ]
  },
  {
   "cell_type": "markdown",
   "id": "94f739ea",
   "metadata": {},
   "source": [
    "## Checking for Duplicates"
   ]
  },
  {
   "cell_type": "code",
   "execution_count": 13,
   "id": "036b1801",
   "metadata": {},
   "outputs": [
    {
     "name": "stdout",
     "output_type": "stream",
     "text": [
      "Checking for duplicates in DataFrame\n",
      "\n",
      "school_name: True\n",
      "Region: True\n",
      "school_type: True\n",
      "starting_median_salary: True\n",
      "midCareer_median_salary: True\n",
      "midCareer_25th_salary: True\n",
      "midCareer_75th_salary: True\n"
     ]
    }
   ],
   "source": [
    "#can check for duplicates using pandas duplicated function on each column\n",
    "\n",
    "#for loop through each column in dataframe\n",
    "print(\"Checking for duplicates in DataFrame\\n\")\n",
    "for col in salaries_merged.columns:\n",
    "    print(col + \": \" + str(any(salaries_merged[col].duplicated())))"
   ]
  },
  {
   "cell_type": "markdown",
   "id": "82fb85d3",
   "metadata": {},
   "source": [
    "## #####################################################\n",
    "There are duplicates in the 'school_name' column which is not ideal as this is technically the key for our DataFrame and each record for each School Name should be unique.\n",
    "\n",
    "I am going to investigate the duplicates in this column."
   ]
  },
  {
   "cell_type": "code",
   "execution_count": 14,
   "id": "47543136",
   "metadata": {},
   "outputs": [
    {
     "data": {
      "text/html": [
       "<div>\n",
       "<style scoped>\n",
       "    .dataframe tbody tr th:only-of-type {\n",
       "        vertical-align: middle;\n",
       "    }\n",
       "\n",
       "    .dataframe tbody tr th {\n",
       "        vertical-align: top;\n",
       "    }\n",
       "\n",
       "    .dataframe thead th {\n",
       "        text-align: right;\n",
       "    }\n",
       "</style>\n",
       "<table border=\"1\" class=\"dataframe\">\n",
       "  <thead>\n",
       "    <tr style=\"text-align: right;\">\n",
       "      <th></th>\n",
       "      <th>school_name</th>\n",
       "      <th>Region</th>\n",
       "      <th>school_type</th>\n",
       "      <th>starting_median_salary</th>\n",
       "      <th>midCareer_median_salary</th>\n",
       "      <th>midCareer_25th_salary</th>\n",
       "      <th>midCareer_75th_salary</th>\n",
       "    </tr>\n",
       "  </thead>\n",
       "  <tbody>\n",
       "    <tr>\n",
       "      <th>11</th>\n",
       "      <td>University of California, Santa Barbara (UCSB)</td>\n",
       "      <td>California</td>\n",
       "      <td>Party</td>\n",
       "      <td>$50,500.00</td>\n",
       "      <td>$95,000.00</td>\n",
       "      <td>$71,200.00</td>\n",
       "      <td>$129,000.00</td>\n",
       "    </tr>\n",
       "    <tr>\n",
       "      <th>12</th>\n",
       "      <td>University of California, Santa Barbara (UCSB)</td>\n",
       "      <td>California</td>\n",
       "      <td>State</td>\n",
       "      <td>$50,500.00</td>\n",
       "      <td>$95,000.00</td>\n",
       "      <td>$71,200.00</td>\n",
       "      <td>$129,000.00</td>\n",
       "    </tr>\n",
       "    <tr>\n",
       "      <th>34</th>\n",
       "      <td>Arizona State University (ASU)</td>\n",
       "      <td>Western</td>\n",
       "      <td>Party</td>\n",
       "      <td>$47,400.00</td>\n",
       "      <td>$84,100.00</td>\n",
       "      <td>$60,700.00</td>\n",
       "      <td>$114,000.00</td>\n",
       "    </tr>\n",
       "    <tr>\n",
       "      <th>35</th>\n",
       "      <td>Arizona State University (ASU)</td>\n",
       "      <td>Western</td>\n",
       "      <td>State</td>\n",
       "      <td>$47,400.00</td>\n",
       "      <td>$84,100.00</td>\n",
       "      <td>$60,700.00</td>\n",
       "      <td>$114,000.00</td>\n",
       "    </tr>\n",
       "    <tr>\n",
       "      <th>68</th>\n",
       "      <td>University of Illinois at Urbana-Champaign (UIUC)</td>\n",
       "      <td>Midwestern</td>\n",
       "      <td>Party</td>\n",
       "      <td>$52,900.00</td>\n",
       "      <td>$96,100.00</td>\n",
       "      <td>$68,900.00</td>\n",
       "      <td>$132,000.00</td>\n",
       "    </tr>\n",
       "    <tr>\n",
       "      <th>69</th>\n",
       "      <td>University of Illinois at Urbana-Champaign (UIUC)</td>\n",
       "      <td>Midwestern</td>\n",
       "      <td>State</td>\n",
       "      <td>$52,900.00</td>\n",
       "      <td>$96,100.00</td>\n",
       "      <td>$68,900.00</td>\n",
       "      <td>$132,000.00</td>\n",
       "    </tr>\n",
       "    <tr>\n",
       "      <th>80</th>\n",
       "      <td>Indiana University (IU), Bloomington</td>\n",
       "      <td>Midwestern</td>\n",
       "      <td>Party</td>\n",
       "      <td>$46,300.00</td>\n",
       "      <td>$84,000.00</td>\n",
       "      <td>$60,400.00</td>\n",
       "      <td>$119,000.00</td>\n",
       "    </tr>\n",
       "    <tr>\n",
       "      <th>81</th>\n",
       "      <td>Indiana University (IU), Bloomington</td>\n",
       "      <td>Midwestern</td>\n",
       "      <td>State</td>\n",
       "      <td>$46,300.00</td>\n",
       "      <td>$84,000.00</td>\n",
       "      <td>$60,400.00</td>\n",
       "      <td>$119,000.00</td>\n",
       "    </tr>\n",
       "    <tr>\n",
       "      <th>82</th>\n",
       "      <td>University of Iowa (UI)</td>\n",
       "      <td>Midwestern</td>\n",
       "      <td>Party</td>\n",
       "      <td>$44,700.00</td>\n",
       "      <td>$83,900.00</td>\n",
       "      <td>$61,100.00</td>\n",
       "      <td>$116,000.00</td>\n",
       "    </tr>\n",
       "    <tr>\n",
       "      <th>83</th>\n",
       "      <td>University of Iowa (UI)</td>\n",
       "      <td>Midwestern</td>\n",
       "      <td>State</td>\n",
       "      <td>$44,700.00</td>\n",
       "      <td>$83,900.00</td>\n",
       "      <td>$61,100.00</td>\n",
       "      <td>$116,000.00</td>\n",
       "    </tr>\n",
       "    <tr>\n",
       "      <th>106</th>\n",
       "      <td>Ohio University</td>\n",
       "      <td>Midwestern</td>\n",
       "      <td>Party</td>\n",
       "      <td>$42,200.00</td>\n",
       "      <td>$73,400.00</td>\n",
       "      <td>$52,800.00</td>\n",
       "      <td>$106,000.00</td>\n",
       "    </tr>\n",
       "    <tr>\n",
       "      <th>107</th>\n",
       "      <td>Ohio University</td>\n",
       "      <td>Midwestern</td>\n",
       "      <td>State</td>\n",
       "      <td>$42,200.00</td>\n",
       "      <td>$73,400.00</td>\n",
       "      <td>$52,800.00</td>\n",
       "      <td>$106,000.00</td>\n",
       "    </tr>\n",
       "    <tr>\n",
       "      <th>136</th>\n",
       "      <td>University of Maryland, College Park</td>\n",
       "      <td>Southern</td>\n",
       "      <td>Party</td>\n",
       "      <td>$52,000.00</td>\n",
       "      <td>$95,000.00</td>\n",
       "      <td>$68,300.00</td>\n",
       "      <td>$126,000.00</td>\n",
       "    </tr>\n",
       "    <tr>\n",
       "      <th>137</th>\n",
       "      <td>University of Maryland, College Park</td>\n",
       "      <td>Southern</td>\n",
       "      <td>State</td>\n",
       "      <td>$52,000.00</td>\n",
       "      <td>$95,000.00</td>\n",
       "      <td>$68,300.00</td>\n",
       "      <td>$126,000.00</td>\n",
       "    </tr>\n",
       "    <tr>\n",
       "      <th>139</th>\n",
       "      <td>University of Texas (UT) - Austin</td>\n",
       "      <td>Southern</td>\n",
       "      <td>Party</td>\n",
       "      <td>$49,700.00</td>\n",
       "      <td>$93,900.00</td>\n",
       "      <td>$67,400.00</td>\n",
       "      <td>$129,000.00</td>\n",
       "    </tr>\n",
       "    <tr>\n",
       "      <th>140</th>\n",
       "      <td>University of Texas (UT) - Austin</td>\n",
       "      <td>Southern</td>\n",
       "      <td>State</td>\n",
       "      <td>$49,700.00</td>\n",
       "      <td>$93,900.00</td>\n",
       "      <td>$67,400.00</td>\n",
       "      <td>$129,000.00</td>\n",
       "    </tr>\n",
       "    <tr>\n",
       "      <th>141</th>\n",
       "      <td>University of Florida (UF)</td>\n",
       "      <td>Southern</td>\n",
       "      <td>Party</td>\n",
       "      <td>$47,100.00</td>\n",
       "      <td>$87,900.00</td>\n",
       "      <td>$62,900.00</td>\n",
       "      <td>$120,000.00</td>\n",
       "    </tr>\n",
       "    <tr>\n",
       "      <th>142</th>\n",
       "      <td>University of Florida (UF)</td>\n",
       "      <td>Southern</td>\n",
       "      <td>State</td>\n",
       "      <td>$47,100.00</td>\n",
       "      <td>$87,900.00</td>\n",
       "      <td>$62,900.00</td>\n",
       "      <td>$120,000.00</td>\n",
       "    </tr>\n",
       "    <tr>\n",
       "      <th>143</th>\n",
       "      <td>Louisiana State University (LSU)</td>\n",
       "      <td>Southern</td>\n",
       "      <td>Party</td>\n",
       "      <td>$46,900.00</td>\n",
       "      <td>$87,800.00</td>\n",
       "      <td>$61,300.00</td>\n",
       "      <td>$120,000.00</td>\n",
       "    </tr>\n",
       "    <tr>\n",
       "      <th>144</th>\n",
       "      <td>Louisiana State University (LSU)</td>\n",
       "      <td>Southern</td>\n",
       "      <td>State</td>\n",
       "      <td>$46,900.00</td>\n",
       "      <td>$87,800.00</td>\n",
       "      <td>$61,300.00</td>\n",
       "      <td>$120,000.00</td>\n",
       "    </tr>\n",
       "    <tr>\n",
       "      <th>147</th>\n",
       "      <td>University of Georgia (UGA)</td>\n",
       "      <td>Southern</td>\n",
       "      <td>Party</td>\n",
       "      <td>$44,100.00</td>\n",
       "      <td>$86,000.00</td>\n",
       "      <td>$57,800.00</td>\n",
       "      <td>$118,000.00</td>\n",
       "    </tr>\n",
       "    <tr>\n",
       "      <th>148</th>\n",
       "      <td>University of Georgia (UGA)</td>\n",
       "      <td>Southern</td>\n",
       "      <td>State</td>\n",
       "      <td>$44,100.00</td>\n",
       "      <td>$86,000.00</td>\n",
       "      <td>$57,800.00</td>\n",
       "      <td>$118,000.00</td>\n",
       "    </tr>\n",
       "    <tr>\n",
       "      <th>151</th>\n",
       "      <td>Randolph-Macon College</td>\n",
       "      <td>Southern</td>\n",
       "      <td>Party</td>\n",
       "      <td>$42,600.00</td>\n",
       "      <td>$83,600.00</td>\n",
       "      <td>$54,100.00</td>\n",
       "      <td>$123,000.00</td>\n",
       "    </tr>\n",
       "    <tr>\n",
       "      <th>152</th>\n",
       "      <td>Randolph-Macon College</td>\n",
       "      <td>Southern</td>\n",
       "      <td>Liberal Arts</td>\n",
       "      <td>$42,600.00</td>\n",
       "      <td>$83,600.00</td>\n",
       "      <td>$54,100.00</td>\n",
       "      <td>$123,000.00</td>\n",
       "    </tr>\n",
       "    <tr>\n",
       "      <th>158</th>\n",
       "      <td>University of Alabama, Tuscaloosa</td>\n",
       "      <td>Southern</td>\n",
       "      <td>Party</td>\n",
       "      <td>$41,300.00</td>\n",
       "      <td>$81,400.00</td>\n",
       "      <td>$56,500.00</td>\n",
       "      <td>$117,000.00</td>\n",
       "    </tr>\n",
       "    <tr>\n",
       "      <th>159</th>\n",
       "      <td>University of Alabama, Tuscaloosa</td>\n",
       "      <td>Southern</td>\n",
       "      <td>State</td>\n",
       "      <td>$41,300.00</td>\n",
       "      <td>$81,400.00</td>\n",
       "      <td>$56,500.00</td>\n",
       "      <td>$117,000.00</td>\n",
       "    </tr>\n",
       "    <tr>\n",
       "      <th>164</th>\n",
       "      <td>University of Mississippi</td>\n",
       "      <td>Southern</td>\n",
       "      <td>Party</td>\n",
       "      <td>$41,400.00</td>\n",
       "      <td>$79,700.00</td>\n",
       "      <td>$53,500.00</td>\n",
       "      <td>$108,000.00</td>\n",
       "    </tr>\n",
       "    <tr>\n",
       "      <th>165</th>\n",
       "      <td>University of Mississippi</td>\n",
       "      <td>Southern</td>\n",
       "      <td>State</td>\n",
       "      <td>$41,400.00</td>\n",
       "      <td>$79,700.00</td>\n",
       "      <td>$53,500.00</td>\n",
       "      <td>$108,000.00</td>\n",
       "    </tr>\n",
       "    <tr>\n",
       "      <th>169</th>\n",
       "      <td>West Virginia University (WVU)</td>\n",
       "      <td>Southern</td>\n",
       "      <td>Party</td>\n",
       "      <td>$43,100.00</td>\n",
       "      <td>$78,100.00</td>\n",
       "      <td>$55,700.00</td>\n",
       "      <td>$106,000.00</td>\n",
       "    </tr>\n",
       "    <tr>\n",
       "      <th>170</th>\n",
       "      <td>West Virginia University (WVU)</td>\n",
       "      <td>Southern</td>\n",
       "      <td>State</td>\n",
       "      <td>$43,100.00</td>\n",
       "      <td>$78,100.00</td>\n",
       "      <td>$55,700.00</td>\n",
       "      <td>$106,000.00</td>\n",
       "    </tr>\n",
       "    <tr>\n",
       "      <th>174</th>\n",
       "      <td>University of Tennessee</td>\n",
       "      <td>Southern</td>\n",
       "      <td>Party</td>\n",
       "      <td>$43,800.00</td>\n",
       "      <td>$74,600.00</td>\n",
       "      <td>$53,200.00</td>\n",
       "      <td>$106,000.00</td>\n",
       "    </tr>\n",
       "    <tr>\n",
       "      <th>175</th>\n",
       "      <td>University of Tennessee</td>\n",
       "      <td>Southern</td>\n",
       "      <td>State</td>\n",
       "      <td>$43,800.00</td>\n",
       "      <td>$74,600.00</td>\n",
       "      <td>$53,200.00</td>\n",
       "      <td>$106,000.00</td>\n",
       "    </tr>\n",
       "    <tr>\n",
       "      <th>179</th>\n",
       "      <td>Florida State University (FSU)</td>\n",
       "      <td>Southern</td>\n",
       "      <td>Party</td>\n",
       "      <td>$42,100.00</td>\n",
       "      <td>$73,000.00</td>\n",
       "      <td>$52,800.00</td>\n",
       "      <td>$107,000.00</td>\n",
       "    </tr>\n",
       "    <tr>\n",
       "      <th>180</th>\n",
       "      <td>Florida State University (FSU)</td>\n",
       "      <td>Southern</td>\n",
       "      <td>State</td>\n",
       "      <td>$42,100.00</td>\n",
       "      <td>$73,000.00</td>\n",
       "      <td>$52,800.00</td>\n",
       "      <td>$107,000.00</td>\n",
       "    </tr>\n",
       "    <tr>\n",
       "      <th>231</th>\n",
       "      <td>State University of New York (SUNY) at Albany</td>\n",
       "      <td>Northeastern</td>\n",
       "      <td>Party</td>\n",
       "      <td>$44,500.00</td>\n",
       "      <td>$92,200.00</td>\n",
       "      <td>$63,100.00</td>\n",
       "      <td>$135,000.00</td>\n",
       "    </tr>\n",
       "    <tr>\n",
       "      <th>232</th>\n",
       "      <td>State University of New York (SUNY) at Albany</td>\n",
       "      <td>Northeastern</td>\n",
       "      <td>State</td>\n",
       "      <td>$44,500.00</td>\n",
       "      <td>$92,200.00</td>\n",
       "      <td>$63,100.00</td>\n",
       "      <td>$135,000.00</td>\n",
       "    </tr>\n",
       "    <tr>\n",
       "      <th>239</th>\n",
       "      <td>Pennsylvania State University (PSU)</td>\n",
       "      <td>Northeastern</td>\n",
       "      <td>Party</td>\n",
       "      <td>$49,900.00</td>\n",
       "      <td>$85,700.00</td>\n",
       "      <td>$62,000.00</td>\n",
       "      <td>$117,000.00</td>\n",
       "    </tr>\n",
       "    <tr>\n",
       "      <th>240</th>\n",
       "      <td>Pennsylvania State University (PSU)</td>\n",
       "      <td>Northeastern</td>\n",
       "      <td>State</td>\n",
       "      <td>$49,900.00</td>\n",
       "      <td>$85,700.00</td>\n",
       "      <td>$62,000.00</td>\n",
       "      <td>$117,000.00</td>\n",
       "    </tr>\n",
       "    <tr>\n",
       "      <th>253</th>\n",
       "      <td>University of New Hampshire (UNH)</td>\n",
       "      <td>Northeastern</td>\n",
       "      <td>Party</td>\n",
       "      <td>$41,800.00</td>\n",
       "      <td>$78,300.00</td>\n",
       "      <td>$56,400.00</td>\n",
       "      <td>$114,000.00</td>\n",
       "    </tr>\n",
       "    <tr>\n",
       "      <th>254</th>\n",
       "      <td>University of New Hampshire (UNH)</td>\n",
       "      <td>Northeastern</td>\n",
       "      <td>State</td>\n",
       "      <td>$41,800.00</td>\n",
       "      <td>$78,300.00</td>\n",
       "      <td>$56,400.00</td>\n",
       "      <td>$114,000.00</td>\n",
       "    </tr>\n",
       "  </tbody>\n",
       "</table>\n",
       "</div>"
      ],
      "text/plain": [
       "                                           school_name        Region  \\\n",
       "11      University of California, Santa Barbara (UCSB)    California   \n",
       "12      University of California, Santa Barbara (UCSB)    California   \n",
       "34                      Arizona State University (ASU)       Western   \n",
       "35                      Arizona State University (ASU)       Western   \n",
       "68   University of Illinois at Urbana-Champaign (UIUC)    Midwestern   \n",
       "69   University of Illinois at Urbana-Champaign (UIUC)    Midwestern   \n",
       "80                Indiana University (IU), Bloomington    Midwestern   \n",
       "81                Indiana University (IU), Bloomington    Midwestern   \n",
       "82                             University of Iowa (UI)    Midwestern   \n",
       "83                             University of Iowa (UI)    Midwestern   \n",
       "106                                    Ohio University    Midwestern   \n",
       "107                                    Ohio University    Midwestern   \n",
       "136               University of Maryland, College Park      Southern   \n",
       "137               University of Maryland, College Park      Southern   \n",
       "139                  University of Texas (UT) - Austin      Southern   \n",
       "140                  University of Texas (UT) - Austin      Southern   \n",
       "141                         University of Florida (UF)      Southern   \n",
       "142                         University of Florida (UF)      Southern   \n",
       "143                   Louisiana State University (LSU)      Southern   \n",
       "144                   Louisiana State University (LSU)      Southern   \n",
       "147                        University of Georgia (UGA)      Southern   \n",
       "148                        University of Georgia (UGA)      Southern   \n",
       "151                             Randolph-Macon College      Southern   \n",
       "152                             Randolph-Macon College      Southern   \n",
       "158                  University of Alabama, Tuscaloosa      Southern   \n",
       "159                  University of Alabama, Tuscaloosa      Southern   \n",
       "164                          University of Mississippi      Southern   \n",
       "165                          University of Mississippi      Southern   \n",
       "169                     West Virginia University (WVU)      Southern   \n",
       "170                     West Virginia University (WVU)      Southern   \n",
       "174                            University of Tennessee      Southern   \n",
       "175                            University of Tennessee      Southern   \n",
       "179                     Florida State University (FSU)      Southern   \n",
       "180                     Florida State University (FSU)      Southern   \n",
       "231      State University of New York (SUNY) at Albany  Northeastern   \n",
       "232      State University of New York (SUNY) at Albany  Northeastern   \n",
       "239                Pennsylvania State University (PSU)  Northeastern   \n",
       "240                Pennsylvania State University (PSU)  Northeastern   \n",
       "253                  University of New Hampshire (UNH)  Northeastern   \n",
       "254                  University of New Hampshire (UNH)  Northeastern   \n",
       "\n",
       "      school_type starting_median_salary midCareer_median_salary  \\\n",
       "11          Party             $50,500.00              $95,000.00   \n",
       "12          State             $50,500.00              $95,000.00   \n",
       "34          Party             $47,400.00              $84,100.00   \n",
       "35          State             $47,400.00              $84,100.00   \n",
       "68          Party             $52,900.00              $96,100.00   \n",
       "69          State             $52,900.00              $96,100.00   \n",
       "80          Party             $46,300.00              $84,000.00   \n",
       "81          State             $46,300.00              $84,000.00   \n",
       "82          Party             $44,700.00              $83,900.00   \n",
       "83          State             $44,700.00              $83,900.00   \n",
       "106         Party             $42,200.00              $73,400.00   \n",
       "107         State             $42,200.00              $73,400.00   \n",
       "136         Party             $52,000.00              $95,000.00   \n",
       "137         State             $52,000.00              $95,000.00   \n",
       "139         Party             $49,700.00              $93,900.00   \n",
       "140         State             $49,700.00              $93,900.00   \n",
       "141         Party             $47,100.00              $87,900.00   \n",
       "142         State             $47,100.00              $87,900.00   \n",
       "143         Party             $46,900.00              $87,800.00   \n",
       "144         State             $46,900.00              $87,800.00   \n",
       "147         Party             $44,100.00              $86,000.00   \n",
       "148         State             $44,100.00              $86,000.00   \n",
       "151         Party             $42,600.00              $83,600.00   \n",
       "152  Liberal Arts             $42,600.00              $83,600.00   \n",
       "158         Party             $41,300.00              $81,400.00   \n",
       "159         State             $41,300.00              $81,400.00   \n",
       "164         Party             $41,400.00              $79,700.00   \n",
       "165         State             $41,400.00              $79,700.00   \n",
       "169         Party             $43,100.00              $78,100.00   \n",
       "170         State             $43,100.00              $78,100.00   \n",
       "174         Party             $43,800.00              $74,600.00   \n",
       "175         State             $43,800.00              $74,600.00   \n",
       "179         Party             $42,100.00              $73,000.00   \n",
       "180         State             $42,100.00              $73,000.00   \n",
       "231         Party             $44,500.00              $92,200.00   \n",
       "232         State             $44,500.00              $92,200.00   \n",
       "239         Party             $49,900.00              $85,700.00   \n",
       "240         State             $49,900.00              $85,700.00   \n",
       "253         Party             $41,800.00              $78,300.00   \n",
       "254         State             $41,800.00              $78,300.00   \n",
       "\n",
       "    midCareer_25th_salary midCareer_75th_salary  \n",
       "11             $71,200.00           $129,000.00  \n",
       "12             $71,200.00           $129,000.00  \n",
       "34             $60,700.00           $114,000.00  \n",
       "35             $60,700.00           $114,000.00  \n",
       "68             $68,900.00           $132,000.00  \n",
       "69             $68,900.00           $132,000.00  \n",
       "80             $60,400.00           $119,000.00  \n",
       "81             $60,400.00           $119,000.00  \n",
       "82             $61,100.00           $116,000.00  \n",
       "83             $61,100.00           $116,000.00  \n",
       "106            $52,800.00           $106,000.00  \n",
       "107            $52,800.00           $106,000.00  \n",
       "136            $68,300.00           $126,000.00  \n",
       "137            $68,300.00           $126,000.00  \n",
       "139            $67,400.00           $129,000.00  \n",
       "140            $67,400.00           $129,000.00  \n",
       "141            $62,900.00           $120,000.00  \n",
       "142            $62,900.00           $120,000.00  \n",
       "143            $61,300.00           $120,000.00  \n",
       "144            $61,300.00           $120,000.00  \n",
       "147            $57,800.00           $118,000.00  \n",
       "148            $57,800.00           $118,000.00  \n",
       "151            $54,100.00           $123,000.00  \n",
       "152            $54,100.00           $123,000.00  \n",
       "158            $56,500.00           $117,000.00  \n",
       "159            $56,500.00           $117,000.00  \n",
       "164            $53,500.00           $108,000.00  \n",
       "165            $53,500.00           $108,000.00  \n",
       "169            $55,700.00           $106,000.00  \n",
       "170            $55,700.00           $106,000.00  \n",
       "174            $53,200.00           $106,000.00  \n",
       "175            $53,200.00           $106,000.00  \n",
       "179            $52,800.00           $107,000.00  \n",
       "180            $52,800.00           $107,000.00  \n",
       "231            $63,100.00           $135,000.00  \n",
       "232            $63,100.00           $135,000.00  \n",
       "239            $62,000.00           $117,000.00  \n",
       "240            $62,000.00           $117,000.00  \n",
       "253            $56,400.00           $114,000.00  \n",
       "254            $56,400.00           $114,000.00  "
      ]
     },
     "execution_count": 14,
     "metadata": {},
     "output_type": "execute_result"
    }
   ],
   "source": [
    "#looking at the duplicate values in the school_name column\n",
    "salaries_merged[salaries_merged.duplicated(['school_name'], keep=False)]\n",
    "\n",
    "#20 schools show up twice in the dataframe"
   ]
  },
  {
   "cell_type": "markdown",
   "id": "e60ac8f8",
   "metadata": {},
   "source": [
    "## Removing Duplicates"
   ]
  },
  {
   "cell_type": "code",
   "execution_count": 15,
   "id": "834a2fa0",
   "metadata": {},
   "outputs": [],
   "source": [
    "#sort dataframe by key, school_name\n",
    "salaries_merged = salaries_merged.sort_values(\"school_name\")"
   ]
  },
  {
   "cell_type": "code",
   "execution_count": 16,
   "id": "8f7c9640",
   "metadata": {},
   "outputs": [],
   "source": [
    "#create new dataframe and drop duplicates\n",
    "#keep = 'first' --> keep the first occurrence of the duplicate and remove the other one, leave one unique record\n",
    "salaries_unique = salaries_merged.drop_duplicates(subset=\"school_name\",keep='first')"
   ]
  },
  {
   "cell_type": "code",
   "execution_count": 17,
   "id": "077451ad",
   "metadata": {},
   "outputs": [],
   "source": [
    "orig_size = salaries_merged.shape\n",
    "new_size = salaries_unique.shape"
   ]
  },
  {
   "cell_type": "code",
   "execution_count": 18,
   "id": "fb5be806",
   "metadata": {},
   "outputs": [
    {
     "name": "stdout",
     "output_type": "stream",
     "text": [
      "Original size before removing duplicates: (268, 7)\n"
     ]
    }
   ],
   "source": [
    "print(\"Original size before removing duplicates: \" + str(orig_size))"
   ]
  },
  {
   "cell_type": "code",
   "execution_count": 19,
   "id": "7af6c978",
   "metadata": {},
   "outputs": [
    {
     "name": "stdout",
     "output_type": "stream",
     "text": [
      "New size after removing duplicates: (248, 7)\n"
     ]
    }
   ],
   "source": [
    "print(\"New size after removing duplicates: \" + str(new_size))"
   ]
  },
  {
   "cell_type": "markdown",
   "id": "1b55008a",
   "metadata": {},
   "source": [
    "## Identifying Missing Values"
   ]
  },
  {
   "cell_type": "code",
   "execution_count": 20,
   "id": "2feaf5f4",
   "metadata": {},
   "outputs": [
    {
     "name": "stdout",
     "output_type": "stream",
     "text": [
      "school_name: False\n",
      "Region: False\n",
      "school_type: False\n",
      "starting_median_salary: False\n",
      "midCareer_median_salary: False\n",
      "midCareer_25th_salary: False\n",
      "midCareer_75th_salary: False\n"
     ]
    }
   ],
   "source": [
    "#loop through columns in dataframe\n",
    "#check for any NaN values\n",
    "for col in salaries_unique.columns:\n",
    "    print(col + \": \" + str(salaries_unique[col].isnull().values.any()))\n",
    "\n"
   ]
  },
  {
   "cell_type": "markdown",
   "id": "9fee4f9f",
   "metadata": {},
   "source": [
    "#no missing values!"
   ]
  },
  {
   "cell_type": "markdown",
   "id": "b4fd96e9",
   "metadata": {},
   "source": [
    "## Describing Data & Checking field types"
   ]
  },
  {
   "cell_type": "code",
   "execution_count": 21,
   "id": "1356645b",
   "metadata": {},
   "outputs": [
    {
     "data": {
      "text/html": [
       "<div>\n",
       "<style scoped>\n",
       "    .dataframe tbody tr th:only-of-type {\n",
       "        vertical-align: middle;\n",
       "    }\n",
       "\n",
       "    .dataframe tbody tr th {\n",
       "        vertical-align: top;\n",
       "    }\n",
       "\n",
       "    .dataframe thead th {\n",
       "        text-align: right;\n",
       "    }\n",
       "</style>\n",
       "<table border=\"1\" class=\"dataframe\">\n",
       "  <thead>\n",
       "    <tr style=\"text-align: right;\">\n",
       "      <th></th>\n",
       "      <th>school_name</th>\n",
       "      <th>Region</th>\n",
       "      <th>school_type</th>\n",
       "      <th>starting_median_salary</th>\n",
       "      <th>midCareer_median_salary</th>\n",
       "      <th>midCareer_25th_salary</th>\n",
       "      <th>midCareer_75th_salary</th>\n",
       "    </tr>\n",
       "  </thead>\n",
       "  <tbody>\n",
       "    <tr>\n",
       "      <th>count</th>\n",
       "      <td>248</td>\n",
       "      <td>248</td>\n",
       "      <td>248</td>\n",
       "      <td>248</td>\n",
       "      <td>248</td>\n",
       "      <td>248</td>\n",
       "      <td>248</td>\n",
       "    </tr>\n",
       "    <tr>\n",
       "      <th>unique</th>\n",
       "      <td>248</td>\n",
       "      <td>5</td>\n",
       "      <td>5</td>\n",
       "      <td>145</td>\n",
       "      <td>166</td>\n",
       "      <td>178</td>\n",
       "      <td>110</td>\n",
       "    </tr>\n",
       "    <tr>\n",
       "      <th>top</th>\n",
       "      <td>Amherst College</td>\n",
       "      <td>Northeastern</td>\n",
       "      <td>State</td>\n",
       "      <td>$42,600.00</td>\n",
       "      <td>$72,100.00</td>\n",
       "      <td>$54,100.00</td>\n",
       "      <td>$106,000.00</td>\n",
       "    </tr>\n",
       "    <tr>\n",
       "      <th>freq</th>\n",
       "      <td>1</td>\n",
       "      <td>67</td>\n",
       "      <td>164</td>\n",
       "      <td>6</td>\n",
       "      <td>5</td>\n",
       "      <td>5</td>\n",
       "      <td>7</td>\n",
       "    </tr>\n",
       "  </tbody>\n",
       "</table>\n",
       "</div>"
      ],
      "text/plain": [
       "            school_name        Region school_type starting_median_salary  \\\n",
       "count               248           248         248                    248   \n",
       "unique              248             5           5                    145   \n",
       "top     Amherst College  Northeastern       State             $42,600.00   \n",
       "freq                  1            67         164                      6   \n",
       "\n",
       "       midCareer_median_salary midCareer_25th_salary midCareer_75th_salary  \n",
       "count                      248                   248                   248  \n",
       "unique                     166                   178                   110  \n",
       "top                 $72,100.00            $54,100.00           $106,000.00  \n",
       "freq                         5                     5                     7  "
      ]
     },
     "execution_count": 21,
     "metadata": {},
     "output_type": "execute_result"
    }
   ],
   "source": [
    "#describing our dataframe with duplicates removed\n",
    "salaries_unique.describe()"
   ]
  },
  {
   "cell_type": "code",
   "execution_count": 22,
   "id": "caa675fe",
   "metadata": {},
   "outputs": [
    {
     "data": {
      "text/plain": [
       "school_name                object\n",
       "Region                     object\n",
       "school_type                object\n",
       "starting_median_salary     object\n",
       "midCareer_median_salary    object\n",
       "midCareer_25th_salary      object\n",
       "midCareer_75th_salary      object\n",
       "dtype: object"
      ]
     },
     "execution_count": 22,
     "metadata": {},
     "output_type": "execute_result"
    }
   ],
   "source": [
    "salaries_unique.dtypes"
   ]
  },
  {
   "cell_type": "markdown",
   "id": "54c6ccdf",
   "metadata": {},
   "source": [
    "All of the columns in our dataframe are of the Object type. We will need to cast the salary fields to be of type 'numeric', so we can properly work with them and apply functions/transformations."
   ]
  },
  {
   "cell_type": "markdown",
   "id": "413050e8",
   "metadata": {},
   "source": [
    "## Casting Variables"
   ]
  },
  {
   "cell_type": "code",
   "execution_count": 23,
   "id": "e6f14329",
   "metadata": {},
   "outputs": [
    {
     "name": "stderr",
     "output_type": "stream",
     "text": [
      "C:\\Users\\sashi_000\\AppData\\Local\\Temp\\ipykernel_14228\\3381551435.py:3: SettingWithCopyWarning: \n",
      "A value is trying to be set on a copy of a slice from a DataFrame.\n",
      "Try using .loc[row_indexer,col_indexer] = value instead\n",
      "\n",
      "See the caveats in the documentation: https://pandas.pydata.org/pandas-docs/stable/user_guide/indexing.html#returning-a-view-versus-a-copy\n",
      "  salaries_unique[col] = salaries_unique[col].str.replace(',','')\n",
      "C:\\Users\\sashi_000\\AppData\\Local\\Temp\\ipykernel_14228\\3381551435.py:4: FutureWarning: The default value of regex will change from True to False in a future version. In addition, single character regular expressions will *not* be treated as literal strings when regex=True.\n",
      "  salaries_unique[col] = salaries_unique[col].str.replace('$','')\n",
      "C:\\Users\\sashi_000\\AppData\\Local\\Temp\\ipykernel_14228\\3381551435.py:4: SettingWithCopyWarning: \n",
      "A value is trying to be set on a copy of a slice from a DataFrame.\n",
      "Try using .loc[row_indexer,col_indexer] = value instead\n",
      "\n",
      "See the caveats in the documentation: https://pandas.pydata.org/pandas-docs/stable/user_guide/indexing.html#returning-a-view-versus-a-copy\n",
      "  salaries_unique[col] = salaries_unique[col].str.replace('$','')\n",
      "C:\\Users\\sashi_000\\AppData\\Local\\Temp\\ipykernel_14228\\3381551435.py:5: FutureWarning: The default value of regex will change from True to False in a future version.\n",
      "  salaries_unique[col] = salaries_unique[col].str.replace('\\.00','')\n",
      "C:\\Users\\sashi_000\\AppData\\Local\\Temp\\ipykernel_14228\\3381551435.py:5: SettingWithCopyWarning: \n",
      "A value is trying to be set on a copy of a slice from a DataFrame.\n",
      "Try using .loc[row_indexer,col_indexer] = value instead\n",
      "\n",
      "See the caveats in the documentation: https://pandas.pydata.org/pandas-docs/stable/user_guide/indexing.html#returning-a-view-versus-a-copy\n",
      "  salaries_unique[col] = salaries_unique[col].str.replace('\\.00','')\n"
     ]
    }
   ],
   "source": [
    "#removing special characters from the salary fields so they can be cast to numeric\n",
    "for col in ['starting_median_salary','midCareer_median_salary','midCareer_25th_salary','midCareer_75th_salary']:\n",
    "    salaries_unique[col] = salaries_unique[col].str.replace(',','')\n",
    "    salaries_unique[col] = salaries_unique[col].str.replace('$','')\n",
    "    salaries_unique[col] = salaries_unique[col].str.replace('\\.00','')"
   ]
  },
  {
   "cell_type": "code",
   "execution_count": 24,
   "id": "d90c39e5",
   "metadata": {},
   "outputs": [
    {
     "name": "stderr",
     "output_type": "stream",
     "text": [
      "C:\\Users\\sashi_000\\AppData\\Local\\Temp\\ipykernel_14228\\1749195220.py:1: SettingWithCopyWarning: \n",
      "A value is trying to be set on a copy of a slice from a DataFrame.\n",
      "Try using .loc[row_indexer,col_indexer] = value instead\n",
      "\n",
      "See the caveats in the documentation: https://pandas.pydata.org/pandas-docs/stable/user_guide/indexing.html#returning-a-view-versus-a-copy\n",
      "  salaries_unique[[\"starting_median_salary\", \"midCareer_median_salary\",'midCareer_25th_salary',\"midCareer_75th_salary\"]] = salaries_unique[[\"starting_median_salary\", \"midCareer_median_salary\",'midCareer_25th_salary',\"midCareer_75th_salary\"]].apply(pd.to_numeric)\n"
     ]
    }
   ],
   "source": [
    "salaries_unique[[\"starting_median_salary\", \"midCareer_median_salary\",'midCareer_25th_salary',\"midCareer_75th_salary\"]] = salaries_unique[[\"starting_median_salary\", \"midCareer_median_salary\",'midCareer_25th_salary',\"midCareer_75th_salary\"]].apply(pd.to_numeric)"
   ]
  },
  {
   "cell_type": "markdown",
   "id": "199d72ae",
   "metadata": {},
   "source": [
    "## Identifying Outliers"
   ]
  },
  {
   "cell_type": "code",
   "execution_count": 25,
   "id": "221051d0",
   "metadata": {},
   "outputs": [
    {
     "data": {
      "text/html": [
       "<div>\n",
       "<style scoped>\n",
       "    .dataframe tbody tr th:only-of-type {\n",
       "        vertical-align: middle;\n",
       "    }\n",
       "\n",
       "    .dataframe tbody tr th {\n",
       "        vertical-align: top;\n",
       "    }\n",
       "\n",
       "    .dataframe thead th {\n",
       "        text-align: right;\n",
       "    }\n",
       "</style>\n",
       "<table border=\"1\" class=\"dataframe\">\n",
       "  <thead>\n",
       "    <tr style=\"text-align: right;\">\n",
       "      <th></th>\n",
       "      <th>school_name</th>\n",
       "      <th>Region</th>\n",
       "      <th>school_type</th>\n",
       "      <th>starting_median_salary</th>\n",
       "      <th>midCareer_median_salary</th>\n",
       "      <th>midCareer_25th_salary</th>\n",
       "      <th>midCareer_75th_salary</th>\n",
       "    </tr>\n",
       "  </thead>\n",
       "  <tbody>\n",
       "    <tr>\n",
       "      <th>214</th>\n",
       "      <td>Amherst College</td>\n",
       "      <td>Northeastern</td>\n",
       "      <td>Liberal Arts</td>\n",
       "      <td>54500</td>\n",
       "      <td>107000</td>\n",
       "      <td>84900</td>\n",
       "      <td>162000</td>\n",
       "    </tr>\n",
       "    <tr>\n",
       "      <th>189</th>\n",
       "      <td>Appalachian State University</td>\n",
       "      <td>Southern</td>\n",
       "      <td>State</td>\n",
       "      <td>40400</td>\n",
       "      <td>69100</td>\n",
       "      <td>50400</td>\n",
       "      <td>90800</td>\n",
       "    </tr>\n",
       "    <tr>\n",
       "      <th>34</th>\n",
       "      <td>Arizona State University (ASU)</td>\n",
       "      <td>Western</td>\n",
       "      <td>Party</td>\n",
       "      <td>47400</td>\n",
       "      <td>84100</td>\n",
       "      <td>60700</td>\n",
       "      <td>114000</td>\n",
       "    </tr>\n",
       "    <tr>\n",
       "      <th>194</th>\n",
       "      <td>Arkansas State University (ASU)</td>\n",
       "      <td>Southern</td>\n",
       "      <td>State</td>\n",
       "      <td>38700</td>\n",
       "      <td>63300</td>\n",
       "      <td>45300</td>\n",
       "      <td>83900</td>\n",
       "    </tr>\n",
       "    <tr>\n",
       "      <th>149</th>\n",
       "      <td>Auburn University</td>\n",
       "      <td>Southern</td>\n",
       "      <td>State</td>\n",
       "      <td>45400</td>\n",
       "      <td>84700</td>\n",
       "      <td>62700</td>\n",
       "      <td>109000</td>\n",
       "    </tr>\n",
       "  </tbody>\n",
       "</table>\n",
       "</div>"
      ],
      "text/plain": [
       "                         school_name        Region   school_type  \\\n",
       "214                  Amherst College  Northeastern  Liberal Arts   \n",
       "189     Appalachian State University      Southern         State   \n",
       "34    Arizona State University (ASU)       Western         Party   \n",
       "194  Arkansas State University (ASU)      Southern         State   \n",
       "149                Auburn University      Southern         State   \n",
       "\n",
       "     starting_median_salary  midCareer_median_salary  midCareer_25th_salary  \\\n",
       "214                   54500                   107000                  84900   \n",
       "189                   40400                    69100                  50400   \n",
       "34                    47400                    84100                  60700   \n",
       "194                   38700                    63300                  45300   \n",
       "149                   45400                    84700                  62700   \n",
       "\n",
       "     midCareer_75th_salary  \n",
       "214                 162000  \n",
       "189                  90800  \n",
       "34                  114000  \n",
       "194                  83900  \n",
       "149                 109000  "
      ]
     },
     "execution_count": 25,
     "metadata": {},
     "output_type": "execute_result"
    }
   ],
   "source": [
    "salaries_unique.head()"
   ]
  },
  {
   "cell_type": "code",
   "execution_count": 26,
   "id": "23e66075",
   "metadata": {},
   "outputs": [
    {
     "data": {
      "text/plain": [
       "<AxesSubplot:xlabel='starting_median_salary'>"
      ]
     },
     "execution_count": 26,
     "metadata": {},
     "output_type": "execute_result"
    },
    {
     "data": {
      "image/png": "[encoded data removed]",
      "text/plain": [
       "<Figure size 432x288 with 1 Axes>"
      ]
     },
     "metadata": {
      "needs_background": "light"
     },
     "output_type": "display_data"
    }
   ],
   "source": [
    "#boxplot of salary columns\n",
    "\n",
    "#Starting Median Salary\n",
    "sns.boxplot(x=salaries_unique['starting_median_salary'])"
   ]
  },
  {
   "cell_type": "code",
   "execution_count": 27,
   "id": "63fcdd41",
   "metadata": {},
   "outputs": [
    {
     "data": {
      "text/plain": [
       "<AxesSubplot:xlabel='midCareer_median_salary'>"
      ]
     },
     "execution_count": 27,
     "metadata": {},
     "output_type": "execute_result"
    },
    {
     "data": {
      "image/png": "[encoded data removed]",
      "text/plain": [
       "<Figure size 432x288 with 1 Axes>"
      ]
     },
     "metadata": {
      "needs_background": "light"
     },
     "output_type": "display_data"
    }
   ],
   "source": [
    "#Mid-Career Median Salary\n",
    "sns.boxplot(x=salaries_unique['midCareer_median_salary'])"
   ]
  },
  {
   "cell_type": "code",
   "execution_count": 28,
   "id": "a5ca6f5b",
   "metadata": {},
   "outputs": [
    {
     "data": {
      "text/plain": [
       "<AxesSubplot:xlabel='midCareer_25th_salary'>"
      ]
     },
     "execution_count": 28,
     "metadata": {},
     "output_type": "execute_result"
    },
    {
     "data": {
      "image/png": "[encoded data removed]",
      "text/plain": [
       "<Figure size 432x288 with 1 Axes>"
      ]
     },
     "metadata": {
      "needs_background": "light"
     },
     "output_type": "display_data"
    }
   ],
   "source": [
    "#Mid-Career 25th Percentile Salary\n",
    "sns.boxplot(x=salaries_unique['midCareer_25th_salary'])"
   ]
  },
  {
   "cell_type": "code",
   "execution_count": 29,
   "id": "f59ed244",
   "metadata": {},
   "outputs": [
    {
     "data": {
      "text/plain": [
       "<AxesSubplot:xlabel='midCareer_75th_salary'>"
      ]
     },
     "execution_count": 29,
     "metadata": {},
     "output_type": "execute_result"
    },
    {
     "data": {
      "image/png": "[encoded data removed]",
      "text/plain": [
       "<Figure size 432x288 with 1 Axes>"
      ]
     },
     "metadata": {
      "needs_background": "light"
     },
     "output_type": "display_data"
    }
   ],
   "source": [
    "#Mid-Career 75th Percentile Salary\n",
    "sns.boxplot(x=salaries_unique['midCareer_75th_salary'])"
   ]
  },
  {
   "cell_type": "markdown",
   "id": "a03790f5",
   "metadata": {},
   "source": [
    "While there are outlier points shown in all of the above boxplots, I don't view any of them as being outliers.\n",
    "\n",
    "Salary is a monetary value that varies immensely, especially depending on one's area of expertise, age, years working, etc. I think universities develop students who then go into many different career areas, which generate different degrees of salaries, and so, I don't think any of these salary values can be considered as outliers.\n",
    "\n",
    "I think all of them will be useful in this analysis of understanding how universities can have an impact on the career and money that one makes post-grad."
   ]
  },
  {
   "cell_type": "markdown",
   "id": "03d21ffc",
   "metadata": {},
   "source": [
    "## Removing Parantheses from School Names"
   ]
  },
  {
   "cell_type": "code",
   "execution_count": 30,
   "id": "46f78714",
   "metadata": {},
   "outputs": [
    {
     "name": "stderr",
     "output_type": "stream",
     "text": [
      "C:\\Users\\sashi_000\\AppData\\Local\\Temp\\ipykernel_14228\\3747198713.py:1: FutureWarning: The default value of regex will change from True to False in a future version.\n",
      "  salaries_unique['school_name'] = salaries_unique['school_name'].str.replace(r\"\\s*\\([^()]*\\)\",\"\").str.strip()\n",
      "C:\\Users\\sashi_000\\AppData\\Local\\Temp\\ipykernel_14228\\3747198713.py:1: SettingWithCopyWarning: \n",
      "A value is trying to be set on a copy of a slice from a DataFrame.\n",
      "Try using .loc[row_indexer,col_indexer] = value instead\n",
      "\n",
      "See the caveats in the documentation: https://pandas.pydata.org/pandas-docs/stable/user_guide/indexing.html#returning-a-view-versus-a-copy\n",
      "  salaries_unique['school_name'] = salaries_unique['school_name'].str.replace(r\"\\s*\\([^()]*\\)\",\"\").str.strip()\n"
     ]
    }
   ],
   "source": [
    "salaries_unique['school_name'] = salaries_unique['school_name'].str.replace(r\"\\s*\\([^()]*\\)\",\"\").str.strip()"
   ]
  },
  {
   "cell_type": "code",
   "execution_count": 31,
   "id": "8f863f59",
   "metadata": {},
   "outputs": [
    {
     "data": {
      "text/html": [
       "<div>\n",
       "<style scoped>\n",
       "    .dataframe tbody tr th:only-of-type {\n",
       "        vertical-align: middle;\n",
       "    }\n",
       "\n",
       "    .dataframe tbody tr th {\n",
       "        vertical-align: top;\n",
       "    }\n",
       "\n",
       "    .dataframe thead th {\n",
       "        text-align: right;\n",
       "    }\n",
       "</style>\n",
       "<table border=\"1\" class=\"dataframe\">\n",
       "  <thead>\n",
       "    <tr style=\"text-align: right;\">\n",
       "      <th></th>\n",
       "      <th>school_name</th>\n",
       "      <th>Region</th>\n",
       "      <th>school_type</th>\n",
       "      <th>starting_median_salary</th>\n",
       "      <th>midCareer_median_salary</th>\n",
       "      <th>midCareer_25th_salary</th>\n",
       "      <th>midCareer_75th_salary</th>\n",
       "    </tr>\n",
       "  </thead>\n",
       "  <tbody>\n",
       "    <tr>\n",
       "      <th>214</th>\n",
       "      <td>Amherst College</td>\n",
       "      <td>Northeastern</td>\n",
       "      <td>Liberal Arts</td>\n",
       "      <td>54500</td>\n",
       "      <td>107000</td>\n",
       "      <td>84900</td>\n",
       "      <td>162000</td>\n",
       "    </tr>\n",
       "    <tr>\n",
       "      <th>189</th>\n",
       "      <td>Appalachian State University</td>\n",
       "      <td>Southern</td>\n",
       "      <td>State</td>\n",
       "      <td>40400</td>\n",
       "      <td>69100</td>\n",
       "      <td>50400</td>\n",
       "      <td>90800</td>\n",
       "    </tr>\n",
       "    <tr>\n",
       "      <th>34</th>\n",
       "      <td>Arizona State University</td>\n",
       "      <td>Western</td>\n",
       "      <td>Party</td>\n",
       "      <td>47400</td>\n",
       "      <td>84100</td>\n",
       "      <td>60700</td>\n",
       "      <td>114000</td>\n",
       "    </tr>\n",
       "    <tr>\n",
       "      <th>194</th>\n",
       "      <td>Arkansas State University</td>\n",
       "      <td>Southern</td>\n",
       "      <td>State</td>\n",
       "      <td>38700</td>\n",
       "      <td>63300</td>\n",
       "      <td>45300</td>\n",
       "      <td>83900</td>\n",
       "    </tr>\n",
       "    <tr>\n",
       "      <th>149</th>\n",
       "      <td>Auburn University</td>\n",
       "      <td>Southern</td>\n",
       "      <td>State</td>\n",
       "      <td>45400</td>\n",
       "      <td>84700</td>\n",
       "      <td>62700</td>\n",
       "      <td>109000</td>\n",
       "    </tr>\n",
       "  </tbody>\n",
       "</table>\n",
       "</div>"
      ],
      "text/plain": [
       "                      school_name        Region   school_type  \\\n",
       "214               Amherst College  Northeastern  Liberal Arts   \n",
       "189  Appalachian State University      Southern         State   \n",
       "34       Arizona State University       Western         Party   \n",
       "194     Arkansas State University      Southern         State   \n",
       "149             Auburn University      Southern         State   \n",
       "\n",
       "     starting_median_salary  midCareer_median_salary  midCareer_25th_salary  \\\n",
       "214                   54500                   107000                  84900   \n",
       "189                   40400                    69100                  50400   \n",
       "34                    47400                    84100                  60700   \n",
       "194                   38700                    63300                  45300   \n",
       "149                   45400                    84700                  62700   \n",
       "\n",
       "     midCareer_75th_salary  \n",
       "214                 162000  \n",
       "189                  90800  \n",
       "34                  114000  \n",
       "194                  83900  \n",
       "149                 109000  "
      ]
     },
     "execution_count": 31,
     "metadata": {},
     "output_type": "execute_result"
    }
   ],
   "source": [
    "salaries_unique.head()"
   ]
  },
  {
   "cell_type": "markdown",
   "id": "168ae995",
   "metadata": {},
   "source": [
    "## #############################################################################\n",
    "\n",
    "## Milestone 3 - Cleaning/Formatting Website Data\n",
    "\n",
    "### Perform at least 5 data transformation and/or cleansing steps to your flat file data. For example:\n",
    "1. Replace Headers\n",
    "2. Format data into a more readable format\n",
    "3. Identify outliers and bad data\n",
    "4. Find duplicates\n",
    "5. Fix casing or inconsistent values\n",
    "6. Conduct Fuzzy Matching\n",
    "\n",
    "### Reading in Website Data"
   ]
  },
  {
   "cell_type": "code",
   "execution_count": 32,
   "id": "14bf2d07",
   "metadata": {},
   "outputs": [],
   "source": [
    "#needed libraries\n",
    "import requests\n",
    "import lxml.html as lh\n",
    "import pandas as pd\n",
    "\n",
    "#function to fetch the rows of the rankings table from the website I found\n",
    "#the rows can be found between the <tr> tags in the underlying HTML\n",
    "def get_tableData_Pages():\n",
    "    #target we want to open\n",
    "    URL = ['https://oedb.org/rankings/acceptance-rate/','https://oedb.org/rankings/acceptance-rate/page/2/#table-rankings','https://oedb.org/rankings/acceptance-rate/page/3/#table-rankings','https://oedb.org/rankings/acceptance-rate/page/4/#table-rankings','https://oedb.org/rankings/acceptance-rate/page/5/#table-rankings','https://oedb.org/rankings/acceptance-rate/page/6/#table-rankings']\n",
    "    \n",
    "    tr_pages = []\n",
    "    \n",
    "    for url in range(0,6):\n",
    "        #open with GET method\n",
    "        resp=requests.get(URL[url])\n",
    "    \n",
    "        #check for response 200 -> OK\n",
    "        if resp.status_code==200:\n",
    "            print(\"Successfully opened the web page\")\n",
    "            print(\"Fetching elements\")\n",
    "      \n",
    "            #store the contents of the website under a doc\n",
    "            doc = lh.fromstring(resp.content)\n",
    "        \n",
    "            #parse data that are stored between <tr> tags of HTML --> each row in the table\n",
    "            tr_elements = doc.xpath('//tr')\n",
    "            \n",
    "            tr_pages.append(tr_elements)\n",
    "        else:\n",
    "            print(\"Error\")\n",
    "        \n",
    "    return tr_pages"
   ]
  },
  {
   "cell_type": "code",
   "execution_count": 33,
   "id": "798c18fd",
   "metadata": {},
   "outputs": [
    {
     "name": "stdout",
     "output_type": "stream",
     "text": [
      "Successfully opened the web page\n",
      "Fetching elements\n",
      "Successfully opened the web page\n",
      "Fetching elements\n",
      "Successfully opened the web page\n",
      "Fetching elements\n",
      "Successfully opened the web page\n",
      "Fetching elements\n",
      "Successfully opened the web page\n",
      "Fetching elements\n",
      "Successfully opened the web page\n",
      "Fetching elements\n"
     ]
    }
   ],
   "source": [
    "tr_pages = get_tableData_Pages()"
   ]
  },
  {
   "cell_type": "markdown",
   "id": "89ca67b9",
   "metadata": {},
   "source": [
    "## Parsing the Table Header"
   ]
  },
  {
   "cell_type": "code",
   "execution_count": 34,
   "id": "40b0de0f",
   "metadata": {},
   "outputs": [],
   "source": [
    "#function to fetch the rows of the rankings table from the website I found\n",
    "#the rows can be found between the <tr> tags in the underlying HTML\n",
    "def get_tableData():\n",
    "    #target we want to open\n",
    "    url = 'https://oedb.org/rankings/acceptance-rate/'\n",
    "    #open with GET method\n",
    "    resp=requests.get(url)\n",
    "    \n",
    "    #check for response 200 -> OK\n",
    "    if resp.status_code==200:\n",
    "        print(\"Successfully opened the web page\")\n",
    "        print(\"Fetching elements\")\n",
    "      \n",
    "        #store the contents of the website under a doc\n",
    "        doc = lh.fromstring(resp.content)\n",
    "        \n",
    "        #parse data that are stored between <tr> tags of HTML --> each row in the table\n",
    "        tr_elements = doc.xpath('//tr')\n",
    "        \n",
    "        return tr_elements\n",
    "    else:\n",
    "        print(\"Error\")"
   ]
  },
  {
   "cell_type": "code",
   "execution_count": 35,
   "id": "f3acb823",
   "metadata": {},
   "outputs": [
    {
     "name": "stdout",
     "output_type": "stream",
     "text": [
      "Successfully opened the web page\n",
      "Fetching elements\n"
     ]
    }
   ],
   "source": [
    "tr_elements = get_tableData()"
   ]
  },
  {
   "cell_type": "code",
   "execution_count": 36,
   "id": "4b8e4db9",
   "metadata": {},
   "outputs": [
    {
     "name": "stdout",
     "output_type": "stream",
     "text": [
      "1 Rank\n",
      "2 School\n",
      "3 Student to Faculty Ratio\n",
      "4 Graduation Rate\n",
      "5 Retention Rate\n",
      "6 Acceptance Rate\n",
      "7 Enrollment Rate\n",
      "8 Institutional Aid Rate\n",
      "9 Default Rate\n"
     ]
    }
   ],
   "source": [
    "#Create empty list\n",
    "col=[]\n",
    "i=0\n",
    "#For each row, store each first element (header) and an empty list\n",
    "for t in tr_elements[0]:\n",
    "    i+=1\n",
    "    #getting the text for the various columns\n",
    "    name=t.text_content()\n",
    "    #output column number and column text\n",
    "    print (i,name)\n",
    "    col.append((name,[]))"
   ]
  },
  {
   "cell_type": "markdown",
   "id": "08da6405",
   "metadata": {},
   "source": [
    "## Creating Pandas DataFrame"
   ]
  },
  {
   "cell_type": "code",
   "execution_count": 37,
   "id": "55afd75f",
   "metadata": {},
   "outputs": [],
   "source": [
    "#go through each table on each page of the website\n",
    "for tbody in tr_pages:\n",
    "    #first row is the header, data is stored from the second row onwards\n",
    "    #loop through each row in each table\n",
    "    for j in range(1,len(tbody)):\n",
    "        #T is our j'th row\n",
    "        T=tbody[j]\n",
    "    \n",
    "       # If row is not of size 15, the //tr data is not from our table \n",
    "        if len(T)!=15:\n",
    "            break\n",
    "        \n",
    "        #selecting first 9 elements since they align with headers --> other columns are fluff\n",
    "        T = T[:9]\n",
    "    \n",
    "        #i is the index of our column\n",
    "        i=0\n",
    "    \n",
    "        #Iterate through each element of the row\n",
    "        for t in T:\n",
    "            data=t.text_content() \n",
    "            #Check if row is empty\n",
    "            if i>0:\n",
    "            #Convert any numerical value to integers\n",
    "                try:\n",
    "                    data=int(data)\n",
    "                except:\n",
    "                    pass\n",
    "            #Append the data to the empty list of the i'th column\n",
    "            col[i][1].append(data)\n",
    "            #Increment i for the next column\n",
    "            i+=1"
   ]
  },
  {
   "cell_type": "code",
   "execution_count": 38,
   "id": "ba8a7e5e",
   "metadata": {},
   "outputs": [],
   "source": [
    "#creating the dataframe from a dict --> dict will hold the column name and the designated values that fall into it for each school\n",
    "Dict={title:column for (title,column) in col}\n",
    "df=pd.DataFrame(Dict)"
   ]
  },
  {
   "cell_type": "code",
   "execution_count": 39,
   "id": "f32d5f46",
   "metadata": {},
   "outputs": [
    {
     "name": "stdout",
     "output_type": "stream",
     "text": [
      "571 rows and 9 columns\n"
     ]
    }
   ],
   "source": [
    "print(f\"{df.shape[0]} rows and {df.shape[1]} columns\")"
   ]
  },
  {
   "cell_type": "code",
   "execution_count": 40,
   "id": "dbaf19da",
   "metadata": {},
   "outputs": [
    {
     "data": {
      "text/html": [
       "<div>\n",
       "<style scoped>\n",
       "    .dataframe tbody tr th:only-of-type {\n",
       "        vertical-align: middle;\n",
       "    }\n",
       "\n",
       "    .dataframe tbody tr th {\n",
       "        vertical-align: top;\n",
       "    }\n",
       "\n",
       "    .dataframe thead th {\n",
       "        text-align: right;\n",
       "    }\n",
       "</style>\n",
       "<table border=\"1\" class=\"dataframe\">\n",
       "  <thead>\n",
       "    <tr style=\"text-align: right;\">\n",
       "      <th></th>\n",
       "      <th>Rank</th>\n",
       "      <th>School</th>\n",
       "      <th>Student to Faculty Ratio</th>\n",
       "      <th>Graduation Rate</th>\n",
       "      <th>Retention Rate</th>\n",
       "      <th>Acceptance Rate</th>\n",
       "      <th>Enrollment Rate</th>\n",
       "      <th>Institutional Aid Rate</th>\n",
       "      <th>Default Rate</th>\n",
       "    </tr>\n",
       "  </thead>\n",
       "  <tbody>\n",
       "    <tr>\n",
       "      <th>0</th>\n",
       "      <td>1</td>\n",
       "      <td>Harvard University</td>\n",
       "      <td>7 to 1</td>\n",
       "      <td>98%</td>\n",
       "      <td>98%</td>\n",
       "      <td>6%</td>\n",
       "      <td>4%</td>\n",
       "      <td>44%</td>\n",
       "      <td>N/A</td>\n",
       "    </tr>\n",
       "    <tr>\n",
       "      <th>1</th>\n",
       "      <td>2</td>\n",
       "      <td>Yale University</td>\n",
       "      <td>6 to 1</td>\n",
       "      <td>97%</td>\n",
       "      <td>99%</td>\n",
       "      <td>7%</td>\n",
       "      <td>5%</td>\n",
       "      <td>52%</td>\n",
       "      <td>N/A</td>\n",
       "    </tr>\n",
       "    <tr>\n",
       "      <th>2</th>\n",
       "      <td>3</td>\n",
       "      <td>University of Pennsylvania</td>\n",
       "      <td>6 to 1</td>\n",
       "      <td>95%</td>\n",
       "      <td>98%</td>\n",
       "      <td>10%</td>\n",
       "      <td>7%</td>\n",
       "      <td>54%</td>\n",
       "      <td>N/A</td>\n",
       "    </tr>\n",
       "    <tr>\n",
       "      <th>3</th>\n",
       "      <td>4</td>\n",
       "      <td>Johns Hopkins University</td>\n",
       "      <td>10 to 1</td>\n",
       "      <td>94%</td>\n",
       "      <td>97%</td>\n",
       "      <td>14%</td>\n",
       "      <td>5%</td>\n",
       "      <td>51%</td>\n",
       "      <td>N/A</td>\n",
       "    </tr>\n",
       "    <tr>\n",
       "      <th>4</th>\n",
       "      <td>5</td>\n",
       "      <td>Cornell University</td>\n",
       "      <td>9 to 1</td>\n",
       "      <td>93%</td>\n",
       "      <td>97%</td>\n",
       "      <td>15%</td>\n",
       "      <td>8%</td>\n",
       "      <td>55%</td>\n",
       "      <td>N/A</td>\n",
       "    </tr>\n",
       "  </tbody>\n",
       "</table>\n",
       "</div>"
      ],
      "text/plain": [
       "  Rank                      School Student to Faculty Ratio Graduation Rate  \\\n",
       "0    1          Harvard University                   7 to 1             98%   \n",
       "1    2             Yale University                   6 to 1             97%   \n",
       "2    3  University of Pennsylvania                   6 to 1             95%   \n",
       "3    4    Johns Hopkins University                  10 to 1             94%   \n",
       "4    5          Cornell University                   9 to 1             93%   \n",
       "\n",
       "  Retention Rate Acceptance Rate Enrollment Rate Institutional Aid Rate  \\\n",
       "0            98%              6%              4%                    44%   \n",
       "1            99%              7%              5%                    52%   \n",
       "2            98%             10%              7%                    54%   \n",
       "3            97%             14%              5%                    51%   \n",
       "4            97%             15%              8%                    55%   \n",
       "\n",
       "  Default Rate  \n",
       "0          N/A  \n",
       "1          N/A  \n",
       "2          N/A  \n",
       "3          N/A  \n",
       "4          N/A  "
      ]
     },
     "execution_count": 40,
     "metadata": {},
     "output_type": "execute_result"
    }
   ],
   "source": [
    "df.head()"
   ]
  },
  {
   "cell_type": "code",
   "execution_count": 41,
   "id": "dc2fcb69",
   "metadata": {},
   "outputs": [
    {
     "data": {
      "text/html": [
       "<div>\n",
       "<style scoped>\n",
       "    .dataframe tbody tr th:only-of-type {\n",
       "        vertical-align: middle;\n",
       "    }\n",
       "\n",
       "    .dataframe tbody tr th {\n",
       "        vertical-align: top;\n",
       "    }\n",
       "\n",
       "    .dataframe thead th {\n",
       "        text-align: right;\n",
       "    }\n",
       "</style>\n",
       "<table border=\"1\" class=\"dataframe\">\n",
       "  <thead>\n",
       "    <tr style=\"text-align: right;\">\n",
       "      <th></th>\n",
       "      <th>Rank</th>\n",
       "      <th>School</th>\n",
       "      <th>Student to Faculty Ratio</th>\n",
       "      <th>Graduation Rate</th>\n",
       "      <th>Retention Rate</th>\n",
       "      <th>Acceptance Rate</th>\n",
       "      <th>Enrollment Rate</th>\n",
       "      <th>Institutional Aid Rate</th>\n",
       "      <th>Default Rate</th>\n",
       "    </tr>\n",
       "  </thead>\n",
       "  <tbody>\n",
       "    <tr>\n",
       "      <th>566</th>\n",
       "      <td>567</td>\n",
       "      <td>Touro University Worldwide</td>\n",
       "      <td>13 to 1</td>\n",
       "      <td>N/A</td>\n",
       "      <td>100%</td>\n",
       "      <td>N/A</td>\n",
       "      <td>N/A</td>\n",
       "      <td>76%</td>\n",
       "      <td>4%</td>\n",
       "    </tr>\n",
       "    <tr>\n",
       "      <th>567</th>\n",
       "      <td>568</td>\n",
       "      <td>Unitek College</td>\n",
       "      <td>16 to 1</td>\n",
       "      <td>N/A</td>\n",
       "      <td>100%</td>\n",
       "      <td>N/A</td>\n",
       "      <td>N/A</td>\n",
       "      <td>20%</td>\n",
       "      <td>N/A</td>\n",
       "    </tr>\n",
       "    <tr>\n",
       "      <th>568</th>\n",
       "      <td>569</td>\n",
       "      <td>University of Western States</td>\n",
       "      <td>16 to 1</td>\n",
       "      <td>88%</td>\n",
       "      <td>N/A</td>\n",
       "      <td>N/A</td>\n",
       "      <td>N/A</td>\n",
       "      <td>56%</td>\n",
       "      <td>N/A</td>\n",
       "    </tr>\n",
       "    <tr>\n",
       "      <th>569</th>\n",
       "      <td>570</td>\n",
       "      <td>Virginia Baptist College</td>\n",
       "      <td>5 to 1</td>\n",
       "      <td>100%</td>\n",
       "      <td>25%</td>\n",
       "      <td>N/A</td>\n",
       "      <td>N/A</td>\n",
       "      <td>38%</td>\n",
       "      <td>N/A</td>\n",
       "    </tr>\n",
       "    <tr>\n",
       "      <th>570</th>\n",
       "      <td>571</td>\n",
       "      <td>West Virginia Junior College-Morgantown</td>\n",
       "      <td>25 to 1</td>\n",
       "      <td>53%</td>\n",
       "      <td>69%</td>\n",
       "      <td>N/A</td>\n",
       "      <td>N/A</td>\n",
       "      <td>88%</td>\n",
       "      <td>N/A</td>\n",
       "    </tr>\n",
       "  </tbody>\n",
       "</table>\n",
       "</div>"
      ],
      "text/plain": [
       "    Rank                                   School Student to Faculty Ratio  \\\n",
       "566  567               Touro University Worldwide                  13 to 1   \n",
       "567  568                           Unitek College                  16 to 1   \n",
       "568  569             University of Western States                  16 to 1   \n",
       "569  570                 Virginia Baptist College                   5 to 1   \n",
       "570  571  West Virginia Junior College-Morgantown                  25 to 1   \n",
       "\n",
       "    Graduation Rate Retention Rate Acceptance Rate Enrollment Rate  \\\n",
       "566             N/A           100%             N/A             N/A   \n",
       "567             N/A           100%             N/A             N/A   \n",
       "568             88%            N/A             N/A             N/A   \n",
       "569            100%            25%             N/A             N/A   \n",
       "570             53%            69%             N/A             N/A   \n",
       "\n",
       "    Institutional Aid Rate Default Rate  \n",
       "566                    76%           4%  \n",
       "567                    20%          N/A  \n",
       "568                    56%          N/A  \n",
       "569                    38%          N/A  \n",
       "570                    88%          N/A  "
      ]
     },
     "execution_count": 41,
     "metadata": {},
     "output_type": "execute_result"
    }
   ],
   "source": [
    "df.tail()"
   ]
  },
  {
   "cell_type": "markdown",
   "id": "c44193c3",
   "metadata": {},
   "source": [
    "## Renaming Column Names"
   ]
  },
  {
   "cell_type": "code",
   "execution_count": 42,
   "id": "30bbf943",
   "metadata": {},
   "outputs": [],
   "source": [
    "#renaming the columns with spaces so they are easier to call/access\n",
    "#ratio, rate columns\n",
    "df = df.rename(columns={'Student to Faculty Ratio':'Stud_Fac_Ratio','Graduation Rate':'Grad_Rate','Retention Rate':'Reten_Rate','Acceptance Rate':'Accept_Rate','Enrollment Rate':'Enroll_Rate','Institutional Aid Rate':'Inst_Aid_Rate','Default Rate':'Default_Rate'})\n"
   ]
  },
  {
   "cell_type": "code",
   "execution_count": 43,
   "id": "224c40bd",
   "metadata": {},
   "outputs": [
    {
     "data": {
      "text/plain": [
       "Rank                               1\n",
       "School            Harvard University\n",
       "Stud_Fac_Ratio                7 to 1\n",
       "Grad_Rate                        98%\n",
       "Reten_Rate                       98%\n",
       "Accept_Rate                       6%\n",
       "Enroll_Rate                       4%\n",
       "Inst_Aid_Rate                    44%\n",
       "Default_Rate                     N/A\n",
       "Name: 0, dtype: object"
      ]
     },
     "execution_count": 43,
     "metadata": {},
     "output_type": "execute_result"
    }
   ],
   "source": [
    "#looking at the first of data, new columns are shown\n",
    "df.iloc[0]"
   ]
  },
  {
   "cell_type": "markdown",
   "id": "4905e558",
   "metadata": {},
   "source": [
    "## Finding Duplicates"
   ]
  },
  {
   "cell_type": "code",
   "execution_count": 44,
   "id": "625ff538",
   "metadata": {},
   "outputs": [
    {
     "data": {
      "text/plain": [
       "0      False\n",
       "1      False\n",
       "2      False\n",
       "3      False\n",
       "4      False\n",
       "       ...  \n",
       "566    False\n",
       "567    False\n",
       "568    False\n",
       "569    False\n",
       "570    False\n",
       "Length: 571, dtype: bool"
      ]
     },
     "execution_count": 44,
     "metadata": {},
     "output_type": "execute_result"
    }
   ],
   "source": [
    "#using the DataFrame method duplicated to determine whether each row is a duplicate\n",
    "df.duplicated()"
   ]
  },
  {
   "cell_type": "code",
   "execution_count": 45,
   "id": "670cd8a2",
   "metadata": {},
   "outputs": [
    {
     "data": {
      "text/plain": [
       "0"
      ]
     },
     "execution_count": 45,
     "metadata": {},
     "output_type": "execute_result"
    }
   ],
   "source": [
    "#count the number of duplicates\n",
    "df.duplicated().sum()"
   ]
  },
  {
   "cell_type": "code",
   "execution_count": 46,
   "id": "c1229897",
   "metadata": {},
   "outputs": [
    {
     "name": "stdout",
     "output_type": "stream",
     "text": [
      "No duplicates were found! All unique rows were loaded into the Data Frame\n"
     ]
    }
   ],
   "source": [
    "print(\"No duplicates were found! All unique rows were loaded into the Data Frame\")"
   ]
  },
  {
   "cell_type": "code",
   "execution_count": 47,
   "id": "e2b87519",
   "metadata": {},
   "outputs": [],
   "source": [
    "## Finding Missing Data"
   ]
  },
  {
   "cell_type": "code",
   "execution_count": 48,
   "id": "5ea7f7d2",
   "metadata": {},
   "outputs": [
    {
     "name": "stdout",
     "output_type": "stream",
     "text": [
      "Rank: False\n",
      "School: False\n",
      "Stud_Fac_Ratio: False\n",
      "Grad_Rate: False\n",
      "Reten_Rate: False\n",
      "Accept_Rate: False\n",
      "Enroll_Rate: False\n",
      "Inst_Aid_Rate: False\n",
      "Default_Rate: False\n"
     ]
    }
   ],
   "source": [
    "#loop through columns in dataframe\n",
    "#check for any NaN values\n",
    "for col in df.columns:\n",
    "    print(col + \": \" + str(df[col].isnull().values.any()))"
   ]
  },
  {
   "cell_type": "code",
   "execution_count": 49,
   "id": "0f3310a1",
   "metadata": {},
   "outputs": [
    {
     "name": "stdout",
     "output_type": "stream",
     "text": [
      "No missing data was found, but I can see NA's in the dataset. Going to look into those!\n"
     ]
    }
   ],
   "source": [
    "print(\"No missing data was found, but I can see NA's in the dataset. Going to look into those!\")"
   ]
  },
  {
   "cell_type": "markdown",
   "id": "f6292b7d",
   "metadata": {},
   "source": [
    "## Replacing N/A values with np.NaN"
   ]
  },
  {
   "cell_type": "code",
   "execution_count": 50,
   "id": "0a79ae6e",
   "metadata": {},
   "outputs": [],
   "source": [
    "#replacing N/A values with np.NaN so they are recognized as missing values\n",
    "df = df.replace('N/A',np.NaN)"
   ]
  },
  {
   "cell_type": "code",
   "execution_count": 51,
   "id": "4685647f",
   "metadata": {},
   "outputs": [
    {
     "name": "stdout",
     "output_type": "stream",
     "text": [
      "Rank: False\n",
      "School: False\n",
      "Stud_Fac_Ratio: False\n",
      "Grad_Rate: True\n",
      "Reten_Rate: True\n",
      "Accept_Rate: True\n",
      "Enroll_Rate: True\n",
      "Inst_Aid_Rate: False\n",
      "Default_Rate: True\n"
     ]
    }
   ],
   "source": [
    "#checking for missing data again now that NaN values are in place\n",
    "for col in df.columns:\n",
    "    print(col + \": \" + str(df[col].isnull().values.any()))"
   ]
  },
  {
   "cell_type": "code",
   "execution_count": 52,
   "id": "d2b752f2",
   "metadata": {},
   "outputs": [
    {
     "name": "stdout",
     "output_type": "stream",
     "text": [
      "Multiple columns have missing data: Graduation Rate, Retention Rate, Acceptance Rate, Enrollment Rate, and Default Rate\n"
     ]
    }
   ],
   "source": [
    "print(\"Multiple columns have missing data: Graduation Rate, Retention Rate, Acceptance Rate, Enrollment Rate, and Default Rate\")"
   ]
  },
  {
   "cell_type": "code",
   "execution_count": 53,
   "id": "a8b785f9",
   "metadata": {},
   "outputs": [
    {
     "data": {
      "text/plain": [
       "Rank                0\n",
       "School              0\n",
       "Stud_Fac_Ratio      0\n",
       "Grad_Rate           6\n",
       "Reten_Rate          4\n",
       "Accept_Rate        29\n",
       "Enroll_Rate        29\n",
       "Inst_Aid_Rate       0\n",
       "Default_Rate      291\n",
       "dtype: int64"
      ]
     },
     "execution_count": 53,
     "metadata": {},
     "output_type": "execute_result"
    }
   ],
   "source": [
    "#getting counts of missing values in data frame\n",
    "df.isnull().sum()"
   ]
  },
  {
   "cell_type": "markdown",
   "id": "fc6d2ff3",
   "metadata": {},
   "source": [
    "## Checking & Changing Data Types"
   ]
  },
  {
   "cell_type": "code",
   "execution_count": 54,
   "id": "f8f30425",
   "metadata": {},
   "outputs": [
    {
     "data": {
      "text/plain": [
       "Rank              object\n",
       "School            object\n",
       "Stud_Fac_Ratio    object\n",
       "Grad_Rate         object\n",
       "Reten_Rate        object\n",
       "Accept_Rate       object\n",
       "Enroll_Rate       object\n",
       "Inst_Aid_Rate     object\n",
       "Default_Rate      object\n",
       "dtype: object"
      ]
     },
     "execution_count": 54,
     "metadata": {},
     "output_type": "execute_result"
    }
   ],
   "source": [
    "#using dtypes function to find data types\n",
    "df.dtypes"
   ]
  },
  {
   "cell_type": "code",
   "execution_count": 55,
   "id": "c289bfd8",
   "metadata": {},
   "outputs": [],
   "source": [
    "#The rate columns are marked as type 'object'. I am going to cast them to be numeric, so we can utilize the numerical values as they represent rates in percentages."
   ]
  },
  {
   "cell_type": "code",
   "execution_count": 56,
   "id": "d5846fd8",
   "metadata": {},
   "outputs": [],
   "source": [
    "def percent_to_float(col):\n",
    "    df[col] = df[col].str.rstrip('%').astype('float')/100.0"
   ]
  },
  {
   "cell_type": "code",
   "execution_count": 57,
   "id": "eff55642",
   "metadata": {},
   "outputs": [],
   "source": [
    "for col in ['Grad_Rate','Reten_Rate','Accept_Rate','Enroll_Rate','Inst_Aid_Rate','Default_Rate']:\n",
    "    percent_to_float(col)"
   ]
  },
  {
   "cell_type": "code",
   "execution_count": 58,
   "id": "212d8346",
   "metadata": {},
   "outputs": [
    {
     "data": {
      "text/plain": [
       "Rank               object\n",
       "School             object\n",
       "Stud_Fac_Ratio     object\n",
       "Grad_Rate         float64\n",
       "Reten_Rate        float64\n",
       "Accept_Rate       float64\n",
       "Enroll_Rate       float64\n",
       "Inst_Aid_Rate     float64\n",
       "Default_Rate      float64\n",
       "dtype: object"
      ]
     },
     "execution_count": 58,
     "metadata": {},
     "output_type": "execute_result"
    }
   ],
   "source": [
    "df.dtypes"
   ]
  },
  {
   "cell_type": "code",
   "execution_count": 59,
   "id": "ef855683",
   "metadata": {},
   "outputs": [
    {
     "data": {
      "text/html": [
       "<div>\n",
       "<style scoped>\n",
       "    .dataframe tbody tr th:only-of-type {\n",
       "        vertical-align: middle;\n",
       "    }\n",
       "\n",
       "    .dataframe tbody tr th {\n",
       "        vertical-align: top;\n",
       "    }\n",
       "\n",
       "    .dataframe thead th {\n",
       "        text-align: right;\n",
       "    }\n",
       "</style>\n",
       "<table border=\"1\" class=\"dataframe\">\n",
       "  <thead>\n",
       "    <tr style=\"text-align: right;\">\n",
       "      <th></th>\n",
       "      <th>Rank</th>\n",
       "      <th>School</th>\n",
       "      <th>Stud_Fac_Ratio</th>\n",
       "      <th>Grad_Rate</th>\n",
       "      <th>Reten_Rate</th>\n",
       "      <th>Accept_Rate</th>\n",
       "      <th>Enroll_Rate</th>\n",
       "      <th>Inst_Aid_Rate</th>\n",
       "      <th>Default_Rate</th>\n",
       "    </tr>\n",
       "  </thead>\n",
       "  <tbody>\n",
       "    <tr>\n",
       "      <th>0</th>\n",
       "      <td>1</td>\n",
       "      <td>Harvard University</td>\n",
       "      <td>7 to 1</td>\n",
       "      <td>0.98</td>\n",
       "      <td>0.98</td>\n",
       "      <td>0.06</td>\n",
       "      <td>0.04</td>\n",
       "      <td>0.44</td>\n",
       "      <td>NaN</td>\n",
       "    </tr>\n",
       "    <tr>\n",
       "      <th>1</th>\n",
       "      <td>2</td>\n",
       "      <td>Yale University</td>\n",
       "      <td>6 to 1</td>\n",
       "      <td>0.97</td>\n",
       "      <td>0.99</td>\n",
       "      <td>0.07</td>\n",
       "      <td>0.05</td>\n",
       "      <td>0.52</td>\n",
       "      <td>NaN</td>\n",
       "    </tr>\n",
       "    <tr>\n",
       "      <th>2</th>\n",
       "      <td>3</td>\n",
       "      <td>University of Pennsylvania</td>\n",
       "      <td>6 to 1</td>\n",
       "      <td>0.95</td>\n",
       "      <td>0.98</td>\n",
       "      <td>0.10</td>\n",
       "      <td>0.07</td>\n",
       "      <td>0.54</td>\n",
       "      <td>NaN</td>\n",
       "    </tr>\n",
       "    <tr>\n",
       "      <th>3</th>\n",
       "      <td>4</td>\n",
       "      <td>Johns Hopkins University</td>\n",
       "      <td>10 to 1</td>\n",
       "      <td>0.94</td>\n",
       "      <td>0.97</td>\n",
       "      <td>0.14</td>\n",
       "      <td>0.05</td>\n",
       "      <td>0.51</td>\n",
       "      <td>NaN</td>\n",
       "    </tr>\n",
       "    <tr>\n",
       "      <th>4</th>\n",
       "      <td>5</td>\n",
       "      <td>Cornell University</td>\n",
       "      <td>9 to 1</td>\n",
       "      <td>0.93</td>\n",
       "      <td>0.97</td>\n",
       "      <td>0.15</td>\n",
       "      <td>0.08</td>\n",
       "      <td>0.55</td>\n",
       "      <td>NaN</td>\n",
       "    </tr>\n",
       "  </tbody>\n",
       "</table>\n",
       "</div>"
      ],
      "text/plain": [
       "  Rank                      School Stud_Fac_Ratio  Grad_Rate  Reten_Rate  \\\n",
       "0    1          Harvard University         7 to 1       0.98        0.98   \n",
       "1    2             Yale University         6 to 1       0.97        0.99   \n",
       "2    3  University of Pennsylvania         6 to 1       0.95        0.98   \n",
       "3    4    Johns Hopkins University        10 to 1       0.94        0.97   \n",
       "4    5          Cornell University         9 to 1       0.93        0.97   \n",
       "\n",
       "   Accept_Rate  Enroll_Rate  Inst_Aid_Rate  Default_Rate  \n",
       "0         0.06         0.04           0.44           NaN  \n",
       "1         0.07         0.05           0.52           NaN  \n",
       "2         0.10         0.07           0.54           NaN  \n",
       "3         0.14         0.05           0.51           NaN  \n",
       "4         0.15         0.08           0.55           NaN  "
      ]
     },
     "execution_count": 59,
     "metadata": {},
     "output_type": "execute_result"
    }
   ],
   "source": [
    "df.head()"
   ]
  },
  {
   "cell_type": "markdown",
   "id": "7f8ee4b2",
   "metadata": {},
   "source": [
    "Now that the rate values are classified as being of type 'float', we can replace any missing values with aggregated numerical values so as to best fit with the type of the columns."
   ]
  },
  {
   "cell_type": "markdown",
   "id": "378aaa9e",
   "metadata": {},
   "source": [
    "## Filling Missing Values"
   ]
  },
  {
   "cell_type": "code",
   "execution_count": 60,
   "id": "89066eb2",
   "metadata": {},
   "outputs": [],
   "source": [
    "#fill the missing Default Rate data with median value\n",
    "#round median values to two decimal places for percentage purposes\n",
    "def fill_na_median(data, inplace=True):\n",
    "    return data.fillna(round(data.median(),2), inplace=inplace)"
   ]
  },
  {
   "cell_type": "code",
   "execution_count": 61,
   "id": "5db80da1",
   "metadata": {},
   "outputs": [],
   "source": [
    "#Default Rate has the most missing values, 291 of them. This count is over half of the total size (number of rows) of the Data Frame. I am going to replace these with the median value for Default Rate, so we can handle any outliers as well."
   ]
  },
  {
   "cell_type": "code",
   "execution_count": 62,
   "id": "2af9eb87",
   "metadata": {},
   "outputs": [
    {
     "name": "stdout",
     "output_type": "stream",
     "text": [
      "Median Default Rate: 0.06\n"
     ]
    }
   ],
   "source": [
    "#median value for Default Rate\n",
    "print('Median Default Rate: ' + str(df['Default_Rate'].median()))"
   ]
  },
  {
   "cell_type": "code",
   "execution_count": 63,
   "id": "212d5634",
   "metadata": {},
   "outputs": [],
   "source": [
    "fill_na_median(df['Default_Rate'])"
   ]
  },
  {
   "cell_type": "code",
   "execution_count": 64,
   "id": "1f2fdefe",
   "metadata": {},
   "outputs": [
    {
     "data": {
      "text/plain": [
       "0      0.06\n",
       "1      0.06\n",
       "2      0.06\n",
       "3      0.06\n",
       "4      0.06\n",
       "       ... \n",
       "566    0.04\n",
       "567    0.06\n",
       "568    0.06\n",
       "569    0.06\n",
       "570    0.06\n",
       "Name: Default_Rate, Length: 571, dtype: float64"
      ]
     },
     "execution_count": 64,
     "metadata": {},
     "output_type": "execute_result"
    }
   ],
   "source": [
    "df['Default_Rate']"
   ]
  },
  {
   "cell_type": "code",
   "execution_count": 65,
   "id": "7c04ba05",
   "metadata": {},
   "outputs": [
    {
     "name": "stdout",
     "output_type": "stream",
     "text": [
      "Median Graduation Rate: 0.66\n",
      "Median Retention Rate: 0.83\n",
      "Median Acceptance Rate: 0.645\n",
      "Median Enrollment Rate: 0.18\n"
     ]
    }
   ],
   "source": [
    "#median values\n",
    "print('Median Graduation Rate: ' + str(df['Grad_Rate'].median())) #0.66\n",
    "print('Median Retention Rate: ' + str(df['Reten_Rate'].median())) #0.83\n",
    "print('Median Acceptance Rate: ' + str(df['Accept_Rate'].median())) #0.65\n",
    "print('Median Enrollment Rate: ' + str(df['Enroll_Rate'].median())) #0.18"
   ]
  },
  {
   "cell_type": "code",
   "execution_count": 66,
   "id": "9be4c0ce",
   "metadata": {},
   "outputs": [],
   "source": [
    "#fill in rest of missing data with median values\n",
    "fill_na_median(df['Grad_Rate'])\n",
    "fill_na_median(df['Reten_Rate'])\n",
    "fill_na_median(df['Accept_Rate'])\n",
    "fill_na_median(df['Enroll_Rate'])"
   ]
  },
  {
   "cell_type": "code",
   "execution_count": 67,
   "id": "00fcfac4",
   "metadata": {},
   "outputs": [
    {
     "data": {
      "text/plain": [
       "Rank              0\n",
       "School            0\n",
       "Stud_Fac_Ratio    0\n",
       "Grad_Rate         0\n",
       "Reten_Rate        0\n",
       "Accept_Rate       0\n",
       "Enroll_Rate       0\n",
       "Inst_Aid_Rate     0\n",
       "Default_Rate      0\n",
       "dtype: int64"
      ]
     },
     "execution_count": 67,
     "metadata": {},
     "output_type": "execute_result"
    }
   ],
   "source": [
    "#checking to make sure we handled all missing data\n",
    "#getting counts of missing values in data frame\n",
    "df.isnull().sum()"
   ]
  },
  {
   "cell_type": "markdown",
   "id": "58878d5e",
   "metadata": {},
   "source": [
    "Number of missing values in each column is now 0! We handled the missing data for the rate columns by replacing any missing data with the median value for the columns. The median will allow us to get a value which accounts for outliers, rather than taking the mean."
   ]
  },
  {
   "cell_type": "markdown",
   "id": "9824b2c2",
   "metadata": {},
   "source": [
    "## Detecting and Filtering Outliers"
   ]
  },
  {
   "cell_type": "code",
   "execution_count": 68,
   "id": "fa2c6aad",
   "metadata": {},
   "outputs": [
    {
     "data": {
      "text/html": [
       "<div>\n",
       "<style scoped>\n",
       "    .dataframe tbody tr th:only-of-type {\n",
       "        vertical-align: middle;\n",
       "    }\n",
       "\n",
       "    .dataframe tbody tr th {\n",
       "        vertical-align: top;\n",
       "    }\n",
       "\n",
       "    .dataframe thead th {\n",
       "        text-align: right;\n",
       "    }\n",
       "</style>\n",
       "<table border=\"1\" class=\"dataframe\">\n",
       "  <thead>\n",
       "    <tr style=\"text-align: right;\">\n",
       "      <th></th>\n",
       "      <th>Grad_Rate</th>\n",
       "      <th>Reten_Rate</th>\n",
       "      <th>Accept_Rate</th>\n",
       "      <th>Enroll_Rate</th>\n",
       "      <th>Inst_Aid_Rate</th>\n",
       "      <th>Default_Rate</th>\n",
       "    </tr>\n",
       "  </thead>\n",
       "  <tbody>\n",
       "    <tr>\n",
       "      <th>count</th>\n",
       "      <td>571.000000</td>\n",
       "      <td>571.000000</td>\n",
       "      <td>571.000000</td>\n",
       "      <td>571.000000</td>\n",
       "      <td>571.000000</td>\n",
       "      <td>571.000000</td>\n",
       "    </tr>\n",
       "    <tr>\n",
       "      <th>mean</th>\n",
       "      <td>0.657653</td>\n",
       "      <td>0.827968</td>\n",
       "      <td>0.628546</td>\n",
       "      <td>0.201156</td>\n",
       "      <td>0.719772</td>\n",
       "      <td>0.060893</td>\n",
       "    </tr>\n",
       "    <tr>\n",
       "      <th>std</th>\n",
       "      <td>0.130232</td>\n",
       "      <td>0.085167</td>\n",
       "      <td>0.172070</td>\n",
       "      <td>0.120338</td>\n",
       "      <td>0.179739</td>\n",
       "      <td>0.021236</td>\n",
       "    </tr>\n",
       "    <tr>\n",
       "      <th>min</th>\n",
       "      <td>0.350000</td>\n",
       "      <td>0.250000</td>\n",
       "      <td>0.060000</td>\n",
       "      <td>0.040000</td>\n",
       "      <td>0.060000</td>\n",
       "      <td>0.010000</td>\n",
       "    </tr>\n",
       "    <tr>\n",
       "      <th>25%</th>\n",
       "      <td>0.560000</td>\n",
       "      <td>0.780000</td>\n",
       "      <td>0.530000</td>\n",
       "      <td>0.120000</td>\n",
       "      <td>0.580000</td>\n",
       "      <td>0.060000</td>\n",
       "    </tr>\n",
       "    <tr>\n",
       "      <th>50%</th>\n",
       "      <td>0.660000</td>\n",
       "      <td>0.830000</td>\n",
       "      <td>0.650000</td>\n",
       "      <td>0.180000</td>\n",
       "      <td>0.740000</td>\n",
       "      <td>0.060000</td>\n",
       "    </tr>\n",
       "    <tr>\n",
       "      <th>75%</th>\n",
       "      <td>0.740000</td>\n",
       "      <td>0.880000</td>\n",
       "      <td>0.750000</td>\n",
       "      <td>0.240000</td>\n",
       "      <td>0.870000</td>\n",
       "      <td>0.060000</td>\n",
       "    </tr>\n",
       "    <tr>\n",
       "      <th>max</th>\n",
       "      <td>1.000000</td>\n",
       "      <td>1.000000</td>\n",
       "      <td>1.000000</td>\n",
       "      <td>1.000000</td>\n",
       "      <td>1.000000</td>\n",
       "      <td>0.200000</td>\n",
       "    </tr>\n",
       "  </tbody>\n",
       "</table>\n",
       "</div>"
      ],
      "text/plain": [
       "        Grad_Rate  Reten_Rate  Accept_Rate  Enroll_Rate  Inst_Aid_Rate  \\\n",
       "count  571.000000  571.000000   571.000000   571.000000     571.000000   \n",
       "mean     0.657653    0.827968     0.628546     0.201156       0.719772   \n",
       "std      0.130232    0.085167     0.172070     0.120338       0.179739   \n",
       "min      0.350000    0.250000     0.060000     0.040000       0.060000   \n",
       "25%      0.560000    0.780000     0.530000     0.120000       0.580000   \n",
       "50%      0.660000    0.830000     0.650000     0.180000       0.740000   \n",
       "75%      0.740000    0.880000     0.750000     0.240000       0.870000   \n",
       "max      1.000000    1.000000     1.000000     1.000000       1.000000   \n",
       "\n",
       "       Default_Rate  \n",
       "count    571.000000  \n",
       "mean       0.060893  \n",
       "std        0.021236  \n",
       "min        0.010000  \n",
       "25%        0.060000  \n",
       "50%        0.060000  \n",
       "75%        0.060000  \n",
       "max        0.200000  "
      ]
     },
     "execution_count": 68,
     "metadata": {},
     "output_type": "execute_result"
    }
   ],
   "source": [
    "#describing the data\n",
    "#gives us an idea of the distribution\n",
    "df.describe()"
   ]
  },
  {
   "cell_type": "markdown",
   "id": "cb586647",
   "metadata": {},
   "source": [
    "## Boxplots of Numerical Fields\n",
    "### Graduation Rate"
   ]
  },
  {
   "cell_type": "code",
   "execution_count": 69,
   "id": "26ae8fdf",
   "metadata": {},
   "outputs": [
    {
     "data": {
      "text/plain": [
       "<AxesSubplot:xlabel='Grad_Rate'>"
      ]
     },
     "execution_count": 69,
     "metadata": {},
     "output_type": "execute_result"
    },
    {
     "data": {
      "image/png": "[encoded data removed]",
      "text/plain": [
       "<Figure size 432x288 with 1 Axes>"
      ]
     },
     "metadata": {
      "needs_background": "light"
     },
     "output_type": "display_data"
    }
   ],
   "source": [
    "#boxplot of Graduation Rate\n",
    "\n",
    "#Graduation Rate\n",
    "sns.boxplot(x=df['Grad_Rate'])"
   ]
  },
  {
   "cell_type": "markdown",
   "id": "b3c8c9cb",
   "metadata": {},
   "source": [
    "The Graduation Rate is relatively normally distributed. The median value (represented by the vertical line) is pretty much in the middle of the box, which represents the interquartile range for the column. I am pleased with the distribution, and there are no apparent outliers that need to be removed.\n",
    "\n",
    "## Retention Rate"
   ]
  },
  {
   "cell_type": "code",
   "execution_count": 70,
   "id": "aeb40fb0",
   "metadata": {},
   "outputs": [
    {
     "data": {
      "text/plain": [
       "<AxesSubplot:xlabel='Reten_Rate'>"
      ]
     },
     "execution_count": 70,
     "metadata": {},
     "output_type": "execute_result"
    },
    {
     "data": {
      "image/png": "[encoded data removed]",
      "text/plain": [
       "<Figure size 432x288 with 1 Axes>"
      ]
     },
     "metadata": {
      "needs_background": "light"
     },
     "output_type": "display_data"
    }
   ],
   "source": [
    "#boxplot of Retention Rate\n",
    "\n",
    "#Retention Rate\n",
    "sns.boxplot(x=df['Reten_Rate'])"
   ]
  },
  {
   "cell_type": "markdown",
   "id": "c62c3776",
   "metadata": {},
   "source": [
    "The outlier values for Retention Rate fall below ~0.65 or 65%. The minimum is 0.25 or a 25% retention rate, which I think is low for an university but it makes sense from the perspective of university.\n",
    "\n",
    "This low retention rate can show how there are universities which experience difficulty in keeping students after freshman year, since I'm sure that is a blocker that many schools experience.\n",
    "\n",
    "In terms of giving us information in regards to how one's university influences their post-grad salary, I think that knowing if the university they attended experiences trouble with retaining students, then it could give more influence to the student for graduating and still staying at the school."
   ]
  },
  {
   "cell_type": "markdown",
   "id": "6fcd4178",
   "metadata": {},
   "source": [
    "## Acceptance Rate"
   ]
  },
  {
   "cell_type": "code",
   "execution_count": 71,
   "id": "0125a67e",
   "metadata": {},
   "outputs": [
    {
     "data": {
      "text/plain": [
       "<AxesSubplot:xlabel='Accept_Rate'>"
      ]
     },
     "execution_count": 71,
     "metadata": {},
     "output_type": "execute_result"
    },
    {
     "data": {
      "image/png": "[encoded data removed]",
      "text/plain": [
       "<Figure size 432x288 with 1 Axes>"
      ]
     },
     "metadata": {
      "needs_background": "light"
     },
     "output_type": "display_data"
    }
   ],
   "source": [
    "#boxplot of Acceptance Rate\n",
    "\n",
    "#Acceptance Rate\n",
    "sns.boxplot(x=df['Accept_Rate'])"
   ]
  },
  {
   "cell_type": "markdown",
   "id": "3b676ddb",
   "metadata": {},
   "source": [
    "There are acceptance rate outlier values, which fall below about 0.2 or 20% acceptance rate.\n",
    "\n",
    "Values falling below this are not surprising as many Ivy League schools have a low acceptance rate, since they are prestigious and more difficult to attend/get into.\n",
    "\n",
    "Therefore, I will not be removing these outliers that fall below ~0.2 as they give representation to the schools that are more difficult to get accepted into given their prestige."
   ]
  },
  {
   "cell_type": "markdown",
   "id": "94478291",
   "metadata": {},
   "source": [
    "## Enrollment Rate\n",
    "### Removing Outliers"
   ]
  },
  {
   "cell_type": "code",
   "execution_count": 72,
   "id": "e26eb83b",
   "metadata": {},
   "outputs": [
    {
     "data": {
      "text/plain": [
       "<AxesSubplot:xlabel='Enroll_Rate'>"
      ]
     },
     "execution_count": 72,
     "metadata": {},
     "output_type": "execute_result"
    },
    {
     "data": {
      "image/png": "[encoded data removed]",
      "text/plain": [
       "<Figure size 432x288 with 1 Axes>"
      ]
     },
     "metadata": {
      "needs_background": "light"
     },
     "output_type": "display_data"
    }
   ],
   "source": [
    "#boxplot of Enrollment Rate\n",
    "\n",
    "#Enrollment Rate\n",
    "sns.boxplot(x=df['Enroll_Rate'])"
   ]
  },
  {
   "cell_type": "markdown",
   "id": "14d3d01c",
   "metadata": {},
   "source": [
    "Enrollment rate represents the percentage of 18-to-24-year-olds enrolled as undergraduate or graduate students in 2- or 4- year institutions.\n",
    "\n",
    "The outlier values for this field come above ~0.4 or 40% enrollment rate. There are universities with a higher amount of students enrolled in their courses/programs, which is good for that university!\n",
    "\n",
    "However, for the outlier value at basically 1.0 or 100%, that is difficult for me to fathom that an university has 100% of its original students enrolled for school attendance. It would be very impressive of them, but I am viewing this university with this enrollment rate as an outlier. I am going to remove it."
   ]
  },
  {
   "cell_type": "code",
   "execution_count": 73,
   "id": "c8c3cb62",
   "metadata": {},
   "outputs": [
    {
     "data": {
      "text/html": [
       "<div>\n",
       "<style scoped>\n",
       "    .dataframe tbody tr th:only-of-type {\n",
       "        vertical-align: middle;\n",
       "    }\n",
       "\n",
       "    .dataframe tbody tr th {\n",
       "        vertical-align: top;\n",
       "    }\n",
       "\n",
       "    .dataframe thead th {\n",
       "        text-align: right;\n",
       "    }\n",
       "</style>\n",
       "<table border=\"1\" class=\"dataframe\">\n",
       "  <thead>\n",
       "    <tr style=\"text-align: right;\">\n",
       "      <th></th>\n",
       "      <th>Rank</th>\n",
       "      <th>School</th>\n",
       "      <th>Stud_Fac_Ratio</th>\n",
       "      <th>Grad_Rate</th>\n",
       "      <th>Reten_Rate</th>\n",
       "      <th>Accept_Rate</th>\n",
       "      <th>Enroll_Rate</th>\n",
       "      <th>Inst_Aid_Rate</th>\n",
       "      <th>Default_Rate</th>\n",
       "    </tr>\n",
       "  </thead>\n",
       "  <tbody>\n",
       "    <tr>\n",
       "      <th>539</th>\n",
       "      <td>540</td>\n",
       "      <td>Luther Rice University &amp; Seminary</td>\n",
       "      <td>23 to 1</td>\n",
       "      <td>1.00</td>\n",
       "      <td>1.0</td>\n",
       "      <td>1.0</td>\n",
       "      <td>1.0</td>\n",
       "      <td>0.65</td>\n",
       "      <td>0.06</td>\n",
       "    </tr>\n",
       "    <tr>\n",
       "      <th>541</th>\n",
       "      <td>542</td>\n",
       "      <td>Midwives College of Utah</td>\n",
       "      <td>5 to 1</td>\n",
       "      <td>0.66</td>\n",
       "      <td>1.0</td>\n",
       "      <td>1.0</td>\n",
       "      <td>1.0</td>\n",
       "      <td>0.30</td>\n",
       "      <td>0.06</td>\n",
       "    </tr>\n",
       "  </tbody>\n",
       "</table>\n",
       "</div>"
      ],
      "text/plain": [
       "    Rank                             School Stud_Fac_Ratio  Grad_Rate  \\\n",
       "539  540  Luther Rice University & Seminary        23 to 1       1.00   \n",
       "541  542           Midwives College of Utah         5 to 1       0.66   \n",
       "\n",
       "     Reten_Rate  Accept_Rate  Enroll_Rate  Inst_Aid_Rate  Default_Rate  \n",
       "539         1.0          1.0          1.0           0.65          0.06  \n",
       "541         1.0          1.0          1.0           0.30          0.06  "
      ]
     },
     "execution_count": 73,
     "metadata": {},
     "output_type": "execute_result"
    }
   ],
   "source": [
    "#finding row with enrollment rate greater than 0.8\n",
    "df[df.Enroll_Rate > 0.8]"
   ]
  },
  {
   "cell_type": "code",
   "execution_count": 74,
   "id": "5cd14bdd",
   "metadata": {},
   "outputs": [],
   "source": [
    "#removing these two rows with 1.0 Enroll_Rate\n",
    "df = df[df.Enroll_Rate <= 0.8]"
   ]
  },
  {
   "cell_type": "code",
   "execution_count": 75,
   "id": "9f2bd2ec",
   "metadata": {},
   "outputs": [
    {
     "name": "stdout",
     "output_type": "stream",
     "text": [
      "(569, 9)\n",
      "New shape: 569 rows and 9 columns\n"
     ]
    }
   ],
   "source": [
    "print(df.shape)\n",
    "print(\"New shape: 569 rows and 9 columns\")"
   ]
  },
  {
   "cell_type": "code",
   "execution_count": 76,
   "id": "ddf0bf69",
   "metadata": {},
   "outputs": [],
   "source": [
    "## Institutional Aid Rate"
   ]
  },
  {
   "cell_type": "code",
   "execution_count": 77,
   "id": "b92b9044",
   "metadata": {},
   "outputs": [
    {
     "data": {
      "text/plain": [
       "<AxesSubplot:xlabel='Inst_Aid_Rate'>"
      ]
     },
     "execution_count": 77,
     "metadata": {},
     "output_type": "execute_result"
    },
    {
     "data": {
      "image/png": "[encoded data removed]",
      "text/plain": [
       "<Figure size 432x288 with 1 Axes>"
      ]
     },
     "metadata": {
      "needs_background": "light"
     },
     "output_type": "display_data"
    }
   ],
   "source": [
    "#boxplot of Institutional Aid Rate\n",
    "\n",
    "#Institutional Aid Rate\n",
    "sns.boxplot(x=df['Inst_Aid_Rate'])"
   ]
  },
  {
   "cell_type": "markdown",
   "id": "0c4599b7",
   "metadata": {},
   "source": [
    " Institutional Aid Rate: what percentage of college students get financial aid?\n",
    "\n",
    "There is a designated outlier in this distribution that is less than about 0.15 or 15%. It looks like it is almost at 0.0. Let's look into the rows."
   ]
  },
  {
   "cell_type": "markdown",
   "id": "c2d3f526",
   "metadata": {},
   "source": [
    "The designated row actually has an Institutional Aid Rate of 6%, which means that 6% of their college students receive financial aid. This percentage is small, but it could designate that the students don't need financial aid or the university is not equipped/prepared to give it out.\n",
    "\n",
    "In terms of our business problem of identifying salaries based on university attendance, this could designate that the students from this university are either not in need or they are using other ways to receive aid while in school.\n",
    "\n",
    "I am going to keep this row in; its other values are representative of data that we want to look into as well."
   ]
  },
  {
   "cell_type": "markdown",
   "id": "7dbabebc",
   "metadata": {},
   "source": [
    "## Default Rate"
   ]
  },
  {
   "cell_type": "code",
   "execution_count": 78,
   "id": "ac277bc1",
   "metadata": {},
   "outputs": [
    {
     "data": {
      "text/plain": [
       "<AxesSubplot:xlabel='Default_Rate'>"
      ]
     },
     "execution_count": 78,
     "metadata": {},
     "output_type": "execute_result"
    },
    {
     "data": {
      "image/png": "[encoded data removed]",
      "text/plain": [
       "<Figure size 432x288 with 1 Axes>"
      ]
     },
     "metadata": {
      "needs_background": "light"
     },
     "output_type": "display_data"
    }
   ],
   "source": [
    "#boxplot of Default Rate\n",
    "\n",
    "#Default Rate\n",
    "sns.boxplot(x=df['Default_Rate'])"
   ]
  },
  {
   "cell_type": "markdown",
   "id": "e2837b41",
   "metadata": {},
   "source": [
    "Default rate is the percentage of all outstanding loans that a lender has written off as unpaid after a prolonged period of missed payments. In terms of how this relates to an univeristy, it would present the percentage of graduates that default on their student loans in the first 12 months of repayment.\n",
    "\n",
    "I think this rate value is definitely indicative of how students are doing post-graduation in terms of their incomes/finances, because paying off loans is a huge financial responsibility for students and young adults.\n",
    "\n",
    "Since the majority of the values in this Default Rate column were replaced with the median value of 0.06, the distribution is not very well distributed and shows any values outside of the median as outliers.\n",
    "\n",
    "In order to keep variety and distribution for the column, I will not remove any of the outliers as we need to represent the values that do not fall into the median bucket that was used for replacement."
   ]
  },
  {
   "cell_type": "code",
   "execution_count": 79,
   "id": "061c7b7e",
   "metadata": {},
   "outputs": [
    {
     "data": {
      "text/html": [
       "<div>\n",
       "<style scoped>\n",
       "    .dataframe tbody tr th:only-of-type {\n",
       "        vertical-align: middle;\n",
       "    }\n",
       "\n",
       "    .dataframe tbody tr th {\n",
       "        vertical-align: top;\n",
       "    }\n",
       "\n",
       "    .dataframe thead th {\n",
       "        text-align: right;\n",
       "    }\n",
       "</style>\n",
       "<table border=\"1\" class=\"dataframe\">\n",
       "  <thead>\n",
       "    <tr style=\"text-align: right;\">\n",
       "      <th></th>\n",
       "      <th>Rank</th>\n",
       "      <th>School</th>\n",
       "      <th>Stud_Fac_Ratio</th>\n",
       "      <th>Grad_Rate</th>\n",
       "      <th>Reten_Rate</th>\n",
       "      <th>Accept_Rate</th>\n",
       "      <th>Enroll_Rate</th>\n",
       "      <th>Inst_Aid_Rate</th>\n",
       "      <th>Default_Rate</th>\n",
       "    </tr>\n",
       "  </thead>\n",
       "  <tbody>\n",
       "    <tr>\n",
       "      <th>0</th>\n",
       "      <td>1</td>\n",
       "      <td>Harvard University</td>\n",
       "      <td>7 to 1</td>\n",
       "      <td>0.98</td>\n",
       "      <td>0.98</td>\n",
       "      <td>0.06</td>\n",
       "      <td>0.04</td>\n",
       "      <td>0.44</td>\n",
       "      <td>0.06</td>\n",
       "    </tr>\n",
       "    <tr>\n",
       "      <th>1</th>\n",
       "      <td>2</td>\n",
       "      <td>Yale University</td>\n",
       "      <td>6 to 1</td>\n",
       "      <td>0.97</td>\n",
       "      <td>0.99</td>\n",
       "      <td>0.07</td>\n",
       "      <td>0.05</td>\n",
       "      <td>0.52</td>\n",
       "      <td>0.06</td>\n",
       "    </tr>\n",
       "    <tr>\n",
       "      <th>2</th>\n",
       "      <td>3</td>\n",
       "      <td>University of Pennsylvania</td>\n",
       "      <td>6 to 1</td>\n",
       "      <td>0.95</td>\n",
       "      <td>0.98</td>\n",
       "      <td>0.10</td>\n",
       "      <td>0.07</td>\n",
       "      <td>0.54</td>\n",
       "      <td>0.06</td>\n",
       "    </tr>\n",
       "    <tr>\n",
       "      <th>3</th>\n",
       "      <td>4</td>\n",
       "      <td>Johns Hopkins University</td>\n",
       "      <td>10 to 1</td>\n",
       "      <td>0.94</td>\n",
       "      <td>0.97</td>\n",
       "      <td>0.14</td>\n",
       "      <td>0.05</td>\n",
       "      <td>0.51</td>\n",
       "      <td>0.06</td>\n",
       "    </tr>\n",
       "    <tr>\n",
       "      <th>4</th>\n",
       "      <td>5</td>\n",
       "      <td>Cornell University</td>\n",
       "      <td>9 to 1</td>\n",
       "      <td>0.93</td>\n",
       "      <td>0.97</td>\n",
       "      <td>0.15</td>\n",
       "      <td>0.08</td>\n",
       "      <td>0.55</td>\n",
       "      <td>0.06</td>\n",
       "    </tr>\n",
       "  </tbody>\n",
       "</table>\n",
       "</div>"
      ],
      "text/plain": [
       "  Rank                      School Stud_Fac_Ratio  Grad_Rate  Reten_Rate  \\\n",
       "0    1          Harvard University         7 to 1       0.98        0.98   \n",
       "1    2             Yale University         6 to 1       0.97        0.99   \n",
       "2    3  University of Pennsylvania         6 to 1       0.95        0.98   \n",
       "3    4    Johns Hopkins University        10 to 1       0.94        0.97   \n",
       "4    5          Cornell University         9 to 1       0.93        0.97   \n",
       "\n",
       "   Accept_Rate  Enroll_Rate  Inst_Aid_Rate  Default_Rate  \n",
       "0         0.06         0.04           0.44          0.06  \n",
       "1         0.07         0.05           0.52          0.06  \n",
       "2         0.10         0.07           0.54          0.06  \n",
       "3         0.14         0.05           0.51          0.06  \n",
       "4         0.15         0.08           0.55          0.06  "
      ]
     },
     "execution_count": 79,
     "metadata": {},
     "output_type": "execute_result"
    }
   ],
   "source": [
    "df.head()"
   ]
  },
  {
   "cell_type": "markdown",
   "id": "cda74693",
   "metadata": {},
   "source": [
    "## Converting Categorical Data to Numerical Data\n",
    "\n",
    "The Student to Faculty Ratio column is marked as being of object type since it represents the ratio values in string form, i.e. \"7 to 1\".\n",
    "\n",
    "I am going to create a new column which represents the ratios in numerical form by dividing the first number in the ratio by the second number."
   ]
  },
  {
   "cell_type": "code",
   "execution_count": 80,
   "id": "60dd9afe",
   "metadata": {},
   "outputs": [],
   "source": [
    "#function to retreieve the numbers in the ratio field from around \"to\"\n",
    "#divides the two numbers that come from the split by eachother\n",
    "#returns numerical ratio\n",
    "def convertRatio(x):\n",
    "    a,b = x.split('to')\n",
    "    c = int(a)/int(b)\n",
    "    return c"
   ]
  },
  {
   "cell_type": "code",
   "execution_count": 81,
   "id": "3c94422e",
   "metadata": {},
   "outputs": [],
   "source": [
    "#create new column in DataFrame --> Student:Faculty Ratio as a number\n",
    "#applies the above function on the object column from the original df\n",
    "df['Stud_Fac_Ratio_Num'] = df['Stud_Fac_Ratio'].apply(convertRatio)"
   ]
  },
  {
   "cell_type": "code",
   "execution_count": 82,
   "id": "f6af6643",
   "metadata": {},
   "outputs": [
    {
     "data": {
      "text/plain": [
       "0       7.0\n",
       "1       6.0\n",
       "2       6.0\n",
       "3      10.0\n",
       "4       9.0\n",
       "       ... \n",
       "566    13.0\n",
       "567    16.0\n",
       "568    16.0\n",
       "569     5.0\n",
       "570    25.0\n",
       "Name: Stud_Fac_Ratio_Num, Length: 569, dtype: float64"
      ]
     },
     "execution_count": 82,
     "metadata": {},
     "output_type": "execute_result"
    }
   ],
   "source": [
    "#new ratio number column\n",
    "df['Stud_Fac_Ratio_Num']"
   ]
  },
  {
   "cell_type": "code",
   "execution_count": 83,
   "id": "87ae18d1",
   "metadata": {},
   "outputs": [
    {
     "data": {
      "text/html": [
       "<div>\n",
       "<style scoped>\n",
       "    .dataframe tbody tr th:only-of-type {\n",
       "        vertical-align: middle;\n",
       "    }\n",
       "\n",
       "    .dataframe tbody tr th {\n",
       "        vertical-align: top;\n",
       "    }\n",
       "\n",
       "    .dataframe thead th {\n",
       "        text-align: right;\n",
       "    }\n",
       "</style>\n",
       "<table border=\"1\" class=\"dataframe\">\n",
       "  <thead>\n",
       "    <tr style=\"text-align: right;\">\n",
       "      <th></th>\n",
       "      <th>Rank</th>\n",
       "      <th>School</th>\n",
       "      <th>Stud_Fac_Ratio</th>\n",
       "      <th>Grad_Rate</th>\n",
       "      <th>Reten_Rate</th>\n",
       "      <th>Accept_Rate</th>\n",
       "      <th>Enroll_Rate</th>\n",
       "      <th>Inst_Aid_Rate</th>\n",
       "      <th>Default_Rate</th>\n",
       "      <th>Stud_Fac_Ratio_Num</th>\n",
       "    </tr>\n",
       "  </thead>\n",
       "  <tbody>\n",
       "    <tr>\n",
       "      <th>0</th>\n",
       "      <td>1</td>\n",
       "      <td>Harvard University</td>\n",
       "      <td>7 to 1</td>\n",
       "      <td>0.98</td>\n",
       "      <td>0.98</td>\n",
       "      <td>0.06</td>\n",
       "      <td>0.04</td>\n",
       "      <td>0.44</td>\n",
       "      <td>0.06</td>\n",
       "      <td>7.0</td>\n",
       "    </tr>\n",
       "    <tr>\n",
       "      <th>1</th>\n",
       "      <td>2</td>\n",
       "      <td>Yale University</td>\n",
       "      <td>6 to 1</td>\n",
       "      <td>0.97</td>\n",
       "      <td>0.99</td>\n",
       "      <td>0.07</td>\n",
       "      <td>0.05</td>\n",
       "      <td>0.52</td>\n",
       "      <td>0.06</td>\n",
       "      <td>6.0</td>\n",
       "    </tr>\n",
       "    <tr>\n",
       "      <th>2</th>\n",
       "      <td>3</td>\n",
       "      <td>University of Pennsylvania</td>\n",
       "      <td>6 to 1</td>\n",
       "      <td>0.95</td>\n",
       "      <td>0.98</td>\n",
       "      <td>0.10</td>\n",
       "      <td>0.07</td>\n",
       "      <td>0.54</td>\n",
       "      <td>0.06</td>\n",
       "      <td>6.0</td>\n",
       "    </tr>\n",
       "    <tr>\n",
       "      <th>3</th>\n",
       "      <td>4</td>\n",
       "      <td>Johns Hopkins University</td>\n",
       "      <td>10 to 1</td>\n",
       "      <td>0.94</td>\n",
       "      <td>0.97</td>\n",
       "      <td>0.14</td>\n",
       "      <td>0.05</td>\n",
       "      <td>0.51</td>\n",
       "      <td>0.06</td>\n",
       "      <td>10.0</td>\n",
       "    </tr>\n",
       "    <tr>\n",
       "      <th>4</th>\n",
       "      <td>5</td>\n",
       "      <td>Cornell University</td>\n",
       "      <td>9 to 1</td>\n",
       "      <td>0.93</td>\n",
       "      <td>0.97</td>\n",
       "      <td>0.15</td>\n",
       "      <td>0.08</td>\n",
       "      <td>0.55</td>\n",
       "      <td>0.06</td>\n",
       "      <td>9.0</td>\n",
       "    </tr>\n",
       "  </tbody>\n",
       "</table>\n",
       "</div>"
      ],
      "text/plain": [
       "  Rank                      School Stud_Fac_Ratio  Grad_Rate  Reten_Rate  \\\n",
       "0    1          Harvard University         7 to 1       0.98        0.98   \n",
       "1    2             Yale University         6 to 1       0.97        0.99   \n",
       "2    3  University of Pennsylvania         6 to 1       0.95        0.98   \n",
       "3    4    Johns Hopkins University        10 to 1       0.94        0.97   \n",
       "4    5          Cornell University         9 to 1       0.93        0.97   \n",
       "\n",
       "   Accept_Rate  Enroll_Rate  Inst_Aid_Rate  Default_Rate  Stud_Fac_Ratio_Num  \n",
       "0         0.06         0.04           0.44          0.06                 7.0  \n",
       "1         0.07         0.05           0.52          0.06                 6.0  \n",
       "2         0.10         0.07           0.54          0.06                 6.0  \n",
       "3         0.14         0.05           0.51          0.06                10.0  \n",
       "4         0.15         0.08           0.55          0.06                 9.0  "
      ]
     },
     "execution_count": 83,
     "metadata": {},
     "output_type": "execute_result"
    }
   ],
   "source": [
    "#view first 5 rows in data frame with new column\n",
    "df.head()"
   ]
  },
  {
   "cell_type": "markdown",
   "id": "d6e1153a",
   "metadata": {},
   "source": [
    "## Putting Numerical Ratio Column next to Categorical Ratio Column"
   ]
  },
  {
   "cell_type": "code",
   "execution_count": 84,
   "id": "c6198bf0",
   "metadata": {},
   "outputs": [],
   "source": [
    "df = df[['Rank','School','Stud_Fac_Ratio','Stud_Fac_Ratio_Num','Grad_Rate','Reten_Rate','Accept_Rate','Enroll_Rate','Inst_Aid_Rate','Default_Rate']]"
   ]
  },
  {
   "cell_type": "code",
   "execution_count": 85,
   "id": "ddabfaf7",
   "metadata": {},
   "outputs": [
    {
     "data": {
      "text/html": [
       "<div>\n",
       "<style scoped>\n",
       "    .dataframe tbody tr th:only-of-type {\n",
       "        vertical-align: middle;\n",
       "    }\n",
       "\n",
       "    .dataframe tbody tr th {\n",
       "        vertical-align: top;\n",
       "    }\n",
       "\n",
       "    .dataframe thead th {\n",
       "        text-align: right;\n",
       "    }\n",
       "</style>\n",
       "<table border=\"1\" class=\"dataframe\">\n",
       "  <thead>\n",
       "    <tr style=\"text-align: right;\">\n",
       "      <th></th>\n",
       "      <th>Rank</th>\n",
       "      <th>School</th>\n",
       "      <th>Stud_Fac_Ratio</th>\n",
       "      <th>Stud_Fac_Ratio_Num</th>\n",
       "      <th>Grad_Rate</th>\n",
       "      <th>Reten_Rate</th>\n",
       "      <th>Accept_Rate</th>\n",
       "      <th>Enroll_Rate</th>\n",
       "      <th>Inst_Aid_Rate</th>\n",
       "      <th>Default_Rate</th>\n",
       "    </tr>\n",
       "  </thead>\n",
       "  <tbody>\n",
       "    <tr>\n",
       "      <th>0</th>\n",
       "      <td>1</td>\n",
       "      <td>Harvard University</td>\n",
       "      <td>7 to 1</td>\n",
       "      <td>7.0</td>\n",
       "      <td>0.98</td>\n",
       "      <td>0.98</td>\n",
       "      <td>0.06</td>\n",
       "      <td>0.04</td>\n",
       "      <td>0.44</td>\n",
       "      <td>0.06</td>\n",
       "    </tr>\n",
       "    <tr>\n",
       "      <th>1</th>\n",
       "      <td>2</td>\n",
       "      <td>Yale University</td>\n",
       "      <td>6 to 1</td>\n",
       "      <td>6.0</td>\n",
       "      <td>0.97</td>\n",
       "      <td>0.99</td>\n",
       "      <td>0.07</td>\n",
       "      <td>0.05</td>\n",
       "      <td>0.52</td>\n",
       "      <td>0.06</td>\n",
       "    </tr>\n",
       "    <tr>\n",
       "      <th>2</th>\n",
       "      <td>3</td>\n",
       "      <td>University of Pennsylvania</td>\n",
       "      <td>6 to 1</td>\n",
       "      <td>6.0</td>\n",
       "      <td>0.95</td>\n",
       "      <td>0.98</td>\n",
       "      <td>0.10</td>\n",
       "      <td>0.07</td>\n",
       "      <td>0.54</td>\n",
       "      <td>0.06</td>\n",
       "    </tr>\n",
       "    <tr>\n",
       "      <th>3</th>\n",
       "      <td>4</td>\n",
       "      <td>Johns Hopkins University</td>\n",
       "      <td>10 to 1</td>\n",
       "      <td>10.0</td>\n",
       "      <td>0.94</td>\n",
       "      <td>0.97</td>\n",
       "      <td>0.14</td>\n",
       "      <td>0.05</td>\n",
       "      <td>0.51</td>\n",
       "      <td>0.06</td>\n",
       "    </tr>\n",
       "    <tr>\n",
       "      <th>4</th>\n",
       "      <td>5</td>\n",
       "      <td>Cornell University</td>\n",
       "      <td>9 to 1</td>\n",
       "      <td>9.0</td>\n",
       "      <td>0.93</td>\n",
       "      <td>0.97</td>\n",
       "      <td>0.15</td>\n",
       "      <td>0.08</td>\n",
       "      <td>0.55</td>\n",
       "      <td>0.06</td>\n",
       "    </tr>\n",
       "  </tbody>\n",
       "</table>\n",
       "</div>"
      ],
      "text/plain": [
       "  Rank                      School Stud_Fac_Ratio  Stud_Fac_Ratio_Num  \\\n",
       "0    1          Harvard University         7 to 1                 7.0   \n",
       "1    2             Yale University         6 to 1                 6.0   \n",
       "2    3  University of Pennsylvania         6 to 1                 6.0   \n",
       "3    4    Johns Hopkins University        10 to 1                10.0   \n",
       "4    5          Cornell University         9 to 1                 9.0   \n",
       "\n",
       "   Grad_Rate  Reten_Rate  Accept_Rate  Enroll_Rate  Inst_Aid_Rate  \\\n",
       "0       0.98        0.98         0.06         0.04           0.44   \n",
       "1       0.97        0.99         0.07         0.05           0.52   \n",
       "2       0.95        0.98         0.10         0.07           0.54   \n",
       "3       0.94        0.97         0.14         0.05           0.51   \n",
       "4       0.93        0.97         0.15         0.08           0.55   \n",
       "\n",
       "   Default_Rate  \n",
       "0          0.06  \n",
       "1          0.06  \n",
       "2          0.06  \n",
       "3          0.06  \n",
       "4          0.06  "
      ]
     },
     "execution_count": 85,
     "metadata": {},
     "output_type": "execute_result"
    }
   ],
   "source": [
    "#rearrangement of columns --> view\n",
    "df.head()"
   ]
  },
  {
   "cell_type": "markdown",
   "id": "a8817245",
   "metadata": {},
   "source": [
    "## Checking for Outliers in Numerical Ratio field"
   ]
  },
  {
   "cell_type": "code",
   "execution_count": 86,
   "id": "995e724b",
   "metadata": {},
   "outputs": [
    {
     "data": {
      "text/plain": [
       "<AxesSubplot:xlabel='Stud_Fac_Ratio_Num'>"
      ]
     },
     "execution_count": 86,
     "metadata": {},
     "output_type": "execute_result"
    },
    {
     "data": {
      "image/png": "[encoded data removed]",
      "text/plain": [
       "<Figure size 432x288 with 1 Axes>"
      ]
     },
     "metadata": {
      "needs_background": "light"
     },
     "output_type": "display_data"
    }
   ],
   "source": [
    "#boxplot of Student:Faculty Ratio as a number\n",
    "\n",
    "#Stud_Fac_Ratio_Num\n",
    "sns.boxplot(x=df['Stud_Fac_Ratio_Num'])"
   ]
  },
  {
   "cell_type": "code",
   "execution_count": 87,
   "id": "4ba59fd4",
   "metadata": {},
   "outputs": [
    {
     "data": {
      "text/plain": [
       "count    569.000000\n",
       "mean      14.270650\n",
       "std        4.297543\n",
       "min        3.000000\n",
       "25%       11.000000\n",
       "50%       14.000000\n",
       "75%       17.000000\n",
       "max       35.000000\n",
       "Name: Stud_Fac_Ratio_Num, dtype: float64"
      ]
     },
     "execution_count": 87,
     "metadata": {},
     "output_type": "execute_result"
    }
   ],
   "source": [
    "df['Stud_Fac_Ratio_Num'].describe()"
   ]
  },
  {
   "cell_type": "markdown",
   "id": "e8dbd058",
   "metadata": {},
   "source": [
    "The distribution of values for student to faculty ratio is relatively normally distrubted, with the median value basically being in the middle of the interquartile range. The majority of values fall between 3.0 and 25.0 (3 students to 1 teacher, 25 students to 1 teacher).\n",
    "\n",
    "There are outlier values shown that come above 25. However, it is not unlikely for some universities to have larger class sizes, especially depending on the overall class population, type of class, number of professors, etc.\n",
    "\n",
    "I will not be removing these marked outliers from the boxplot."
   ]
  },
  {
   "cell_type": "markdown",
   "id": "3e108e53",
   "metadata": {},
   "source": [
    "## Dropping Unneeded Columns\n",
    "Since we don't need the categorical and the numerical columns for representing student to faculty ratio, I am going to drop the categorical one from the copied dataset so we can have all numerical columns, which is helpful for modeling!"
   ]
  },
  {
   "cell_type": "code",
   "execution_count": 88,
   "id": "200bf3eb",
   "metadata": {},
   "outputs": [],
   "source": [
    "#taking a copy of the dataframe with the certain columns removed\n",
    "df_dropped = df.drop(['Stud_Fac_Ratio'],axis=1)"
   ]
  },
  {
   "cell_type": "code",
   "execution_count": 89,
   "id": "68309735",
   "metadata": {},
   "outputs": [
    {
     "name": "stdout",
     "output_type": "stream",
     "text": [
      "(569, 9)\n",
      "569 rows and 9 columns. Same as original shape!\n"
     ]
    }
   ],
   "source": [
    "#print shape of the new dataframe --> should be same as original since we are essentially replacing a column\n",
    "print(df_dropped.shape)\n",
    "print(\"569 rows and 9 columns. Same as original shape!\")"
   ]
  },
  {
   "cell_type": "code",
   "execution_count": 90,
   "id": "c5fe0fb7",
   "metadata": {},
   "outputs": [
    {
     "name": "stdout",
     "output_type": "stream",
     "text": [
      "  Rank                      School  Stud_Fac_Ratio_Num  Grad_Rate  Reten_Rate  \\\n",
      "0    1          Harvard University                 7.0       0.98        0.98   \n",
      "1    2             Yale University                 6.0       0.97        0.99   \n",
      "2    3  University of Pennsylvania                 6.0       0.95        0.98   \n",
      "3    4    Johns Hopkins University                10.0       0.94        0.97   \n",
      "4    5          Cornell University                 9.0       0.93        0.97   \n",
      "\n",
      "   Accept_Rate  Enroll_Rate  Inst_Aid_Rate  Default_Rate  \n",
      "0         0.06         0.04           0.44          0.06  \n",
      "1         0.07         0.05           0.52          0.06  \n",
      "2         0.10         0.07           0.54          0.06  \n",
      "3         0.14         0.05           0.51          0.06  \n",
      "4         0.15         0.08           0.55          0.06  \n"
     ]
    }
   ],
   "source": [
    "print(df_dropped.head())"
   ]
  },
  {
   "cell_type": "markdown",
   "id": "559dd19e",
   "metadata": {},
   "source": [
    "## Ethical Implication of data from the Website data \n",
    "\n",
    "Accountability of the College rankings is not considered as part of the data collection via the Website data sources used in this dataset.\n",
    "\n"
   ]
  },
  {
   "cell_type": "markdown",
   "id": "cfb2ae95",
   "metadata": {},
   "source": [
    "## Milestone 4"
   ]
  },
  {
   "cell_type": "markdown",
   "id": "4dbecea2",
   "metadata": {},
   "source": [
    "### Step #1: Connecting to an API/Pulling in the Data and Cleaning/Formatting"
   ]
  },
  {
   "cell_type": "code",
   "execution_count": 91,
   "id": "e0ac431d",
   "metadata": {},
   "outputs": [],
   "source": [
    "#import required libaries\n",
    "import urllib.parse\n",
    "import urllib.error\n",
    "import json\n",
    "import os\n",
    "import certifi\n",
    "import ssl\n",
    "from urllib.request import Request, urlopen\n",
    "import requests"
   ]
  },
  {
   "cell_type": "markdown",
   "id": "567fdf25",
   "metadata": {},
   "source": [
    "Load the secret API key from a JSON file stored in the same folder in a variable, by using json.loads"
   ]
  },
  {
   "cell_type": "code",
   "execution_count": 92,
   "id": "fd3df1e6",
   "metadata": {},
   "outputs": [],
   "source": [
    "#converting text file to JSON\n",
    "filename = 'datasets/APIkeys.txt'\n",
    "#dictionary where the lines from text will be stored\n",
    "dict1 = {}\n",
    "#creating dictionary\n",
    "with open(filename) as fh:\n",
    "    for line in fh:\n",
    "        #read each line and trim of extra spaces, only gets words\n",
    "        command, description = line.strip().split(None,1)\n",
    "        dict1[command]=description.strip()\n",
    "        \n",
    "#create JSON file\n",
    "out_file = open(\"datasets/APIkeys_college.json\",\"w\")\n",
    "json.dump(dict1,out_file,indent=4,sort_keys=False)\n",
    "out_file.close()"
   ]
  },
  {
   "cell_type": "markdown",
   "id": "8ecbe72a",
   "metadata": {},
   "source": [
    "Open the APIkeys.json file"
   ]
  },
  {
   "cell_type": "code",
   "execution_count": 93,
   "id": "ebb834a2",
   "metadata": {},
   "outputs": [],
   "source": [
    "#open the APIkeys.json file which holds api key\n",
    "with open('datasets/APIkeys_college.json') as f:\n",
    "    keys = json.load(f)\n",
    "    #retrieve API key to feed into URL\n",
    "    schoolkey = keys['Collegeapi']"
   ]
  },
  {
   "cell_type": "code",
   "execution_count": 94,
   "id": "132f9deb",
   "metadata": {},
   "outputs": [],
   "source": [
    "apikey = schoolkey"
   ]
  },
  {
   "cell_type": "markdown",
   "id": "eeaa2708",
   "metadata": {},
   "source": [
    "Putting together URL with API Key"
   ]
  },
  {
   "cell_type": "code",
   "execution_count": 95,
   "id": "c6cd10e0",
   "metadata": {},
   "outputs": [
    {
     "data": {
      "text/plain": [
       "'https://api.data.gov/ed/collegescorecard/v1/schools?api_key=Xvz2dA3c3GQFSMVTf3d7XldyIW0aDfP0Gp1PSPIr&fields='"
      ]
     },
     "execution_count": 95,
     "metadata": {},
     "output_type": "execute_result"
    }
   ],
   "source": [
    "#The College Scorecard API is a GET API that lives at http://api.data.gov/ed/collegescorecard/\n",
    "#The endpoint for querying all data is /v1/schools\n",
    "base_url = \"https://api.data.gov/ed/collegescorecard/v1/schools?\"\n",
    "complete_url = f\"{base_url}api_key={apikey}&fields=\"\n",
    "complete_url"
   ]
  },
  {
   "cell_type": "markdown",
   "id": "5afbae7a",
   "metadata": {},
   "source": [
    "Defining Search Conditions for the URL query"
   ]
  },
  {
   "cell_type": "code",
   "execution_count": 96,
   "id": "96a7a6c9",
   "metadata": {},
   "outputs": [
    {
     "data": {
      "text/plain": [
       "'&school.degrees_awarded.predominant=3&school.operating=1'"
      ]
     },
     "execution_count": 96,
     "metadata": {},
     "output_type": "execute_result"
    }
   ],
   "source": [
    "# List of all the search conditions\n",
    "parameters = [\"&school.degrees_awarded.predominant=3\",\n",
    "             \"&school.operating=1\"\n",
    "             ]\n",
    "\n",
    "# Appending all the conditions values to construct the conditionss_url\n",
    "parameters_url = \"\"\n",
    "for parameter in parameters:\n",
    "    parameters_url = parameters_url + parameter\n",
    "parameters_url"
   ]
  },
  {
   "cell_type": "markdown",
   "id": "6ba5a5e9",
   "metadata": {},
   "source": [
    "## Step #2: Define Header\n",
    "### Pulling Needed Fields from College Scorecard Data & Renaming Columns"
   ]
  },
  {
   "cell_type": "code",
   "execution_count": 97,
   "id": "87360248",
   "metadata": {},
   "outputs": [
    {
     "data": {
      "text/plain": [
       "'school.name,id,school.state,school.ownership,school.ft_faculty_rate,school.faculty_salary,latest.student.size,latest.student.enrollment.all,latest.student.demographics.men,latest.student.demographics.women,latest.student.retention_rate.four_year.full_time,latest.cost.attendance.academic_year,latest.completion.completion_rate_4yr_150nt,latest.admissions.admission_rate.overall,latest.admissions.sat_scores.average.overall,latest.admissions.sat_scores.75th_percentile.math,latest.admissions.sat_scores.75th_percentile.critical_reading,latest.admissions.sat_scores.75th_percentile.writing,latest.earnings.6_yrs_after_entry.working_not_enrolled.mean_earnings,latest.earnings.6_yrs_after_entry.mean_earnings.male_students,latest.earnings.6_yrs_after_entry.mean_earnings.female_students,latest.earnings.6_yrs_after_entry.working_not_enrolled.std_dev,latest.earnings.6_yrs_after_entry.percent_greater_than_25000,latest.earnings.6_yrs_after_entry.working_not_enrolled.income.lowest_tercile,latest.earnings.6_yrs_after_entry.working_not_enrolled.income.middle_tercile,latest.earnings.6_yrs_after_entry.working_not_enrolled.income.highest_tercile,latest.earnings.6_yrs_after_entry.mean_earnings.lowest_tercile,latest.earnings.6_yrs_after_entry.mean_earnings.middle_tercile,latest.earnings.6_yrs_after_entry.mean_earnings.highest_tercile,latest.earnings.10_yrs_after_entry.working_not_enrolled.mean_earnings,latest.earnings.10_yrs_after_entry.mean_earnings.male_students,latest.earnings.10_yrs_after_entry.mean_earnings.female_students,latest.earnings.10_yrs_after_entry.working_not_enrolled.std_dev,latest.earnings.10_yrs_after_entry.percent_greater_than_25000,latest.earnings.10_yrs_after_entry.working_not_enrolled.income.lowest_tercile,latest.earnings.10_yrs_after_entry.working_not_enrolled.income.middle_tercile,latest.earnings.10_yrs_after_entry.working_not_enrolled.income.highest_tercile,latest.earnings.10_yrs_after_entry.mean_earnings.lowest_tercile,latest.earnings.10_yrs_after_entry.mean_earnings.middle_tercile,latest.earnings.10_yrs_after_entry.mean_earnings.highest_tercile'"
      ]
     },
     "execution_count": 97,
     "metadata": {},
     "output_type": "execute_result"
    }
   ],
   "source": [
    "# Dictionary all the desired fields\n",
    "year = \"latest\"\n",
    "#renaming columns and pulling wanted ones for df\n",
    "fields = {\n",
    "          # School Category\n",
    "          \"School_Name\": \"school.name\",\n",
    "          \"School_ID\": \"id\",\n",
    "          \"School_State\": \"school.state\",\n",
    "          \"School_Ownership\": \"school.ownership\",\n",
    "          \"Full_time_Faculty_Rate\": \"school.ft_faculty_rate\",\n",
    "          \"Faculty_avg_sal_monthly\": \"school.faculty_salary\",\n",
    "          # Student Category\n",
    "          \"Stud_Enroll_Size\": year + \".student.size\",\n",
    "          \"Stud_Enroll_All\": year + \".student.enrollment.all\",\n",
    "          \"percent_male_stud\": year + \".student.demographics.men\",\n",
    "          \"percent_fem_stud\": year + \".student.demographics.women\",\n",
    "          \"4_yr_retention\": year + \".student.retention_rate.four_year.full_time\",\n",
    "          #Cost Category\n",
    "          \"Attendance_Cost_per_Year\": year + \".cost.attendance.academic_year\",\n",
    "          # Completion Category\n",
    "          \"150%_Completion_Rate_4Yr\": year + \".completion.completion_rate_4yr_150nt\",\n",
    "          # Admissions Category \n",
    "          \"Admission_Rate\": year + \".admissions.admission_rate.overall\",\n",
    "          \"SAT_Avg_Overall\": year + \".admissions.sat_scores.average.overall\",\n",
    "          \"SAT_75th_Percentile_Math\": year + \".admissions.sat_scores.75th_percentile.math\",\n",
    "          \"SAT_75th_Percentile_Reading\": year + \".admissions.sat_scores.75th_percentile.critical_reading\",\n",
    "          \"SAT_75th_Percentile_Writing\": year + \".admissions.sat_scores.75th_percentile.writing\",\n",
    "          ## Earnings Category\n",
    "          # 6 Years after Enrollment:\n",
    "          \"Mean_Earnings_6yrs\": year + \".earnings.6_yrs_after_entry.working_not_enrolled.mean_earnings\",\n",
    "          \"Mean_male_earning_6yrs)\": year + \".earnings.6_yrs_after_entry.mean_earnings.male_students\",\n",
    "          \"Mean_fem_earning_6yrs\": year + \".earnings.6_yrs_after_entry.mean_earnings.female_students\",\n",
    "          \"std_earning_6yrs\": year + \".earnings.6_yrs_after_entry.working_not_enrolled.std_dev\",\n",
    "          \"percent_above_25k_6yrs\": year + \".earnings.6_yrs_after_entry.percent_greater_than_25000\",\n",
    "          \"low_income_6yrs\": year + \".earnings.6_yrs_after_entry.working_not_enrolled.income.lowest_tercile\",\n",
    "          \"medium_income_6yrs\": year + \".earnings.6_yrs_after_entry.working_not_enrolled.income.middle_tercile\",\n",
    "          \"high_income_6yrs\": year + \".earnings.6_yrs_after_entry.working_not_enrolled.income.highest_tercile\",\n",
    "          \"low_mean_earn_6yrs\": year + \".earnings.6_yrs_after_entry.mean_earnings.lowest_tercile\",\n",
    "          \"med_mean_earn_6yrs\": year + \".earnings.6_yrs_after_entry.mean_earnings.middle_tercile\",\n",
    "          \"high_mean_earn_6yrs\": year + \".earnings.6_yrs_after_entry.mean_earnings.highest_tercile\",\n",
    "          # 10 Years after Enrollment:\n",
    "          \"Mean_Earnings_10yrs\": year + \".earnings.10_yrs_after_entry.working_not_enrolled.mean_earnings\",\n",
    "          \"Mean_male_earn_10yrs\": year + \".earnings.10_yrs_after_entry.mean_earnings.male_students\",\n",
    "          \"Mean_fem_earn_10yrs\": year + \".earnings.10_yrs_after_entry.mean_earnings.female_students\",\n",
    "          \"std_earn_10yrs\": year + \".earnings.10_yrs_after_entry.working_not_enrolled.std_dev\",\n",
    "          \"percent_above_25k_10years\": year + \".earnings.10_yrs_after_entry.percent_greater_than_25000\",\n",
    "          \"low_income_10yrs\": year + \".earnings.10_yrs_after_entry.working_not_enrolled.income.lowest_tercile\",\n",
    "          \"medium_income_10yrs\": year + \".earnings.10_yrs_after_entry.working_not_enrolled.income.middle_tercile\",\n",
    "          \"high_income_10yrs\": year + \".earnings.10_yrs_after_entry.working_not_enrolled.income.highest_tercile\",\n",
    "          \"low_mean_earn_10yrs\": year + \".earnings.10_yrs_after_entry.mean_earnings.lowest_tercile\",\n",
    "          \"med_mean_earn_10yrs\": year + \".earnings.10_yrs_after_entry.mean_earnings.middle_tercile\",\n",
    "          \"high_mean_earn_10yrs\": year + \".earnings.10_yrs_after_entry.mean_earnings.highest_tercile\"\n",
    "         }\n",
    "\n",
    "# Appending all the fields values to construct the fields_url\n",
    "fields_url = \"\"\n",
    "for key, val in fields.items():\n",
    "    fields_url = fields_url + val + \",\"\n",
    "\n",
    "# To remove the extra \",\" at the end of fields_url\n",
    "fields_url = fields_url[:-1]\n",
    "fields_url"
   ]
  },
  {
   "cell_type": "code",
   "execution_count": 98,
   "id": "aa7ec927",
   "metadata": {},
   "outputs": [
    {
     "data": {
      "text/plain": [
       "20"
      ]
     },
     "execution_count": 98,
     "metadata": {},
     "output_type": "execute_result"
    }
   ],
   "source": [
    "# Getting number of records returned to set the max page number\n",
    "query_url = f\"{complete_url}{fields_url}{parameters_url}&page=0\"\n",
    "response = requests.get(query_url).json()\n",
    "#finding max number of pages that will need to be looked through for retrieving data\n",
    "max_page_num = response[\"metadata\"][\"total\"]//100 + 1\n",
    "max_page_num"
   ]
  },
  {
   "cell_type": "markdown",
   "id": "425f2ed1",
   "metadata": {},
   "source": [
    "Putting API Data into a DataFrame"
   ]
  },
  {
   "cell_type": "code",
   "execution_count": 99,
   "id": "13d57ade",
   "metadata": {},
   "outputs": [],
   "source": [
    "# Constructing the dataframe from the API request response\n",
    "\n",
    "#Initializing variables\n",
    "school_df = []\n",
    "per_page = 100\n",
    "\n",
    "#looping through each page in the dataset and retrieving 100 records from each page\n",
    "for page_num in range(0,max_page_num):\n",
    "    query_url = f\"{complete_url}{fields_url}{parameters_url}&page={page_num}&_per_page={per_page}\"\n",
    "    #make GET request to the URL --> return JSON object\n",
    "    response = requests.get(query_url).json()\n",
    "    \n",
    "    #retrieving records from the JSON object\n",
    "    for x in range(len(response[\"results\"])):\n",
    "        result_row = {}\n",
    "        \n",
    "        for key, val in fields.items(): \n",
    "            try:\n",
    "                result_row[key] = response[\"results\"][x][val]\n",
    "            except KeyError:\n",
    "                print(f\"{key} key not found\")\n",
    "        #append rows to the array which will become the DataFrame\n",
    "        school_df.append(result_row)\n",
    "\n",
    "#create DataFrame from array variable data        \n",
    "school_df = pd.DataFrame(school_df)"
   ]
  },
  {
   "cell_type": "code",
   "execution_count": 100,
   "id": "ce7cf02e",
   "metadata": {},
   "outputs": [
    {
     "data": {
      "text/html": [
       "<div>\n",
       "<style scoped>\n",
       "    .dataframe tbody tr th:only-of-type {\n",
       "        vertical-align: middle;\n",
       "    }\n",
       "\n",
       "    .dataframe tbody tr th {\n",
       "        vertical-align: top;\n",
       "    }\n",
       "\n",
       "    .dataframe thead th {\n",
       "        text-align: right;\n",
       "    }\n",
       "</style>\n",
       "<table border=\"1\" class=\"dataframe\">\n",
       "  <thead>\n",
       "    <tr style=\"text-align: right;\">\n",
       "      <th></th>\n",
       "      <th>School_Name</th>\n",
       "      <th>School_ID</th>\n",
       "      <th>School_State</th>\n",
       "      <th>School_Ownership</th>\n",
       "      <th>Full_time_Faculty_Rate</th>\n",
       "      <th>Faculty_avg_sal_monthly</th>\n",
       "      <th>Stud_Enroll_Size</th>\n",
       "      <th>Stud_Enroll_All</th>\n",
       "      <th>percent_male_stud</th>\n",
       "      <th>percent_fem_stud</th>\n",
       "      <th>...</th>\n",
       "      <th>Mean_male_earn_10yrs</th>\n",
       "      <th>Mean_fem_earn_10yrs</th>\n",
       "      <th>std_earn_10yrs</th>\n",
       "      <th>percent_above_25k_10years</th>\n",
       "      <th>low_income_10yrs</th>\n",
       "      <th>medium_income_10yrs</th>\n",
       "      <th>high_income_10yrs</th>\n",
       "      <th>low_mean_earn_10yrs</th>\n",
       "      <th>med_mean_earn_10yrs</th>\n",
       "      <th>high_mean_earn_10yrs</th>\n",
       "    </tr>\n",
       "  </thead>\n",
       "  <tbody>\n",
       "    <tr>\n",
       "      <th>0</th>\n",
       "      <td>Alabama A &amp; M University</td>\n",
       "      <td>100654</td>\n",
       "      <td>AL</td>\n",
       "      <td>1</td>\n",
       "      <td>0.9960</td>\n",
       "      <td>7599.0</td>\n",
       "      <td>5090.0</td>\n",
       "      <td>None</td>\n",
       "      <td>0.3978</td>\n",
       "      <td>0.6022</td>\n",
       "      <td>...</td>\n",
       "      <td>38500.0</td>\n",
       "      <td>32600.0</td>\n",
       "      <td>25400.0</td>\n",
       "      <td>0.599</td>\n",
       "      <td>459.0</td>\n",
       "      <td>337.0</td>\n",
       "      <td>166.0</td>\n",
       "      <td>33000.0</td>\n",
       "      <td>37300.0</td>\n",
       "      <td>39500.0</td>\n",
       "    </tr>\n",
       "    <tr>\n",
       "      <th>1</th>\n",
       "      <td>University of Alabama at Birmingham</td>\n",
       "      <td>100663</td>\n",
       "      <td>AL</td>\n",
       "      <td>1</td>\n",
       "      <td>0.7619</td>\n",
       "      <td>11380.0</td>\n",
       "      <td>13549.0</td>\n",
       "      <td>None</td>\n",
       "      <td>0.3816</td>\n",
       "      <td>0.6184</td>\n",
       "      <td>...</td>\n",
       "      <td>57400.0</td>\n",
       "      <td>43200.0</td>\n",
       "      <td>39200.0</td>\n",
       "      <td>0.747</td>\n",
       "      <td>1304.0</td>\n",
       "      <td>911.0</td>\n",
       "      <td>649.0</td>\n",
       "      <td>47000.0</td>\n",
       "      <td>49500.0</td>\n",
       "      <td>49300.0</td>\n",
       "    </tr>\n",
       "    <tr>\n",
       "      <th>2</th>\n",
       "      <td>University of Alabama in Huntsville</td>\n",
       "      <td>100706</td>\n",
       "      <td>AL</td>\n",
       "      <td>1</td>\n",
       "      <td>0.6702</td>\n",
       "      <td>9697.0</td>\n",
       "      <td>7825.0</td>\n",
       "      <td>None</td>\n",
       "      <td>0.5891</td>\n",
       "      <td>0.4109</td>\n",
       "      <td>...</td>\n",
       "      <td>58700.0</td>\n",
       "      <td>46000.0</td>\n",
       "      <td>33600.0</td>\n",
       "      <td>0.779</td>\n",
       "      <td>682.0</td>\n",
       "      <td>454.0</td>\n",
       "      <td>378.0</td>\n",
       "      <td>47000.0</td>\n",
       "      <td>55500.0</td>\n",
       "      <td>55100.0</td>\n",
       "    </tr>\n",
       "    <tr>\n",
       "      <th>3</th>\n",
       "      <td>Alabama State University</td>\n",
       "      <td>100724</td>\n",
       "      <td>AL</td>\n",
       "      <td>1</td>\n",
       "      <td>0.6797</td>\n",
       "      <td>7194.0</td>\n",
       "      <td>3603.0</td>\n",
       "      <td>None</td>\n",
       "      <td>0.3605</td>\n",
       "      <td>0.6395</td>\n",
       "      <td>...</td>\n",
       "      <td>33000.0</td>\n",
       "      <td>28300.0</td>\n",
       "      <td>21400.0</td>\n",
       "      <td>0.528</td>\n",
       "      <td>1519.0</td>\n",
       "      <td>548.0</td>\n",
       "      <td>151.0</td>\n",
       "      <td>29000.0</td>\n",
       "      <td>32500.0</td>\n",
       "      <td>34300.0</td>\n",
       "    </tr>\n",
       "    <tr>\n",
       "      <th>4</th>\n",
       "      <td>The University of Alabama</td>\n",
       "      <td>100751</td>\n",
       "      <td>AL</td>\n",
       "      <td>1</td>\n",
       "      <td>0.7707</td>\n",
       "      <td>10349.0</td>\n",
       "      <td>30610.0</td>\n",
       "      <td>None</td>\n",
       "      <td>0.4417</td>\n",
       "      <td>0.5583</td>\n",
       "      <td>...</td>\n",
       "      <td>59100.0</td>\n",
       "      <td>45100.0</td>\n",
       "      <td>42500.0</td>\n",
       "      <td>0.786</td>\n",
       "      <td>1424.0</td>\n",
       "      <td>1545.0</td>\n",
       "      <td>2024.0</td>\n",
       "      <td>45500.0</td>\n",
       "      <td>51600.0</td>\n",
       "      <td>55800.0</td>\n",
       "    </tr>\n",
       "  </tbody>\n",
       "</table>\n",
       "<p>5 rows × 40 columns</p>\n",
       "</div>"
      ],
      "text/plain": [
       "                           School_Name  School_ID School_State  \\\n",
       "0             Alabama A & M University     100654           AL   \n",
       "1  University of Alabama at Birmingham     100663           AL   \n",
       "2  University of Alabama in Huntsville     100706           AL   \n",
       "3             Alabama State University     100724           AL   \n",
       "4            The University of Alabama     100751           AL   \n",
       "\n",
       "   School_Ownership  Full_time_Faculty_Rate  Faculty_avg_sal_monthly  \\\n",
       "0                 1                  0.9960                   7599.0   \n",
       "1                 1                  0.7619                  11380.0   \n",
       "2                 1                  0.6702                   9697.0   \n",
       "3                 1                  0.6797                   7194.0   \n",
       "4                 1                  0.7707                  10349.0   \n",
       "\n",
       "   Stud_Enroll_Size Stud_Enroll_All  percent_male_stud  percent_fem_stud  ...  \\\n",
       "0            5090.0            None             0.3978            0.6022  ...   \n",
       "1           13549.0            None             0.3816            0.6184  ...   \n",
       "2            7825.0            None             0.5891            0.4109  ...   \n",
       "3            3603.0            None             0.3605            0.6395  ...   \n",
       "4           30610.0            None             0.4417            0.5583  ...   \n",
       "\n",
       "   Mean_male_earn_10yrs  Mean_fem_earn_10yrs  std_earn_10yrs  \\\n",
       "0               38500.0              32600.0         25400.0   \n",
       "1               57400.0              43200.0         39200.0   \n",
       "2               58700.0              46000.0         33600.0   \n",
       "3               33000.0              28300.0         21400.0   \n",
       "4               59100.0              45100.0         42500.0   \n",
       "\n",
       "   percent_above_25k_10years  low_income_10yrs  medium_income_10yrs  \\\n",
       "0                      0.599             459.0                337.0   \n",
       "1                      0.747            1304.0                911.0   \n",
       "2                      0.779             682.0                454.0   \n",
       "3                      0.528            1519.0                548.0   \n",
       "4                      0.786            1424.0               1545.0   \n",
       "\n",
       "   high_income_10yrs  low_mean_earn_10yrs  med_mean_earn_10yrs  \\\n",
       "0              166.0              33000.0              37300.0   \n",
       "1              649.0              47000.0              49500.0   \n",
       "2              378.0              47000.0              55500.0   \n",
       "3              151.0              29000.0              32500.0   \n",
       "4             2024.0              45500.0              51600.0   \n",
       "\n",
       "   high_mean_earn_10yrs  \n",
       "0               39500.0  \n",
       "1               49300.0  \n",
       "2               55100.0  \n",
       "3               34300.0  \n",
       "4               55800.0  \n",
       "\n",
       "[5 rows x 40 columns]"
      ]
     },
     "execution_count": 100,
     "metadata": {},
     "output_type": "execute_result"
    }
   ],
   "source": [
    "school_df.head()"
   ]
  },
  {
   "cell_type": "code",
   "execution_count": 101,
   "id": "bc0d02f4",
   "metadata": {},
   "outputs": [
    {
     "name": "stdout",
     "output_type": "stream",
     "text": [
      "1989 rows and 40 columns\n"
     ]
    }
   ],
   "source": [
    "#checking shape of school_df \n",
    "print(f\"{school_df.shape[0]} rows and {school_df.shape[1]} columns\")"
   ]
  },
  {
   "cell_type": "markdown",
   "id": "17d5199a",
   "metadata": {},
   "source": [
    "### Step #3: Making Column Names Lowercase"
   ]
  },
  {
   "cell_type": "code",
   "execution_count": 102,
   "id": "889a5f01",
   "metadata": {},
   "outputs": [],
   "source": [
    "#make all columns in school_df lowercase\n",
    "school_df.columns = school_df.columns.str.lower()"
   ]
  },
  {
   "cell_type": "markdown",
   "id": "db8674b0",
   "metadata": {},
   "source": [
    "This step helps with data usability, since it is easier to type and manage the column names when they are lower-case!"
   ]
  },
  {
   "cell_type": "markdown",
   "id": "836e0e46",
   "metadata": {},
   "source": [
    "### Step #4: Checking and Casting Field Types"
   ]
  },
  {
   "cell_type": "code",
   "execution_count": 103,
   "id": "14c2fb52",
   "metadata": {},
   "outputs": [
    {
     "name": "stdout",
     "output_type": "stream",
     "text": [
      "school_name                     object\n",
      "school_id                        int64\n",
      "school_state                    object\n",
      "school_ownership                 int64\n",
      "full_time_faculty_rate         float64\n",
      "faculty_avg_sal_monthly        float64\n",
      "stud_enroll_size               float64\n",
      "stud_enroll_all                 object\n",
      "percent_male_stud              float64\n",
      "percent_fem_stud               float64\n",
      "4_yr_retention                 float64\n",
      "attendance_cost_per_year       float64\n",
      "150%_completion_rate_4yr       float64\n",
      "admission_rate                 float64\n",
      "sat_avg_overall                float64\n",
      "sat_75th_percentile_math       float64\n",
      "sat_75th_percentile_reading    float64\n",
      "sat_75th_percentile_writing    float64\n",
      "mean_earnings_6yrs             float64\n",
      "mean_male_earning_6yrs)        float64\n",
      "mean_fem_earning_6yrs          float64\n",
      "std_earning_6yrs               float64\n",
      "percent_above_25k_6yrs         float64\n",
      "low_income_6yrs                float64\n",
      "medium_income_6yrs             float64\n",
      "high_income_6yrs               float64\n",
      "low_mean_earn_6yrs             float64\n",
      "med_mean_earn_6yrs             float64\n",
      "high_mean_earn_6yrs            float64\n",
      "mean_earnings_10yrs            float64\n",
      "mean_male_earn_10yrs           float64\n",
      "mean_fem_earn_10yrs            float64\n",
      "std_earn_10yrs                 float64\n",
      "percent_above_25k_10years      float64\n",
      "low_income_10yrs               float64\n",
      "medium_income_10yrs            float64\n",
      "high_income_10yrs              float64\n",
      "low_mean_earn_10yrs            float64\n",
      "med_mean_earn_10yrs            float64\n",
      "high_mean_earn_10yrs           float64\n",
      "dtype: object\n"
     ]
    }
   ],
   "source": [
    "print(school_df.dtypes)"
   ]
  },
  {
   "cell_type": "markdown",
   "id": "3d9f0bca",
   "metadata": {},
   "source": [
    "I notice that the 'School Ownership' is defined as an int64 column. I am going to look into it, as I suspect that it is a categorical column, and it would be helpful to know what the numerical values correspond to in terms of classes."
   ]
  },
  {
   "cell_type": "code",
   "execution_count": 104,
   "id": "95451a40",
   "metadata": {},
   "outputs": [
    {
     "data": {
      "text/plain": [
       "array([1, 2, 3], dtype=int64)"
      ]
     },
     "execution_count": 104,
     "metadata": {},
     "output_type": "execute_result"
    }
   ],
   "source": [
    "school_df['school_ownership'].unique()"
   ]
  },
  {
   "cell_type": "markdown",
   "id": "351157d2",
   "metadata": {},
   "source": [
    "There are three distinct numerical values for the 'School Ownership' column: 1,2,3. This column corresponds to the control of the institution in terms of public vs. private. I am going to create a new column which aligns the numerical values with their categories/string names.\n",
    "\n",
    "1 = Public\n",
    "\n",
    "2 = Private Non-Profit\n",
    "\n",
    "3 = Private For-Profit"
   ]
  },
  {
   "cell_type": "code",
   "execution_count": 105,
   "id": "da9b3bad",
   "metadata": {},
   "outputs": [],
   "source": [
    "# Updating School Ownership 1: \"Public\", 2: \"Private NonProfit\", 3: \"Private ForProfit\"}\n",
    "school_df.loc[school_df[\"school_ownership\"] == 1, \"school_ownership_cat\"] = \"Public\"\n",
    "school_df.loc[school_df[\"school_ownership\"] == 2, \"school_ownership_cat\"] = \"Private NonProfit\"\n",
    "school_df.loc[school_df[\"school_ownership\"] == 3, \"school_ownership_cat\"] = \"Private ForProfit\""
   ]
  },
  {
   "cell_type": "code",
   "execution_count": 106,
   "id": "13859ec5",
   "metadata": {},
   "outputs": [
    {
     "data": {
      "text/plain": [
       "0                  Public\n",
       "1                  Public\n",
       "2                  Public\n",
       "3                  Public\n",
       "4                  Public\n",
       "              ...        \n",
       "1984    Private ForProfit\n",
       "1985               Public\n",
       "1986    Private NonProfit\n",
       "1987    Private ForProfit\n",
       "1988    Private ForProfit\n",
       "Name: school_ownership_cat, Length: 1989, dtype: object"
      ]
     },
     "execution_count": 106,
     "metadata": {},
     "output_type": "execute_result"
    }
   ],
   "source": [
    "school_df['school_ownership_cat']"
   ]
  },
  {
   "cell_type": "code",
   "execution_count": 107,
   "id": "20cf0f5c",
   "metadata": {},
   "outputs": [
    {
     "data": {
      "text/plain": [
       "array(['Public', 'Private NonProfit', 'Private ForProfit'], dtype=object)"
      ]
     },
     "execution_count": 107,
     "metadata": {},
     "output_type": "execute_result"
    }
   ],
   "source": [
    "school_df['school_ownership_cat'].unique()"
   ]
  },
  {
   "cell_type": "markdown",
   "id": "98e17e14",
   "metadata": {},
   "source": [
    "### Step #5: Finding Duplicates"
   ]
  },
  {
   "cell_type": "code",
   "execution_count": 108,
   "id": "ca08d787",
   "metadata": {},
   "outputs": [
    {
     "data": {
      "text/plain": [
       "0       False\n",
       "1       False\n",
       "2       False\n",
       "3       False\n",
       "4       False\n",
       "        ...  \n",
       "1984    False\n",
       "1985    False\n",
       "1986    False\n",
       "1987    False\n",
       "1988    False\n",
       "Length: 1989, dtype: bool"
      ]
     },
     "execution_count": 108,
     "metadata": {},
     "output_type": "execute_result"
    }
   ],
   "source": [
    "#using the DataFrame method duplicated to determine whether each row is a duplicate\n",
    "school_df.duplicated()"
   ]
  },
  {
   "cell_type": "code",
   "execution_count": 109,
   "id": "0d47e6ee",
   "metadata": {},
   "outputs": [
    {
     "data": {
      "text/plain": [
       "0"
      ]
     },
     "execution_count": 109,
     "metadata": {},
     "output_type": "execute_result"
    }
   ],
   "source": [
    "#using the DataFrame method duplicated to determine whether each row is a duplicate\n",
    "#how many duplicate rows are there?\n",
    "school_df.duplicated().sum()"
   ]
  },
  {
   "cell_type": "markdown",
   "id": "4c67e022",
   "metadata": {},
   "source": [
    "No duplicates were found in the DataFrame containing the College Scorecard API data!"
   ]
  },
  {
   "cell_type": "markdown",
   "id": "3080161a",
   "metadata": {},
   "source": [
    "### Step #6: Finding Missing Data"
   ]
  },
  {
   "cell_type": "code",
   "execution_count": 110,
   "id": "cce036ff",
   "metadata": {},
   "outputs": [
    {
     "name": "stdout",
     "output_type": "stream",
     "text": [
      "school_name: False\n",
      "school_id: False\n",
      "school_state: False\n",
      "school_ownership: False\n",
      "full_time_faculty_rate: True\n",
      "faculty_avg_sal_monthly: True\n",
      "stud_enroll_size: True\n",
      "stud_enroll_all: True\n",
      "percent_male_stud: True\n",
      "percent_fem_stud: True\n",
      "4_yr_retention: True\n",
      "attendance_cost_per_year: True\n",
      "150%_completion_rate_4yr: True\n",
      "admission_rate: True\n",
      "sat_avg_overall: True\n",
      "sat_75th_percentile_math: True\n",
      "sat_75th_percentile_reading: True\n",
      "sat_75th_percentile_writing: True\n",
      "mean_earnings_6yrs: True\n",
      "mean_male_earning_6yrs): True\n",
      "mean_fem_earning_6yrs: True\n",
      "std_earning_6yrs: True\n",
      "percent_above_25k_6yrs: True\n",
      "low_income_6yrs: True\n",
      "medium_income_6yrs: True\n",
      "high_income_6yrs: True\n",
      "low_mean_earn_6yrs: True\n",
      "med_mean_earn_6yrs: True\n",
      "high_mean_earn_6yrs: True\n",
      "mean_earnings_10yrs: True\n",
      "mean_male_earn_10yrs: True\n",
      "mean_fem_earn_10yrs: True\n",
      "std_earn_10yrs: True\n",
      "percent_above_25k_10years: True\n",
      "low_income_10yrs: True\n",
      "medium_income_10yrs: True\n",
      "high_income_10yrs: True\n",
      "low_mean_earn_10yrs: True\n",
      "med_mean_earn_10yrs: True\n",
      "high_mean_earn_10yrs: True\n",
      "school_ownership_cat: False\n"
     ]
    }
   ],
   "source": [
    "#loop through columns in dataframe\n",
    "#check for any NaN values\n",
    "for col in school_df.columns:\n",
    "    print(col + \": \" + str(school_df[col].isnull().values.any()))"
   ]
  },
  {
   "cell_type": "code",
   "execution_count": 111,
   "id": "b93ecdb3",
   "metadata": {},
   "outputs": [
    {
     "data": {
      "text/plain": [
       "school_name                       0\n",
       "school_id                         0\n",
       "school_state                      0\n",
       "school_ownership                  0\n",
       "full_time_faculty_rate          144\n",
       "faculty_avg_sal_monthly          43\n",
       "stud_enroll_size                  1\n",
       "stud_enroll_all                1989\n",
       "percent_male_stud                 1\n",
       "percent_fem_stud                  1\n",
       "4_yr_retention                  144\n",
       "attendance_cost_per_year        173\n",
       "150%_completion_rate_4yr        149\n",
       "admission_rate                  355\n",
       "sat_avg_overall                 888\n",
       "sat_75th_percentile_math        933\n",
       "sat_75th_percentile_reading     933\n",
       "sat_75th_percentile_writing    1303\n",
       "mean_earnings_6yrs              252\n",
       "mean_male_earning_6yrs)         415\n",
       "mean_fem_earning_6yrs           415\n",
       "std_earning_6yrs                252\n",
       "percent_above_25k_6yrs          267\n",
       "low_income_6yrs                 227\n",
       "medium_income_6yrs              253\n",
       "high_income_6yrs                346\n",
       "low_mean_earn_6yrs              429\n",
       "med_mean_earn_6yrs              492\n",
       "high_mean_earn_6yrs             434\n",
       "mean_earnings_10yrs             272\n",
       "mean_male_earn_10yrs            442\n",
       "mean_fem_earn_10yrs             442\n",
       "std_earn_10yrs                  272\n",
       "percent_above_25k_10years       285\n",
       "low_income_10yrs                252\n",
       "medium_income_10yrs             277\n",
       "high_income_10yrs               372\n",
       "low_mean_earn_10yrs             446\n",
       "med_mean_earn_10yrs             495\n",
       "high_mean_earn_10yrs            455\n",
       "school_ownership_cat              0\n",
       "dtype: int64"
      ]
     },
     "execution_count": 111,
     "metadata": {},
     "output_type": "execute_result"
    }
   ],
   "source": [
    "#finding number of missing values in columns with missing data\n",
    "#getting counts of missing values in data frame\n",
    "school_df.isnull().sum()"
   ]
  },
  {
   "cell_type": "markdown",
   "id": "aafbd43d",
   "metadata": {},
   "source": [
    "Given that the column 'Student Enrollment All' has 2006 missing values, which is also equal to the number of rows in the dataset, I am going to drop this column since we won't know how to fill it and it is not providing us with any information/data."
   ]
  },
  {
   "cell_type": "markdown",
   "id": "24235e42",
   "metadata": {},
   "source": [
    "### Drop 'Student Enrollment All'"
   ]
  },
  {
   "cell_type": "code",
   "execution_count": 112,
   "id": "97cc401a",
   "metadata": {},
   "outputs": [],
   "source": [
    "school_df = school_df.drop(['stud_enroll_all'],axis=1)"
   ]
  },
  {
   "cell_type": "code",
   "execution_count": 113,
   "id": "2383e70b",
   "metadata": {},
   "outputs": [
    {
     "data": {
      "text/plain": [
       "(1989, 40)"
      ]
     },
     "execution_count": 113,
     "metadata": {},
     "output_type": "execute_result"
    }
   ],
   "source": [
    "school_df.shape"
   ]
  },
  {
   "cell_type": "code",
   "execution_count": 114,
   "id": "cc601c80",
   "metadata": {},
   "outputs": [
    {
     "name": "stdout",
     "output_type": "stream",
     "text": [
      "One less column in the DataFrame ... Student Enrollment All has been removed\n"
     ]
    }
   ],
   "source": [
    "print(\"One less column in the DataFrame ... Student Enrollment All has been removed\")"
   ]
  },
  {
   "cell_type": "markdown",
   "id": "4e3b1e11",
   "metadata": {},
   "source": [
    "### Step #7: Filling Numerical Missing Values\n",
    "\n",
    "From looking over the numerical (float) values currently in the DataFrame, most of them pertain to some 'mean' value that has already been calculated for the universities. Therefore, for filling the missing values in these columns, I'm going to take the mean of all of the values and use this as the filler. This will help align with the measurement of the values already in the dataset."
   ]
  },
  {
   "cell_type": "code",
   "execution_count": 115,
   "id": "59df6b44",
   "metadata": {},
   "outputs": [],
   "source": [
    "#fill the missing Default Rate data with mean value\n",
    "#round mean values to two decimal places for percentage purposes\n",
    "def fill_na_mean(data, inplace=True):\n",
    "    return data.fillna(round(data.mean(),2), inplace=inplace)"
   ]
  },
  {
   "cell_type": "code",
   "execution_count": 116,
   "id": "28620463",
   "metadata": {},
   "outputs": [
    {
     "name": "stdout",
     "output_type": "stream",
     "text": [
      "Col: full_time_faculty_rate\n",
      "Col: faculty_avg_sal_monthly\n",
      "Col: stud_enroll_size\n",
      "Col: percent_male_stud\n",
      "Col: percent_fem_stud\n",
      "Col: 4_yr_retention\n",
      "Col: attendance_cost_per_year\n",
      "Col: 150%_completion_rate_4yr\n",
      "Col: admission_rate\n",
      "Col: sat_avg_overall\n",
      "Col: sat_75th_percentile_math\n",
      "Col: sat_75th_percentile_reading\n",
      "Col: sat_75th_percentile_writing\n",
      "Col: mean_earnings_6yrs\n",
      "Col: mean_male_earning_6yrs)\n",
      "Col: mean_fem_earning_6yrs\n",
      "Col: std_earning_6yrs\n",
      "Col: percent_above_25k_6yrs\n",
      "Col: low_income_6yrs\n",
      "Col: medium_income_6yrs\n",
      "Col: high_income_6yrs\n",
      "Col: low_mean_earn_6yrs\n",
      "Col: med_mean_earn_6yrs\n",
      "Col: high_mean_earn_6yrs\n",
      "Col: mean_earnings_10yrs\n",
      "Col: mean_male_earn_10yrs\n",
      "Col: mean_fem_earn_10yrs\n",
      "Col: std_earn_10yrs\n",
      "Col: percent_above_25k_10years\n",
      "Col: low_income_10yrs\n",
      "Col: medium_income_10yrs\n",
      "Col: high_income_10yrs\n",
      "Col: low_mean_earn_10yrs\n",
      "Col: med_mean_earn_10yrs\n",
      "Col: high_mean_earn_10yrs\n"
     ]
    }
   ],
   "source": [
    "for col in school_df[school_df.columns[school_df.isnull().any()]].columns:\n",
    "    print(\"Col: \" + col)\n",
    "    fill_na_mean(school_df[col])"
   ]
  },
  {
   "cell_type": "code",
   "execution_count": 117,
   "id": "a97fb2fe",
   "metadata": {},
   "outputs": [
    {
     "data": {
      "text/plain": [
       "school_name                    0\n",
       "school_id                      0\n",
       "school_state                   0\n",
       "school_ownership               0\n",
       "full_time_faculty_rate         0\n",
       "faculty_avg_sal_monthly        0\n",
       "stud_enroll_size               0\n",
       "percent_male_stud              0\n",
       "percent_fem_stud               0\n",
       "4_yr_retention                 0\n",
       "attendance_cost_per_year       0\n",
       "150%_completion_rate_4yr       0\n",
       "admission_rate                 0\n",
       "sat_avg_overall                0\n",
       "sat_75th_percentile_math       0\n",
       "sat_75th_percentile_reading    0\n",
       "sat_75th_percentile_writing    0\n",
       "mean_earnings_6yrs             0\n",
       "mean_male_earning_6yrs)        0\n",
       "mean_fem_earning_6yrs          0\n",
       "std_earning_6yrs               0\n",
       "percent_above_25k_6yrs         0\n",
       "low_income_6yrs                0\n",
       "medium_income_6yrs             0\n",
       "high_income_6yrs               0\n",
       "low_mean_earn_6yrs             0\n",
       "med_mean_earn_6yrs             0\n",
       "high_mean_earn_6yrs            0\n",
       "mean_earnings_10yrs            0\n",
       "mean_male_earn_10yrs           0\n",
       "mean_fem_earn_10yrs            0\n",
       "std_earn_10yrs                 0\n",
       "percent_above_25k_10years      0\n",
       "low_income_10yrs               0\n",
       "medium_income_10yrs            0\n",
       "high_income_10yrs              0\n",
       "low_mean_earn_10yrs            0\n",
       "med_mean_earn_10yrs            0\n",
       "high_mean_earn_10yrs           0\n",
       "school_ownership_cat           0\n",
       "dtype: int64"
      ]
     },
     "execution_count": 117,
     "metadata": {},
     "output_type": "execute_result"
    }
   ],
   "source": [
    "#check for any missing values again --> verify that they were handled accordingly\n",
    "school_df.isnull().sum()"
   ]
  },
  {
   "cell_type": "markdown",
   "id": "7651fd61",
   "metadata": {},
   "source": [
    "There is no more missing data in school_df!"
   ]
  },
  {
   "cell_type": "markdown",
   "id": "2c7b7cc4",
   "metadata": {},
   "source": [
    "### Step #8: Detecting and Filtering Outliers"
   ]
  },
  {
   "cell_type": "code",
   "execution_count": 118,
   "id": "79967c14",
   "metadata": {},
   "outputs": [
    {
     "data": {
      "text/html": [
       "<div>\n",
       "<style scoped>\n",
       "    .dataframe tbody tr th:only-of-type {\n",
       "        vertical-align: middle;\n",
       "    }\n",
       "\n",
       "    .dataframe tbody tr th {\n",
       "        vertical-align: top;\n",
       "    }\n",
       "\n",
       "    .dataframe thead th {\n",
       "        text-align: right;\n",
       "    }\n",
       "</style>\n",
       "<table border=\"1\" class=\"dataframe\">\n",
       "  <thead>\n",
       "    <tr style=\"text-align: right;\">\n",
       "      <th></th>\n",
       "      <th>school_id</th>\n",
       "      <th>school_ownership</th>\n",
       "      <th>full_time_faculty_rate</th>\n",
       "      <th>faculty_avg_sal_monthly</th>\n",
       "      <th>stud_enroll_size</th>\n",
       "      <th>percent_male_stud</th>\n",
       "      <th>percent_fem_stud</th>\n",
       "      <th>4_yr_retention</th>\n",
       "      <th>attendance_cost_per_year</th>\n",
       "      <th>150%_completion_rate_4yr</th>\n",
       "      <th>...</th>\n",
       "      <th>mean_male_earn_10yrs</th>\n",
       "      <th>mean_fem_earn_10yrs</th>\n",
       "      <th>std_earn_10yrs</th>\n",
       "      <th>percent_above_25k_10years</th>\n",
       "      <th>low_income_10yrs</th>\n",
       "      <th>medium_income_10yrs</th>\n",
       "      <th>high_income_10yrs</th>\n",
       "      <th>low_mean_earn_10yrs</th>\n",
       "      <th>med_mean_earn_10yrs</th>\n",
       "      <th>high_mean_earn_10yrs</th>\n",
       "    </tr>\n",
       "  </thead>\n",
       "  <tbody>\n",
       "    <tr>\n",
       "      <th>count</th>\n",
       "      <td>1989.000000</td>\n",
       "      <td>1989.000000</td>\n",
       "      <td>1989.000000</td>\n",
       "      <td>1989.000000</td>\n",
       "      <td>1989.000000</td>\n",
       "      <td>1989.000000</td>\n",
       "      <td>1989.000000</td>\n",
       "      <td>1989.000000</td>\n",
       "      <td>1989.000000</td>\n",
       "      <td>1989.000000</td>\n",
       "      <td>...</td>\n",
       "      <td>1989.000000</td>\n",
       "      <td>1989.000000</td>\n",
       "      <td>1989.000000</td>\n",
       "      <td>1989.000000</td>\n",
       "      <td>1989.000000</td>\n",
       "      <td>1989.000000</td>\n",
       "      <td>1989.000000</td>\n",
       "      <td>1989.000000</td>\n",
       "      <td>1989.000000</td>\n",
       "      <td>1989.000000</td>\n",
       "    </tr>\n",
       "    <tr>\n",
       "      <th>mean</th>\n",
       "      <td>221860.171443</td>\n",
       "      <td>1.786828</td>\n",
       "      <td>0.649581</td>\n",
       "      <td>7774.438371</td>\n",
       "      <td>4499.895877</td>\n",
       "      <td>0.435578</td>\n",
       "      <td>0.562914</td>\n",
       "      <td>0.741637</td>\n",
       "      <td>36848.783278</td>\n",
       "      <td>0.540866</td>\n",
       "      <td>...</td>\n",
       "      <td>57827.537798</td>\n",
       "      <td>44910.859789</td>\n",
       "      <td>37021.723399</td>\n",
       "      <td>0.738261</td>\n",
       "      <td>1070.319578</td>\n",
       "      <td>760.757426</td>\n",
       "      <td>531.228034</td>\n",
       "      <td>46853.208477</td>\n",
       "      <td>50295.516541</td>\n",
       "      <td>54919.166591</td>\n",
       "    </tr>\n",
       "    <tr>\n",
       "      <th>std</th>\n",
       "      <td>105646.223896</td>\n",
       "      <td>0.570756</td>\n",
       "      <td>0.264050</td>\n",
       "      <td>2719.708348</td>\n",
       "      <td>8236.804871</td>\n",
       "      <td>0.185990</td>\n",
       "      <td>0.186505</td>\n",
       "      <td>0.147408</td>\n",
       "      <td>16428.250068</td>\n",
       "      <td>0.201899</td>\n",
       "      <td>...</td>\n",
       "      <td>17855.974868</td>\n",
       "      <td>12302.712268</td>\n",
       "      <td>14809.099786</td>\n",
       "      <td>0.109567</td>\n",
       "      <td>5062.322676</td>\n",
       "      <td>2804.973873</td>\n",
       "      <td>1013.313615</td>\n",
       "      <td>16188.756463</td>\n",
       "      <td>11654.081934</td>\n",
       "      <td>12440.263632</td>\n",
       "    </tr>\n",
       "    <tr>\n",
       "      <th>min</th>\n",
       "      <td>100654.000000</td>\n",
       "      <td>1.000000</td>\n",
       "      <td>0.000000</td>\n",
       "      <td>547.000000</td>\n",
       "      <td>0.000000</td>\n",
       "      <td>0.000000</td>\n",
       "      <td>0.000000</td>\n",
       "      <td>0.000000</td>\n",
       "      <td>5663.000000</td>\n",
       "      <td>0.000000</td>\n",
       "      <td>...</td>\n",
       "      <td>22200.000000</td>\n",
       "      <td>18000.000000</td>\n",
       "      <td>13800.000000</td>\n",
       "      <td>0.090000</td>\n",
       "      <td>16.000000</td>\n",
       "      <td>16.000000</td>\n",
       "      <td>16.000000</td>\n",
       "      <td>20500.000000</td>\n",
       "      <td>23200.000000</td>\n",
       "      <td>24700.000000</td>\n",
       "    </tr>\n",
       "    <tr>\n",
       "      <th>25%</th>\n",
       "      <td>156189.000000</td>\n",
       "      <td>1.000000</td>\n",
       "      <td>0.473100</td>\n",
       "      <td>6172.000000</td>\n",
       "      <td>639.000000</td>\n",
       "      <td>0.353000</td>\n",
       "      <td>0.502500</td>\n",
       "      <td>0.682900</td>\n",
       "      <td>23327.000000</td>\n",
       "      <td>0.428600</td>\n",
       "      <td>...</td>\n",
       "      <td>49600.000000</td>\n",
       "      <td>38300.000000</td>\n",
       "      <td>28800.000000</td>\n",
       "      <td>0.701000</td>\n",
       "      <td>116.000000</td>\n",
       "      <td>140.000000</td>\n",
       "      <td>122.000000</td>\n",
       "      <td>38600.000000</td>\n",
       "      <td>44300.000000</td>\n",
       "      <td>48000.000000</td>\n",
       "    </tr>\n",
       "    <tr>\n",
       "      <th>50%</th>\n",
       "      <td>195544.000000</td>\n",
       "      <td>2.000000</td>\n",
       "      <td>0.650000</td>\n",
       "      <td>7532.000000</td>\n",
       "      <td>1614.000000</td>\n",
       "      <td>0.422400</td>\n",
       "      <td>0.577400</td>\n",
       "      <td>0.750000</td>\n",
       "      <td>35697.000000</td>\n",
       "      <td>0.540000</td>\n",
       "      <td>...</td>\n",
       "      <td>57827.540000</td>\n",
       "      <td>44910.860000</td>\n",
       "      <td>35200.000000</td>\n",
       "      <td>0.742000</td>\n",
       "      <td>304.000000</td>\n",
       "      <td>316.000000</td>\n",
       "      <td>307.000000</td>\n",
       "      <td>46853.210000</td>\n",
       "      <td>50295.520000</td>\n",
       "      <td>54919.170000</td>\n",
       "    </tr>\n",
       "    <tr>\n",
       "      <th>75%</th>\n",
       "      <td>229018.000000</td>\n",
       "      <td>2.000000</td>\n",
       "      <td>0.874600</td>\n",
       "      <td>9179.000000</td>\n",
       "      <td>4499.900000</td>\n",
       "      <td>0.496800</td>\n",
       "      <td>0.646300</td>\n",
       "      <td>0.830900</td>\n",
       "      <td>47197.000000</td>\n",
       "      <td>0.666700</td>\n",
       "      <td>...</td>\n",
       "      <td>60100.000000</td>\n",
       "      <td>47400.000000</td>\n",
       "      <td>39700.000000</td>\n",
       "      <td>0.803000</td>\n",
       "      <td>1070.320000</td>\n",
       "      <td>760.760000</td>\n",
       "      <td>531.230000</td>\n",
       "      <td>48000.000000</td>\n",
       "      <td>52300.000000</td>\n",
       "      <td>57600.000000</td>\n",
       "    </tr>\n",
       "    <tr>\n",
       "      <th>max</th>\n",
       "      <td>496326.000000</td>\n",
       "      <td>3.000000</td>\n",
       "      <td>1.000000</td>\n",
       "      <td>21143.000000</td>\n",
       "      <td>109233.000000</td>\n",
       "      <td>1.000000</td>\n",
       "      <td>1.000000</td>\n",
       "      <td>1.000000</td>\n",
       "      <td>81531.000000</td>\n",
       "      <td>1.000000</td>\n",
       "      <td>...</td>\n",
       "      <td>219100.000000</td>\n",
       "      <td>142200.000000</td>\n",
       "      <td>170800.000000</td>\n",
       "      <td>0.957000</td>\n",
       "      <td>95499.000000</td>\n",
       "      <td>52661.000000</td>\n",
       "      <td>16229.000000</td>\n",
       "      <td>188300.000000</td>\n",
       "      <td>136200.000000</td>\n",
       "      <td>172100.000000</td>\n",
       "    </tr>\n",
       "  </tbody>\n",
       "</table>\n",
       "<p>8 rows × 37 columns</p>\n",
       "</div>"
      ],
      "text/plain": [
       "           school_id  school_ownership  full_time_faculty_rate  \\\n",
       "count    1989.000000       1989.000000             1989.000000   \n",
       "mean   221860.171443          1.786828                0.649581   \n",
       "std    105646.223896          0.570756                0.264050   \n",
       "min    100654.000000          1.000000                0.000000   \n",
       "25%    156189.000000          1.000000                0.473100   \n",
       "50%    195544.000000          2.000000                0.650000   \n",
       "75%    229018.000000          2.000000                0.874600   \n",
       "max    496326.000000          3.000000                1.000000   \n",
       "\n",
       "       faculty_avg_sal_monthly  stud_enroll_size  percent_male_stud  \\\n",
       "count              1989.000000       1989.000000        1989.000000   \n",
       "mean               7774.438371       4499.895877           0.435578   \n",
       "std                2719.708348       8236.804871           0.185990   \n",
       "min                 547.000000          0.000000           0.000000   \n",
       "25%                6172.000000        639.000000           0.353000   \n",
       "50%                7532.000000       1614.000000           0.422400   \n",
       "75%                9179.000000       4499.900000           0.496800   \n",
       "max               21143.000000     109233.000000           1.000000   \n",
       "\n",
       "       percent_fem_stud  4_yr_retention  attendance_cost_per_year  \\\n",
       "count       1989.000000     1989.000000               1989.000000   \n",
       "mean           0.562914        0.741637              36848.783278   \n",
       "std            0.186505        0.147408              16428.250068   \n",
       "min            0.000000        0.000000               5663.000000   \n",
       "25%            0.502500        0.682900              23327.000000   \n",
       "50%            0.577400        0.750000              35697.000000   \n",
       "75%            0.646300        0.830900              47197.000000   \n",
       "max            1.000000        1.000000              81531.000000   \n",
       "\n",
       "       150%_completion_rate_4yr  ...  mean_male_earn_10yrs  \\\n",
       "count               1989.000000  ...           1989.000000   \n",
       "mean                   0.540866  ...          57827.537798   \n",
       "std                    0.201899  ...          17855.974868   \n",
       "min                    0.000000  ...          22200.000000   \n",
       "25%                    0.428600  ...          49600.000000   \n",
       "50%                    0.540000  ...          57827.540000   \n",
       "75%                    0.666700  ...          60100.000000   \n",
       "max                    1.000000  ...         219100.000000   \n",
       "\n",
       "       mean_fem_earn_10yrs  std_earn_10yrs  percent_above_25k_10years  \\\n",
       "count          1989.000000     1989.000000                1989.000000   \n",
       "mean          44910.859789    37021.723399                   0.738261   \n",
       "std           12302.712268    14809.099786                   0.109567   \n",
       "min           18000.000000    13800.000000                   0.090000   \n",
       "25%           38300.000000    28800.000000                   0.701000   \n",
       "50%           44910.860000    35200.000000                   0.742000   \n",
       "75%           47400.000000    39700.000000                   0.803000   \n",
       "max          142200.000000   170800.000000                   0.957000   \n",
       "\n",
       "       low_income_10yrs  medium_income_10yrs  high_income_10yrs  \\\n",
       "count       1989.000000          1989.000000        1989.000000   \n",
       "mean        1070.319578           760.757426         531.228034   \n",
       "std         5062.322676          2804.973873        1013.313615   \n",
       "min           16.000000            16.000000          16.000000   \n",
       "25%          116.000000           140.000000         122.000000   \n",
       "50%          304.000000           316.000000         307.000000   \n",
       "75%         1070.320000           760.760000         531.230000   \n",
       "max        95499.000000         52661.000000       16229.000000   \n",
       "\n",
       "       low_mean_earn_10yrs  med_mean_earn_10yrs  high_mean_earn_10yrs  \n",
       "count          1989.000000          1989.000000           1989.000000  \n",
       "mean          46853.208477         50295.516541          54919.166591  \n",
       "std           16188.756463         11654.081934          12440.263632  \n",
       "min           20500.000000         23200.000000          24700.000000  \n",
       "25%           38600.000000         44300.000000          48000.000000  \n",
       "50%           46853.210000         50295.520000          54919.170000  \n",
       "75%           48000.000000         52300.000000          57600.000000  \n",
       "max          188300.000000        136200.000000         172100.000000  \n",
       "\n",
       "[8 rows x 37 columns]"
      ]
     },
     "execution_count": 118,
     "metadata": {},
     "output_type": "execute_result"
    }
   ],
   "source": [
    "#describing the data\n",
    "school_df.describe()"
   ]
  },
  {
   "cell_type": "code",
   "execution_count": 119,
   "id": "d7a0f000",
   "metadata": {},
   "outputs": [
    {
     "data": {
      "text/plain": [
       "array([[<AxesSubplot:title={'center':'school_id'}>,\n",
       "        <AxesSubplot:title={'center':'school_ownership'}>,\n",
       "        <AxesSubplot:title={'center':'full_time_faculty_rate'}>,\n",
       "        <AxesSubplot:title={'center':'faculty_avg_sal_monthly'}>,\n",
       "        <AxesSubplot:title={'center':'stud_enroll_size'}>,\n",
       "        <AxesSubplot:title={'center':'percent_male_stud'}>],\n",
       "       [<AxesSubplot:title={'center':'percent_fem_stud'}>,\n",
       "        <AxesSubplot:title={'center':'4_yr_retention'}>,\n",
       "        <AxesSubplot:title={'center':'attendance_cost_per_year'}>,\n",
       "        <AxesSubplot:title={'center':'150%_completion_rate_4yr'}>,\n",
       "        <AxesSubplot:title={'center':'admission_rate'}>,\n",
       "        <AxesSubplot:title={'center':'sat_avg_overall'}>],\n",
       "       [<AxesSubplot:title={'center':'sat_75th_percentile_math'}>,\n",
       "        <AxesSubplot:title={'center':'sat_75th_percentile_reading'}>,\n",
       "        <AxesSubplot:title={'center':'sat_75th_percentile_writing'}>,\n",
       "        <AxesSubplot:title={'center':'mean_earnings_6yrs'}>,\n",
       "        <AxesSubplot:title={'center':'mean_male_earning_6yrs)'}>,\n",
       "        <AxesSubplot:title={'center':'mean_fem_earning_6yrs'}>],\n",
       "       [<AxesSubplot:title={'center':'std_earning_6yrs'}>,\n",
       "        <AxesSubplot:title={'center':'percent_above_25k_6yrs'}>,\n",
       "        <AxesSubplot:title={'center':'low_income_6yrs'}>,\n",
       "        <AxesSubplot:title={'center':'medium_income_6yrs'}>,\n",
       "        <AxesSubplot:title={'center':'high_income_6yrs'}>,\n",
       "        <AxesSubplot:title={'center':'low_mean_earn_6yrs'}>],\n",
       "       [<AxesSubplot:title={'center':'med_mean_earn_6yrs'}>,\n",
       "        <AxesSubplot:title={'center':'high_mean_earn_6yrs'}>,\n",
       "        <AxesSubplot:title={'center':'mean_earnings_10yrs'}>,\n",
       "        <AxesSubplot:title={'center':'mean_male_earn_10yrs'}>,\n",
       "        <AxesSubplot:title={'center':'mean_fem_earn_10yrs'}>,\n",
       "        <AxesSubplot:title={'center':'std_earn_10yrs'}>],\n",
       "       [<AxesSubplot:title={'center':'percent_above_25k_10years'}>,\n",
       "        <AxesSubplot:title={'center':'low_income_10yrs'}>,\n",
       "        <AxesSubplot:title={'center':'medium_income_10yrs'}>,\n",
       "        <AxesSubplot:title={'center':'high_income_10yrs'}>,\n",
       "        <AxesSubplot:title={'center':'low_mean_earn_10yrs'}>,\n",
       "        <AxesSubplot:title={'center':'med_mean_earn_10yrs'}>],\n",
       "       [<AxesSubplot:title={'center':'high_mean_earn_10yrs'}>,\n",
       "        <AxesSubplot:>, <AxesSubplot:>, <AxesSubplot:>, <AxesSubplot:>,\n",
       "        <AxesSubplot:>]], dtype=object)"
      ]
     },
     "execution_count": 119,
     "metadata": {},
     "output_type": "execute_result"
    },
    {
     "data": {
      "image/png": "[encoded data removed]",
      "text/plain": [
       "<Figure size 1080x720 with 42 Axes>"
      ]
     },
     "metadata": {
      "needs_background": "light"
     },
     "output_type": "display_data"
    }
   ],
   "source": [
    "#plotting histograms of numerical columns\n",
    "school_df.hist(bins=30, figsize=(15, 10))"
   ]
  },
  {
   "cell_type": "markdown",
   "id": "6496e600",
   "metadata": {},
   "source": [
    "Looking at Outliers in percent_male_stud and percent_female_stud"
   ]
  },
  {
   "cell_type": "code",
   "execution_count": 120,
   "id": "e1dea8e9",
   "metadata": {},
   "outputs": [
    {
     "data": {
      "text/plain": [
       "<AxesSubplot:xlabel='percent_male_stud'>"
      ]
     },
     "execution_count": 120,
     "metadata": {},
     "output_type": "execute_result"
    },
    {
     "data": {
      "image/png": "[encoded data removed]",
      "text/plain": [
       "<Figure size 432x288 with 1 Axes>"
      ]
     },
     "metadata": {
      "needs_background": "light"
     },
     "output_type": "display_data"
    }
   ],
   "source": [
    "#boxplot of percent_male_stud\n",
    "\n",
    "#Percentage of Male Students\n",
    "sns.boxplot(x=school_df['percent_male_stud'])"
   ]
  },
  {
   "cell_type": "code",
   "execution_count": 121,
   "id": "f0c91c79",
   "metadata": {},
   "outputs": [
    {
     "data": {
      "text/plain": [
       "<AxesSubplot:xlabel='percent_fem_stud'>"
      ]
     },
     "execution_count": 121,
     "metadata": {},
     "output_type": "execute_result"
    },
    {
     "data": {
      "image/png": "[encoded data removed]",
      "text/plain": [
       "<Figure size 432x288 with 1 Axes>"
      ]
     },
     "metadata": {
      "needs_background": "light"
     },
     "output_type": "display_data"
    }
   ],
   "source": [
    "#boxplot of percent_female_stud\n",
    "\n",
    "#Percentage of Female Students\n",
    "sns.boxplot(x=school_df['percent_fem_stud'])"
   ]
  },
  {
   "cell_type": "markdown",
   "id": "b5dcb749",
   "metadata": {},
   "source": [
    "From analyzing these boxplots of the fields 'percent_male_stud' and 'percent_fem_stud', there are outliers at the extremes of both percentage scales. For the percentage of male students, I notice distinct outliers above ~.92. For the percentage of female students, I notice distinct outliers less than ~0.05.\n",
    "\n",
    "Therefore, universities with almost all male students are outliers in this dataset, and universities with barely any female datasets are outliers in this dataset. These correspond with eachother!\n",
    "\n",
    "There are single-sex universities, and I am sure they boast some advantage to receiving this type of education in terms of gender in classes. I don't want to remove any of these from the dataset, because it could give insights into how one's peer demographics influence their education and \"success\" in college.\n",
    "\n",
    "Closer Look into Distribution of 'Attendance_Cost_per_Year'"
   ]
  },
  {
   "cell_type": "code",
   "execution_count": 122,
   "id": "adc2dfc7",
   "metadata": {},
   "outputs": [
    {
     "data": {
      "text/plain": [
       "<AxesSubplot:xlabel='attendance_cost_per_year'>"
      ]
     },
     "execution_count": 122,
     "metadata": {},
     "output_type": "execute_result"
    },
    {
     "data": {
      "image/png": "[encoded data removed]",
      "text/plain": [
       "<Figure size 432x288 with 1 Axes>"
      ]
     },
     "metadata": {
      "needs_background": "light"
     },
     "output_type": "display_data"
    }
   ],
   "source": [
    "sns.boxplot(x=school_df['attendance_cost_per_year'])"
   ]
  },
  {
   "cell_type": "markdown",
   "id": "416dff0b",
   "metadata": {},
   "source": [
    "No distinct outliers for this field! I wanted to take a closer look since there was a spike in the histogram which seemed out of place for the distribution of the rest of the values. I think this spike is due to the replacement of missing values at the mean, which would lead to such a central focus in the spread of the data\n",
    "\n",
    "Closer Look into Post- 10 Year Earnings"
   ]
  },
  {
   "cell_type": "code",
   "execution_count": 123,
   "id": "67b4bcd6",
   "metadata": {},
   "outputs": [
    {
     "data": {
      "text/plain": [
       "<AxesSubplot:xlabel='low_mean_earn_10yrs'>"
      ]
     },
     "execution_count": 123,
     "metadata": {},
     "output_type": "execute_result"
    },
    {
     "data": {
      "image/png": "[encoded data removed]",
      "text/plain": [
       "<Figure size 432x288 with 1 Axes>"
      ]
     },
     "metadata": {
      "needs_background": "light"
     },
     "output_type": "display_data"
    }
   ],
   "source": [
    "#boxplot for the lowest tercile of the mean earnings 10 years post-grad\n",
    "#contains the lowest third of the population\n",
    "sns.boxplot(x=school_df['low_mean_earn_10yrs'])"
   ]
  },
  {
   "cell_type": "code",
   "execution_count": 124,
   "id": "be6def15",
   "metadata": {},
   "outputs": [
    {
     "data": {
      "text/plain": [
       "<AxesSubplot:xlabel='med_mean_earn_10yrs'>"
      ]
     },
     "execution_count": 124,
     "metadata": {},
     "output_type": "execute_result"
    },
    {
     "data": {
      "image/png": "[encoded data removed]",
      "text/plain": [
       "<Figure size 432x288 with 1 Axes>"
      ]
     },
     "metadata": {
      "needs_background": "light"
     },
     "output_type": "display_data"
    }
   ],
   "source": [
    "#boxplot for the middle/medium tercile of the mean earnings 10 years post-grad\n",
    "#middle third of the earnings population\n",
    "sns.boxplot(x=school_df['med_mean_earn_10yrs'])"
   ]
  },
  {
   "cell_type": "code",
   "execution_count": 125,
   "id": "a219ca6b",
   "metadata": {},
   "outputs": [
    {
     "data": {
      "text/plain": [
       "<AxesSubplot:xlabel='high_mean_earn_10yrs'>"
      ]
     },
     "execution_count": 125,
     "metadata": {},
     "output_type": "execute_result"
    },
    {
     "data": {
      "image/png": "[encoded data removed]",
      "text/plain": [
       "<Figure size 432x288 with 1 Axes>"
      ]
     },
     "metadata": {
      "needs_background": "light"
     },
     "output_type": "display_data"
    }
   ],
   "source": [
    "#boxplot for the highest tercile of the mean earnings 10 years post-grad\n",
    "#highest third of the earnings population\n",
    "sns.boxplot(x=school_df[\"high_mean_earn_10yrs\"])"
   ]
  },
  {
   "cell_type": "markdown",
   "id": "9e8e84ee",
   "metadata": {},
   "source": [
    "Terciles represent either of the two points that divide an ordered distribution into three parts, each containing a third of the population. In the case for the mean earnings 10-years post graduation, the distribution was divided into three parts: lowest, middle and highest mean earnings.\n",
    "\n",
    "There is an overlap in the means for the terciles and also their interquartile ranges, which represents that the groups are not very different from each other.\n",
    "\n",
    "In terms of outliers, there are quite a lot of them in all three of the terciles/variables. Most are above about $70,000. It is difficult with earnings, and this is also what I'm trying to investigate, because people and careers make such different levels of money. It is highly dependent on many factors: industry, career role, location, level in a company, etc. Therefore, I don't want to remove any of the outliers, since these could be key in showing how one's university/education influences the range of earnings/salary that one can make post-grad."
   ]
  },
  {
   "cell_type": "markdown",
   "id": "79b24da0",
   "metadata": {},
   "source": [
    "## Milestone 5"
   ]
  },
  {
   "cell_type": "markdown",
   "id": "2a3e42de",
   "metadata": {},
   "source": [
    "Now that you have cleaned and transformed your 3 datasets, you need to load them into a database. You can choose what kind of database (SQLLite or MySQL, Postgre SQL are all free options). You will want to load each dataset into SQL Lite as an individual table and then you must join the datasets together in Python into 1 dataset.\n",
    "\n",
    "Once all the data is merged together in your database, create 5 visualizations that demonstrate the data you have cleansed. You should have at least 2 visualizations that have data from more than one source (meaning, if you have 3 tables, you must have visualizations that span across 2 of the tables – you are also welcome to use your consolidated dataset that you created in the previous step, if you do that, you have met this requirement).\n",
    "\n",
    "For the visualization portion of the project, you are welcome to use a python library like Matplotlib, Seaborn, or an R package ggPlot2, Plotly, or Tableau/PowerBI.\n",
    "\n",
    "PowerBI is a free tool that could be used – Tableau only has a free web author. If your use Tableau/PowerBI you need to submit a PDF with your assignment vs the Tableau/PowerBI file. /p>\n",
    "\n",
    "Clearly label each visualization. Submit your code for merging and storing in the database, with your code for the visualizations along with a 250-500-word summary of what you learned and had to do to complete the project. In your write-up, make sure to address the ethical implications of cleansing data and your project topic. You can submit a Jupyter Notebook or a PDF of your code. If you submit a .py file you need to also include a PDF or attachment of your results."
   ]
  },
  {
   "cell_type": "markdown",
   "id": "e62c10b0",
   "metadata": {},
   "source": [
    "### Column Names in Each Dataset"
   ]
  },
  {
   "cell_type": "code",
   "execution_count": 126,
   "id": "38fe484b",
   "metadata": {},
   "outputs": [
    {
     "data": {
      "text/plain": [
       "Index(['school_name', 'Region', 'school_type', 'starting_median_salary',\n",
       "       'midCareer_median_salary', 'midCareer_25th_salary',\n",
       "       'midCareer_75th_salary'],\n",
       "      dtype='object')"
      ]
     },
     "execution_count": 126,
     "metadata": {},
     "output_type": "execute_result"
    }
   ],
   "source": [
    "#salaries_unique\n",
    "salaries_unique.columns"
   ]
  },
  {
   "cell_type": "code",
   "execution_count": 127,
   "id": "60bbfb7e",
   "metadata": {},
   "outputs": [
    {
     "data": {
      "text/plain": [
       "Index(['Rank', 'School', 'Stud_Fac_Ratio_Num', 'Grad_Rate', 'Reten_Rate',\n",
       "       'Accept_Rate', 'Enroll_Rate', 'Inst_Aid_Rate', 'Default_Rate'],\n",
       "      dtype='object')"
      ]
     },
     "execution_count": 127,
     "metadata": {},
     "output_type": "execute_result"
    }
   ],
   "source": [
    "#df_dropped\n",
    "df_dropped.columns"
   ]
  },
  {
   "cell_type": "code",
   "execution_count": 128,
   "id": "d0677c61",
   "metadata": {},
   "outputs": [
    {
     "data": {
      "text/plain": [
       "Index(['school_name', 'school_id', 'school_state', 'school_ownership',\n",
       "       'full_time_faculty_rate', 'faculty_avg_sal_monthly', 'stud_enroll_size',\n",
       "       'percent_male_stud', 'percent_fem_stud', '4_yr_retention',\n",
       "       'attendance_cost_per_year', '150%_completion_rate_4yr',\n",
       "       'admission_rate', 'sat_avg_overall', 'sat_75th_percentile_math',\n",
       "       'sat_75th_percentile_reading', 'sat_75th_percentile_writing',\n",
       "       'mean_earnings_6yrs', 'mean_male_earning_6yrs)',\n",
       "       'mean_fem_earning_6yrs', 'std_earning_6yrs', 'percent_above_25k_6yrs',\n",
       "       'low_income_6yrs', 'medium_income_6yrs', 'high_income_6yrs',\n",
       "       'low_mean_earn_6yrs', 'med_mean_earn_6yrs', 'high_mean_earn_6yrs',\n",
       "       'mean_earnings_10yrs', 'mean_male_earn_10yrs', 'mean_fem_earn_10yrs',\n",
       "       'std_earn_10yrs', 'percent_above_25k_10years', 'low_income_10yrs',\n",
       "       'medium_income_10yrs', 'high_income_10yrs', 'low_mean_earn_10yrs',\n",
       "       'med_mean_earn_10yrs', 'high_mean_earn_10yrs', 'school_ownership_cat'],\n",
       "      dtype='object')"
      ]
     },
     "execution_count": 128,
     "metadata": {},
     "output_type": "execute_result"
    }
   ],
   "source": [
    "#school_df\n",
    "school_df.columns"
   ]
  },
  {
   "cell_type": "code",
   "execution_count": 129,
   "id": "5bb22b61",
   "metadata": {},
   "outputs": [],
   "source": [
    "### Shapes of Each Dataset"
   ]
  },
  {
   "cell_type": "code",
   "execution_count": 130,
   "id": "a5534c3b",
   "metadata": {},
   "outputs": [
    {
     "data": {
      "text/plain": [
       "(248, 7)"
      ]
     },
     "execution_count": 130,
     "metadata": {},
     "output_type": "execute_result"
    }
   ],
   "source": [
    "salaries_unique.shape"
   ]
  },
  {
   "cell_type": "code",
   "execution_count": 131,
   "id": "63516cdb",
   "metadata": {},
   "outputs": [
    {
     "data": {
      "text/plain": [
       "(569, 9)"
      ]
     },
     "execution_count": 131,
     "metadata": {},
     "output_type": "execute_result"
    }
   ],
   "source": [
    "df_dropped.shape"
   ]
  },
  {
   "cell_type": "code",
   "execution_count": 132,
   "id": "31e4f54c",
   "metadata": {},
   "outputs": [
    {
     "data": {
      "text/plain": [
       "(1989, 40)"
      ]
     },
     "execution_count": 132,
     "metadata": {},
     "output_type": "execute_result"
    }
   ],
   "source": [
    "school_df.shape"
   ]
  },
  {
   "cell_type": "markdown",
   "id": "fd2ad6c1",
   "metadata": {},
   "source": [
    "### Loading datasets into individual tables"
   ]
  },
  {
   "cell_type": "code",
   "execution_count": 133,
   "id": "58d23292",
   "metadata": {},
   "outputs": [],
   "source": [
    "#import SQLite library\n",
    "import sqlite3 as sql"
   ]
  },
  {
   "cell_type": "markdown",
   "id": "4906ee05",
   "metadata": {},
   "source": [
    "salaries_unique DataFrame --> salaries-by-region.csv"
   ]
  },
  {
   "cell_type": "code",
   "execution_count": 134,
   "id": "07b758d2",
   "metadata": {},
   "outputs": [],
   "source": [
    "#open a connection to a new database for all data\n",
    "conn = sql.connect('datasets/university_salary.db')"
   ]
  },
  {
   "cell_type": "code",
   "execution_count": 135,
   "id": "440a345c",
   "metadata": {},
   "outputs": [
    {
     "data": {
      "text/plain": [
       "248"
      ]
     },
     "execution_count": 135,
     "metadata": {},
     "output_type": "execute_result"
    }
   ],
   "source": [
    "#create a new table in the univ_data database for CSV data\n",
    "salaries_unique.to_sql('grad_salaries',conn,if_exists='replace')"
   ]
  },
  {
   "cell_type": "code",
   "execution_count": 136,
   "id": "e5f43e7c",
   "metadata": {},
   "outputs": [],
   "source": [
    "#testing table connection\n",
    "grad_salaries = pd.read_sql('SELECT * FROM grad_salaries',conn)"
   ]
  },
  {
   "cell_type": "code",
   "execution_count": 137,
   "id": "2d35d001",
   "metadata": {},
   "outputs": [
    {
     "data": {
      "text/html": [
       "<div>\n",
       "<style scoped>\n",
       "    .dataframe tbody tr th:only-of-type {\n",
       "        vertical-align: middle;\n",
       "    }\n",
       "\n",
       "    .dataframe tbody tr th {\n",
       "        vertical-align: top;\n",
       "    }\n",
       "\n",
       "    .dataframe thead th {\n",
       "        text-align: right;\n",
       "    }\n",
       "</style>\n",
       "<table border=\"1\" class=\"dataframe\">\n",
       "  <thead>\n",
       "    <tr style=\"text-align: right;\">\n",
       "      <th></th>\n",
       "      <th>index</th>\n",
       "      <th>school_name</th>\n",
       "      <th>Region</th>\n",
       "      <th>school_type</th>\n",
       "      <th>starting_median_salary</th>\n",
       "      <th>midCareer_median_salary</th>\n",
       "      <th>midCareer_25th_salary</th>\n",
       "      <th>midCareer_75th_salary</th>\n",
       "    </tr>\n",
       "  </thead>\n",
       "  <tbody>\n",
       "    <tr>\n",
       "      <th>0</th>\n",
       "      <td>214</td>\n",
       "      <td>Amherst College</td>\n",
       "      <td>Northeastern</td>\n",
       "      <td>Liberal Arts</td>\n",
       "      <td>54500</td>\n",
       "      <td>107000</td>\n",
       "      <td>84900</td>\n",
       "      <td>162000</td>\n",
       "    </tr>\n",
       "    <tr>\n",
       "      <th>1</th>\n",
       "      <td>189</td>\n",
       "      <td>Appalachian State University</td>\n",
       "      <td>Southern</td>\n",
       "      <td>State</td>\n",
       "      <td>40400</td>\n",
       "      <td>69100</td>\n",
       "      <td>50400</td>\n",
       "      <td>90800</td>\n",
       "    </tr>\n",
       "    <tr>\n",
       "      <th>2</th>\n",
       "      <td>34</td>\n",
       "      <td>Arizona State University</td>\n",
       "      <td>Western</td>\n",
       "      <td>Party</td>\n",
       "      <td>47400</td>\n",
       "      <td>84100</td>\n",
       "      <td>60700</td>\n",
       "      <td>114000</td>\n",
       "    </tr>\n",
       "    <tr>\n",
       "      <th>3</th>\n",
       "      <td>194</td>\n",
       "      <td>Arkansas State University</td>\n",
       "      <td>Southern</td>\n",
       "      <td>State</td>\n",
       "      <td>38700</td>\n",
       "      <td>63300</td>\n",
       "      <td>45300</td>\n",
       "      <td>83900</td>\n",
       "    </tr>\n",
       "    <tr>\n",
       "      <th>4</th>\n",
       "      <td>149</td>\n",
       "      <td>Auburn University</td>\n",
       "      <td>Southern</td>\n",
       "      <td>State</td>\n",
       "      <td>45400</td>\n",
       "      <td>84700</td>\n",
       "      <td>62700</td>\n",
       "      <td>109000</td>\n",
       "    </tr>\n",
       "  </tbody>\n",
       "</table>\n",
       "</div>"
      ],
      "text/plain": [
       "   index                   school_name        Region   school_type  \\\n",
       "0    214               Amherst College  Northeastern  Liberal Arts   \n",
       "1    189  Appalachian State University      Southern         State   \n",
       "2     34      Arizona State University       Western         Party   \n",
       "3    194     Arkansas State University      Southern         State   \n",
       "4    149             Auburn University      Southern         State   \n",
       "\n",
       "   starting_median_salary  midCareer_median_salary  midCareer_25th_salary  \\\n",
       "0                   54500                   107000                  84900   \n",
       "1                   40400                    69100                  50400   \n",
       "2                   47400                    84100                  60700   \n",
       "3                   38700                    63300                  45300   \n",
       "4                   45400                    84700                  62700   \n",
       "\n",
       "   midCareer_75th_salary  \n",
       "0                 162000  \n",
       "1                  90800  \n",
       "2                 114000  \n",
       "3                  83900  \n",
       "4                 109000  "
      ]
     },
     "execution_count": 137,
     "metadata": {},
     "output_type": "execute_result"
    }
   ],
   "source": [
    "grad_salaries.head()"
   ]
  },
  {
   "cell_type": "markdown",
   "id": "fa68ed3b",
   "metadata": {},
   "source": [
    " df_dropped --> 'https://oedb.org/rankings/acceptance-rate/'"
   ]
  },
  {
   "cell_type": "code",
   "execution_count": 138,
   "id": "21f99dbe",
   "metadata": {},
   "outputs": [
    {
     "data": {
      "text/plain": [
       "569"
      ]
     },
     "execution_count": 138,
     "metadata": {},
     "output_type": "execute_result"
    }
   ],
   "source": [
    "#cgrad_salaries.head()reate new table in database for website data\n",
    "df_dropped.to_sql('univ_rates',conn,if_exists='replace')"
   ]
  },
  {
   "cell_type": "code",
   "execution_count": 139,
   "id": "f8a43b60",
   "metadata": {},
   "outputs": [],
   "source": [
    "#testing table connection\n",
    "univ_rates_file = pd.read_sql('SELECT * FROM univ_rates',conn)"
   ]
  },
  {
   "cell_type": "code",
   "execution_count": 140,
   "id": "41202fee",
   "metadata": {},
   "outputs": [
    {
     "data": {
      "text/html": [
       "<div>\n",
       "<style scoped>\n",
       "    .dataframe tbody tr th:only-of-type {\n",
       "        vertical-align: middle;\n",
       "    }\n",
       "\n",
       "    .dataframe tbody tr th {\n",
       "        vertical-align: top;\n",
       "    }\n",
       "\n",
       "    .dataframe thead th {\n",
       "        text-align: right;\n",
       "    }\n",
       "</style>\n",
       "<table border=\"1\" class=\"dataframe\">\n",
       "  <thead>\n",
       "    <tr style=\"text-align: right;\">\n",
       "      <th></th>\n",
       "      <th>index</th>\n",
       "      <th>Rank</th>\n",
       "      <th>School</th>\n",
       "      <th>Stud_Fac_Ratio_Num</th>\n",
       "      <th>Grad_Rate</th>\n",
       "      <th>Reten_Rate</th>\n",
       "      <th>Accept_Rate</th>\n",
       "      <th>Enroll_Rate</th>\n",
       "      <th>Inst_Aid_Rate</th>\n",
       "      <th>Default_Rate</th>\n",
       "    </tr>\n",
       "  </thead>\n",
       "  <tbody>\n",
       "    <tr>\n",
       "      <th>0</th>\n",
       "      <td>0</td>\n",
       "      <td>1</td>\n",
       "      <td>Harvard University</td>\n",
       "      <td>7.0</td>\n",
       "      <td>0.98</td>\n",
       "      <td>0.98</td>\n",
       "      <td>0.06</td>\n",
       "      <td>0.04</td>\n",
       "      <td>0.44</td>\n",
       "      <td>0.06</td>\n",
       "    </tr>\n",
       "    <tr>\n",
       "      <th>1</th>\n",
       "      <td>1</td>\n",
       "      <td>2</td>\n",
       "      <td>Yale University</td>\n",
       "      <td>6.0</td>\n",
       "      <td>0.97</td>\n",
       "      <td>0.99</td>\n",
       "      <td>0.07</td>\n",
       "      <td>0.05</td>\n",
       "      <td>0.52</td>\n",
       "      <td>0.06</td>\n",
       "    </tr>\n",
       "    <tr>\n",
       "      <th>2</th>\n",
       "      <td>2</td>\n",
       "      <td>3</td>\n",
       "      <td>University of Pennsylvania</td>\n",
       "      <td>6.0</td>\n",
       "      <td>0.95</td>\n",
       "      <td>0.98</td>\n",
       "      <td>0.10</td>\n",
       "      <td>0.07</td>\n",
       "      <td>0.54</td>\n",
       "      <td>0.06</td>\n",
       "    </tr>\n",
       "    <tr>\n",
       "      <th>3</th>\n",
       "      <td>3</td>\n",
       "      <td>4</td>\n",
       "      <td>Johns Hopkins University</td>\n",
       "      <td>10.0</td>\n",
       "      <td>0.94</td>\n",
       "      <td>0.97</td>\n",
       "      <td>0.14</td>\n",
       "      <td>0.05</td>\n",
       "      <td>0.51</td>\n",
       "      <td>0.06</td>\n",
       "    </tr>\n",
       "    <tr>\n",
       "      <th>4</th>\n",
       "      <td>4</td>\n",
       "      <td>5</td>\n",
       "      <td>Cornell University</td>\n",
       "      <td>9.0</td>\n",
       "      <td>0.93</td>\n",
       "      <td>0.97</td>\n",
       "      <td>0.15</td>\n",
       "      <td>0.08</td>\n",
       "      <td>0.55</td>\n",
       "      <td>0.06</td>\n",
       "    </tr>\n",
       "  </tbody>\n",
       "</table>\n",
       "</div>"
      ],
      "text/plain": [
       "   index Rank                      School  Stud_Fac_Ratio_Num  Grad_Rate  \\\n",
       "0      0    1          Harvard University                 7.0       0.98   \n",
       "1      1    2             Yale University                 6.0       0.97   \n",
       "2      2    3  University of Pennsylvania                 6.0       0.95   \n",
       "3      3    4    Johns Hopkins University                10.0       0.94   \n",
       "4      4    5          Cornell University                 9.0       0.93   \n",
       "\n",
       "   Reten_Rate  Accept_Rate  Enroll_Rate  Inst_Aid_Rate  Default_Rate  \n",
       "0        0.98         0.06         0.04           0.44          0.06  \n",
       "1        0.99         0.07         0.05           0.52          0.06  \n",
       "2        0.98         0.10         0.07           0.54          0.06  \n",
       "3        0.97         0.14         0.05           0.51          0.06  \n",
       "4        0.97         0.15         0.08           0.55          0.06  "
      ]
     },
     "execution_count": 140,
     "metadata": {},
     "output_type": "execute_result"
    }
   ],
   "source": [
    "univ_rates_file.head()"
   ]
  },
  {
   "cell_type": "markdown",
   "id": "54d006b1",
   "metadata": {},
   "source": [
    "school_df --> API data \"https://api.data.gov/ed/collegescorecard/v1/schools?\""
   ]
  },
  {
   "cell_type": "code",
   "execution_count": 141,
   "id": "0f99637d",
   "metadata": {},
   "outputs": [
    {
     "data": {
      "text/plain": [
       "1989"
      ]
     },
     "execution_count": 141,
     "metadata": {},
     "output_type": "execute_result"
    }
   ],
   "source": [
    "#create new table in database for API data\n",
    "school_df.to_sql('schools',conn,if_exists='replace')"
   ]
  },
  {
   "cell_type": "code",
   "execution_count": 142,
   "id": "8769f084",
   "metadata": {},
   "outputs": [],
   "source": [
    "#testing table connection\n",
    "schools_file = pd.read_sql('SELECT * FROM schools',conn)"
   ]
  },
  {
   "cell_type": "code",
   "execution_count": 143,
   "id": "55d4c536",
   "metadata": {},
   "outputs": [
    {
     "data": {
      "text/html": [
       "<div>\n",
       "<style scoped>\n",
       "    .dataframe tbody tr th:only-of-type {\n",
       "        vertical-align: middle;\n",
       "    }\n",
       "\n",
       "    .dataframe tbody tr th {\n",
       "        vertical-align: top;\n",
       "    }\n",
       "\n",
       "    .dataframe thead th {\n",
       "        text-align: right;\n",
       "    }\n",
       "</style>\n",
       "<table border=\"1\" class=\"dataframe\">\n",
       "  <thead>\n",
       "    <tr style=\"text-align: right;\">\n",
       "      <th></th>\n",
       "      <th>index</th>\n",
       "      <th>school_name</th>\n",
       "      <th>school_id</th>\n",
       "      <th>school_state</th>\n",
       "      <th>school_ownership</th>\n",
       "      <th>full_time_faculty_rate</th>\n",
       "      <th>faculty_avg_sal_monthly</th>\n",
       "      <th>stud_enroll_size</th>\n",
       "      <th>percent_male_stud</th>\n",
       "      <th>percent_fem_stud</th>\n",
       "      <th>...</th>\n",
       "      <th>mean_fem_earn_10yrs</th>\n",
       "      <th>std_earn_10yrs</th>\n",
       "      <th>percent_above_25k_10years</th>\n",
       "      <th>low_income_10yrs</th>\n",
       "      <th>medium_income_10yrs</th>\n",
       "      <th>high_income_10yrs</th>\n",
       "      <th>low_mean_earn_10yrs</th>\n",
       "      <th>med_mean_earn_10yrs</th>\n",
       "      <th>high_mean_earn_10yrs</th>\n",
       "      <th>school_ownership_cat</th>\n",
       "    </tr>\n",
       "  </thead>\n",
       "  <tbody>\n",
       "    <tr>\n",
       "      <th>0</th>\n",
       "      <td>0</td>\n",
       "      <td>Alabama A &amp; M University</td>\n",
       "      <td>100654</td>\n",
       "      <td>AL</td>\n",
       "      <td>1</td>\n",
       "      <td>0.9960</td>\n",
       "      <td>7599.0</td>\n",
       "      <td>5090.0</td>\n",
       "      <td>0.3978</td>\n",
       "      <td>0.6022</td>\n",
       "      <td>...</td>\n",
       "      <td>32600.0</td>\n",
       "      <td>25400.0</td>\n",
       "      <td>0.599</td>\n",
       "      <td>459.0</td>\n",
       "      <td>337.0</td>\n",
       "      <td>166.0</td>\n",
       "      <td>33000.0</td>\n",
       "      <td>37300.0</td>\n",
       "      <td>39500.0</td>\n",
       "      <td>Public</td>\n",
       "    </tr>\n",
       "    <tr>\n",
       "      <th>1</th>\n",
       "      <td>1</td>\n",
       "      <td>University of Alabama at Birmingham</td>\n",
       "      <td>100663</td>\n",
       "      <td>AL</td>\n",
       "      <td>1</td>\n",
       "      <td>0.7619</td>\n",
       "      <td>11380.0</td>\n",
       "      <td>13549.0</td>\n",
       "      <td>0.3816</td>\n",
       "      <td>0.6184</td>\n",
       "      <td>...</td>\n",
       "      <td>43200.0</td>\n",
       "      <td>39200.0</td>\n",
       "      <td>0.747</td>\n",
       "      <td>1304.0</td>\n",
       "      <td>911.0</td>\n",
       "      <td>649.0</td>\n",
       "      <td>47000.0</td>\n",
       "      <td>49500.0</td>\n",
       "      <td>49300.0</td>\n",
       "      <td>Public</td>\n",
       "    </tr>\n",
       "    <tr>\n",
       "      <th>2</th>\n",
       "      <td>2</td>\n",
       "      <td>University of Alabama in Huntsville</td>\n",
       "      <td>100706</td>\n",
       "      <td>AL</td>\n",
       "      <td>1</td>\n",
       "      <td>0.6702</td>\n",
       "      <td>9697.0</td>\n",
       "      <td>7825.0</td>\n",
       "      <td>0.5891</td>\n",
       "      <td>0.4109</td>\n",
       "      <td>...</td>\n",
       "      <td>46000.0</td>\n",
       "      <td>33600.0</td>\n",
       "      <td>0.779</td>\n",
       "      <td>682.0</td>\n",
       "      <td>454.0</td>\n",
       "      <td>378.0</td>\n",
       "      <td>47000.0</td>\n",
       "      <td>55500.0</td>\n",
       "      <td>55100.0</td>\n",
       "      <td>Public</td>\n",
       "    </tr>\n",
       "    <tr>\n",
       "      <th>3</th>\n",
       "      <td>3</td>\n",
       "      <td>Alabama State University</td>\n",
       "      <td>100724</td>\n",
       "      <td>AL</td>\n",
       "      <td>1</td>\n",
       "      <td>0.6797</td>\n",
       "      <td>7194.0</td>\n",
       "      <td>3603.0</td>\n",
       "      <td>0.3605</td>\n",
       "      <td>0.6395</td>\n",
       "      <td>...</td>\n",
       "      <td>28300.0</td>\n",
       "      <td>21400.0</td>\n",
       "      <td>0.528</td>\n",
       "      <td>1519.0</td>\n",
       "      <td>548.0</td>\n",
       "      <td>151.0</td>\n",
       "      <td>29000.0</td>\n",
       "      <td>32500.0</td>\n",
       "      <td>34300.0</td>\n",
       "      <td>Public</td>\n",
       "    </tr>\n",
       "    <tr>\n",
       "      <th>4</th>\n",
       "      <td>4</td>\n",
       "      <td>The University of Alabama</td>\n",
       "      <td>100751</td>\n",
       "      <td>AL</td>\n",
       "      <td>1</td>\n",
       "      <td>0.7707</td>\n",
       "      <td>10349.0</td>\n",
       "      <td>30610.0</td>\n",
       "      <td>0.4417</td>\n",
       "      <td>0.5583</td>\n",
       "      <td>...</td>\n",
       "      <td>45100.0</td>\n",
       "      <td>42500.0</td>\n",
       "      <td>0.786</td>\n",
       "      <td>1424.0</td>\n",
       "      <td>1545.0</td>\n",
       "      <td>2024.0</td>\n",
       "      <td>45500.0</td>\n",
       "      <td>51600.0</td>\n",
       "      <td>55800.0</td>\n",
       "      <td>Public</td>\n",
       "    </tr>\n",
       "  </tbody>\n",
       "</table>\n",
       "<p>5 rows × 41 columns</p>\n",
       "</div>"
      ],
      "text/plain": [
       "   index                          school_name  school_id school_state  \\\n",
       "0      0             Alabama A & M University     100654           AL   \n",
       "1      1  University of Alabama at Birmingham     100663           AL   \n",
       "2      2  University of Alabama in Huntsville     100706           AL   \n",
       "3      3             Alabama State University     100724           AL   \n",
       "4      4            The University of Alabama     100751           AL   \n",
       "\n",
       "   school_ownership  full_time_faculty_rate  faculty_avg_sal_monthly  \\\n",
       "0                 1                  0.9960                   7599.0   \n",
       "1                 1                  0.7619                  11380.0   \n",
       "2                 1                  0.6702                   9697.0   \n",
       "3                 1                  0.6797                   7194.0   \n",
       "4                 1                  0.7707                  10349.0   \n",
       "\n",
       "   stud_enroll_size  percent_male_stud  percent_fem_stud  ...  \\\n",
       "0            5090.0             0.3978            0.6022  ...   \n",
       "1           13549.0             0.3816            0.6184  ...   \n",
       "2            7825.0             0.5891            0.4109  ...   \n",
       "3            3603.0             0.3605            0.6395  ...   \n",
       "4           30610.0             0.4417            0.5583  ...   \n",
       "\n",
       "   mean_fem_earn_10yrs  std_earn_10yrs  percent_above_25k_10years  \\\n",
       "0              32600.0         25400.0                      0.599   \n",
       "1              43200.0         39200.0                      0.747   \n",
       "2              46000.0         33600.0                      0.779   \n",
       "3              28300.0         21400.0                      0.528   \n",
       "4              45100.0         42500.0                      0.786   \n",
       "\n",
       "   low_income_10yrs  medium_income_10yrs  high_income_10yrs  \\\n",
       "0             459.0                337.0              166.0   \n",
       "1            1304.0                911.0              649.0   \n",
       "2             682.0                454.0              378.0   \n",
       "3            1519.0                548.0              151.0   \n",
       "4            1424.0               1545.0             2024.0   \n",
       "\n",
       "   low_mean_earn_10yrs  med_mean_earn_10yrs  high_mean_earn_10yrs  \\\n",
       "0              33000.0              37300.0               39500.0   \n",
       "1              47000.0              49500.0               49300.0   \n",
       "2              47000.0              55500.0               55100.0   \n",
       "3              29000.0              32500.0               34300.0   \n",
       "4              45500.0              51600.0               55800.0   \n",
       "\n",
       "   school_ownership_cat  \n",
       "0                Public  \n",
       "1                Public  \n",
       "2                Public  \n",
       "3                Public  \n",
       "4                Public  \n",
       "\n",
       "[5 rows x 41 columns]"
      ]
     },
     "execution_count": 143,
     "metadata": {},
     "output_type": "execute_result"
    }
   ],
   "source": [
    "schools_file.head()"
   ]
  },
  {
   "cell_type": "code",
   "execution_count": 144,
   "id": "7baf171a",
   "metadata": {},
   "outputs": [],
   "source": [
    "### Merging 3 Tables into One Dataset"
   ]
  },
  {
   "cell_type": "code",
   "execution_count": 145,
   "id": "8099eb37",
   "metadata": {},
   "outputs": [],
   "source": [
    "#initiate cursor for executing SQL\n",
    "cur = conn.cursor()"
   ]
  },
  {
   "cell_type": "code",
   "execution_count": 146,
   "id": "8dd60a63",
   "metadata": {},
   "outputs": [],
   "source": [
    "#takes the schools dataset (API data) and joins all its rows to the rates table\n",
    "#each university should have one corresponding rank and rates information\n",
    "#join universities and their ranks to the information on salaries as only certain ones were included in the CSV"
   ]
  },
  {
   "cell_type": "code",
   "execution_count": 147,
   "id": "8086915a",
   "metadata": {},
   "outputs": [
    {
     "data": {
      "text/plain": [
       "<sqlite3.Cursor at 0x23db71d9c00>"
      ]
     },
     "execution_count": 147,
     "metadata": {},
     "output_type": "execute_result"
    }
   ],
   "source": [
    "cur.execute('''SELECT *\n",
    "               FROM grad_salaries\n",
    "               LEFT JOIN schools ON schools.school_name = grad_salaries.school_name\n",
    "               LEFT JOIN univ_rates ON univ_rates.School = schools.school_name\n",
    "               ''')"
   ]
  },
  {
   "cell_type": "code",
   "execution_count": 148,
   "id": "0ab1e307",
   "metadata": {},
   "outputs": [
    {
     "data": {
      "text/html": [
       "<div>\n",
       "<style scoped>\n",
       "    .dataframe tbody tr th:only-of-type {\n",
       "        vertical-align: middle;\n",
       "    }\n",
       "\n",
       "    .dataframe tbody tr th {\n",
       "        vertical-align: top;\n",
       "    }\n",
       "\n",
       "    .dataframe thead th {\n",
       "        text-align: right;\n",
       "    }\n",
       "</style>\n",
       "<table border=\"1\" class=\"dataframe\">\n",
       "  <thead>\n",
       "    <tr style=\"text-align: right;\">\n",
       "      <th></th>\n",
       "      <th>index</th>\n",
       "      <th>school_name</th>\n",
       "      <th>Region</th>\n",
       "      <th>school_type</th>\n",
       "      <th>starting_median_salary</th>\n",
       "      <th>midCareer_median_salary</th>\n",
       "      <th>midCareer_25th_salary</th>\n",
       "      <th>midCareer_75th_salary</th>\n",
       "      <th>index</th>\n",
       "      <th>school_name</th>\n",
       "      <th>...</th>\n",
       "      <th>index</th>\n",
       "      <th>Rank</th>\n",
       "      <th>School</th>\n",
       "      <th>Stud_Fac_Ratio_Num</th>\n",
       "      <th>Grad_Rate</th>\n",
       "      <th>Reten_Rate</th>\n",
       "      <th>Accept_Rate</th>\n",
       "      <th>Enroll_Rate</th>\n",
       "      <th>Inst_Aid_Rate</th>\n",
       "      <th>Default_Rate</th>\n",
       "    </tr>\n",
       "  </thead>\n",
       "  <tbody>\n",
       "    <tr>\n",
       "      <th>0</th>\n",
       "      <td>214</td>\n",
       "      <td>Amherst College</td>\n",
       "      <td>Northeastern</td>\n",
       "      <td>Liberal Arts</td>\n",
       "      <td>54500</td>\n",
       "      <td>107000</td>\n",
       "      <td>84900</td>\n",
       "      <td>162000</td>\n",
       "      <td>599.0</td>\n",
       "      <td>Amherst College</td>\n",
       "      <td>...</td>\n",
       "      <td>NaN</td>\n",
       "      <td>None</td>\n",
       "      <td>None</td>\n",
       "      <td>NaN</td>\n",
       "      <td>NaN</td>\n",
       "      <td>NaN</td>\n",
       "      <td>NaN</td>\n",
       "      <td>NaN</td>\n",
       "      <td>NaN</td>\n",
       "      <td>NaN</td>\n",
       "    </tr>\n",
       "    <tr>\n",
       "      <th>1</th>\n",
       "      <td>189</td>\n",
       "      <td>Appalachian State University</td>\n",
       "      <td>Southern</td>\n",
       "      <td>State</td>\n",
       "      <td>40400</td>\n",
       "      <td>69100</td>\n",
       "      <td>50400</td>\n",
       "      <td>90800</td>\n",
       "      <td>1046.0</td>\n",
       "      <td>Appalachian State University</td>\n",
       "      <td>...</td>\n",
       "      <td>291.0</td>\n",
       "      <td>292</td>\n",
       "      <td>Appalachian State University</td>\n",
       "      <td>16.0</td>\n",
       "      <td>0.71</td>\n",
       "      <td>0.86</td>\n",
       "      <td>0.66</td>\n",
       "      <td>0.23</td>\n",
       "      <td>0.45</td>\n",
       "      <td>0.04</td>\n",
       "    </tr>\n",
       "    <tr>\n",
       "      <th>2</th>\n",
       "      <td>34</td>\n",
       "      <td>Arizona State University</td>\n",
       "      <td>Western</td>\n",
       "      <td>Party</td>\n",
       "      <td>47400</td>\n",
       "      <td>84100</td>\n",
       "      <td>60700</td>\n",
       "      <td>114000</td>\n",
       "      <td>NaN</td>\n",
       "      <td>None</td>\n",
       "      <td>...</td>\n",
       "      <td>NaN</td>\n",
       "      <td>None</td>\n",
       "      <td>None</td>\n",
       "      <td>NaN</td>\n",
       "      <td>NaN</td>\n",
       "      <td>NaN</td>\n",
       "      <td>NaN</td>\n",
       "      <td>NaN</td>\n",
       "      <td>NaN</td>\n",
       "      <td>NaN</td>\n",
       "    </tr>\n",
       "    <tr>\n",
       "      <th>3</th>\n",
       "      <td>194</td>\n",
       "      <td>Arkansas State University</td>\n",
       "      <td>Southern</td>\n",
       "      <td>State</td>\n",
       "      <td>38700</td>\n",
       "      <td>63300</td>\n",
       "      <td>45300</td>\n",
       "      <td>83900</td>\n",
       "      <td>44.0</td>\n",
       "      <td>Arkansas State University</td>\n",
       "      <td>...</td>\n",
       "      <td>NaN</td>\n",
       "      <td>None</td>\n",
       "      <td>None</td>\n",
       "      <td>NaN</td>\n",
       "      <td>NaN</td>\n",
       "      <td>NaN</td>\n",
       "      <td>NaN</td>\n",
       "      <td>NaN</td>\n",
       "      <td>NaN</td>\n",
       "      <td>NaN</td>\n",
       "    </tr>\n",
       "    <tr>\n",
       "      <th>4</th>\n",
       "      <td>149</td>\n",
       "      <td>Auburn University</td>\n",
       "      <td>Southern</td>\n",
       "      <td>State</td>\n",
       "      <td>45400</td>\n",
       "      <td>84700</td>\n",
       "      <td>62700</td>\n",
       "      <td>109000</td>\n",
       "      <td>7.0</td>\n",
       "      <td>Auburn University</td>\n",
       "      <td>...</td>\n",
       "      <td>430.0</td>\n",
       "      <td>431</td>\n",
       "      <td>Auburn University</td>\n",
       "      <td>19.0</td>\n",
       "      <td>0.73</td>\n",
       "      <td>0.90</td>\n",
       "      <td>0.78</td>\n",
       "      <td>0.25</td>\n",
       "      <td>0.53</td>\n",
       "      <td>0.06</td>\n",
       "    </tr>\n",
       "    <tr>\n",
       "      <th>...</th>\n",
       "      <td>...</td>\n",
       "      <td>...</td>\n",
       "      <td>...</td>\n",
       "      <td>...</td>\n",
       "      <td>...</td>\n",
       "      <td>...</td>\n",
       "      <td>...</td>\n",
       "      <td>...</td>\n",
       "      <td>...</td>\n",
       "      <td>...</td>\n",
       "      <td>...</td>\n",
       "      <td>...</td>\n",
       "      <td>...</td>\n",
       "      <td>...</td>\n",
       "      <td>...</td>\n",
       "      <td>...</td>\n",
       "      <td>...</td>\n",
       "      <td>...</td>\n",
       "      <td>...</td>\n",
       "      <td>...</td>\n",
       "      <td>...</td>\n",
       "    </tr>\n",
       "    <tr>\n",
       "      <th>245</th>\n",
       "      <td>44</td>\n",
       "      <td>Whitman College</td>\n",
       "      <td>Western</td>\n",
       "      <td>Liberal Arts</td>\n",
       "      <td>43500</td>\n",
       "      <td>80100</td>\n",
       "      <td>64800</td>\n",
       "      <td>111000</td>\n",
       "      <td>1583.0</td>\n",
       "      <td>Whitman College</td>\n",
       "      <td>...</td>\n",
       "      <td>NaN</td>\n",
       "      <td>None</td>\n",
       "      <td>None</td>\n",
       "      <td>NaN</td>\n",
       "      <td>NaN</td>\n",
       "      <td>NaN</td>\n",
       "      <td>NaN</td>\n",
       "      <td>NaN</td>\n",
       "      <td>NaN</td>\n",
       "      <td>NaN</td>\n",
       "    </tr>\n",
       "    <tr>\n",
       "      <th>246</th>\n",
       "      <td>220</td>\n",
       "      <td>Williams College</td>\n",
       "      <td>Northeastern</td>\n",
       "      <td>Liberal Arts</td>\n",
       "      <td>51700</td>\n",
       "      <td>102000</td>\n",
       "      <td>76400</td>\n",
       "      <td>143000</td>\n",
       "      <td>664.0</td>\n",
       "      <td>Williams College</td>\n",
       "      <td>...</td>\n",
       "      <td>NaN</td>\n",
       "      <td>None</td>\n",
       "      <td>None</td>\n",
       "      <td>NaN</td>\n",
       "      <td>NaN</td>\n",
       "      <td>NaN</td>\n",
       "      <td>NaN</td>\n",
       "      <td>NaN</td>\n",
       "      <td>NaN</td>\n",
       "      <td>NaN</td>\n",
       "    </tr>\n",
       "    <tr>\n",
       "      <th>247</th>\n",
       "      <td>96</td>\n",
       "      <td>Wittenberg University</td>\n",
       "      <td>Midwestern</td>\n",
       "      <td>Liberal Arts</td>\n",
       "      <td>39200</td>\n",
       "      <td>78200</td>\n",
       "      <td>54100</td>\n",
       "      <td>131000</td>\n",
       "      <td>1173.0</td>\n",
       "      <td>Wittenberg University</td>\n",
       "      <td>...</td>\n",
       "      <td>NaN</td>\n",
       "      <td>None</td>\n",
       "      <td>None</td>\n",
       "      <td>NaN</td>\n",
       "      <td>NaN</td>\n",
       "      <td>NaN</td>\n",
       "      <td>NaN</td>\n",
       "      <td>NaN</td>\n",
       "      <td>NaN</td>\n",
       "      <td>NaN</td>\n",
       "    </tr>\n",
       "    <tr>\n",
       "      <th>248</th>\n",
       "      <td>206</td>\n",
       "      <td>Worcester Polytechnic Institute</td>\n",
       "      <td>Northeastern</td>\n",
       "      <td>Engineering</td>\n",
       "      <td>61000</td>\n",
       "      <td>114000</td>\n",
       "      <td>91200</td>\n",
       "      <td>137000</td>\n",
       "      <td>665.0</td>\n",
       "      <td>Worcester Polytechnic Institute</td>\n",
       "      <td>...</td>\n",
       "      <td>109.0</td>\n",
       "      <td>110</td>\n",
       "      <td>Worcester Polytechnic Institute</td>\n",
       "      <td>13.0</td>\n",
       "      <td>0.85</td>\n",
       "      <td>0.96</td>\n",
       "      <td>0.49</td>\n",
       "      <td>0.11</td>\n",
       "      <td>0.92</td>\n",
       "      <td>0.06</td>\n",
       "    </tr>\n",
       "    <tr>\n",
       "      <th>249</th>\n",
       "      <td>201</td>\n",
       "      <td>Yale University</td>\n",
       "      <td>Northeastern</td>\n",
       "      <td>Ivy League</td>\n",
       "      <td>59100</td>\n",
       "      <td>126000</td>\n",
       "      <td>80600</td>\n",
       "      <td>198000</td>\n",
       "      <td>210.0</td>\n",
       "      <td>Yale University</td>\n",
       "      <td>...</td>\n",
       "      <td>1.0</td>\n",
       "      <td>2</td>\n",
       "      <td>Yale University</td>\n",
       "      <td>6.0</td>\n",
       "      <td>0.97</td>\n",
       "      <td>0.99</td>\n",
       "      <td>0.07</td>\n",
       "      <td>0.05</td>\n",
       "      <td>0.52</td>\n",
       "      <td>0.06</td>\n",
       "    </tr>\n",
       "  </tbody>\n",
       "</table>\n",
       "<p>250 rows × 59 columns</p>\n",
       "</div>"
      ],
      "text/plain": [
       "     index                      school_name        Region   school_type  \\\n",
       "0      214                  Amherst College  Northeastern  Liberal Arts   \n",
       "1      189     Appalachian State University      Southern         State   \n",
       "2       34         Arizona State University       Western         Party   \n",
       "3      194        Arkansas State University      Southern         State   \n",
       "4      149                Auburn University      Southern         State   \n",
       "..     ...                              ...           ...           ...   \n",
       "245     44                  Whitman College       Western  Liberal Arts   \n",
       "246    220                 Williams College  Northeastern  Liberal Arts   \n",
       "247     96            Wittenberg University    Midwestern  Liberal Arts   \n",
       "248    206  Worcester Polytechnic Institute  Northeastern   Engineering   \n",
       "249    201                  Yale University  Northeastern    Ivy League   \n",
       "\n",
       "     starting_median_salary  midCareer_median_salary  midCareer_25th_salary  \\\n",
       "0                     54500                   107000                  84900   \n",
       "1                     40400                    69100                  50400   \n",
       "2                     47400                    84100                  60700   \n",
       "3                     38700                    63300                  45300   \n",
       "4                     45400                    84700                  62700   \n",
       "..                      ...                      ...                    ...   \n",
       "245                   43500                    80100                  64800   \n",
       "246                   51700                   102000                  76400   \n",
       "247                   39200                    78200                  54100   \n",
       "248                   61000                   114000                  91200   \n",
       "249                   59100                   126000                  80600   \n",
       "\n",
       "     midCareer_75th_salary   index                      school_name  ...  \\\n",
       "0                   162000   599.0                  Amherst College  ...   \n",
       "1                    90800  1046.0     Appalachian State University  ...   \n",
       "2                   114000     NaN                             None  ...   \n",
       "3                    83900    44.0        Arkansas State University  ...   \n",
       "4                   109000     7.0                Auburn University  ...   \n",
       "..                     ...     ...                              ...  ...   \n",
       "245                 111000  1583.0                  Whitman College  ...   \n",
       "246                 143000   664.0                 Williams College  ...   \n",
       "247                 131000  1173.0            Wittenberg University  ...   \n",
       "248                 137000   665.0  Worcester Polytechnic Institute  ...   \n",
       "249                 198000   210.0                  Yale University  ...   \n",
       "\n",
       "     index  Rank                           School  Stud_Fac_Ratio_Num  \\\n",
       "0      NaN  None                             None                 NaN   \n",
       "1    291.0   292     Appalachian State University                16.0   \n",
       "2      NaN  None                             None                 NaN   \n",
       "3      NaN  None                             None                 NaN   \n",
       "4    430.0   431                Auburn University                19.0   \n",
       "..     ...   ...                              ...                 ...   \n",
       "245    NaN  None                             None                 NaN   \n",
       "246    NaN  None                             None                 NaN   \n",
       "247    NaN  None                             None                 NaN   \n",
       "248  109.0   110  Worcester Polytechnic Institute                13.0   \n",
       "249    1.0     2                  Yale University                 6.0   \n",
       "\n",
       "     Grad_Rate  Reten_Rate  Accept_Rate  Enroll_Rate  Inst_Aid_Rate  \\\n",
       "0          NaN         NaN          NaN          NaN            NaN   \n",
       "1         0.71        0.86         0.66         0.23           0.45   \n",
       "2          NaN         NaN          NaN          NaN            NaN   \n",
       "3          NaN         NaN          NaN          NaN            NaN   \n",
       "4         0.73        0.90         0.78         0.25           0.53   \n",
       "..         ...         ...          ...          ...            ...   \n",
       "245        NaN         NaN          NaN          NaN            NaN   \n",
       "246        NaN         NaN          NaN          NaN            NaN   \n",
       "247        NaN         NaN          NaN          NaN            NaN   \n",
       "248       0.85        0.96         0.49         0.11           0.92   \n",
       "249       0.97        0.99         0.07         0.05           0.52   \n",
       "\n",
       "     Default_Rate  \n",
       "0             NaN  \n",
       "1            0.04  \n",
       "2             NaN  \n",
       "3             NaN  \n",
       "4            0.06  \n",
       "..            ...  \n",
       "245           NaN  \n",
       "246           NaN  \n",
       "247           NaN  \n",
       "248          0.06  \n",
       "249          0.06  \n",
       "\n",
       "[250 rows x 59 columns]"
      ]
     },
     "execution_count": 148,
     "metadata": {},
     "output_type": "execute_result"
    }
   ],
   "source": [
    "data= pd.DataFrame(cur.fetchall()) #converts SQL query results into dataframe format\n",
    "data.columns = [x[0] for x in cur.description] #labels the columns of the dataframe\n",
    "data"
   ]
  },
  {
   "cell_type": "code",
   "execution_count": 149,
   "id": "e261dacc",
   "metadata": {},
   "outputs": [],
   "source": [
    "#converting 'Rank' to be of float type\n",
    "data['Rank'] = data['Rank'].astype(float, errors = 'raise')"
   ]
  },
  {
   "cell_type": "markdown",
   "id": "4a9e8c97",
   "metadata": {},
   "source": [
    "### Visualizations"
   ]
  },
  {
   "cell_type": "code",
   "execution_count": 150,
   "id": "f8f75082",
   "metadata": {},
   "outputs": [],
   "source": [
    "import matplotlib.pyplot as plt\n",
    "import seaborn as sns"
   ]
  },
  {
   "cell_type": "markdown",
   "id": "fb06d7e0",
   "metadata": {},
   "source": [
    "Handling Column Names in Merged Dataset"
   ]
  },
  {
   "cell_type": "code",
   "execution_count": 151,
   "id": "5cdb7b9e",
   "metadata": {},
   "outputs": [],
   "source": [
    "#renaming 'school_name' columns to be different\n",
    "cols = []\n",
    "count = 1\n",
    "for column in data.columns:\n",
    "    if column == 'school_name':\n",
    "        cols.append(f'school_name_{count}')\n",
    "        count+=1\n",
    "        continue\n",
    "    cols.append(column)\n",
    "data.columns = cols"
   ]
  },
  {
   "cell_type": "code",
   "execution_count": 152,
   "id": "13054e45",
   "metadata": {},
   "outputs": [
    {
     "data": {
      "text/plain": [
       "0                      Amherst College\n",
       "1         Appalachian State University\n",
       "2             Arizona State University\n",
       "3            Arkansas State University\n",
       "4                    Auburn University\n",
       "                    ...               \n",
       "245                    Whitman College\n",
       "246                   Williams College\n",
       "247              Wittenberg University\n",
       "248    Worcester Polytechnic Institute\n",
       "249                    Yale University\n",
       "Name: school_name_1, Length: 250, dtype: object"
      ]
     },
     "execution_count": 152,
     "metadata": {},
     "output_type": "execute_result"
    }
   ],
   "source": [
    "data.school_name_1"
   ]
  },
  {
   "cell_type": "code",
   "execution_count": 153,
   "id": "f9783b87",
   "metadata": {},
   "outputs": [
    {
     "data": {
      "text/html": [
       "<div>\n",
       "<style scoped>\n",
       "    .dataframe tbody tr th:only-of-type {\n",
       "        vertical-align: middle;\n",
       "    }\n",
       "\n",
       "    .dataframe tbody tr th {\n",
       "        vertical-align: top;\n",
       "    }\n",
       "\n",
       "    .dataframe thead th {\n",
       "        text-align: right;\n",
       "    }\n",
       "</style>\n",
       "<table border=\"1\" class=\"dataframe\">\n",
       "  <thead>\n",
       "    <tr style=\"text-align: right;\">\n",
       "      <th></th>\n",
       "      <th>index</th>\n",
       "      <th>school_name_1</th>\n",
       "      <th>Region</th>\n",
       "      <th>school_type</th>\n",
       "      <th>starting_median_salary</th>\n",
       "      <th>midCareer_median_salary</th>\n",
       "      <th>midCareer_25th_salary</th>\n",
       "      <th>midCareer_75th_salary</th>\n",
       "      <th>index</th>\n",
       "      <th>school_name_2</th>\n",
       "      <th>...</th>\n",
       "      <th>index</th>\n",
       "      <th>Rank</th>\n",
       "      <th>School</th>\n",
       "      <th>Stud_Fac_Ratio_Num</th>\n",
       "      <th>Grad_Rate</th>\n",
       "      <th>Reten_Rate</th>\n",
       "      <th>Accept_Rate</th>\n",
       "      <th>Enroll_Rate</th>\n",
       "      <th>Inst_Aid_Rate</th>\n",
       "      <th>Default_Rate</th>\n",
       "    </tr>\n",
       "  </thead>\n",
       "  <tbody>\n",
       "    <tr>\n",
       "      <th>0</th>\n",
       "      <td>214</td>\n",
       "      <td>Amherst College</td>\n",
       "      <td>Northeastern</td>\n",
       "      <td>Liberal Arts</td>\n",
       "      <td>54500</td>\n",
       "      <td>107000</td>\n",
       "      <td>84900</td>\n",
       "      <td>162000</td>\n",
       "      <td>599.0</td>\n",
       "      <td>Amherst College</td>\n",
       "      <td>...</td>\n",
       "      <td>NaN</td>\n",
       "      <td>NaN</td>\n",
       "      <td>None</td>\n",
       "      <td>NaN</td>\n",
       "      <td>NaN</td>\n",
       "      <td>NaN</td>\n",
       "      <td>NaN</td>\n",
       "      <td>NaN</td>\n",
       "      <td>NaN</td>\n",
       "      <td>NaN</td>\n",
       "    </tr>\n",
       "    <tr>\n",
       "      <th>1</th>\n",
       "      <td>189</td>\n",
       "      <td>Appalachian State University</td>\n",
       "      <td>Southern</td>\n",
       "      <td>State</td>\n",
       "      <td>40400</td>\n",
       "      <td>69100</td>\n",
       "      <td>50400</td>\n",
       "      <td>90800</td>\n",
       "      <td>1046.0</td>\n",
       "      <td>Appalachian State University</td>\n",
       "      <td>...</td>\n",
       "      <td>291.0</td>\n",
       "      <td>292.0</td>\n",
       "      <td>Appalachian State University</td>\n",
       "      <td>16.0</td>\n",
       "      <td>0.71</td>\n",
       "      <td>0.86</td>\n",
       "      <td>0.66</td>\n",
       "      <td>0.23</td>\n",
       "      <td>0.45</td>\n",
       "      <td>0.04</td>\n",
       "    </tr>\n",
       "    <tr>\n",
       "      <th>2</th>\n",
       "      <td>34</td>\n",
       "      <td>Arizona State University</td>\n",
       "      <td>Western</td>\n",
       "      <td>Party</td>\n",
       "      <td>47400</td>\n",
       "      <td>84100</td>\n",
       "      <td>60700</td>\n",
       "      <td>114000</td>\n",
       "      <td>NaN</td>\n",
       "      <td>None</td>\n",
       "      <td>...</td>\n",
       "      <td>NaN</td>\n",
       "      <td>NaN</td>\n",
       "      <td>None</td>\n",
       "      <td>NaN</td>\n",
       "      <td>NaN</td>\n",
       "      <td>NaN</td>\n",
       "      <td>NaN</td>\n",
       "      <td>NaN</td>\n",
       "      <td>NaN</td>\n",
       "      <td>NaN</td>\n",
       "    </tr>\n",
       "    <tr>\n",
       "      <th>3</th>\n",
       "      <td>194</td>\n",
       "      <td>Arkansas State University</td>\n",
       "      <td>Southern</td>\n",
       "      <td>State</td>\n",
       "      <td>38700</td>\n",
       "      <td>63300</td>\n",
       "      <td>45300</td>\n",
       "      <td>83900</td>\n",
       "      <td>44.0</td>\n",
       "      <td>Arkansas State University</td>\n",
       "      <td>...</td>\n",
       "      <td>NaN</td>\n",
       "      <td>NaN</td>\n",
       "      <td>None</td>\n",
       "      <td>NaN</td>\n",
       "      <td>NaN</td>\n",
       "      <td>NaN</td>\n",
       "      <td>NaN</td>\n",
       "      <td>NaN</td>\n",
       "      <td>NaN</td>\n",
       "      <td>NaN</td>\n",
       "    </tr>\n",
       "    <tr>\n",
       "      <th>4</th>\n",
       "      <td>149</td>\n",
       "      <td>Auburn University</td>\n",
       "      <td>Southern</td>\n",
       "      <td>State</td>\n",
       "      <td>45400</td>\n",
       "      <td>84700</td>\n",
       "      <td>62700</td>\n",
       "      <td>109000</td>\n",
       "      <td>7.0</td>\n",
       "      <td>Auburn University</td>\n",
       "      <td>...</td>\n",
       "      <td>430.0</td>\n",
       "      <td>431.0</td>\n",
       "      <td>Auburn University</td>\n",
       "      <td>19.0</td>\n",
       "      <td>0.73</td>\n",
       "      <td>0.90</td>\n",
       "      <td>0.78</td>\n",
       "      <td>0.25</td>\n",
       "      <td>0.53</td>\n",
       "      <td>0.06</td>\n",
       "    </tr>\n",
       "  </tbody>\n",
       "</table>\n",
       "<p>5 rows × 59 columns</p>\n",
       "</div>"
      ],
      "text/plain": [
       "   index                 school_name_1        Region   school_type  \\\n",
       "0    214               Amherst College  Northeastern  Liberal Arts   \n",
       "1    189  Appalachian State University      Southern         State   \n",
       "2     34      Arizona State University       Western         Party   \n",
       "3    194     Arkansas State University      Southern         State   \n",
       "4    149             Auburn University      Southern         State   \n",
       "\n",
       "   starting_median_salary  midCareer_median_salary  midCareer_25th_salary  \\\n",
       "0                   54500                   107000                  84900   \n",
       "1                   40400                    69100                  50400   \n",
       "2                   47400                    84100                  60700   \n",
       "3                   38700                    63300                  45300   \n",
       "4                   45400                    84700                  62700   \n",
       "\n",
       "   midCareer_75th_salary   index                 school_name_2  ...  index  \\\n",
       "0                 162000   599.0               Amherst College  ...    NaN   \n",
       "1                  90800  1046.0  Appalachian State University  ...  291.0   \n",
       "2                 114000     NaN                          None  ...    NaN   \n",
       "3                  83900    44.0     Arkansas State University  ...    NaN   \n",
       "4                 109000     7.0             Auburn University  ...  430.0   \n",
       "\n",
       "    Rank                        School  Stud_Fac_Ratio_Num  Grad_Rate  \\\n",
       "0    NaN                          None                 NaN        NaN   \n",
       "1  292.0  Appalachian State University                16.0       0.71   \n",
       "2    NaN                          None                 NaN        NaN   \n",
       "3    NaN                          None                 NaN        NaN   \n",
       "4  431.0             Auburn University                19.0       0.73   \n",
       "\n",
       "   Reten_Rate  Accept_Rate  Enroll_Rate  Inst_Aid_Rate  Default_Rate  \n",
       "0         NaN          NaN          NaN            NaN           NaN  \n",
       "1        0.86         0.66         0.23           0.45          0.04  \n",
       "2         NaN          NaN          NaN            NaN           NaN  \n",
       "3         NaN          NaN          NaN            NaN           NaN  \n",
       "4        0.90         0.78         0.25           0.53          0.06  \n",
       "\n",
       "[5 rows x 59 columns]"
      ]
     },
     "execution_count": 153,
     "metadata": {},
     "output_type": "execute_result"
    }
   ],
   "source": [
    "data.head()"
   ]
  },
  {
   "cell_type": "code",
   "execution_count": 154,
   "id": "237a1193",
   "metadata": {},
   "outputs": [
    {
     "data": {
      "text/plain": [
       "Index(['index', 'school_name_1', 'Region', 'school_type',\n",
       "       'starting_median_salary', 'midCareer_median_salary',\n",
       "       'midCareer_25th_salary', 'midCareer_75th_salary', 'index',\n",
       "       'school_name_2', 'school_id', 'school_state', 'school_ownership',\n",
       "       'full_time_faculty_rate', 'faculty_avg_sal_monthly', 'stud_enroll_size',\n",
       "       'percent_male_stud', 'percent_fem_stud', '4_yr_retention',\n",
       "       'attendance_cost_per_year', '150%_completion_rate_4yr',\n",
       "       'admission_rate', 'sat_avg_overall', 'sat_75th_percentile_math',\n",
       "       'sat_75th_percentile_reading', 'sat_75th_percentile_writing',\n",
       "       'mean_earnings_6yrs', 'mean_male_earning_6yrs)',\n",
       "       'mean_fem_earning_6yrs', 'std_earning_6yrs', 'percent_above_25k_6yrs',\n",
       "       'low_income_6yrs', 'medium_income_6yrs', 'high_income_6yrs',\n",
       "       'low_mean_earn_6yrs', 'med_mean_earn_6yrs', 'high_mean_earn_6yrs',\n",
       "       'mean_earnings_10yrs', 'mean_male_earn_10yrs', 'mean_fem_earn_10yrs',\n",
       "       'std_earn_10yrs', 'percent_above_25k_10years', 'low_income_10yrs',\n",
       "       'medium_income_10yrs', 'high_income_10yrs', 'low_mean_earn_10yrs',\n",
       "       'med_mean_earn_10yrs', 'high_mean_earn_10yrs', 'school_ownership_cat',\n",
       "       'index', 'Rank', 'School', 'Stud_Fac_Ratio_Num', 'Grad_Rate',\n",
       "       'Reten_Rate', 'Accept_Rate', 'Enroll_Rate', 'Inst_Aid_Rate',\n",
       "       'Default_Rate'],\n",
       "      dtype='object')"
      ]
     },
     "execution_count": 154,
     "metadata": {},
     "output_type": "execute_result"
    }
   ],
   "source": [
    "data.columns"
   ]
  },
  {
   "cell_type": "markdown",
   "id": "fd700e3c",
   "metadata": {},
   "source": [
    "### Visualization #1: Scatter Plot Between Graduation Rate and Starting Median Salary"
   ]
  },
  {
   "cell_type": "code",
   "execution_count": 155,
   "id": "e825b502",
   "metadata": {},
   "outputs": [],
   "source": [
    "x = data['Grad_Rate']\n",
    "y = data['starting_median_salary']"
   ]
  },
  {
   "cell_type": "code",
   "execution_count": 156,
   "id": "0b0474ab",
   "metadata": {},
   "outputs": [
    {
     "data": {
      "image/png": "[encoded data removed]",
      "text/plain": [
       "<Figure size 432x288 with 1 Axes>"
      ]
     },
     "metadata": {
      "needs_background": "light"
     },
     "output_type": "display_data"
    }
   ],
   "source": [
    "plt.scatter(x,y)\n",
    "plt.xlabel('Graduation Rate')\n",
    "plt.ylabel('Starting Median Salary')\n",
    "plt.title('Starting Median Salary vs. University Graduation Rate')\n",
    "plt.show()"
   ]
  },
  {
   "cell_type": "markdown",
   "id": "a45f75ff",
   "metadata": {},
   "source": [
    "### Visualization #2 : Median Graduation Rates Per Region Bar Plot"
   ]
  },
  {
   "cell_type": "code",
   "execution_count": 157,
   "id": "ea92ff41",
   "metadata": {},
   "outputs": [
    {
     "data": {
      "text/plain": [
       "Region\n",
       "California      0.625\n",
       "Midwestern      0.710\n",
       "Northeastern    0.850\n",
       "Southern        0.660\n",
       "Western         0.640\n",
       "Name: Grad_Rate, dtype: float64"
      ]
     },
     "execution_count": 157,
     "metadata": {},
     "output_type": "execute_result"
    }
   ],
   "source": [
    "#number of universities per region --> minimizing effect of sample size\n",
    "data.groupby(['Region'])['Grad_Rate'].median()"
   ]
  },
  {
   "cell_type": "code",
   "execution_count": 158,
   "id": "e8e37cc4",
   "metadata": {},
   "outputs": [
    {
     "data": {
      "text/plain": [
       "Text(0.5, 1.0, 'Median Graduation Rate by Region of U.S. Universities')"
      ]
     },
     "execution_count": 158,
     "metadata": {},
     "output_type": "execute_result"
    },
    {
     "data": {
      "image/png": "[encoded data removed]",
      "text/plain": [
       "<Figure size 1440x1080 with 1 Axes>"
      ]
     },
     "metadata": {
      "needs_background": "light"
     },
     "output_type": "display_data"
    }
   ],
   "source": [
    "#side-by-side bar chart grouped on year and Region\n",
    "#Values shown are sums of Units Sold\n",
    "data.groupby(['Region'])['Grad_Rate'].median().plot(kind='bar', stacked=False,figsize=(20,15))\n",
    "plt.ylabel('Median Graduation Rate')\n",
    "plt.xlabel('Region')\n",
    "plt.title('Median Graduation Rate by Region of U.S. Universities')"
   ]
  },
  {
   "cell_type": "markdown",
   "id": "6e794567",
   "metadata": {},
   "source": [
    "### Visualization #3: Average Overall SAT Scores per Region per School Type"
   ]
  },
  {
   "cell_type": "code",
   "execution_count": 159,
   "id": "e2722c04",
   "metadata": {},
   "outputs": [
    {
     "data": {
      "text/plain": [
       "Text(0.5, 1.0, 'Average SAT Scores per Region per School Type')"
      ]
     },
     "execution_count": 159,
     "metadata": {},
     "output_type": "execute_result"
    },
    {
     "data": {
      "image/png": "[encoded data removed]",
      "text/plain": [
       "<Figure size 1440x1080 with 1 Axes>"
      ]
     },
     "metadata": {
      "needs_background": "light"
     },
     "output_type": "display_data"
    }
   ],
   "source": [
    "#side-by-side bar chart grouped on region and school type\n",
    "#Values shown are average SAT Overall\n",
    "data.groupby(['Region','school_type'])['sat_avg_overall'].mean().unstack().plot(kind='bar', stacked=False,figsize=(20,15))\n",
    "plt.ylabel('Average Overall SAT Scores')\n",
    "plt.xlabel('Region')\n",
    "plt.title('Average SAT Scores per Region per School Type')"
   ]
  },
  {
   "cell_type": "markdown",
   "id": "77053956",
   "metadata": {},
   "source": [
    "### Visualization #4: Northeastern Universities' Boxplots of Starting & Mid-Career Salaries"
   ]
  },
  {
   "cell_type": "code",
   "execution_count": 160,
   "id": "9577b46d",
   "metadata": {},
   "outputs": [
    {
     "data": {
      "text/plain": [
       "(69, 59)"
      ]
     },
     "execution_count": 160,
     "metadata": {},
     "output_type": "execute_result"
    }
   ],
   "source": [
    "#northeastern subset\n",
    "north_eastern = data[data['Region']=='Northeastern']\n",
    "north_eastern.shape"
   ]
  },
  {
   "cell_type": "code",
   "execution_count": 161,
   "id": "d93d082b",
   "metadata": {},
   "outputs": [
    {
     "data": {
      "text/html": [
       "<div>\n",
       "<style scoped>\n",
       "    .dataframe tbody tr th:only-of-type {\n",
       "        vertical-align: middle;\n",
       "    }\n",
       "\n",
       "    .dataframe tbody tr th {\n",
       "        vertical-align: top;\n",
       "    }\n",
       "\n",
       "    .dataframe thead th {\n",
       "        text-align: right;\n",
       "    }\n",
       "</style>\n",
       "<table border=\"1\" class=\"dataframe\">\n",
       "  <thead>\n",
       "    <tr style=\"text-align: right;\">\n",
       "      <th></th>\n",
       "      <th>school_name_1</th>\n",
       "      <th>Rank</th>\n",
       "    </tr>\n",
       "  </thead>\n",
       "  <tbody>\n",
       "    <tr>\n",
       "      <th>59</th>\n",
       "      <td>Harvard University</td>\n",
       "      <td>1.0</td>\n",
       "    </tr>\n",
       "    <tr>\n",
       "      <th>249</th>\n",
       "      <td>Yale University</td>\n",
       "      <td>2.0</td>\n",
       "    </tr>\n",
       "    <tr>\n",
       "      <th>200</th>\n",
       "      <td>University of Pennsylvania</td>\n",
       "      <td>3.0</td>\n",
       "    </tr>\n",
       "    <tr>\n",
       "      <th>37</th>\n",
       "      <td>Cornell University</td>\n",
       "      <td>5.0</td>\n",
       "    </tr>\n",
       "    <tr>\n",
       "      <th>26</th>\n",
       "      <td>Carnegie Mellon University</td>\n",
       "      <td>16.0</td>\n",
       "    </tr>\n",
       "    <tr>\n",
       "      <th>...</th>\n",
       "      <td>...</td>\n",
       "      <td>...</td>\n",
       "    </tr>\n",
       "    <tr>\n",
       "      <th>229</th>\n",
       "      <td>Ursinus College</td>\n",
       "      <td>NaN</td>\n",
       "    </tr>\n",
       "    <tr>\n",
       "      <th>232</th>\n",
       "      <td>Vassar College</td>\n",
       "      <td>NaN</td>\n",
       "    </tr>\n",
       "    <tr>\n",
       "      <th>238</th>\n",
       "      <td>Wellesley College</td>\n",
       "      <td>NaN</td>\n",
       "    </tr>\n",
       "    <tr>\n",
       "      <th>240</th>\n",
       "      <td>Wesleyan University</td>\n",
       "      <td>NaN</td>\n",
       "    </tr>\n",
       "    <tr>\n",
       "      <th>246</th>\n",
       "      <td>Williams College</td>\n",
       "      <td>NaN</td>\n",
       "    </tr>\n",
       "  </tbody>\n",
       "</table>\n",
       "<p>69 rows × 2 columns</p>\n",
       "</div>"
      ],
      "text/plain": [
       "                  school_name_1  Rank\n",
       "59           Harvard University   1.0\n",
       "249             Yale University   2.0\n",
       "200  University of Pennsylvania   3.0\n",
       "37           Cornell University   5.0\n",
       "26   Carnegie Mellon University  16.0\n",
       "..                          ...   ...\n",
       "229             Ursinus College   NaN\n",
       "232              Vassar College   NaN\n",
       "238           Wellesley College   NaN\n",
       "240         Wesleyan University   NaN\n",
       "246            Williams College   NaN\n",
       "\n",
       "[69 rows x 2 columns]"
      ]
     },
     "execution_count": 161,
     "metadata": {},
     "output_type": "execute_result"
    }
   ],
   "source": [
    "#looking at universities in Northeastern region\n",
    "north_eastern[['school_name_1','Rank']].sort_values('Rank')\n",
    "\n",
    "#contains 4 of the universities ranked in the Top 5!"
   ]
  },
  {
   "cell_type": "code",
   "execution_count": 162,
   "id": "b420577b",
   "metadata": {},
   "outputs": [
    {
     "data": {
      "text/plain": [
       "<AxesSubplot:xlabel='starting_median_salary'>"
      ]
     },
     "execution_count": 162,
     "metadata": {},
     "output_type": "execute_result"
    },
    {
     "data": {
      "image/png": "[encoded data removed]",
      "text/plain": [
       "<Figure size 432x288 with 1 Axes>"
      ]
     },
     "metadata": {
      "needs_background": "light"
     },
     "output_type": "display_data"
    }
   ],
   "source": [
    "#boxplot for the Northeastern Universities' students' starting median salaries\n",
    "sns.boxplot(x=north_eastern['starting_median_salary'])"
   ]
  },
  {
   "cell_type": "code",
   "execution_count": 163,
   "id": "5daa41af",
   "metadata": {},
   "outputs": [
    {
     "data": {
      "text/plain": [
       "<AxesSubplot:xlabel='midCareer_median_salary'>"
      ]
     },
     "execution_count": 163,
     "metadata": {},
     "output_type": "execute_result"
    },
    {
     "data": {
      "image/png": "[encoded data removed]",
      "text/plain": [
       "<Figure size 432x288 with 1 Axes>"
      ]
     },
     "metadata": {
      "needs_background": "light"
     },
     "output_type": "display_data"
    }
   ],
   "source": [
    "#boxplot for the Northeastern Universities' students' mid-career median salaries\n",
    "sns.boxplot(x=north_eastern['midCareer_median_salary'])"
   ]
  },
  {
   "cell_type": "markdown",
   "id": "6efcdf23",
   "metadata": {},
   "source": [
    "### Visualization #5: Histogram of 4-Year Retention Rates"
   ]
  },
  {
   "cell_type": "code",
   "execution_count": 164,
   "id": "c545266e",
   "metadata": {},
   "outputs": [
    {
     "data": {
      "image/png": "[encoded data removed]",
      "text/plain": [
       "<Figure size 432x288 with 1 Axes>"
      ]
     },
     "metadata": {
      "needs_background": "light"
     },
     "output_type": "display_data"
    }
   ],
   "source": [
    "x = data['4_yr_retention']\n",
    "plt.hist(x,bins=12)\n",
    "plt.show()"
   ]
  },
  {
   "cell_type": "markdown",
   "id": "30c63791",
   "metadata": {},
   "source": [
    "### Visualization #6: Pie Chart of School Ownership Categories"
   ]
  },
  {
   "cell_type": "code",
   "execution_count": 165,
   "id": "850d7420",
   "metadata": {},
   "outputs": [
    {
     "data": {
      "text/plain": [
       "Text(0.5, 1.0, 'Percentage of Universities by Ownership Type')"
      ]
     },
     "execution_count": 165,
     "metadata": {},
     "output_type": "execute_result"
    },
    {
     "data": {
      "image/png": "[encoded data removed]",
      "text/plain": [
       "<Figure size 1440x720 with 1 Axes>"
      ]
     },
     "metadata": {},
     "output_type": "display_data"
    }
   ],
   "source": [
    "#pie chart with only ownership grouping\n",
    "#start angle at 90 degrees -- 12 o'clock\n",
    "#No labels -- just using legend\n",
    "\n",
    "#using school name as y since it's the primary key and it holds a value for each survey respondent\n",
    "data.groupby(['school_ownership_cat']).count().plot(kind='pie',y='school_name_1',figsize=(20,10), autopct='%1.1f%%',legend=True,startangle=90,labels=None)\n",
    "#title for pie chart\n",
    "plt.title('Percentage of Universities by Ownership Type')"
   ]
  }
 ],
 "metadata": {
  "kernelspec": {
   "display_name": "Python 3 (ipykernel)",
   "language": "python",
   "name": "python3"
  },
  "language_info": {
   "codemirror_mode": {
    "name": "ipython",
    "version": 3
   },
   "file_extension": ".py",
   "mimetype": "text/x-python",
   "name": "python",
   "nbconvert_exporter": "python",
   "pygments_lexer": "ipython3",
   "version": "3.9.12"
  }
 },
 "nbformat": 4,
 "nbformat_minor": 5
}
