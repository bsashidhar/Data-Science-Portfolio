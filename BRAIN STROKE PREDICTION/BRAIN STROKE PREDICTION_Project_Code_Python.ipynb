{
 "cells": [
  {
   "cell_type": "code",
   "execution_count": 1,
   "id": "bf7df14c",
   "metadata": {},
   "outputs": [],
   "source": [
    "# Assignment: DSC550 Week10 \n",
    "# Name: Bezawada, Sashidhar\n",
    "# Date: 2023-05-20\n",
    "# 8.2 Term Project: Term Project Milestone 3: Model Building and Evaluation"
   ]
  },
  {
   "cell_type": "code",
   "execution_count": 2,
   "id": "96246be7",
   "metadata": {},
   "outputs": [],
   "source": [
    "#import libraries\n",
    "import numpy as np\n",
    "import pandas as pd\n",
    "import matplotlib.pyplot as plt"
   ]
  },
  {
   "cell_type": "code",
   "execution_count": 3,
   "id": "2e79289d",
   "metadata": {},
   "outputs": [],
   "source": [
    "#Load the dataset as a Pandas data frame\n",
    "df_brainstroke= pd.read_csv(\"datasets/week6/brain_stroke.csv\")"
   ]
  },
  {
   "cell_type": "code",
   "execution_count": 4,
   "id": "d5c896a8",
   "metadata": {},
   "outputs": [
    {
     "data": {
      "text/html": [
       "<div>\n",
       "<style scoped>\n",
       "    .dataframe tbody tr th:only-of-type {\n",
       "        vertical-align: middle;\n",
       "    }\n",
       "\n",
       "    .dataframe tbody tr th {\n",
       "        vertical-align: top;\n",
       "    }\n",
       "\n",
       "    .dataframe thead th {\n",
       "        text-align: right;\n",
       "    }\n",
       "</style>\n",
       "<table border=\"1\" class=\"dataframe\">\n",
       "  <thead>\n",
       "    <tr style=\"text-align: right;\">\n",
       "      <th></th>\n",
       "      <th>id</th>\n",
       "      <th>gender</th>\n",
       "      <th>age</th>\n",
       "      <th>hypertension</th>\n",
       "      <th>heart_disease</th>\n",
       "      <th>ever_married</th>\n",
       "      <th>work_type</th>\n",
       "      <th>Residence_type</th>\n",
       "      <th>avg_glucose_level</th>\n",
       "      <th>bmi</th>\n",
       "      <th>smoking_status</th>\n",
       "      <th>stroke</th>\n",
       "    </tr>\n",
       "  </thead>\n",
       "  <tbody>\n",
       "    <tr>\n",
       "      <th>0</th>\n",
       "      <td>9046</td>\n",
       "      <td>Male</td>\n",
       "      <td>67.0</td>\n",
       "      <td>0</td>\n",
       "      <td>1</td>\n",
       "      <td>Yes</td>\n",
       "      <td>Private</td>\n",
       "      <td>Urban</td>\n",
       "      <td>228.69</td>\n",
       "      <td>36.6</td>\n",
       "      <td>formerly smoked</td>\n",
       "      <td>1</td>\n",
       "    </tr>\n",
       "    <tr>\n",
       "      <th>1</th>\n",
       "      <td>51676</td>\n",
       "      <td>Female</td>\n",
       "      <td>61.0</td>\n",
       "      <td>0</td>\n",
       "      <td>0</td>\n",
       "      <td>Yes</td>\n",
       "      <td>Self-employed</td>\n",
       "      <td>Rural</td>\n",
       "      <td>202.21</td>\n",
       "      <td>NaN</td>\n",
       "      <td>never smoked</td>\n",
       "      <td>1</td>\n",
       "    </tr>\n",
       "    <tr>\n",
       "      <th>2</th>\n",
       "      <td>31112</td>\n",
       "      <td>Male</td>\n",
       "      <td>80.0</td>\n",
       "      <td>0</td>\n",
       "      <td>1</td>\n",
       "      <td>Yes</td>\n",
       "      <td>Private</td>\n",
       "      <td>Rural</td>\n",
       "      <td>105.92</td>\n",
       "      <td>32.5</td>\n",
       "      <td>never smoked</td>\n",
       "      <td>1</td>\n",
       "    </tr>\n",
       "    <tr>\n",
       "      <th>3</th>\n",
       "      <td>60182</td>\n",
       "      <td>Female</td>\n",
       "      <td>49.0</td>\n",
       "      <td>0</td>\n",
       "      <td>0</td>\n",
       "      <td>Yes</td>\n",
       "      <td>Private</td>\n",
       "      <td>Urban</td>\n",
       "      <td>171.23</td>\n",
       "      <td>34.4</td>\n",
       "      <td>smokes</td>\n",
       "      <td>1</td>\n",
       "    </tr>\n",
       "    <tr>\n",
       "      <th>4</th>\n",
       "      <td>1665</td>\n",
       "      <td>Female</td>\n",
       "      <td>79.0</td>\n",
       "      <td>1</td>\n",
       "      <td>0</td>\n",
       "      <td>Yes</td>\n",
       "      <td>Self-employed</td>\n",
       "      <td>Rural</td>\n",
       "      <td>174.12</td>\n",
       "      <td>24.0</td>\n",
       "      <td>never smoked</td>\n",
       "      <td>1</td>\n",
       "    </tr>\n",
       "    <tr>\n",
       "      <th>5</th>\n",
       "      <td>56669</td>\n",
       "      <td>Male</td>\n",
       "      <td>81.0</td>\n",
       "      <td>0</td>\n",
       "      <td>0</td>\n",
       "      <td>Yes</td>\n",
       "      <td>Private</td>\n",
       "      <td>Urban</td>\n",
       "      <td>186.21</td>\n",
       "      <td>29.0</td>\n",
       "      <td>formerly smoked</td>\n",
       "      <td>1</td>\n",
       "    </tr>\n",
       "    <tr>\n",
       "      <th>6</th>\n",
       "      <td>53882</td>\n",
       "      <td>Male</td>\n",
       "      <td>74.0</td>\n",
       "      <td>1</td>\n",
       "      <td>1</td>\n",
       "      <td>Yes</td>\n",
       "      <td>Private</td>\n",
       "      <td>Rural</td>\n",
       "      <td>70.09</td>\n",
       "      <td>27.4</td>\n",
       "      <td>never smoked</td>\n",
       "      <td>1</td>\n",
       "    </tr>\n",
       "    <tr>\n",
       "      <th>7</th>\n",
       "      <td>10434</td>\n",
       "      <td>Female</td>\n",
       "      <td>69.0</td>\n",
       "      <td>0</td>\n",
       "      <td>0</td>\n",
       "      <td>No</td>\n",
       "      <td>Private</td>\n",
       "      <td>Urban</td>\n",
       "      <td>94.39</td>\n",
       "      <td>22.8</td>\n",
       "      <td>never smoked</td>\n",
       "      <td>1</td>\n",
       "    </tr>\n",
       "    <tr>\n",
       "      <th>8</th>\n",
       "      <td>27419</td>\n",
       "      <td>Female</td>\n",
       "      <td>59.0</td>\n",
       "      <td>0</td>\n",
       "      <td>0</td>\n",
       "      <td>Yes</td>\n",
       "      <td>Private</td>\n",
       "      <td>Rural</td>\n",
       "      <td>76.15</td>\n",
       "      <td>NaN</td>\n",
       "      <td>Unknown</td>\n",
       "      <td>1</td>\n",
       "    </tr>\n",
       "    <tr>\n",
       "      <th>9</th>\n",
       "      <td>60491</td>\n",
       "      <td>Female</td>\n",
       "      <td>78.0</td>\n",
       "      <td>0</td>\n",
       "      <td>0</td>\n",
       "      <td>Yes</td>\n",
       "      <td>Private</td>\n",
       "      <td>Urban</td>\n",
       "      <td>58.57</td>\n",
       "      <td>24.2</td>\n",
       "      <td>Unknown</td>\n",
       "      <td>1</td>\n",
       "    </tr>\n",
       "  </tbody>\n",
       "</table>\n",
       "</div>"
      ],
      "text/plain": [
       "      id  gender   age  hypertension  heart_disease ever_married  \\\n",
       "0   9046    Male  67.0             0              1          Yes   \n",
       "1  51676  Female  61.0             0              0          Yes   \n",
       "2  31112    Male  80.0             0              1          Yes   \n",
       "3  60182  Female  49.0             0              0          Yes   \n",
       "4   1665  Female  79.0             1              0          Yes   \n",
       "5  56669    Male  81.0             0              0          Yes   \n",
       "6  53882    Male  74.0             1              1          Yes   \n",
       "7  10434  Female  69.0             0              0           No   \n",
       "8  27419  Female  59.0             0              0          Yes   \n",
       "9  60491  Female  78.0             0              0          Yes   \n",
       "\n",
       "       work_type Residence_type  avg_glucose_level   bmi   smoking_status  \\\n",
       "0        Private          Urban             228.69  36.6  formerly smoked   \n",
       "1  Self-employed          Rural             202.21   NaN     never smoked   \n",
       "2        Private          Rural             105.92  32.5     never smoked   \n",
       "3        Private          Urban             171.23  34.4           smokes   \n",
       "4  Self-employed          Rural             174.12  24.0     never smoked   \n",
       "5        Private          Urban             186.21  29.0  formerly smoked   \n",
       "6        Private          Rural              70.09  27.4     never smoked   \n",
       "7        Private          Urban              94.39  22.8     never smoked   \n",
       "8        Private          Rural              76.15   NaN          Unknown   \n",
       "9        Private          Urban              58.57  24.2          Unknown   \n",
       "\n",
       "   stroke  \n",
       "0       1  \n",
       "1       1  \n",
       "2       1  \n",
       "3       1  \n",
       "4       1  \n",
       "5       1  \n",
       "6       1  \n",
       "7       1  \n",
       "8       1  \n",
       "9       1  "
      ]
     },
     "execution_count": 4,
     "metadata": {},
     "output_type": "execute_result"
    }
   ],
   "source": [
    "#Display the first ten rows of data\n",
    "df_brainstroke.head(10)"
   ]
  },
  {
   "cell_type": "code",
   "execution_count": 5,
   "id": "6833d8fa",
   "metadata": {},
   "outputs": [
    {
     "name": "stdout",
     "output_type": "stream",
     "text": [
      "<class 'pandas.core.frame.DataFrame'>\n",
      "RangeIndex: 5110 entries, 0 to 5109\n",
      "Data columns (total 12 columns):\n",
      " #   Column             Non-Null Count  Dtype  \n",
      "---  ------             --------------  -----  \n",
      " 0   id                 5110 non-null   int64  \n",
      " 1   gender             5110 non-null   object \n",
      " 2   age                5110 non-null   float64\n",
      " 3   hypertension       5110 non-null   int64  \n",
      " 4   heart_disease      5110 non-null   int64  \n",
      " 5   ever_married       5110 non-null   object \n",
      " 6   work_type          5110 non-null   object \n",
      " 7   Residence_type     5110 non-null   object \n",
      " 8   avg_glucose_level  5110 non-null   float64\n",
      " 9   bmi                4909 non-null   float64\n",
      " 10  smoking_status     5110 non-null   object \n",
      " 11  stroke             5110 non-null   int64  \n",
      "dtypes: float64(3), int64(4), object(5)\n",
      "memory usage: 479.2+ KB\n"
     ]
    }
   ],
   "source": [
    "#Find the information in the data frame.\n",
    "df_brainstroke.info()"
   ]
  },
  {
   "cell_type": "code",
   "execution_count": 6,
   "id": "07bfb468",
   "metadata": {},
   "outputs": [
    {
     "data": {
      "text/plain": [
       "array(['Male', 'Female', 'Other'], dtype=object)"
      ]
     },
     "execution_count": 6,
     "metadata": {},
     "output_type": "execute_result"
    }
   ],
   "source": [
    "df_brainstroke['gender'].unique()"
   ]
  },
  {
   "cell_type": "code",
   "execution_count": 7,
   "id": "f9a7a1c8",
   "metadata": {},
   "outputs": [
    {
     "data": {
      "text/plain": [
       "array([0, 1], dtype=int64)"
      ]
     },
     "execution_count": 7,
     "metadata": {},
     "output_type": "execute_result"
    }
   ],
   "source": [
    "df_brainstroke['hypertension'].unique()"
   ]
  },
  {
   "cell_type": "code",
   "execution_count": 8,
   "id": "04463c9b",
   "metadata": {},
   "outputs": [
    {
     "data": {
      "text/plain": [
       "array([1, 0], dtype=int64)"
      ]
     },
     "execution_count": 8,
     "metadata": {},
     "output_type": "execute_result"
    }
   ],
   "source": [
    "df_brainstroke['heart_disease'].unique()"
   ]
  },
  {
   "cell_type": "code",
   "execution_count": 9,
   "id": "fd1d39c8",
   "metadata": {},
   "outputs": [
    {
     "data": {
      "text/plain": [
       "array(['Yes', 'No'], dtype=object)"
      ]
     },
     "execution_count": 9,
     "metadata": {},
     "output_type": "execute_result"
    }
   ],
   "source": [
    "df_brainstroke['ever_married'].unique()"
   ]
  },
  {
   "cell_type": "code",
   "execution_count": 10,
   "id": "04660b15",
   "metadata": {},
   "outputs": [
    {
     "data": {
      "text/plain": [
       "array(['Private', 'Self-employed', 'Govt_job', 'children', 'Never_worked'],\n",
       "      dtype=object)"
      ]
     },
     "execution_count": 10,
     "metadata": {},
     "output_type": "execute_result"
    }
   ],
   "source": [
    "df_brainstroke['work_type'].unique()"
   ]
  },
  {
   "cell_type": "code",
   "execution_count": 11,
   "id": "7584c04b",
   "metadata": {},
   "outputs": [
    {
     "data": {
      "text/plain": [
       "array([1, 0], dtype=int64)"
      ]
     },
     "execution_count": 11,
     "metadata": {},
     "output_type": "execute_result"
    }
   ],
   "source": [
    "df_brainstroke['stroke'].unique()"
   ]
  },
  {
   "cell_type": "markdown",
   "id": "fff4a7f5",
   "metadata": {},
   "source": [
    "## MILESTONE 2"
   ]
  },
  {
   "cell_type": "markdown",
   "id": "cd861bd6",
   "metadata": {},
   "source": [
    "## Data Transformation"
   ]
  },
  {
   "cell_type": "markdown",
   "id": "cffbd343",
   "metadata": {},
   "source": [
    "### 1. Dropping Columns/Features\n",
    "\n",
    "Dropping column Id as this a unique number given to each record (can be patient id or random generated number or serial number). It has no significance in decision making."
   ]
  },
  {
   "cell_type": "code",
   "execution_count": 12,
   "id": "e106132e",
   "metadata": {},
   "outputs": [],
   "source": [
    "df_brainstroke = df_brainstroke.drop('id',axis=1)"
   ]
  },
  {
   "cell_type": "markdown",
   "id": "9fdd92f1",
   "metadata": {},
   "source": [
    "### 2. Replacing values in a cloumn\n",
    "\n",
    "Changing work type 'Children' as 'Student' as Children is not work type and Changing formatting for other work types. Changing binary values to string values of Yes and No instead of 1 and 0 respectively for hypertension and heart_disease."
   ]
  },
  {
   "cell_type": "code",
   "execution_count": 13,
   "id": "0877011c",
   "metadata": {},
   "outputs": [],
   "source": [
    "#Changing work type 'Children' as 'Student' as Children is not work type and Changing formatting for other work types\n",
    "\n",
    "df_brainstroke['work_type'] = df_brainstroke['work_type'].replace(['children'], 'Student')\n",
    "df_brainstroke['work_type'] = df_brainstroke['work_type'].replace(['Self-employed'], 'Self Employed')\n",
    "df_brainstroke['work_type'] = df_brainstroke['work_type'].replace(['Govt_job'], 'Government')"
   ]
  },
  {
   "cell_type": "code",
   "execution_count": 14,
   "id": "baa86467",
   "metadata": {},
   "outputs": [
    {
     "data": {
      "text/plain": [
       "array(['Private', 'Self Employed', 'Government', 'Student',\n",
       "       'Never_worked'], dtype=object)"
      ]
     },
     "execution_count": 14,
     "metadata": {},
     "output_type": "execute_result"
    }
   ],
   "source": [
    "df_brainstroke['work_type'].unique()"
   ]
  },
  {
   "cell_type": "code",
   "execution_count": 15,
   "id": "11734b19",
   "metadata": {},
   "outputs": [],
   "source": [
    "#Changing binary values to string values of Yes and No instead of 1 and 0 respectively for  hypertension and heart_disease\n",
    "df_brainstroke['hypertension'] = df_brainstroke['hypertension'].replace([1], 'Yes')\n",
    "df_brainstroke['hypertension'] = df_brainstroke['hypertension'].replace([0], 'No')\n",
    "\n",
    "df_brainstroke['heart_disease'] = df_brainstroke['heart_disease'].replace([1], 'Yes')\n",
    "df_brainstroke['heart_disease'] = df_brainstroke['heart_disease'].replace([0], 'No')\n"
   ]
  },
  {
   "cell_type": "code",
   "execution_count": 16,
   "id": "a09f879b",
   "metadata": {},
   "outputs": [
    {
     "data": {
      "text/plain": [
       "array(['No', 'Yes'], dtype=object)"
      ]
     },
     "execution_count": 16,
     "metadata": {},
     "output_type": "execute_result"
    }
   ],
   "source": [
    "df_brainstroke['hypertension'].unique()"
   ]
  },
  {
   "cell_type": "code",
   "execution_count": 17,
   "id": "0dc087f3",
   "metadata": {},
   "outputs": [
    {
     "data": {
      "text/plain": [
       "array(['Yes', 'No'], dtype=object)"
      ]
     },
     "execution_count": 17,
     "metadata": {},
     "output_type": "execute_result"
    }
   ],
   "source": [
    "df_brainstroke['heart_disease'].unique()"
   ]
  },
  {
   "cell_type": "code",
   "execution_count": 18,
   "id": "815fe4e6",
   "metadata": {},
   "outputs": [
    {
     "data": {
      "text/plain": [
       "array([1, 0], dtype=int64)"
      ]
     },
     "execution_count": 18,
     "metadata": {},
     "output_type": "execute_result"
    }
   ],
   "source": [
    "df_brainstroke['stroke'].unique()"
   ]
  },
  {
   "cell_type": "code",
   "execution_count": 19,
   "id": "d6f17a6b",
   "metadata": {},
   "outputs": [
    {
     "data": {
      "text/plain": [
       "array(['formerly smoked', 'never smoked', 'smokes', 'Unknown'],\n",
       "      dtype=object)"
      ]
     },
     "execution_count": 19,
     "metadata": {},
     "output_type": "execute_result"
    }
   ],
   "source": [
    "df_brainstroke['smoking_status'].unique()"
   ]
  },
  {
   "cell_type": "markdown",
   "id": "d0d51a45",
   "metadata": {},
   "source": [
    "### 3. Renaming Column Name\n",
    "Changing column name stroke to brain_stroke as this is more meaningful"
   ]
  },
  {
   "cell_type": "code",
   "execution_count": 20,
   "id": "deea132a",
   "metadata": {},
   "outputs": [],
   "source": [
    "df_brainstroke = df_brainstroke.rename(columns={'stroke': 'brain_stroke'})"
   ]
  },
  {
   "cell_type": "code",
   "execution_count": 21,
   "id": "353bfa3f",
   "metadata": {},
   "outputs": [
    {
     "data": {
      "text/html": [
       "<div>\n",
       "<style scoped>\n",
       "    .dataframe tbody tr th:only-of-type {\n",
       "        vertical-align: middle;\n",
       "    }\n",
       "\n",
       "    .dataframe tbody tr th {\n",
       "        vertical-align: top;\n",
       "    }\n",
       "\n",
       "    .dataframe thead th {\n",
       "        text-align: right;\n",
       "    }\n",
       "</style>\n",
       "<table border=\"1\" class=\"dataframe\">\n",
       "  <thead>\n",
       "    <tr style=\"text-align: right;\">\n",
       "      <th></th>\n",
       "      <th>gender</th>\n",
       "      <th>age</th>\n",
       "      <th>hypertension</th>\n",
       "      <th>heart_disease</th>\n",
       "      <th>ever_married</th>\n",
       "      <th>work_type</th>\n",
       "      <th>Residence_type</th>\n",
       "      <th>avg_glucose_level</th>\n",
       "      <th>bmi</th>\n",
       "      <th>smoking_status</th>\n",
       "      <th>brain_stroke</th>\n",
       "    </tr>\n",
       "  </thead>\n",
       "  <tbody>\n",
       "    <tr>\n",
       "      <th>0</th>\n",
       "      <td>Male</td>\n",
       "      <td>67.0</td>\n",
       "      <td>No</td>\n",
       "      <td>Yes</td>\n",
       "      <td>Yes</td>\n",
       "      <td>Private</td>\n",
       "      <td>Urban</td>\n",
       "      <td>228.69</td>\n",
       "      <td>36.6</td>\n",
       "      <td>formerly smoked</td>\n",
       "      <td>1</td>\n",
       "    </tr>\n",
       "    <tr>\n",
       "      <th>1</th>\n",
       "      <td>Female</td>\n",
       "      <td>61.0</td>\n",
       "      <td>No</td>\n",
       "      <td>No</td>\n",
       "      <td>Yes</td>\n",
       "      <td>Self Employed</td>\n",
       "      <td>Rural</td>\n",
       "      <td>202.21</td>\n",
       "      <td>NaN</td>\n",
       "      <td>never smoked</td>\n",
       "      <td>1</td>\n",
       "    </tr>\n",
       "    <tr>\n",
       "      <th>2</th>\n",
       "      <td>Male</td>\n",
       "      <td>80.0</td>\n",
       "      <td>No</td>\n",
       "      <td>Yes</td>\n",
       "      <td>Yes</td>\n",
       "      <td>Private</td>\n",
       "      <td>Rural</td>\n",
       "      <td>105.92</td>\n",
       "      <td>32.5</td>\n",
       "      <td>never smoked</td>\n",
       "      <td>1</td>\n",
       "    </tr>\n",
       "    <tr>\n",
       "      <th>3</th>\n",
       "      <td>Female</td>\n",
       "      <td>49.0</td>\n",
       "      <td>No</td>\n",
       "      <td>No</td>\n",
       "      <td>Yes</td>\n",
       "      <td>Private</td>\n",
       "      <td>Urban</td>\n",
       "      <td>171.23</td>\n",
       "      <td>34.4</td>\n",
       "      <td>smokes</td>\n",
       "      <td>1</td>\n",
       "    </tr>\n",
       "    <tr>\n",
       "      <th>4</th>\n",
       "      <td>Female</td>\n",
       "      <td>79.0</td>\n",
       "      <td>Yes</td>\n",
       "      <td>No</td>\n",
       "      <td>Yes</td>\n",
       "      <td>Self Employed</td>\n",
       "      <td>Rural</td>\n",
       "      <td>174.12</td>\n",
       "      <td>24.0</td>\n",
       "      <td>never smoked</td>\n",
       "      <td>1</td>\n",
       "    </tr>\n",
       "    <tr>\n",
       "      <th>5</th>\n",
       "      <td>Male</td>\n",
       "      <td>81.0</td>\n",
       "      <td>No</td>\n",
       "      <td>No</td>\n",
       "      <td>Yes</td>\n",
       "      <td>Private</td>\n",
       "      <td>Urban</td>\n",
       "      <td>186.21</td>\n",
       "      <td>29.0</td>\n",
       "      <td>formerly smoked</td>\n",
       "      <td>1</td>\n",
       "    </tr>\n",
       "    <tr>\n",
       "      <th>6</th>\n",
       "      <td>Male</td>\n",
       "      <td>74.0</td>\n",
       "      <td>Yes</td>\n",
       "      <td>Yes</td>\n",
       "      <td>Yes</td>\n",
       "      <td>Private</td>\n",
       "      <td>Rural</td>\n",
       "      <td>70.09</td>\n",
       "      <td>27.4</td>\n",
       "      <td>never smoked</td>\n",
       "      <td>1</td>\n",
       "    </tr>\n",
       "    <tr>\n",
       "      <th>7</th>\n",
       "      <td>Female</td>\n",
       "      <td>69.0</td>\n",
       "      <td>No</td>\n",
       "      <td>No</td>\n",
       "      <td>No</td>\n",
       "      <td>Private</td>\n",
       "      <td>Urban</td>\n",
       "      <td>94.39</td>\n",
       "      <td>22.8</td>\n",
       "      <td>never smoked</td>\n",
       "      <td>1</td>\n",
       "    </tr>\n",
       "    <tr>\n",
       "      <th>8</th>\n",
       "      <td>Female</td>\n",
       "      <td>59.0</td>\n",
       "      <td>No</td>\n",
       "      <td>No</td>\n",
       "      <td>Yes</td>\n",
       "      <td>Private</td>\n",
       "      <td>Rural</td>\n",
       "      <td>76.15</td>\n",
       "      <td>NaN</td>\n",
       "      <td>Unknown</td>\n",
       "      <td>1</td>\n",
       "    </tr>\n",
       "    <tr>\n",
       "      <th>9</th>\n",
       "      <td>Female</td>\n",
       "      <td>78.0</td>\n",
       "      <td>No</td>\n",
       "      <td>No</td>\n",
       "      <td>Yes</td>\n",
       "      <td>Private</td>\n",
       "      <td>Urban</td>\n",
       "      <td>58.57</td>\n",
       "      <td>24.2</td>\n",
       "      <td>Unknown</td>\n",
       "      <td>1</td>\n",
       "    </tr>\n",
       "  </tbody>\n",
       "</table>\n",
       "</div>"
      ],
      "text/plain": [
       "   gender   age hypertension heart_disease ever_married      work_type  \\\n",
       "0    Male  67.0           No           Yes          Yes        Private   \n",
       "1  Female  61.0           No            No          Yes  Self Employed   \n",
       "2    Male  80.0           No           Yes          Yes        Private   \n",
       "3  Female  49.0           No            No          Yes        Private   \n",
       "4  Female  79.0          Yes            No          Yes  Self Employed   \n",
       "5    Male  81.0           No            No          Yes        Private   \n",
       "6    Male  74.0          Yes           Yes          Yes        Private   \n",
       "7  Female  69.0           No            No           No        Private   \n",
       "8  Female  59.0           No            No          Yes        Private   \n",
       "9  Female  78.0           No            No          Yes        Private   \n",
       "\n",
       "  Residence_type  avg_glucose_level   bmi   smoking_status  brain_stroke  \n",
       "0          Urban             228.69  36.6  formerly smoked             1  \n",
       "1          Rural             202.21   NaN     never smoked             1  \n",
       "2          Rural             105.92  32.5     never smoked             1  \n",
       "3          Urban             171.23  34.4           smokes             1  \n",
       "4          Rural             174.12  24.0     never smoked             1  \n",
       "5          Urban             186.21  29.0  formerly smoked             1  \n",
       "6          Rural              70.09  27.4     never smoked             1  \n",
       "7          Urban              94.39  22.8     never smoked             1  \n",
       "8          Rural              76.15   NaN          Unknown             1  \n",
       "9          Urban              58.57  24.2          Unknown             1  "
      ]
     },
     "execution_count": 21,
     "metadata": {},
     "output_type": "execute_result"
    }
   ],
   "source": [
    "df_brainstroke.head(10)"
   ]
  },
  {
   "cell_type": "code",
   "execution_count": 22,
   "id": "6f0b77f1",
   "metadata": {},
   "outputs": [
    {
     "data": {
      "text/plain": [
       "gender                object\n",
       "age                  float64\n",
       "hypertension          object\n",
       "heart_disease         object\n",
       "ever_married          object\n",
       "work_type             object\n",
       "Residence_type        object\n",
       "avg_glucose_level    float64\n",
       "bmi                  float64\n",
       "smoking_status        object\n",
       "brain_stroke           int64\n",
       "dtype: object"
      ]
     },
     "execution_count": 22,
     "metadata": {},
     "output_type": "execute_result"
    }
   ],
   "source": [
    "df_brainstroke.dtypes"
   ]
  },
  {
   "cell_type": "markdown",
   "id": "aa7bf9b8",
   "metadata": {},
   "source": [
    "### 4. Transform features\n",
    "\n",
    "As per BMI chart on National Heart, Lung and Blood Institute website (https://www.nhlbi.nih.gov/health/educational/lose_wt/BMI/bmi_tbl2.html), the maximum BMI is 54. So, any value above 54 is unrelaistic. \n",
    "So, replace values over 54 with 54 considering the person is obese."
   ]
  },
  {
   "cell_type": "code",
   "execution_count": 23,
   "id": "491b5591",
   "metadata": {},
   "outputs": [
    {
     "data": {
      "text/plain": [
       "97.6"
      ]
     },
     "execution_count": 23,
     "metadata": {},
     "output_type": "execute_result"
    }
   ],
   "source": [
    "np.max(df_brainstroke['bmi'])"
   ]
  },
  {
   "cell_type": "code",
   "execution_count": 24,
   "id": "b8236a18",
   "metadata": {},
   "outputs": [
    {
     "name": "stderr",
     "output_type": "stream",
     "text": [
      "C:\\Users\\sashi_000\\AppData\\Local\\Temp\\ipykernel_15068\\849835967.py:2: SettingWithCopyWarning: \n",
      "A value is trying to be set on a copy of a slice from a DataFrame\n",
      "\n",
      "See the caveats in the documentation: https://pandas.pydata.org/pandas-docs/stable/user_guide/indexing.html#returning-a-view-versus-a-copy\n",
      "  df_brainstroke['bmi'][df_brainstroke['bmi']>max_bmi] = max_bmi\n"
     ]
    }
   ],
   "source": [
    "max_bmi = 54.0\n",
    "df_brainstroke['bmi'][df_brainstroke['bmi']>max_bmi] = max_bmi"
   ]
  },
  {
   "cell_type": "code",
   "execution_count": 25,
   "id": "d56e3360",
   "metadata": {},
   "outputs": [
    {
     "data": {
      "text/plain": [
       "54.0"
      ]
     },
     "execution_count": 25,
     "metadata": {},
     "output_type": "execute_result"
    }
   ],
   "source": [
    "np.max(df_brainstroke['bmi'])"
   ]
  },
  {
   "cell_type": "markdown",
   "id": "ec6eb5b6",
   "metadata": {},
   "source": [
    "### 5. Engineer new useful features.\n",
    "\n",
    "Adding new column stage_of_life based on the age as we can decide which age group has an impact"
   ]
  },
  {
   "cell_type": "code",
   "execution_count": 26,
   "id": "b172ed31",
   "metadata": {},
   "outputs": [],
   "source": [
    "df_brainstroke['stage_of_life'] = np.where(df_brainstroke.age <= 2, 'Infant', \n",
    "                                 np.where(df_brainstroke.age < 5, 'Toddler', \n",
    "                                 np.where(df_brainstroke.age < 13, 'Child',\n",
    "                                 np.where(df_brainstroke.age < 20, 'Teen',\n",
    "                                 np.where(df_brainstroke.age < 40, 'Adult',\n",
    "                                 np.where(df_brainstroke.age < 60, 'Middle Age Adult ','Senior Adult'))))))"
   ]
  },
  {
   "cell_type": "code",
   "execution_count": 27,
   "id": "55693460",
   "metadata": {},
   "outputs": [
    {
     "data": {
      "text/html": [
       "<div>\n",
       "<style scoped>\n",
       "    .dataframe tbody tr th:only-of-type {\n",
       "        vertical-align: middle;\n",
       "    }\n",
       "\n",
       "    .dataframe tbody tr th {\n",
       "        vertical-align: top;\n",
       "    }\n",
       "\n",
       "    .dataframe thead th {\n",
       "        text-align: right;\n",
       "    }\n",
       "</style>\n",
       "<table border=\"1\" class=\"dataframe\">\n",
       "  <thead>\n",
       "    <tr style=\"text-align: right;\">\n",
       "      <th></th>\n",
       "      <th>gender</th>\n",
       "      <th>age</th>\n",
       "      <th>hypertension</th>\n",
       "      <th>heart_disease</th>\n",
       "      <th>ever_married</th>\n",
       "      <th>work_type</th>\n",
       "      <th>Residence_type</th>\n",
       "      <th>avg_glucose_level</th>\n",
       "      <th>bmi</th>\n",
       "      <th>smoking_status</th>\n",
       "      <th>brain_stroke</th>\n",
       "      <th>stage_of_life</th>\n",
       "    </tr>\n",
       "  </thead>\n",
       "  <tbody>\n",
       "    <tr>\n",
       "      <th>0</th>\n",
       "      <td>Male</td>\n",
       "      <td>67.0</td>\n",
       "      <td>No</td>\n",
       "      <td>Yes</td>\n",
       "      <td>Yes</td>\n",
       "      <td>Private</td>\n",
       "      <td>Urban</td>\n",
       "      <td>228.69</td>\n",
       "      <td>36.6</td>\n",
       "      <td>formerly smoked</td>\n",
       "      <td>1</td>\n",
       "      <td>Senior Adult</td>\n",
       "    </tr>\n",
       "    <tr>\n",
       "      <th>1</th>\n",
       "      <td>Female</td>\n",
       "      <td>61.0</td>\n",
       "      <td>No</td>\n",
       "      <td>No</td>\n",
       "      <td>Yes</td>\n",
       "      <td>Self Employed</td>\n",
       "      <td>Rural</td>\n",
       "      <td>202.21</td>\n",
       "      <td>NaN</td>\n",
       "      <td>never smoked</td>\n",
       "      <td>1</td>\n",
       "      <td>Senior Adult</td>\n",
       "    </tr>\n",
       "    <tr>\n",
       "      <th>2</th>\n",
       "      <td>Male</td>\n",
       "      <td>80.0</td>\n",
       "      <td>No</td>\n",
       "      <td>Yes</td>\n",
       "      <td>Yes</td>\n",
       "      <td>Private</td>\n",
       "      <td>Rural</td>\n",
       "      <td>105.92</td>\n",
       "      <td>32.5</td>\n",
       "      <td>never smoked</td>\n",
       "      <td>1</td>\n",
       "      <td>Senior Adult</td>\n",
       "    </tr>\n",
       "    <tr>\n",
       "      <th>3</th>\n",
       "      <td>Female</td>\n",
       "      <td>49.0</td>\n",
       "      <td>No</td>\n",
       "      <td>No</td>\n",
       "      <td>Yes</td>\n",
       "      <td>Private</td>\n",
       "      <td>Urban</td>\n",
       "      <td>171.23</td>\n",
       "      <td>34.4</td>\n",
       "      <td>smokes</td>\n",
       "      <td>1</td>\n",
       "      <td>Middle Age Adult</td>\n",
       "    </tr>\n",
       "    <tr>\n",
       "      <th>4</th>\n",
       "      <td>Female</td>\n",
       "      <td>79.0</td>\n",
       "      <td>Yes</td>\n",
       "      <td>No</td>\n",
       "      <td>Yes</td>\n",
       "      <td>Self Employed</td>\n",
       "      <td>Rural</td>\n",
       "      <td>174.12</td>\n",
       "      <td>24.0</td>\n",
       "      <td>never smoked</td>\n",
       "      <td>1</td>\n",
       "      <td>Senior Adult</td>\n",
       "    </tr>\n",
       "    <tr>\n",
       "      <th>5</th>\n",
       "      <td>Male</td>\n",
       "      <td>81.0</td>\n",
       "      <td>No</td>\n",
       "      <td>No</td>\n",
       "      <td>Yes</td>\n",
       "      <td>Private</td>\n",
       "      <td>Urban</td>\n",
       "      <td>186.21</td>\n",
       "      <td>29.0</td>\n",
       "      <td>formerly smoked</td>\n",
       "      <td>1</td>\n",
       "      <td>Senior Adult</td>\n",
       "    </tr>\n",
       "    <tr>\n",
       "      <th>6</th>\n",
       "      <td>Male</td>\n",
       "      <td>74.0</td>\n",
       "      <td>Yes</td>\n",
       "      <td>Yes</td>\n",
       "      <td>Yes</td>\n",
       "      <td>Private</td>\n",
       "      <td>Rural</td>\n",
       "      <td>70.09</td>\n",
       "      <td>27.4</td>\n",
       "      <td>never smoked</td>\n",
       "      <td>1</td>\n",
       "      <td>Senior Adult</td>\n",
       "    </tr>\n",
       "    <tr>\n",
       "      <th>7</th>\n",
       "      <td>Female</td>\n",
       "      <td>69.0</td>\n",
       "      <td>No</td>\n",
       "      <td>No</td>\n",
       "      <td>No</td>\n",
       "      <td>Private</td>\n",
       "      <td>Urban</td>\n",
       "      <td>94.39</td>\n",
       "      <td>22.8</td>\n",
       "      <td>never smoked</td>\n",
       "      <td>1</td>\n",
       "      <td>Senior Adult</td>\n",
       "    </tr>\n",
       "    <tr>\n",
       "      <th>8</th>\n",
       "      <td>Female</td>\n",
       "      <td>59.0</td>\n",
       "      <td>No</td>\n",
       "      <td>No</td>\n",
       "      <td>Yes</td>\n",
       "      <td>Private</td>\n",
       "      <td>Rural</td>\n",
       "      <td>76.15</td>\n",
       "      <td>NaN</td>\n",
       "      <td>Unknown</td>\n",
       "      <td>1</td>\n",
       "      <td>Middle Age Adult</td>\n",
       "    </tr>\n",
       "    <tr>\n",
       "      <th>9</th>\n",
       "      <td>Female</td>\n",
       "      <td>78.0</td>\n",
       "      <td>No</td>\n",
       "      <td>No</td>\n",
       "      <td>Yes</td>\n",
       "      <td>Private</td>\n",
       "      <td>Urban</td>\n",
       "      <td>58.57</td>\n",
       "      <td>24.2</td>\n",
       "      <td>Unknown</td>\n",
       "      <td>1</td>\n",
       "      <td>Senior Adult</td>\n",
       "    </tr>\n",
       "  </tbody>\n",
       "</table>\n",
       "</div>"
      ],
      "text/plain": [
       "   gender   age hypertension heart_disease ever_married      work_type  \\\n",
       "0    Male  67.0           No           Yes          Yes        Private   \n",
       "1  Female  61.0           No            No          Yes  Self Employed   \n",
       "2    Male  80.0           No           Yes          Yes        Private   \n",
       "3  Female  49.0           No            No          Yes        Private   \n",
       "4  Female  79.0          Yes            No          Yes  Self Employed   \n",
       "5    Male  81.0           No            No          Yes        Private   \n",
       "6    Male  74.0          Yes           Yes          Yes        Private   \n",
       "7  Female  69.0           No            No           No        Private   \n",
       "8  Female  59.0           No            No          Yes        Private   \n",
       "9  Female  78.0           No            No          Yes        Private   \n",
       "\n",
       "  Residence_type  avg_glucose_level   bmi   smoking_status  brain_stroke  \\\n",
       "0          Urban             228.69  36.6  formerly smoked             1   \n",
       "1          Rural             202.21   NaN     never smoked             1   \n",
       "2          Rural             105.92  32.5     never smoked             1   \n",
       "3          Urban             171.23  34.4           smokes             1   \n",
       "4          Rural             174.12  24.0     never smoked             1   \n",
       "5          Urban             186.21  29.0  formerly smoked             1   \n",
       "6          Rural              70.09  27.4     never smoked             1   \n",
       "7          Urban              94.39  22.8     never smoked             1   \n",
       "8          Rural              76.15   NaN          Unknown             1   \n",
       "9          Urban              58.57  24.2          Unknown             1   \n",
       "\n",
       "       stage_of_life  \n",
       "0       Senior Adult  \n",
       "1       Senior Adult  \n",
       "2       Senior Adult  \n",
       "3  Middle Age Adult   \n",
       "4       Senior Adult  \n",
       "5       Senior Adult  \n",
       "6       Senior Adult  \n",
       "7       Senior Adult  \n",
       "8  Middle Age Adult   \n",
       "9       Senior Adult  "
      ]
     },
     "execution_count": 27,
     "metadata": {},
     "output_type": "execute_result"
    }
   ],
   "source": [
    "df_brainstroke.head(10)"
   ]
  },
  {
   "cell_type": "markdown",
   "id": "0252053a",
   "metadata": {},
   "source": [
    "I am adding one more column 'weight_status' as bmi might have different values and difficult guage details on that. So, weight_status will categorize them into 3 different categories.Instead of bmi, I feel weight_status will be best suited for analysis."
   ]
  },
  {
   "cell_type": "code",
   "execution_count": 28,
   "id": "9743a85f",
   "metadata": {},
   "outputs": [],
   "source": [
    "df_brainstroke['weight_status'] = np.where(df_brainstroke.bmi < 18.5, 'Underweight', \n",
    "                                 np.where(df_brainstroke.bmi < 25.0, 'Healthy weight', \n",
    "                                 np.where(df_brainstroke.bmi < 30, 'Overweight','Obesity')))"
   ]
  },
  {
   "cell_type": "code",
   "execution_count": 29,
   "id": "b9d5745c",
   "metadata": {},
   "outputs": [
    {
     "data": {
      "text/html": [
       "<div>\n",
       "<style scoped>\n",
       "    .dataframe tbody tr th:only-of-type {\n",
       "        vertical-align: middle;\n",
       "    }\n",
       "\n",
       "    .dataframe tbody tr th {\n",
       "        vertical-align: top;\n",
       "    }\n",
       "\n",
       "    .dataframe thead th {\n",
       "        text-align: right;\n",
       "    }\n",
       "</style>\n",
       "<table border=\"1\" class=\"dataframe\">\n",
       "  <thead>\n",
       "    <tr style=\"text-align: right;\">\n",
       "      <th></th>\n",
       "      <th>gender</th>\n",
       "      <th>age</th>\n",
       "      <th>hypertension</th>\n",
       "      <th>heart_disease</th>\n",
       "      <th>ever_married</th>\n",
       "      <th>work_type</th>\n",
       "      <th>Residence_type</th>\n",
       "      <th>avg_glucose_level</th>\n",
       "      <th>bmi</th>\n",
       "      <th>smoking_status</th>\n",
       "      <th>brain_stroke</th>\n",
       "      <th>stage_of_life</th>\n",
       "      <th>weight_status</th>\n",
       "    </tr>\n",
       "  </thead>\n",
       "  <tbody>\n",
       "    <tr>\n",
       "      <th>0</th>\n",
       "      <td>Male</td>\n",
       "      <td>67.0</td>\n",
       "      <td>No</td>\n",
       "      <td>Yes</td>\n",
       "      <td>Yes</td>\n",
       "      <td>Private</td>\n",
       "      <td>Urban</td>\n",
       "      <td>228.69</td>\n",
       "      <td>36.6</td>\n",
       "      <td>formerly smoked</td>\n",
       "      <td>1</td>\n",
       "      <td>Senior Adult</td>\n",
       "      <td>Obesity</td>\n",
       "    </tr>\n",
       "    <tr>\n",
       "      <th>1</th>\n",
       "      <td>Female</td>\n",
       "      <td>61.0</td>\n",
       "      <td>No</td>\n",
       "      <td>No</td>\n",
       "      <td>Yes</td>\n",
       "      <td>Self Employed</td>\n",
       "      <td>Rural</td>\n",
       "      <td>202.21</td>\n",
       "      <td>NaN</td>\n",
       "      <td>never smoked</td>\n",
       "      <td>1</td>\n",
       "      <td>Senior Adult</td>\n",
       "      <td>Obesity</td>\n",
       "    </tr>\n",
       "    <tr>\n",
       "      <th>2</th>\n",
       "      <td>Male</td>\n",
       "      <td>80.0</td>\n",
       "      <td>No</td>\n",
       "      <td>Yes</td>\n",
       "      <td>Yes</td>\n",
       "      <td>Private</td>\n",
       "      <td>Rural</td>\n",
       "      <td>105.92</td>\n",
       "      <td>32.5</td>\n",
       "      <td>never smoked</td>\n",
       "      <td>1</td>\n",
       "      <td>Senior Adult</td>\n",
       "      <td>Obesity</td>\n",
       "    </tr>\n",
       "    <tr>\n",
       "      <th>3</th>\n",
       "      <td>Female</td>\n",
       "      <td>49.0</td>\n",
       "      <td>No</td>\n",
       "      <td>No</td>\n",
       "      <td>Yes</td>\n",
       "      <td>Private</td>\n",
       "      <td>Urban</td>\n",
       "      <td>171.23</td>\n",
       "      <td>34.4</td>\n",
       "      <td>smokes</td>\n",
       "      <td>1</td>\n",
       "      <td>Middle Age Adult</td>\n",
       "      <td>Obesity</td>\n",
       "    </tr>\n",
       "    <tr>\n",
       "      <th>4</th>\n",
       "      <td>Female</td>\n",
       "      <td>79.0</td>\n",
       "      <td>Yes</td>\n",
       "      <td>No</td>\n",
       "      <td>Yes</td>\n",
       "      <td>Self Employed</td>\n",
       "      <td>Rural</td>\n",
       "      <td>174.12</td>\n",
       "      <td>24.0</td>\n",
       "      <td>never smoked</td>\n",
       "      <td>1</td>\n",
       "      <td>Senior Adult</td>\n",
       "      <td>Healthy weight</td>\n",
       "    </tr>\n",
       "    <tr>\n",
       "      <th>5</th>\n",
       "      <td>Male</td>\n",
       "      <td>81.0</td>\n",
       "      <td>No</td>\n",
       "      <td>No</td>\n",
       "      <td>Yes</td>\n",
       "      <td>Private</td>\n",
       "      <td>Urban</td>\n",
       "      <td>186.21</td>\n",
       "      <td>29.0</td>\n",
       "      <td>formerly smoked</td>\n",
       "      <td>1</td>\n",
       "      <td>Senior Adult</td>\n",
       "      <td>Overweight</td>\n",
       "    </tr>\n",
       "    <tr>\n",
       "      <th>6</th>\n",
       "      <td>Male</td>\n",
       "      <td>74.0</td>\n",
       "      <td>Yes</td>\n",
       "      <td>Yes</td>\n",
       "      <td>Yes</td>\n",
       "      <td>Private</td>\n",
       "      <td>Rural</td>\n",
       "      <td>70.09</td>\n",
       "      <td>27.4</td>\n",
       "      <td>never smoked</td>\n",
       "      <td>1</td>\n",
       "      <td>Senior Adult</td>\n",
       "      <td>Overweight</td>\n",
       "    </tr>\n",
       "    <tr>\n",
       "      <th>7</th>\n",
       "      <td>Female</td>\n",
       "      <td>69.0</td>\n",
       "      <td>No</td>\n",
       "      <td>No</td>\n",
       "      <td>No</td>\n",
       "      <td>Private</td>\n",
       "      <td>Urban</td>\n",
       "      <td>94.39</td>\n",
       "      <td>22.8</td>\n",
       "      <td>never smoked</td>\n",
       "      <td>1</td>\n",
       "      <td>Senior Adult</td>\n",
       "      <td>Healthy weight</td>\n",
       "    </tr>\n",
       "    <tr>\n",
       "      <th>8</th>\n",
       "      <td>Female</td>\n",
       "      <td>59.0</td>\n",
       "      <td>No</td>\n",
       "      <td>No</td>\n",
       "      <td>Yes</td>\n",
       "      <td>Private</td>\n",
       "      <td>Rural</td>\n",
       "      <td>76.15</td>\n",
       "      <td>NaN</td>\n",
       "      <td>Unknown</td>\n",
       "      <td>1</td>\n",
       "      <td>Middle Age Adult</td>\n",
       "      <td>Obesity</td>\n",
       "    </tr>\n",
       "    <tr>\n",
       "      <th>9</th>\n",
       "      <td>Female</td>\n",
       "      <td>78.0</td>\n",
       "      <td>No</td>\n",
       "      <td>No</td>\n",
       "      <td>Yes</td>\n",
       "      <td>Private</td>\n",
       "      <td>Urban</td>\n",
       "      <td>58.57</td>\n",
       "      <td>24.2</td>\n",
       "      <td>Unknown</td>\n",
       "      <td>1</td>\n",
       "      <td>Senior Adult</td>\n",
       "      <td>Healthy weight</td>\n",
       "    </tr>\n",
       "  </tbody>\n",
       "</table>\n",
       "</div>"
      ],
      "text/plain": [
       "   gender   age hypertension heart_disease ever_married      work_type  \\\n",
       "0    Male  67.0           No           Yes          Yes        Private   \n",
       "1  Female  61.0           No            No          Yes  Self Employed   \n",
       "2    Male  80.0           No           Yes          Yes        Private   \n",
       "3  Female  49.0           No            No          Yes        Private   \n",
       "4  Female  79.0          Yes            No          Yes  Self Employed   \n",
       "5    Male  81.0           No            No          Yes        Private   \n",
       "6    Male  74.0          Yes           Yes          Yes        Private   \n",
       "7  Female  69.0           No            No           No        Private   \n",
       "8  Female  59.0           No            No          Yes        Private   \n",
       "9  Female  78.0           No            No          Yes        Private   \n",
       "\n",
       "  Residence_type  avg_glucose_level   bmi   smoking_status  brain_stroke  \\\n",
       "0          Urban             228.69  36.6  formerly smoked             1   \n",
       "1          Rural             202.21   NaN     never smoked             1   \n",
       "2          Rural             105.92  32.5     never smoked             1   \n",
       "3          Urban             171.23  34.4           smokes             1   \n",
       "4          Rural             174.12  24.0     never smoked             1   \n",
       "5          Urban             186.21  29.0  formerly smoked             1   \n",
       "6          Rural              70.09  27.4     never smoked             1   \n",
       "7          Urban              94.39  22.8     never smoked             1   \n",
       "8          Rural              76.15   NaN          Unknown             1   \n",
       "9          Urban              58.57  24.2          Unknown             1   \n",
       "\n",
       "       stage_of_life   weight_status  \n",
       "0       Senior Adult         Obesity  \n",
       "1       Senior Adult         Obesity  \n",
       "2       Senior Adult         Obesity  \n",
       "3  Middle Age Adult          Obesity  \n",
       "4       Senior Adult  Healthy weight  \n",
       "5       Senior Adult      Overweight  \n",
       "6       Senior Adult      Overweight  \n",
       "7       Senior Adult  Healthy weight  \n",
       "8  Middle Age Adult          Obesity  \n",
       "9       Senior Adult  Healthy weight  "
      ]
     },
     "execution_count": 29,
     "metadata": {},
     "output_type": "execute_result"
    }
   ],
   "source": [
    "df_brainstroke.head(10)"
   ]
  },
  {
   "cell_type": "markdown",
   "id": "7bf6c04d",
   "metadata": {},
   "source": [
    "### 6. Replace Null Values"
   ]
  },
  {
   "cell_type": "code",
   "execution_count": 30,
   "id": "4b6a842c",
   "metadata": {},
   "outputs": [
    {
     "data": {
      "text/plain": [
       "gender                 0\n",
       "age                    0\n",
       "hypertension           0\n",
       "heart_disease          0\n",
       "ever_married           0\n",
       "work_type              0\n",
       "Residence_type         0\n",
       "avg_glucose_level      0\n",
       "bmi                  201\n",
       "smoking_status         0\n",
       "brain_stroke           0\n",
       "stage_of_life          0\n",
       "weight_status          0\n",
       "dtype: int64"
      ]
     },
     "execution_count": 30,
     "metadata": {},
     "output_type": "execute_result"
    }
   ],
   "source": [
    "df_brainstroke.isnull().sum()"
   ]
  },
  {
   "cell_type": "markdown",
   "id": "3ef8d85d",
   "metadata": {},
   "source": [
    "As there are 201 null values for bmi, if we remove them, it will reduce dataset drastically. So, I am replacing null values with median."
   ]
  },
  {
   "cell_type": "code",
   "execution_count": 31,
   "id": "44d186e0",
   "metadata": {},
   "outputs": [],
   "source": [
    "df_brainstroke['bmi'] = df_brainstroke['bmi'].fillna(df_brainstroke['bmi'].median())"
   ]
  },
  {
   "cell_type": "code",
   "execution_count": 32,
   "id": "ede8e104",
   "metadata": {},
   "outputs": [
    {
     "data": {
      "text/plain": [
       "gender               0\n",
       "age                  0\n",
       "hypertension         0\n",
       "heart_disease        0\n",
       "ever_married         0\n",
       "work_type            0\n",
       "Residence_type       0\n",
       "avg_glucose_level    0\n",
       "bmi                  0\n",
       "smoking_status       0\n",
       "brain_stroke         0\n",
       "stage_of_life        0\n",
       "weight_status        0\n",
       "dtype: int64"
      ]
     },
     "execution_count": 32,
     "metadata": {},
     "output_type": "execute_result"
    }
   ],
   "source": [
    "df_brainstroke.isnull().sum()"
   ]
  },
  {
   "cell_type": "markdown",
   "id": "a18c24cb",
   "metadata": {},
   "source": [
    "### 7. String Values case change\n",
    "\n",
    "Finally, changing string values to UPPER CASE to avoid same values due to different cases falling into 2 different categories"
   ]
  },
  {
   "cell_type": "code",
   "execution_count": 33,
   "id": "6236a6f1",
   "metadata": {},
   "outputs": [],
   "source": [
    "df_brainstroke = df_brainstroke.apply(lambda x: x.astype(str).str.upper())"
   ]
  },
  {
   "cell_type": "code",
   "execution_count": 34,
   "id": "4f33aeee",
   "metadata": {},
   "outputs": [
    {
     "data": {
      "text/plain": [
       "array(['10.3', '11.3', '11.5', '12.0', '12.3', '12.8', '13.0', '13.2',\n",
       "       '13.3', '13.4', '13.5', '13.7', '13.8', '13.9', '14.0', '14.1',\n",
       "       '14.2', '14.3', '14.4', '14.5', '14.6', '14.8', '14.9', '15.0',\n",
       "       '15.1', '15.2', '15.3', '15.4', '15.5', '15.6', '15.7', '15.8',\n",
       "       '15.9', '16.0', '16.1', '16.2', '16.3', '16.4', '16.5', '16.6',\n",
       "       '16.7', '16.8', '16.9', '17.0', '17.1', '17.2', '17.3', '17.4',\n",
       "       '17.5', '17.6', '17.7', '17.8', '17.9', '18.0', '18.1', '18.2',\n",
       "       '18.3', '18.4', '18.5', '18.6', '18.7', '18.8', '18.9', '19.0',\n",
       "       '19.1', '19.2', '19.3', '19.4', '19.5', '19.6', '19.7', '19.8',\n",
       "       '19.9', '20.0', '20.1', '20.2', '20.3', '20.4', '20.5', '20.6',\n",
       "       '20.7', '20.8', '20.9', '21.0', '21.1', '21.2', '21.3', '21.4',\n",
       "       '21.5', '21.6', '21.7', '21.8', '21.9', '22.0', '22.1', '22.2',\n",
       "       '22.3', '22.4', '22.5', '22.6', '22.7', '22.8', '22.9', '23.0',\n",
       "       '23.1', '23.2', '23.3', '23.4', '23.5', '23.6', '23.7', '23.8',\n",
       "       '23.9', '24.0', '24.1', '24.2', '24.3', '24.4', '24.5', '24.6',\n",
       "       '24.7', '24.8', '24.9', '25.0', '25.1', '25.2', '25.3', '25.4',\n",
       "       '25.5', '25.6', '25.7', '25.8', '25.9', '26.0', '26.1', '26.2',\n",
       "       '26.3', '26.4', '26.5', '26.6', '26.7', '26.8', '26.9', '27.0',\n",
       "       '27.1', '27.2', '27.3', '27.4', '27.5', '27.6', '27.7', '27.8',\n",
       "       '27.9', '28.0', '28.1', '28.2', '28.3', '28.4', '28.5', '28.6',\n",
       "       '28.7', '28.8', '28.9', '29.0', '29.1', '29.2', '29.3', '29.4',\n",
       "       '29.5', '29.6', '29.7', '29.8', '29.9', '30.0', '30.1', '30.2',\n",
       "       '30.3', '30.4', '30.5', '30.6', '30.7', '30.8', '30.9', '31.0',\n",
       "       '31.1', '31.2', '31.3', '31.4', '31.5', '31.6', '31.7', '31.8',\n",
       "       '31.9', '32.0', '32.1', '32.2', '32.3', '32.4', '32.5', '32.6',\n",
       "       '32.7', '32.8', '32.9', '33.0', '33.1', '33.2', '33.3', '33.4',\n",
       "       '33.5', '33.6', '33.7', '33.8', '33.9', '34.0', '34.1', '34.2',\n",
       "       '34.3', '34.4', '34.5', '34.6', '34.7', '34.8', '34.9', '35.0',\n",
       "       '35.1', '35.2', '35.3', '35.4', '35.5', '35.6', '35.7', '35.8',\n",
       "       '35.9', '36.0', '36.1', '36.2', '36.3', '36.4', '36.5', '36.6',\n",
       "       '36.7', '36.8', '36.9', '37.0', '37.1', '37.2', '37.3', '37.4',\n",
       "       '37.5', '37.6', '37.7', '37.8', '37.9', '38.0', '38.1', '38.2',\n",
       "       '38.3', '38.4', '38.5', '38.6', '38.7', '38.8', '38.9', '39.0',\n",
       "       '39.1', '39.2', '39.3', '39.4', '39.5', '39.6', '39.7', '39.8',\n",
       "       '39.9', '40.0', '40.1', '40.2', '40.3', '40.4', '40.5', '40.6',\n",
       "       '40.7', '40.8', '40.9', '41.0', '41.1', '41.2', '41.3', '41.4',\n",
       "       '41.5', '41.6', '41.7', '41.8', '41.9', '42.0', '42.1', '42.2',\n",
       "       '42.3', '42.4', '42.5', '42.6', '42.7', '42.8', '42.9', '43.0',\n",
       "       '43.1', '43.2', '43.3', '43.4', '43.6', '43.7', '43.8', '43.9',\n",
       "       '44.0', '44.1', '44.2', '44.3', '44.4', '44.5', '44.6', '44.7',\n",
       "       '44.8', '44.9', '45.0', '45.1', '45.2', '45.3', '45.4', '45.5',\n",
       "       '45.7', '45.8', '45.9', '46.0', '46.1', '46.2', '46.3', '46.4',\n",
       "       '46.5', '46.6', '46.8', '46.9', '47.1', '47.3', '47.4', '47.5',\n",
       "       '47.6', '47.8', '47.9', '48.0', '48.1', '48.2', '48.3', '48.4',\n",
       "       '48.5', '48.7', '48.8', '48.9', '49.2', '49.3', '49.4', '49.5',\n",
       "       '49.8', '49.9', '50.1', '50.2', '50.3', '50.4', '50.5', '50.6',\n",
       "       '50.8', '50.9', '51.0', '51.5', '51.7', '51.8', '51.9', '52.3',\n",
       "       '52.5', '52.7', '52.8', '52.9', '53.4', '53.5', '53.8', '53.9',\n",
       "       '54.0'], dtype=object)"
      ]
     },
     "execution_count": 34,
     "metadata": {},
     "output_type": "execute_result"
    }
   ],
   "source": [
    "np.sort(df_brainstroke['bmi'].unique())"
   ]
  },
  {
   "cell_type": "markdown",
   "id": "76fa64aa",
   "metadata": {},
   "source": [
    "### Final dataset after Data preparation:"
   ]
  },
  {
   "cell_type": "code",
   "execution_count": 35,
   "id": "f5462587",
   "metadata": {
    "scrolled": true
   },
   "outputs": [
    {
     "data": {
      "text/html": [
       "<div>\n",
       "<style scoped>\n",
       "    .dataframe tbody tr th:only-of-type {\n",
       "        vertical-align: middle;\n",
       "    }\n",
       "\n",
       "    .dataframe tbody tr th {\n",
       "        vertical-align: top;\n",
       "    }\n",
       "\n",
       "    .dataframe thead th {\n",
       "        text-align: right;\n",
       "    }\n",
       "</style>\n",
       "<table border=\"1\" class=\"dataframe\">\n",
       "  <thead>\n",
       "    <tr style=\"text-align: right;\">\n",
       "      <th></th>\n",
       "      <th>gender</th>\n",
       "      <th>age</th>\n",
       "      <th>hypertension</th>\n",
       "      <th>heart_disease</th>\n",
       "      <th>ever_married</th>\n",
       "      <th>work_type</th>\n",
       "      <th>Residence_type</th>\n",
       "      <th>avg_glucose_level</th>\n",
       "      <th>bmi</th>\n",
       "      <th>smoking_status</th>\n",
       "      <th>brain_stroke</th>\n",
       "      <th>stage_of_life</th>\n",
       "      <th>weight_status</th>\n",
       "    </tr>\n",
       "  </thead>\n",
       "  <tbody>\n",
       "    <tr>\n",
       "      <th>0</th>\n",
       "      <td>MALE</td>\n",
       "      <td>67.0</td>\n",
       "      <td>NO</td>\n",
       "      <td>YES</td>\n",
       "      <td>YES</td>\n",
       "      <td>PRIVATE</td>\n",
       "      <td>URBAN</td>\n",
       "      <td>228.69</td>\n",
       "      <td>36.6</td>\n",
       "      <td>FORMERLY SMOKED</td>\n",
       "      <td>1</td>\n",
       "      <td>SENIOR ADULT</td>\n",
       "      <td>OBESITY</td>\n",
       "    </tr>\n",
       "    <tr>\n",
       "      <th>1</th>\n",
       "      <td>FEMALE</td>\n",
       "      <td>61.0</td>\n",
       "      <td>NO</td>\n",
       "      <td>NO</td>\n",
       "      <td>YES</td>\n",
       "      <td>SELF EMPLOYED</td>\n",
       "      <td>RURAL</td>\n",
       "      <td>202.21</td>\n",
       "      <td>28.1</td>\n",
       "      <td>NEVER SMOKED</td>\n",
       "      <td>1</td>\n",
       "      <td>SENIOR ADULT</td>\n",
       "      <td>OBESITY</td>\n",
       "    </tr>\n",
       "    <tr>\n",
       "      <th>2</th>\n",
       "      <td>MALE</td>\n",
       "      <td>80.0</td>\n",
       "      <td>NO</td>\n",
       "      <td>YES</td>\n",
       "      <td>YES</td>\n",
       "      <td>PRIVATE</td>\n",
       "      <td>RURAL</td>\n",
       "      <td>105.92</td>\n",
       "      <td>32.5</td>\n",
       "      <td>NEVER SMOKED</td>\n",
       "      <td>1</td>\n",
       "      <td>SENIOR ADULT</td>\n",
       "      <td>OBESITY</td>\n",
       "    </tr>\n",
       "    <tr>\n",
       "      <th>3</th>\n",
       "      <td>FEMALE</td>\n",
       "      <td>49.0</td>\n",
       "      <td>NO</td>\n",
       "      <td>NO</td>\n",
       "      <td>YES</td>\n",
       "      <td>PRIVATE</td>\n",
       "      <td>URBAN</td>\n",
       "      <td>171.23</td>\n",
       "      <td>34.4</td>\n",
       "      <td>SMOKES</td>\n",
       "      <td>1</td>\n",
       "      <td>MIDDLE AGE ADULT</td>\n",
       "      <td>OBESITY</td>\n",
       "    </tr>\n",
       "    <tr>\n",
       "      <th>4</th>\n",
       "      <td>FEMALE</td>\n",
       "      <td>79.0</td>\n",
       "      <td>YES</td>\n",
       "      <td>NO</td>\n",
       "      <td>YES</td>\n",
       "      <td>SELF EMPLOYED</td>\n",
       "      <td>RURAL</td>\n",
       "      <td>174.12</td>\n",
       "      <td>24.0</td>\n",
       "      <td>NEVER SMOKED</td>\n",
       "      <td>1</td>\n",
       "      <td>SENIOR ADULT</td>\n",
       "      <td>HEALTHY WEIGHT</td>\n",
       "    </tr>\n",
       "    <tr>\n",
       "      <th>...</th>\n",
       "      <td>...</td>\n",
       "      <td>...</td>\n",
       "      <td>...</td>\n",
       "      <td>...</td>\n",
       "      <td>...</td>\n",
       "      <td>...</td>\n",
       "      <td>...</td>\n",
       "      <td>...</td>\n",
       "      <td>...</td>\n",
       "      <td>...</td>\n",
       "      <td>...</td>\n",
       "      <td>...</td>\n",
       "      <td>...</td>\n",
       "    </tr>\n",
       "    <tr>\n",
       "      <th>5105</th>\n",
       "      <td>FEMALE</td>\n",
       "      <td>80.0</td>\n",
       "      <td>YES</td>\n",
       "      <td>NO</td>\n",
       "      <td>YES</td>\n",
       "      <td>PRIVATE</td>\n",
       "      <td>URBAN</td>\n",
       "      <td>83.75</td>\n",
       "      <td>28.1</td>\n",
       "      <td>NEVER SMOKED</td>\n",
       "      <td>0</td>\n",
       "      <td>SENIOR ADULT</td>\n",
       "      <td>OBESITY</td>\n",
       "    </tr>\n",
       "    <tr>\n",
       "      <th>5106</th>\n",
       "      <td>FEMALE</td>\n",
       "      <td>81.0</td>\n",
       "      <td>NO</td>\n",
       "      <td>NO</td>\n",
       "      <td>YES</td>\n",
       "      <td>SELF EMPLOYED</td>\n",
       "      <td>URBAN</td>\n",
       "      <td>125.2</td>\n",
       "      <td>40.0</td>\n",
       "      <td>NEVER SMOKED</td>\n",
       "      <td>0</td>\n",
       "      <td>SENIOR ADULT</td>\n",
       "      <td>OBESITY</td>\n",
       "    </tr>\n",
       "    <tr>\n",
       "      <th>5107</th>\n",
       "      <td>FEMALE</td>\n",
       "      <td>35.0</td>\n",
       "      <td>NO</td>\n",
       "      <td>NO</td>\n",
       "      <td>YES</td>\n",
       "      <td>SELF EMPLOYED</td>\n",
       "      <td>RURAL</td>\n",
       "      <td>82.99</td>\n",
       "      <td>30.6</td>\n",
       "      <td>NEVER SMOKED</td>\n",
       "      <td>0</td>\n",
       "      <td>ADULT</td>\n",
       "      <td>OBESITY</td>\n",
       "    </tr>\n",
       "    <tr>\n",
       "      <th>5108</th>\n",
       "      <td>MALE</td>\n",
       "      <td>51.0</td>\n",
       "      <td>NO</td>\n",
       "      <td>NO</td>\n",
       "      <td>YES</td>\n",
       "      <td>PRIVATE</td>\n",
       "      <td>RURAL</td>\n",
       "      <td>166.29</td>\n",
       "      <td>25.6</td>\n",
       "      <td>FORMERLY SMOKED</td>\n",
       "      <td>0</td>\n",
       "      <td>MIDDLE AGE ADULT</td>\n",
       "      <td>OVERWEIGHT</td>\n",
       "    </tr>\n",
       "    <tr>\n",
       "      <th>5109</th>\n",
       "      <td>FEMALE</td>\n",
       "      <td>44.0</td>\n",
       "      <td>NO</td>\n",
       "      <td>NO</td>\n",
       "      <td>YES</td>\n",
       "      <td>GOVERNMENT</td>\n",
       "      <td>URBAN</td>\n",
       "      <td>85.28</td>\n",
       "      <td>26.2</td>\n",
       "      <td>UNKNOWN</td>\n",
       "      <td>0</td>\n",
       "      <td>MIDDLE AGE ADULT</td>\n",
       "      <td>OVERWEIGHT</td>\n",
       "    </tr>\n",
       "  </tbody>\n",
       "</table>\n",
       "<p>5110 rows × 13 columns</p>\n",
       "</div>"
      ],
      "text/plain": [
       "      gender   age hypertension heart_disease ever_married      work_type  \\\n",
       "0       MALE  67.0           NO           YES          YES        PRIVATE   \n",
       "1     FEMALE  61.0           NO            NO          YES  SELF EMPLOYED   \n",
       "2       MALE  80.0           NO           YES          YES        PRIVATE   \n",
       "3     FEMALE  49.0           NO            NO          YES        PRIVATE   \n",
       "4     FEMALE  79.0          YES            NO          YES  SELF EMPLOYED   \n",
       "...      ...   ...          ...           ...          ...            ...   \n",
       "5105  FEMALE  80.0          YES            NO          YES        PRIVATE   \n",
       "5106  FEMALE  81.0           NO            NO          YES  SELF EMPLOYED   \n",
       "5107  FEMALE  35.0           NO            NO          YES  SELF EMPLOYED   \n",
       "5108    MALE  51.0           NO            NO          YES        PRIVATE   \n",
       "5109  FEMALE  44.0           NO            NO          YES     GOVERNMENT   \n",
       "\n",
       "     Residence_type avg_glucose_level   bmi   smoking_status brain_stroke  \\\n",
       "0             URBAN            228.69  36.6  FORMERLY SMOKED            1   \n",
       "1             RURAL            202.21  28.1     NEVER SMOKED            1   \n",
       "2             RURAL            105.92  32.5     NEVER SMOKED            1   \n",
       "3             URBAN            171.23  34.4           SMOKES            1   \n",
       "4             RURAL            174.12  24.0     NEVER SMOKED            1   \n",
       "...             ...               ...   ...              ...          ...   \n",
       "5105          URBAN             83.75  28.1     NEVER SMOKED            0   \n",
       "5106          URBAN             125.2  40.0     NEVER SMOKED            0   \n",
       "5107          RURAL             82.99  30.6     NEVER SMOKED            0   \n",
       "5108          RURAL            166.29  25.6  FORMERLY SMOKED            0   \n",
       "5109          URBAN             85.28  26.2          UNKNOWN            0   \n",
       "\n",
       "          stage_of_life   weight_status  \n",
       "0          SENIOR ADULT         OBESITY  \n",
       "1          SENIOR ADULT         OBESITY  \n",
       "2          SENIOR ADULT         OBESITY  \n",
       "3     MIDDLE AGE ADULT          OBESITY  \n",
       "4          SENIOR ADULT  HEALTHY WEIGHT  \n",
       "...                 ...             ...  \n",
       "5105       SENIOR ADULT         OBESITY  \n",
       "5106       SENIOR ADULT         OBESITY  \n",
       "5107              ADULT         OBESITY  \n",
       "5108  MIDDLE AGE ADULT       OVERWEIGHT  \n",
       "5109  MIDDLE AGE ADULT       OVERWEIGHT  \n",
       "\n",
       "[5110 rows x 13 columns]"
      ]
     },
     "execution_count": 35,
     "metadata": {},
     "output_type": "execute_result"
    }
   ],
   "source": [
    "df_brainstroke"
   ]
  },
  {
   "cell_type": "code",
   "execution_count": 36,
   "id": "6b09a01c",
   "metadata": {},
   "outputs": [],
   "source": [
    "df_brainstroke = df_brainstroke.astype({'age': 'float', 'avg_glucose_level': 'float', 'bmi': 'float'})"
   ]
  },
  {
   "cell_type": "code",
   "execution_count": 37,
   "id": "d83288a5",
   "metadata": {},
   "outputs": [
    {
     "data": {
      "text/plain": [
       "gender                object\n",
       "age                  float64\n",
       "hypertension          object\n",
       "heart_disease         object\n",
       "ever_married          object\n",
       "work_type             object\n",
       "Residence_type        object\n",
       "avg_glucose_level    float64\n",
       "bmi                  float64\n",
       "smoking_status        object\n",
       "brain_stroke          object\n",
       "stage_of_life         object\n",
       "weight_status         object\n",
       "dtype: object"
      ]
     },
     "execution_count": 37,
     "metadata": {},
     "output_type": "execute_result"
    }
   ],
   "source": [
    "df_brainstroke.dtypes"
   ]
  },
  {
   "cell_type": "code",
   "execution_count": 38,
   "id": "fd9a8531",
   "metadata": {},
   "outputs": [
    {
     "data": {
      "text/html": [
       "<div>\n",
       "<style scoped>\n",
       "    .dataframe tbody tr th:only-of-type {\n",
       "        vertical-align: middle;\n",
       "    }\n",
       "\n",
       "    .dataframe tbody tr th {\n",
       "        vertical-align: top;\n",
       "    }\n",
       "\n",
       "    .dataframe thead th {\n",
       "        text-align: right;\n",
       "    }\n",
       "</style>\n",
       "<table border=\"1\" class=\"dataframe\">\n",
       "  <thead>\n",
       "    <tr style=\"text-align: right;\">\n",
       "      <th></th>\n",
       "      <th>gender</th>\n",
       "      <th>age</th>\n",
       "      <th>hypertension</th>\n",
       "      <th>heart_disease</th>\n",
       "      <th>ever_married</th>\n",
       "      <th>work_type</th>\n",
       "      <th>Residence_type</th>\n",
       "      <th>avg_glucose_level</th>\n",
       "      <th>bmi</th>\n",
       "      <th>smoking_status</th>\n",
       "      <th>brain_stroke</th>\n",
       "      <th>stage_of_life</th>\n",
       "      <th>weight_status</th>\n",
       "    </tr>\n",
       "  </thead>\n",
       "  <tbody>\n",
       "    <tr>\n",
       "      <th>0</th>\n",
       "      <td>MALE</td>\n",
       "      <td>67.0</td>\n",
       "      <td>NO</td>\n",
       "      <td>YES</td>\n",
       "      <td>YES</td>\n",
       "      <td>PRIVATE</td>\n",
       "      <td>URBAN</td>\n",
       "      <td>228.69</td>\n",
       "      <td>36.6</td>\n",
       "      <td>FORMERLY SMOKED</td>\n",
       "      <td>1</td>\n",
       "      <td>SENIOR ADULT</td>\n",
       "      <td>OBESITY</td>\n",
       "    </tr>\n",
       "    <tr>\n",
       "      <th>1</th>\n",
       "      <td>FEMALE</td>\n",
       "      <td>61.0</td>\n",
       "      <td>NO</td>\n",
       "      <td>NO</td>\n",
       "      <td>YES</td>\n",
       "      <td>SELF EMPLOYED</td>\n",
       "      <td>RURAL</td>\n",
       "      <td>202.21</td>\n",
       "      <td>28.1</td>\n",
       "      <td>NEVER SMOKED</td>\n",
       "      <td>1</td>\n",
       "      <td>SENIOR ADULT</td>\n",
       "      <td>OBESITY</td>\n",
       "    </tr>\n",
       "    <tr>\n",
       "      <th>2</th>\n",
       "      <td>MALE</td>\n",
       "      <td>80.0</td>\n",
       "      <td>NO</td>\n",
       "      <td>YES</td>\n",
       "      <td>YES</td>\n",
       "      <td>PRIVATE</td>\n",
       "      <td>RURAL</td>\n",
       "      <td>105.92</td>\n",
       "      <td>32.5</td>\n",
       "      <td>NEVER SMOKED</td>\n",
       "      <td>1</td>\n",
       "      <td>SENIOR ADULT</td>\n",
       "      <td>OBESITY</td>\n",
       "    </tr>\n",
       "    <tr>\n",
       "      <th>3</th>\n",
       "      <td>FEMALE</td>\n",
       "      <td>49.0</td>\n",
       "      <td>NO</td>\n",
       "      <td>NO</td>\n",
       "      <td>YES</td>\n",
       "      <td>PRIVATE</td>\n",
       "      <td>URBAN</td>\n",
       "      <td>171.23</td>\n",
       "      <td>34.4</td>\n",
       "      <td>SMOKES</td>\n",
       "      <td>1</td>\n",
       "      <td>MIDDLE AGE ADULT</td>\n",
       "      <td>OBESITY</td>\n",
       "    </tr>\n",
       "    <tr>\n",
       "      <th>4</th>\n",
       "      <td>FEMALE</td>\n",
       "      <td>79.0</td>\n",
       "      <td>YES</td>\n",
       "      <td>NO</td>\n",
       "      <td>YES</td>\n",
       "      <td>SELF EMPLOYED</td>\n",
       "      <td>RURAL</td>\n",
       "      <td>174.12</td>\n",
       "      <td>24.0</td>\n",
       "      <td>NEVER SMOKED</td>\n",
       "      <td>1</td>\n",
       "      <td>SENIOR ADULT</td>\n",
       "      <td>HEALTHY WEIGHT</td>\n",
       "    </tr>\n",
       "    <tr>\n",
       "      <th>...</th>\n",
       "      <td>...</td>\n",
       "      <td>...</td>\n",
       "      <td>...</td>\n",
       "      <td>...</td>\n",
       "      <td>...</td>\n",
       "      <td>...</td>\n",
       "      <td>...</td>\n",
       "      <td>...</td>\n",
       "      <td>...</td>\n",
       "      <td>...</td>\n",
       "      <td>...</td>\n",
       "      <td>...</td>\n",
       "      <td>...</td>\n",
       "    </tr>\n",
       "    <tr>\n",
       "      <th>5105</th>\n",
       "      <td>FEMALE</td>\n",
       "      <td>80.0</td>\n",
       "      <td>YES</td>\n",
       "      <td>NO</td>\n",
       "      <td>YES</td>\n",
       "      <td>PRIVATE</td>\n",
       "      <td>URBAN</td>\n",
       "      <td>83.75</td>\n",
       "      <td>28.1</td>\n",
       "      <td>NEVER SMOKED</td>\n",
       "      <td>0</td>\n",
       "      <td>SENIOR ADULT</td>\n",
       "      <td>OBESITY</td>\n",
       "    </tr>\n",
       "    <tr>\n",
       "      <th>5106</th>\n",
       "      <td>FEMALE</td>\n",
       "      <td>81.0</td>\n",
       "      <td>NO</td>\n",
       "      <td>NO</td>\n",
       "      <td>YES</td>\n",
       "      <td>SELF EMPLOYED</td>\n",
       "      <td>URBAN</td>\n",
       "      <td>125.20</td>\n",
       "      <td>40.0</td>\n",
       "      <td>NEVER SMOKED</td>\n",
       "      <td>0</td>\n",
       "      <td>SENIOR ADULT</td>\n",
       "      <td>OBESITY</td>\n",
       "    </tr>\n",
       "    <tr>\n",
       "      <th>5107</th>\n",
       "      <td>FEMALE</td>\n",
       "      <td>35.0</td>\n",
       "      <td>NO</td>\n",
       "      <td>NO</td>\n",
       "      <td>YES</td>\n",
       "      <td>SELF EMPLOYED</td>\n",
       "      <td>RURAL</td>\n",
       "      <td>82.99</td>\n",
       "      <td>30.6</td>\n",
       "      <td>NEVER SMOKED</td>\n",
       "      <td>0</td>\n",
       "      <td>ADULT</td>\n",
       "      <td>OBESITY</td>\n",
       "    </tr>\n",
       "    <tr>\n",
       "      <th>5108</th>\n",
       "      <td>MALE</td>\n",
       "      <td>51.0</td>\n",
       "      <td>NO</td>\n",
       "      <td>NO</td>\n",
       "      <td>YES</td>\n",
       "      <td>PRIVATE</td>\n",
       "      <td>RURAL</td>\n",
       "      <td>166.29</td>\n",
       "      <td>25.6</td>\n",
       "      <td>FORMERLY SMOKED</td>\n",
       "      <td>0</td>\n",
       "      <td>MIDDLE AGE ADULT</td>\n",
       "      <td>OVERWEIGHT</td>\n",
       "    </tr>\n",
       "    <tr>\n",
       "      <th>5109</th>\n",
       "      <td>FEMALE</td>\n",
       "      <td>44.0</td>\n",
       "      <td>NO</td>\n",
       "      <td>NO</td>\n",
       "      <td>YES</td>\n",
       "      <td>GOVERNMENT</td>\n",
       "      <td>URBAN</td>\n",
       "      <td>85.28</td>\n",
       "      <td>26.2</td>\n",
       "      <td>UNKNOWN</td>\n",
       "      <td>0</td>\n",
       "      <td>MIDDLE AGE ADULT</td>\n",
       "      <td>OVERWEIGHT</td>\n",
       "    </tr>\n",
       "  </tbody>\n",
       "</table>\n",
       "<p>5110 rows × 13 columns</p>\n",
       "</div>"
      ],
      "text/plain": [
       "      gender   age hypertension heart_disease ever_married      work_type  \\\n",
       "0       MALE  67.0           NO           YES          YES        PRIVATE   \n",
       "1     FEMALE  61.0           NO            NO          YES  SELF EMPLOYED   \n",
       "2       MALE  80.0           NO           YES          YES        PRIVATE   \n",
       "3     FEMALE  49.0           NO            NO          YES        PRIVATE   \n",
       "4     FEMALE  79.0          YES            NO          YES  SELF EMPLOYED   \n",
       "...      ...   ...          ...           ...          ...            ...   \n",
       "5105  FEMALE  80.0          YES            NO          YES        PRIVATE   \n",
       "5106  FEMALE  81.0           NO            NO          YES  SELF EMPLOYED   \n",
       "5107  FEMALE  35.0           NO            NO          YES  SELF EMPLOYED   \n",
       "5108    MALE  51.0           NO            NO          YES        PRIVATE   \n",
       "5109  FEMALE  44.0           NO            NO          YES     GOVERNMENT   \n",
       "\n",
       "     Residence_type  avg_glucose_level   bmi   smoking_status brain_stroke  \\\n",
       "0             URBAN             228.69  36.6  FORMERLY SMOKED            1   \n",
       "1             RURAL             202.21  28.1     NEVER SMOKED            1   \n",
       "2             RURAL             105.92  32.5     NEVER SMOKED            1   \n",
       "3             URBAN             171.23  34.4           SMOKES            1   \n",
       "4             RURAL             174.12  24.0     NEVER SMOKED            1   \n",
       "...             ...                ...   ...              ...          ...   \n",
       "5105          URBAN              83.75  28.1     NEVER SMOKED            0   \n",
       "5106          URBAN             125.20  40.0     NEVER SMOKED            0   \n",
       "5107          RURAL              82.99  30.6     NEVER SMOKED            0   \n",
       "5108          RURAL             166.29  25.6  FORMERLY SMOKED            0   \n",
       "5109          URBAN              85.28  26.2          UNKNOWN            0   \n",
       "\n",
       "          stage_of_life   weight_status  \n",
       "0          SENIOR ADULT         OBESITY  \n",
       "1          SENIOR ADULT         OBESITY  \n",
       "2          SENIOR ADULT         OBESITY  \n",
       "3     MIDDLE AGE ADULT          OBESITY  \n",
       "4          SENIOR ADULT  HEALTHY WEIGHT  \n",
       "...                 ...             ...  \n",
       "5105       SENIOR ADULT         OBESITY  \n",
       "5106       SENIOR ADULT         OBESITY  \n",
       "5107              ADULT         OBESITY  \n",
       "5108  MIDDLE AGE ADULT       OVERWEIGHT  \n",
       "5109  MIDDLE AGE ADULT       OVERWEIGHT  \n",
       "\n",
       "[5110 rows x 13 columns]"
      ]
     },
     "execution_count": 38,
     "metadata": {},
     "output_type": "execute_result"
    }
   ],
   "source": [
    "df_brainstroke"
   ]
  },
  {
   "cell_type": "code",
   "execution_count": 39,
   "id": "233d3938",
   "metadata": {},
   "outputs": [],
   "source": [
    "df_brain_one_hot = pd.get_dummies(data=df_brainstroke,columns=['gender','hypertension','heart_disease','ever_married',\n",
    "                                                         'work_type','Residence_type','smoking_status','stage_of_life',\n",
    "                                                         'weight_status'])"
   ]
  },
  {
   "cell_type": "code",
   "execution_count": 40,
   "id": "cac7c9a4",
   "metadata": {},
   "outputs": [
    {
     "data": {
      "text/html": [
       "<div>\n",
       "<style scoped>\n",
       "    .dataframe tbody tr th:only-of-type {\n",
       "        vertical-align: middle;\n",
       "    }\n",
       "\n",
       "    .dataframe tbody tr th {\n",
       "        vertical-align: top;\n",
       "    }\n",
       "\n",
       "    .dataframe thead th {\n",
       "        text-align: right;\n",
       "    }\n",
       "</style>\n",
       "<table border=\"1\" class=\"dataframe\">\n",
       "  <thead>\n",
       "    <tr style=\"text-align: right;\">\n",
       "      <th></th>\n",
       "      <th>age</th>\n",
       "      <th>avg_glucose_level</th>\n",
       "      <th>bmi</th>\n",
       "      <th>brain_stroke</th>\n",
       "      <th>gender_FEMALE</th>\n",
       "      <th>gender_MALE</th>\n",
       "      <th>gender_OTHER</th>\n",
       "      <th>hypertension_NO</th>\n",
       "      <th>hypertension_YES</th>\n",
       "      <th>heart_disease_NO</th>\n",
       "      <th>...</th>\n",
       "      <th>stage_of_life_CHILD</th>\n",
       "      <th>stage_of_life_INFANT</th>\n",
       "      <th>stage_of_life_MIDDLE AGE ADULT</th>\n",
       "      <th>stage_of_life_SENIOR ADULT</th>\n",
       "      <th>stage_of_life_TEEN</th>\n",
       "      <th>stage_of_life_TODDLER</th>\n",
       "      <th>weight_status_HEALTHY WEIGHT</th>\n",
       "      <th>weight_status_OBESITY</th>\n",
       "      <th>weight_status_OVERWEIGHT</th>\n",
       "      <th>weight_status_UNDERWEIGHT</th>\n",
       "    </tr>\n",
       "  </thead>\n",
       "  <tbody>\n",
       "    <tr>\n",
       "      <th>0</th>\n",
       "      <td>67.0</td>\n",
       "      <td>228.69</td>\n",
       "      <td>36.6</td>\n",
       "      <td>1</td>\n",
       "      <td>0</td>\n",
       "      <td>1</td>\n",
       "      <td>0</td>\n",
       "      <td>1</td>\n",
       "      <td>0</td>\n",
       "      <td>0</td>\n",
       "      <td>...</td>\n",
       "      <td>0</td>\n",
       "      <td>0</td>\n",
       "      <td>0</td>\n",
       "      <td>1</td>\n",
       "      <td>0</td>\n",
       "      <td>0</td>\n",
       "      <td>0</td>\n",
       "      <td>1</td>\n",
       "      <td>0</td>\n",
       "      <td>0</td>\n",
       "    </tr>\n",
       "    <tr>\n",
       "      <th>1</th>\n",
       "      <td>61.0</td>\n",
       "      <td>202.21</td>\n",
       "      <td>28.1</td>\n",
       "      <td>1</td>\n",
       "      <td>1</td>\n",
       "      <td>0</td>\n",
       "      <td>0</td>\n",
       "      <td>1</td>\n",
       "      <td>0</td>\n",
       "      <td>1</td>\n",
       "      <td>...</td>\n",
       "      <td>0</td>\n",
       "      <td>0</td>\n",
       "      <td>0</td>\n",
       "      <td>1</td>\n",
       "      <td>0</td>\n",
       "      <td>0</td>\n",
       "      <td>0</td>\n",
       "      <td>1</td>\n",
       "      <td>0</td>\n",
       "      <td>0</td>\n",
       "    </tr>\n",
       "    <tr>\n",
       "      <th>2</th>\n",
       "      <td>80.0</td>\n",
       "      <td>105.92</td>\n",
       "      <td>32.5</td>\n",
       "      <td>1</td>\n",
       "      <td>0</td>\n",
       "      <td>1</td>\n",
       "      <td>0</td>\n",
       "      <td>1</td>\n",
       "      <td>0</td>\n",
       "      <td>0</td>\n",
       "      <td>...</td>\n",
       "      <td>0</td>\n",
       "      <td>0</td>\n",
       "      <td>0</td>\n",
       "      <td>1</td>\n",
       "      <td>0</td>\n",
       "      <td>0</td>\n",
       "      <td>0</td>\n",
       "      <td>1</td>\n",
       "      <td>0</td>\n",
       "      <td>0</td>\n",
       "    </tr>\n",
       "    <tr>\n",
       "      <th>3</th>\n",
       "      <td>49.0</td>\n",
       "      <td>171.23</td>\n",
       "      <td>34.4</td>\n",
       "      <td>1</td>\n",
       "      <td>1</td>\n",
       "      <td>0</td>\n",
       "      <td>0</td>\n",
       "      <td>1</td>\n",
       "      <td>0</td>\n",
       "      <td>1</td>\n",
       "      <td>...</td>\n",
       "      <td>0</td>\n",
       "      <td>0</td>\n",
       "      <td>1</td>\n",
       "      <td>0</td>\n",
       "      <td>0</td>\n",
       "      <td>0</td>\n",
       "      <td>0</td>\n",
       "      <td>1</td>\n",
       "      <td>0</td>\n",
       "      <td>0</td>\n",
       "    </tr>\n",
       "    <tr>\n",
       "      <th>4</th>\n",
       "      <td>79.0</td>\n",
       "      <td>174.12</td>\n",
       "      <td>24.0</td>\n",
       "      <td>1</td>\n",
       "      <td>1</td>\n",
       "      <td>0</td>\n",
       "      <td>0</td>\n",
       "      <td>0</td>\n",
       "      <td>1</td>\n",
       "      <td>1</td>\n",
       "      <td>...</td>\n",
       "      <td>0</td>\n",
       "      <td>0</td>\n",
       "      <td>0</td>\n",
       "      <td>1</td>\n",
       "      <td>0</td>\n",
       "      <td>0</td>\n",
       "      <td>1</td>\n",
       "      <td>0</td>\n",
       "      <td>0</td>\n",
       "      <td>0</td>\n",
       "    </tr>\n",
       "    <tr>\n",
       "      <th>...</th>\n",
       "      <td>...</td>\n",
       "      <td>...</td>\n",
       "      <td>...</td>\n",
       "      <td>...</td>\n",
       "      <td>...</td>\n",
       "      <td>...</td>\n",
       "      <td>...</td>\n",
       "      <td>...</td>\n",
       "      <td>...</td>\n",
       "      <td>...</td>\n",
       "      <td>...</td>\n",
       "      <td>...</td>\n",
       "      <td>...</td>\n",
       "      <td>...</td>\n",
       "      <td>...</td>\n",
       "      <td>...</td>\n",
       "      <td>...</td>\n",
       "      <td>...</td>\n",
       "      <td>...</td>\n",
       "      <td>...</td>\n",
       "      <td>...</td>\n",
       "    </tr>\n",
       "    <tr>\n",
       "      <th>5105</th>\n",
       "      <td>80.0</td>\n",
       "      <td>83.75</td>\n",
       "      <td>28.1</td>\n",
       "      <td>0</td>\n",
       "      <td>1</td>\n",
       "      <td>0</td>\n",
       "      <td>0</td>\n",
       "      <td>0</td>\n",
       "      <td>1</td>\n",
       "      <td>1</td>\n",
       "      <td>...</td>\n",
       "      <td>0</td>\n",
       "      <td>0</td>\n",
       "      <td>0</td>\n",
       "      <td>1</td>\n",
       "      <td>0</td>\n",
       "      <td>0</td>\n",
       "      <td>0</td>\n",
       "      <td>1</td>\n",
       "      <td>0</td>\n",
       "      <td>0</td>\n",
       "    </tr>\n",
       "    <tr>\n",
       "      <th>5106</th>\n",
       "      <td>81.0</td>\n",
       "      <td>125.20</td>\n",
       "      <td>40.0</td>\n",
       "      <td>0</td>\n",
       "      <td>1</td>\n",
       "      <td>0</td>\n",
       "      <td>0</td>\n",
       "      <td>1</td>\n",
       "      <td>0</td>\n",
       "      <td>1</td>\n",
       "      <td>...</td>\n",
       "      <td>0</td>\n",
       "      <td>0</td>\n",
       "      <td>0</td>\n",
       "      <td>1</td>\n",
       "      <td>0</td>\n",
       "      <td>0</td>\n",
       "      <td>0</td>\n",
       "      <td>1</td>\n",
       "      <td>0</td>\n",
       "      <td>0</td>\n",
       "    </tr>\n",
       "    <tr>\n",
       "      <th>5107</th>\n",
       "      <td>35.0</td>\n",
       "      <td>82.99</td>\n",
       "      <td>30.6</td>\n",
       "      <td>0</td>\n",
       "      <td>1</td>\n",
       "      <td>0</td>\n",
       "      <td>0</td>\n",
       "      <td>1</td>\n",
       "      <td>0</td>\n",
       "      <td>1</td>\n",
       "      <td>...</td>\n",
       "      <td>0</td>\n",
       "      <td>0</td>\n",
       "      <td>0</td>\n",
       "      <td>0</td>\n",
       "      <td>0</td>\n",
       "      <td>0</td>\n",
       "      <td>0</td>\n",
       "      <td>1</td>\n",
       "      <td>0</td>\n",
       "      <td>0</td>\n",
       "    </tr>\n",
       "    <tr>\n",
       "      <th>5108</th>\n",
       "      <td>51.0</td>\n",
       "      <td>166.29</td>\n",
       "      <td>25.6</td>\n",
       "      <td>0</td>\n",
       "      <td>0</td>\n",
       "      <td>1</td>\n",
       "      <td>0</td>\n",
       "      <td>1</td>\n",
       "      <td>0</td>\n",
       "      <td>1</td>\n",
       "      <td>...</td>\n",
       "      <td>0</td>\n",
       "      <td>0</td>\n",
       "      <td>1</td>\n",
       "      <td>0</td>\n",
       "      <td>0</td>\n",
       "      <td>0</td>\n",
       "      <td>0</td>\n",
       "      <td>0</td>\n",
       "      <td>1</td>\n",
       "      <td>0</td>\n",
       "    </tr>\n",
       "    <tr>\n",
       "      <th>5109</th>\n",
       "      <td>44.0</td>\n",
       "      <td>85.28</td>\n",
       "      <td>26.2</td>\n",
       "      <td>0</td>\n",
       "      <td>1</td>\n",
       "      <td>0</td>\n",
       "      <td>0</td>\n",
       "      <td>1</td>\n",
       "      <td>0</td>\n",
       "      <td>1</td>\n",
       "      <td>...</td>\n",
       "      <td>0</td>\n",
       "      <td>0</td>\n",
       "      <td>1</td>\n",
       "      <td>0</td>\n",
       "      <td>0</td>\n",
       "      <td>0</td>\n",
       "      <td>0</td>\n",
       "      <td>0</td>\n",
       "      <td>1</td>\n",
       "      <td>0</td>\n",
       "    </tr>\n",
       "  </tbody>\n",
       "</table>\n",
       "<p>5110 rows × 35 columns</p>\n",
       "</div>"
      ],
      "text/plain": [
       "       age  avg_glucose_level   bmi brain_stroke  gender_FEMALE  gender_MALE  \\\n",
       "0     67.0             228.69  36.6            1              0            1   \n",
       "1     61.0             202.21  28.1            1              1            0   \n",
       "2     80.0             105.92  32.5            1              0            1   \n",
       "3     49.0             171.23  34.4            1              1            0   \n",
       "4     79.0             174.12  24.0            1              1            0   \n",
       "...    ...                ...   ...          ...            ...          ...   \n",
       "5105  80.0              83.75  28.1            0              1            0   \n",
       "5106  81.0             125.20  40.0            0              1            0   \n",
       "5107  35.0              82.99  30.6            0              1            0   \n",
       "5108  51.0             166.29  25.6            0              0            1   \n",
       "5109  44.0              85.28  26.2            0              1            0   \n",
       "\n",
       "      gender_OTHER  hypertension_NO  hypertension_YES  heart_disease_NO  ...  \\\n",
       "0                0                1                 0                 0  ...   \n",
       "1                0                1                 0                 1  ...   \n",
       "2                0                1                 0                 0  ...   \n",
       "3                0                1                 0                 1  ...   \n",
       "4                0                0                 1                 1  ...   \n",
       "...            ...              ...               ...               ...  ...   \n",
       "5105             0                0                 1                 1  ...   \n",
       "5106             0                1                 0                 1  ...   \n",
       "5107             0                1                 0                 1  ...   \n",
       "5108             0                1                 0                 1  ...   \n",
       "5109             0                1                 0                 1  ...   \n",
       "\n",
       "      stage_of_life_CHILD  stage_of_life_INFANT  \\\n",
       "0                       0                     0   \n",
       "1                       0                     0   \n",
       "2                       0                     0   \n",
       "3                       0                     0   \n",
       "4                       0                     0   \n",
       "...                   ...                   ...   \n",
       "5105                    0                     0   \n",
       "5106                    0                     0   \n",
       "5107                    0                     0   \n",
       "5108                    0                     0   \n",
       "5109                    0                     0   \n",
       "\n",
       "      stage_of_life_MIDDLE AGE ADULT   stage_of_life_SENIOR ADULT  \\\n",
       "0                                   0                           1   \n",
       "1                                   0                           1   \n",
       "2                                   0                           1   \n",
       "3                                   1                           0   \n",
       "4                                   0                           1   \n",
       "...                               ...                         ...   \n",
       "5105                                0                           1   \n",
       "5106                                0                           1   \n",
       "5107                                0                           0   \n",
       "5108                                1                           0   \n",
       "5109                                1                           0   \n",
       "\n",
       "      stage_of_life_TEEN  stage_of_life_TODDLER  weight_status_HEALTHY WEIGHT  \\\n",
       "0                      0                      0                             0   \n",
       "1                      0                      0                             0   \n",
       "2                      0                      0                             0   \n",
       "3                      0                      0                             0   \n",
       "4                      0                      0                             1   \n",
       "...                  ...                    ...                           ...   \n",
       "5105                   0                      0                             0   \n",
       "5106                   0                      0                             0   \n",
       "5107                   0                      0                             0   \n",
       "5108                   0                      0                             0   \n",
       "5109                   0                      0                             0   \n",
       "\n",
       "      weight_status_OBESITY  weight_status_OVERWEIGHT  \\\n",
       "0                         1                         0   \n",
       "1                         1                         0   \n",
       "2                         1                         0   \n",
       "3                         1                         0   \n",
       "4                         0                         0   \n",
       "...                     ...                       ...   \n",
       "5105                      1                         0   \n",
       "5106                      1                         0   \n",
       "5107                      1                         0   \n",
       "5108                      0                         1   \n",
       "5109                      0                         1   \n",
       "\n",
       "      weight_status_UNDERWEIGHT  \n",
       "0                             0  \n",
       "1                             0  \n",
       "2                             0  \n",
       "3                             0  \n",
       "4                             0  \n",
       "...                         ...  \n",
       "5105                          0  \n",
       "5106                          0  \n",
       "5107                          0  \n",
       "5108                          0  \n",
       "5109                          0  \n",
       "\n",
       "[5110 rows x 35 columns]"
      ]
     },
     "execution_count": 40,
     "metadata": {},
     "output_type": "execute_result"
    }
   ],
   "source": [
    "df_brain_one_hot"
   ]
  },
  {
   "cell_type": "code",
   "execution_count": 41,
   "id": "3d0722f9",
   "metadata": {},
   "outputs": [
    {
     "data": {
      "text/plain": [
       "age                                float64\n",
       "avg_glucose_level                  float64\n",
       "bmi                                float64\n",
       "brain_stroke                        object\n",
       "gender_FEMALE                        uint8\n",
       "gender_MALE                          uint8\n",
       "gender_OTHER                         uint8\n",
       "hypertension_NO                      uint8\n",
       "hypertension_YES                     uint8\n",
       "heart_disease_NO                     uint8\n",
       "heart_disease_YES                    uint8\n",
       "ever_married_NO                      uint8\n",
       "ever_married_YES                     uint8\n",
       "work_type_GOVERNMENT                 uint8\n",
       "work_type_NEVER_WORKED               uint8\n",
       "work_type_PRIVATE                    uint8\n",
       "work_type_SELF EMPLOYED              uint8\n",
       "work_type_STUDENT                    uint8\n",
       "Residence_type_RURAL                 uint8\n",
       "Residence_type_URBAN                 uint8\n",
       "smoking_status_FORMERLY SMOKED       uint8\n",
       "smoking_status_NEVER SMOKED          uint8\n",
       "smoking_status_SMOKES                uint8\n",
       "smoking_status_UNKNOWN               uint8\n",
       "stage_of_life_ADULT                  uint8\n",
       "stage_of_life_CHILD                  uint8\n",
       "stage_of_life_INFANT                 uint8\n",
       "stage_of_life_MIDDLE AGE ADULT       uint8\n",
       "stage_of_life_SENIOR ADULT           uint8\n",
       "stage_of_life_TEEN                   uint8\n",
       "stage_of_life_TODDLER                uint8\n",
       "weight_status_HEALTHY WEIGHT         uint8\n",
       "weight_status_OBESITY                uint8\n",
       "weight_status_OVERWEIGHT             uint8\n",
       "weight_status_UNDERWEIGHT            uint8\n",
       "dtype: object"
      ]
     },
     "execution_count": 41,
     "metadata": {},
     "output_type": "execute_result"
    }
   ],
   "source": [
    "df_brain_one_hot.dtypes"
   ]
  },
  {
   "cell_type": "markdown",
   "id": "5ef82aaa",
   "metadata": {},
   "source": [
    "## Data Visualization"
   ]
  },
  {
   "cell_type": "code",
   "execution_count": 42,
   "id": "9954b344",
   "metadata": {},
   "outputs": [
    {
     "data": {
      "text/plain": [
       "<seaborn.axisgrid.FacetGrid at 0x19daa4447f0>"
      ]
     },
     "execution_count": 42,
     "metadata": {},
     "output_type": "execute_result"
    },
    {
     "data": {
      "image/png": "[encoded data removed]",
      "text/plain": [
       "<Figure size 1080x360 with 3 Axes>"
      ]
     },
     "metadata": {
      "needs_background": "light"
     },
     "output_type": "display_data"
    }
   ],
   "source": [
    "'''plt.figure()\n",
    "plt.hist(df.loc[df_brainstroke['brain_stroke']=='Yes','gender'],align='mid')\n",
    "plt.xlabel('Gender')\n",
    "plt.ylabel('Count of Brain Strokes')\n",
    "plt.title('Comparing Brain Stroke in patients based on the gender category')\n",
    "plt.show()'''\n",
    "import seaborn as sns\n",
    "sns.displot(df_brainstroke, x=\"brain_stroke\", col=\"gender\")"
   ]
  },
  {
   "cell_type": "code",
   "execution_count": 43,
   "id": "05ef57a5",
   "metadata": {},
   "outputs": [
    {
     "data": {
      "text/plain": [
       "<seaborn.axisgrid.FacetGrid at 0x19daa4442b0>"
      ]
     },
     "execution_count": 43,
     "metadata": {},
     "output_type": "execute_result"
    },
    {
     "data": {
      "image/png": "[encoded data removed]",
      "text/plain": [
       "<Figure size 720x360 with 2 Axes>"
      ]
     },
     "metadata": {
      "needs_background": "light"
     },
     "output_type": "display_data"
    }
   ],
   "source": [
    "'''plt.figure()\n",
    "plt.hist(df.loc[df_brainstroke['brain_stroke']=='Yes','hypertension'],align='mid')\n",
    "plt.xlabel('Hypertension')\n",
    "plt.ylabel('Count of Brain Strokes')\n",
    "plt.title('1.\tComparing Brain Stroke in patients based on hypertension')\n",
    "plt.show()'''\n",
    "import seaborn as sns\n",
    "sns.displot(df_brainstroke, x=\"brain_stroke\", col=\"hypertension\")"
   ]
  },
  {
   "cell_type": "code",
   "execution_count": 44,
   "id": "eebacb2e",
   "metadata": {},
   "outputs": [
    {
     "data": {
      "text/plain": [
       "<seaborn.axisgrid.FacetGrid at 0x19dab90d970>"
      ]
     },
     "execution_count": 44,
     "metadata": {},
     "output_type": "execute_result"
    },
    {
     "data": {
      "image/png": "[encoded data removed]",
      "text/plain": [
       "<Figure size 720x360 with 2 Axes>"
      ]
     },
     "metadata": {
      "needs_background": "light"
     },
     "output_type": "display_data"
    }
   ],
   "source": [
    "'''plt.figure()\n",
    "plt.hist(df.loc[df_brainstroke['brain_stroke']=='Yes','heart_disease'],align='mid')\n",
    "plt.xlabel('Heart Disease')\n",
    "plt.ylabel('Count of Brain Strokes')\n",
    "plt.title('1.\tComparing Brain Stroke in patients based on heart disease')\n",
    "plt.show()'''\n",
    "import seaborn as sns\n",
    "sns.displot(df_brainstroke, x=\"brain_stroke\", col=\"heart_disease\")"
   ]
  },
  {
   "cell_type": "markdown",
   "id": "29f78d7e",
   "metadata": {},
   "source": [
    "As per analysis, With heart disease history have high chances of getting Brain stroke as the grph shows heart disease is directly proportional to Brain Stroke."
   ]
  },
  {
   "cell_type": "code",
   "execution_count": 45,
   "id": "75398244",
   "metadata": {},
   "outputs": [
    {
     "data": {
      "text/plain": [
       "<seaborn.axisgrid.FacetGrid at 0x19daba425b0>"
      ]
     },
     "execution_count": 45,
     "metadata": {},
     "output_type": "execute_result"
    },
    {
     "data": {
      "image/png": "[encoded data removed]",
      "text/plain": [
       "<Figure size 1440x360 with 4 Axes>"
      ]
     },
     "metadata": {
      "needs_background": "light"
     },
     "output_type": "display_data"
    }
   ],
   "source": [
    "'''plt.figure()\n",
    "plt.hist(df.loc[df_brainstroke['brain_stroke']=='Yes','smoking_status'],align='mid')\n",
    "plt.xlabel('Smoking Status')\n",
    "plt.ylabel('Count of Brain Strokes')\n",
    "plt.title('Comparing Brain Stroke in patients based on smoking status')\n",
    "plt.show()'''\n",
    "import seaborn as sns\n",
    "sns.displot(df_brainstroke, x=\"brain_stroke\", col=\"smoking_status\")"
   ]
  },
  {
   "cell_type": "markdown",
   "id": "df0fa368",
   "metadata": {},
   "source": [
    "As per graphical representation, we can confirm that non-smokers have very little chances of getting Brain stroke"
   ]
  },
  {
   "cell_type": "code",
   "execution_count": 46,
   "id": "6f8de5c6",
   "metadata": {},
   "outputs": [
    {
     "data": {
      "text/plain": [
       "<seaborn.axisgrid.FacetGrid at 0x19dab925730>"
      ]
     },
     "execution_count": 46,
     "metadata": {},
     "output_type": "execute_result"
    },
    {
     "data": {
      "image/png": "[encoded data removed]",
      "text/plain": [
       "<Figure size 1509.25x576 with 1 Axes>"
      ]
     },
     "metadata": {
      "needs_background": "light"
     },
     "output_type": "display_data"
    }
   ],
   "source": [
    "'''plt.rcParams[\"figure.figsize\"] = (20,8)\n",
    "plt.hist(df.loc[df_brainstroke['brain_stroke']!='No','age'])\n",
    "plt.xlabel('Age')\n",
    "plt.ylabel('Count of Brain Strokes')\n",
    "plt.title('Comparing Brain Stroke in patients based on age')\n",
    "plt.show()'''\n",
    "sns.displot(df_brainstroke, x=\"age\", hue=\"brain_stroke\",height=8,aspect=20/8)"
   ]
  },
  {
   "cell_type": "markdown",
   "id": "18d4e954",
   "metadata": {},
   "source": [
    "As per the grapical analysis, people over the age of 40 have high chances of getting Brain stroke"
   ]
  },
  {
   "cell_type": "markdown",
   "id": "2bf9f2c7",
   "metadata": {},
   "source": [
    "### MILESTONE 3"
   ]
  },
  {
   "cell_type": "markdown",
   "id": "dd553ee2",
   "metadata": {},
   "source": [
    "## Building a model and evaluating"
   ]
  },
  {
   "cell_type": "code",
   "execution_count": 47,
   "id": "cb1ce581",
   "metadata": {},
   "outputs": [],
   "source": [
    "#importing libraries\n",
    "# Core libraries\n",
    "import pandas as pd\n",
    "import numpy as np\n",
    "import matplotlib.pyplot as plt\n",
    "\n",
    "# Sklearn processing\n",
    "from sklearn.preprocessing import MinMaxScaler\n",
    "from sklearn.model_selection import train_test_split\n",
    "\n",
    "# Sklearn regression algorithms\n",
    "from sklearn.linear_model import LinearRegression\n",
    "from sklearn.neighbors import KNeighborsRegressor\n",
    "from sklearn.tree import DecisionTreeRegressor\n",
    "\n",
    "# Sklearn regression model evaluation function\n",
    "from sklearn.metrics import mean_absolute_error\n",
    "\n",
    "from sklearn.neighbors import KNeighborsClassifier\n",
    "from sklearn.metrics import classification_report, confusion_matrix\n",
    "\n",
    "from sklearn.preprocessing import StandardScaler\n",
    "from sklearn.metrics import accuracy_score\n",
    "from sklearn.preprocessing import OneHotEncoder\n",
    "\n",
    "from sklearn.datasets import make_classification"
   ]
  },
  {
   "cell_type": "code",
   "execution_count": 48,
   "id": "f33a56e5",
   "metadata": {},
   "outputs": [
    {
     "data": {
      "text/plain": [
       "Index(['brain_stroke'], dtype='object')"
      ]
     },
     "execution_count": 48,
     "metadata": {},
     "output_type": "execute_result"
    }
   ],
   "source": [
    "cat_columns = df_brain_one_hot.select_dtypes(include='object').keys()\n",
    "cat_columns"
   ]
  },
  {
   "cell_type": "code",
   "execution_count": 49,
   "id": "5c292edf",
   "metadata": {},
   "outputs": [
    {
     "data": {
      "text/html": [
       "<div>\n",
       "<style scoped>\n",
       "    .dataframe tbody tr th:only-of-type {\n",
       "        vertical-align: middle;\n",
       "    }\n",
       "\n",
       "    .dataframe tbody tr th {\n",
       "        vertical-align: top;\n",
       "    }\n",
       "\n",
       "    .dataframe thead th {\n",
       "        text-align: right;\n",
       "    }\n",
       "</style>\n",
       "<table border=\"1\" class=\"dataframe\">\n",
       "  <thead>\n",
       "    <tr style=\"text-align: right;\">\n",
       "      <th></th>\n",
       "      <th>0</th>\n",
       "      <th>1</th>\n",
       "    </tr>\n",
       "  </thead>\n",
       "  <tbody>\n",
       "    <tr>\n",
       "      <th>0</th>\n",
       "      <td>0.0</td>\n",
       "      <td>1.0</td>\n",
       "    </tr>\n",
       "    <tr>\n",
       "      <th>1</th>\n",
       "      <td>0.0</td>\n",
       "      <td>1.0</td>\n",
       "    </tr>\n",
       "    <tr>\n",
       "      <th>2</th>\n",
       "      <td>0.0</td>\n",
       "      <td>1.0</td>\n",
       "    </tr>\n",
       "    <tr>\n",
       "      <th>3</th>\n",
       "      <td>0.0</td>\n",
       "      <td>1.0</td>\n",
       "    </tr>\n",
       "    <tr>\n",
       "      <th>4</th>\n",
       "      <td>0.0</td>\n",
       "      <td>1.0</td>\n",
       "    </tr>\n",
       "    <tr>\n",
       "      <th>...</th>\n",
       "      <td>...</td>\n",
       "      <td>...</td>\n",
       "    </tr>\n",
       "    <tr>\n",
       "      <th>5105</th>\n",
       "      <td>1.0</td>\n",
       "      <td>0.0</td>\n",
       "    </tr>\n",
       "    <tr>\n",
       "      <th>5106</th>\n",
       "      <td>1.0</td>\n",
       "      <td>0.0</td>\n",
       "    </tr>\n",
       "    <tr>\n",
       "      <th>5107</th>\n",
       "      <td>1.0</td>\n",
       "      <td>0.0</td>\n",
       "    </tr>\n",
       "    <tr>\n",
       "      <th>5108</th>\n",
       "      <td>1.0</td>\n",
       "      <td>0.0</td>\n",
       "    </tr>\n",
       "    <tr>\n",
       "      <th>5109</th>\n",
       "      <td>1.0</td>\n",
       "      <td>0.0</td>\n",
       "    </tr>\n",
       "  </tbody>\n",
       "</table>\n",
       "<p>5110 rows × 2 columns</p>\n",
       "</div>"
      ],
      "text/plain": [
       "        0    1\n",
       "0     0.0  1.0\n",
       "1     0.0  1.0\n",
       "2     0.0  1.0\n",
       "3     0.0  1.0\n",
       "4     0.0  1.0\n",
       "...   ...  ...\n",
       "5105  1.0  0.0\n",
       "5106  1.0  0.0\n",
       "5107  1.0  0.0\n",
       "5108  1.0  0.0\n",
       "5109  1.0  0.0\n",
       "\n",
       "[5110 rows x 2 columns]"
      ]
     },
     "execution_count": 49,
     "metadata": {},
     "output_type": "execute_result"
    }
   ],
   "source": [
    "# creating instance of one-hot-encoder\n",
    "enc = OneHotEncoder(handle_unknown='ignore')\n",
    "# passing bridge-types-cat column (label encoded values of bridge_types)\n",
    "enc_df = pd.DataFrame(enc.fit_transform(df_brainstroke[cat_columns]).toarray())\n",
    "enc_df"
   ]
  },
  {
   "cell_type": "code",
   "execution_count": 50,
   "id": "8ad9951f",
   "metadata": {},
   "outputs": [
    {
     "data": {
      "text/html": [
       "<div>\n",
       "<style scoped>\n",
       "    .dataframe tbody tr th:only-of-type {\n",
       "        vertical-align: middle;\n",
       "    }\n",
       "\n",
       "    .dataframe tbody tr th {\n",
       "        vertical-align: top;\n",
       "    }\n",
       "\n",
       "    .dataframe thead th {\n",
       "        text-align: right;\n",
       "    }\n",
       "</style>\n",
       "<table border=\"1\" class=\"dataframe\">\n",
       "  <thead>\n",
       "    <tr style=\"text-align: right;\">\n",
       "      <th></th>\n",
       "      <th>gender</th>\n",
       "      <th>age</th>\n",
       "      <th>hypertension</th>\n",
       "      <th>heart_disease</th>\n",
       "      <th>ever_married</th>\n",
       "      <th>work_type</th>\n",
       "      <th>Residence_type</th>\n",
       "      <th>avg_glucose_level</th>\n",
       "      <th>bmi</th>\n",
       "      <th>smoking_status</th>\n",
       "      <th>brain_stroke</th>\n",
       "      <th>stage_of_life</th>\n",
       "      <th>weight_status</th>\n",
       "      <th>0</th>\n",
       "      <th>1</th>\n",
       "    </tr>\n",
       "  </thead>\n",
       "  <tbody>\n",
       "    <tr>\n",
       "      <th>0</th>\n",
       "      <td>MALE</td>\n",
       "      <td>67.0</td>\n",
       "      <td>NO</td>\n",
       "      <td>YES</td>\n",
       "      <td>YES</td>\n",
       "      <td>PRIVATE</td>\n",
       "      <td>URBAN</td>\n",
       "      <td>228.69</td>\n",
       "      <td>36.6</td>\n",
       "      <td>FORMERLY SMOKED</td>\n",
       "      <td>1</td>\n",
       "      <td>SENIOR ADULT</td>\n",
       "      <td>OBESITY</td>\n",
       "      <td>0.0</td>\n",
       "      <td>1.0</td>\n",
       "    </tr>\n",
       "    <tr>\n",
       "      <th>1</th>\n",
       "      <td>FEMALE</td>\n",
       "      <td>61.0</td>\n",
       "      <td>NO</td>\n",
       "      <td>NO</td>\n",
       "      <td>YES</td>\n",
       "      <td>SELF EMPLOYED</td>\n",
       "      <td>RURAL</td>\n",
       "      <td>202.21</td>\n",
       "      <td>28.1</td>\n",
       "      <td>NEVER SMOKED</td>\n",
       "      <td>1</td>\n",
       "      <td>SENIOR ADULT</td>\n",
       "      <td>OBESITY</td>\n",
       "      <td>0.0</td>\n",
       "      <td>1.0</td>\n",
       "    </tr>\n",
       "    <tr>\n",
       "      <th>2</th>\n",
       "      <td>MALE</td>\n",
       "      <td>80.0</td>\n",
       "      <td>NO</td>\n",
       "      <td>YES</td>\n",
       "      <td>YES</td>\n",
       "      <td>PRIVATE</td>\n",
       "      <td>RURAL</td>\n",
       "      <td>105.92</td>\n",
       "      <td>32.5</td>\n",
       "      <td>NEVER SMOKED</td>\n",
       "      <td>1</td>\n",
       "      <td>SENIOR ADULT</td>\n",
       "      <td>OBESITY</td>\n",
       "      <td>0.0</td>\n",
       "      <td>1.0</td>\n",
       "    </tr>\n",
       "    <tr>\n",
       "      <th>3</th>\n",
       "      <td>FEMALE</td>\n",
       "      <td>49.0</td>\n",
       "      <td>NO</td>\n",
       "      <td>NO</td>\n",
       "      <td>YES</td>\n",
       "      <td>PRIVATE</td>\n",
       "      <td>URBAN</td>\n",
       "      <td>171.23</td>\n",
       "      <td>34.4</td>\n",
       "      <td>SMOKES</td>\n",
       "      <td>1</td>\n",
       "      <td>MIDDLE AGE ADULT</td>\n",
       "      <td>OBESITY</td>\n",
       "      <td>0.0</td>\n",
       "      <td>1.0</td>\n",
       "    </tr>\n",
       "    <tr>\n",
       "      <th>4</th>\n",
       "      <td>FEMALE</td>\n",
       "      <td>79.0</td>\n",
       "      <td>YES</td>\n",
       "      <td>NO</td>\n",
       "      <td>YES</td>\n",
       "      <td>SELF EMPLOYED</td>\n",
       "      <td>RURAL</td>\n",
       "      <td>174.12</td>\n",
       "      <td>24.0</td>\n",
       "      <td>NEVER SMOKED</td>\n",
       "      <td>1</td>\n",
       "      <td>SENIOR ADULT</td>\n",
       "      <td>HEALTHY WEIGHT</td>\n",
       "      <td>0.0</td>\n",
       "      <td>1.0</td>\n",
       "    </tr>\n",
       "    <tr>\n",
       "      <th>...</th>\n",
       "      <td>...</td>\n",
       "      <td>...</td>\n",
       "      <td>...</td>\n",
       "      <td>...</td>\n",
       "      <td>...</td>\n",
       "      <td>...</td>\n",
       "      <td>...</td>\n",
       "      <td>...</td>\n",
       "      <td>...</td>\n",
       "      <td>...</td>\n",
       "      <td>...</td>\n",
       "      <td>...</td>\n",
       "      <td>...</td>\n",
       "      <td>...</td>\n",
       "      <td>...</td>\n",
       "    </tr>\n",
       "    <tr>\n",
       "      <th>5105</th>\n",
       "      <td>FEMALE</td>\n",
       "      <td>80.0</td>\n",
       "      <td>YES</td>\n",
       "      <td>NO</td>\n",
       "      <td>YES</td>\n",
       "      <td>PRIVATE</td>\n",
       "      <td>URBAN</td>\n",
       "      <td>83.75</td>\n",
       "      <td>28.1</td>\n",
       "      <td>NEVER SMOKED</td>\n",
       "      <td>0</td>\n",
       "      <td>SENIOR ADULT</td>\n",
       "      <td>OBESITY</td>\n",
       "      <td>1.0</td>\n",
       "      <td>0.0</td>\n",
       "    </tr>\n",
       "    <tr>\n",
       "      <th>5106</th>\n",
       "      <td>FEMALE</td>\n",
       "      <td>81.0</td>\n",
       "      <td>NO</td>\n",
       "      <td>NO</td>\n",
       "      <td>YES</td>\n",
       "      <td>SELF EMPLOYED</td>\n",
       "      <td>URBAN</td>\n",
       "      <td>125.20</td>\n",
       "      <td>40.0</td>\n",
       "      <td>NEVER SMOKED</td>\n",
       "      <td>0</td>\n",
       "      <td>SENIOR ADULT</td>\n",
       "      <td>OBESITY</td>\n",
       "      <td>1.0</td>\n",
       "      <td>0.0</td>\n",
       "    </tr>\n",
       "    <tr>\n",
       "      <th>5107</th>\n",
       "      <td>FEMALE</td>\n",
       "      <td>35.0</td>\n",
       "      <td>NO</td>\n",
       "      <td>NO</td>\n",
       "      <td>YES</td>\n",
       "      <td>SELF EMPLOYED</td>\n",
       "      <td>RURAL</td>\n",
       "      <td>82.99</td>\n",
       "      <td>30.6</td>\n",
       "      <td>NEVER SMOKED</td>\n",
       "      <td>0</td>\n",
       "      <td>ADULT</td>\n",
       "      <td>OBESITY</td>\n",
       "      <td>1.0</td>\n",
       "      <td>0.0</td>\n",
       "    </tr>\n",
       "    <tr>\n",
       "      <th>5108</th>\n",
       "      <td>MALE</td>\n",
       "      <td>51.0</td>\n",
       "      <td>NO</td>\n",
       "      <td>NO</td>\n",
       "      <td>YES</td>\n",
       "      <td>PRIVATE</td>\n",
       "      <td>RURAL</td>\n",
       "      <td>166.29</td>\n",
       "      <td>25.6</td>\n",
       "      <td>FORMERLY SMOKED</td>\n",
       "      <td>0</td>\n",
       "      <td>MIDDLE AGE ADULT</td>\n",
       "      <td>OVERWEIGHT</td>\n",
       "      <td>1.0</td>\n",
       "      <td>0.0</td>\n",
       "    </tr>\n",
       "    <tr>\n",
       "      <th>5109</th>\n",
       "      <td>FEMALE</td>\n",
       "      <td>44.0</td>\n",
       "      <td>NO</td>\n",
       "      <td>NO</td>\n",
       "      <td>YES</td>\n",
       "      <td>GOVERNMENT</td>\n",
       "      <td>URBAN</td>\n",
       "      <td>85.28</td>\n",
       "      <td>26.2</td>\n",
       "      <td>UNKNOWN</td>\n",
       "      <td>0</td>\n",
       "      <td>MIDDLE AGE ADULT</td>\n",
       "      <td>OVERWEIGHT</td>\n",
       "      <td>1.0</td>\n",
       "      <td>0.0</td>\n",
       "    </tr>\n",
       "  </tbody>\n",
       "</table>\n",
       "<p>5110 rows × 15 columns</p>\n",
       "</div>"
      ],
      "text/plain": [
       "      gender   age hypertension heart_disease ever_married      work_type  \\\n",
       "0       MALE  67.0           NO           YES          YES        PRIVATE   \n",
       "1     FEMALE  61.0           NO            NO          YES  SELF EMPLOYED   \n",
       "2       MALE  80.0           NO           YES          YES        PRIVATE   \n",
       "3     FEMALE  49.0           NO            NO          YES        PRIVATE   \n",
       "4     FEMALE  79.0          YES            NO          YES  SELF EMPLOYED   \n",
       "...      ...   ...          ...           ...          ...            ...   \n",
       "5105  FEMALE  80.0          YES            NO          YES        PRIVATE   \n",
       "5106  FEMALE  81.0           NO            NO          YES  SELF EMPLOYED   \n",
       "5107  FEMALE  35.0           NO            NO          YES  SELF EMPLOYED   \n",
       "5108    MALE  51.0           NO            NO          YES        PRIVATE   \n",
       "5109  FEMALE  44.0           NO            NO          YES     GOVERNMENT   \n",
       "\n",
       "     Residence_type  avg_glucose_level   bmi   smoking_status brain_stroke  \\\n",
       "0             URBAN             228.69  36.6  FORMERLY SMOKED            1   \n",
       "1             RURAL             202.21  28.1     NEVER SMOKED            1   \n",
       "2             RURAL             105.92  32.5     NEVER SMOKED            1   \n",
       "3             URBAN             171.23  34.4           SMOKES            1   \n",
       "4             RURAL             174.12  24.0     NEVER SMOKED            1   \n",
       "...             ...                ...   ...              ...          ...   \n",
       "5105          URBAN              83.75  28.1     NEVER SMOKED            0   \n",
       "5106          URBAN             125.20  40.0     NEVER SMOKED            0   \n",
       "5107          RURAL              82.99  30.6     NEVER SMOKED            0   \n",
       "5108          RURAL             166.29  25.6  FORMERLY SMOKED            0   \n",
       "5109          URBAN              85.28  26.2          UNKNOWN            0   \n",
       "\n",
       "          stage_of_life   weight_status    0    1  \n",
       "0          SENIOR ADULT         OBESITY  0.0  1.0  \n",
       "1          SENIOR ADULT         OBESITY  0.0  1.0  \n",
       "2          SENIOR ADULT         OBESITY  0.0  1.0  \n",
       "3     MIDDLE AGE ADULT          OBESITY  0.0  1.0  \n",
       "4          SENIOR ADULT  HEALTHY WEIGHT  0.0  1.0  \n",
       "...                 ...             ...  ...  ...  \n",
       "5105       SENIOR ADULT         OBESITY  1.0  0.0  \n",
       "5106       SENIOR ADULT         OBESITY  1.0  0.0  \n",
       "5107              ADULT         OBESITY  1.0  0.0  \n",
       "5108  MIDDLE AGE ADULT       OVERWEIGHT  1.0  0.0  \n",
       "5109  MIDDLE AGE ADULT       OVERWEIGHT  1.0  0.0  \n",
       "\n",
       "[5110 rows x 15 columns]"
      ]
     },
     "execution_count": 50,
     "metadata": {},
     "output_type": "execute_result"
    }
   ],
   "source": [
    "# merge with main df df_brainstroke on key values\n",
    "df_brainstroke = df_brainstroke.join(enc_df)\n",
    "df_brainstroke"
   ]
  },
  {
   "cell_type": "code",
   "execution_count": 51,
   "id": "e1775aac",
   "metadata": {},
   "outputs": [],
   "source": [
    "df_brainstroke['gender'] = df_brainstroke['gender'].map(dict(zip(['MALE','FEMALE','OTHER'],[0,1,2])))\n",
    "df_brainstroke['hypertension'] = df_brainstroke['hypertension'].map(dict(zip(['YES','NO'],[1,0])))\n",
    "df_brainstroke['heart_disease'] = df_brainstroke['heart_disease'].map(dict(zip(['YES','NO'],[1,0])))\n",
    "df_brainstroke['ever_married'] = df_brainstroke['ever_married'].map(dict(zip(['YES','NO'],[1,0])))\n",
    "df_brainstroke['work_type'] = df_brainstroke['work_type'].map(dict(zip(['PRIVATE', 'SELF EMPLOYED', 'GOVERNMENT', 'STUDENT',\n",
    "       'NEVER_WORKED'],[0,1,2,3,4])))\n",
    "df_brainstroke['Residence_type'] = df_brainstroke['Residence_type'].map(dict(zip(['URBAN','RURAL'],[1,0])))\n",
    "df_brainstroke['smoking_status'] = df_brainstroke['smoking_status'].map(dict(zip(['FORMERLY SMOKED', 'NEVER SMOKED', 'SMOKES', 'UNKNOWN'],[0,1,2,3])))\n",
    "df_brainstroke['stage_of_life'] = df_brainstroke['stage_of_life'].map(dict(zip(['SENIOR ADULT', 'MIDDLE AGE ADULT ', 'ADULT', 'INFANT', 'TEEN',\n",
    "       'TODDLER', 'CHILD'],[0,1,2,3,4,5,6])))\n",
    "df_brainstroke['weight_status'] = df_brainstroke['weight_status'].map(dict(zip(['OBESITY', 'HEALTHY WEIGHT', 'OVERWEIGHT', 'UNDERWEIGHT'],[0,1,2,3])))"
   ]
  },
  {
   "cell_type": "code",
   "execution_count": 52,
   "id": "b3c7332d",
   "metadata": {},
   "outputs": [],
   "source": [
    "#df_brain = df_brain.dropna()\n",
    "y = df_brain_one_hot[\"brain_stroke\"]\n",
    "X = df_brain_one_hot.drop('brain_stroke', axis=1)"
   ]
  },
  {
   "cell_type": "code",
   "execution_count": 53,
   "id": "b88474c4",
   "metadata": {},
   "outputs": [],
   "source": [
    "# Split dataset into random train and test subsets:\n",
    "X_train, X_test, y_train, y_test = train_test_split(X, y, test_size=0.20) "
   ]
  },
  {
   "cell_type": "code",
   "execution_count": 54,
   "id": "a2c706d3",
   "metadata": {},
   "outputs": [],
   "source": [
    "#pip install imbalanced-learn"
   ]
  },
  {
   "cell_type": "code",
   "execution_count": 55,
   "id": "234259dd",
   "metadata": {},
   "outputs": [],
   "source": [
    "from imblearn.over_sampling import SMOTE\n",
    "sm = SMOTE()\n",
    "X_res, y_res = sm.fit_resample(X_train, y_train)"
   ]
  },
  {
   "cell_type": "code",
   "execution_count": 56,
   "id": "a9fb57c2",
   "metadata": {},
   "outputs": [
    {
     "name": "stdout",
     "output_type": "stream",
     "text": [
      "Counter({'0': 3895, '1': 193})\n",
      "Counter({'0': 966, '1': 56})\n",
      "Counter({'0': 3895, '1': 3895})\n"
     ]
    }
   ],
   "source": [
    "# summarize the new class distribution\n",
    "from collections import Counter\n",
    "counter = Counter(y_train)\n",
    "print(counter)\n",
    "counter = Counter(y_test)\n",
    "print(counter)\n",
    "counter = Counter(y_res)\n",
    "print(counter)"
   ]
  },
  {
   "cell_type": "code",
   "execution_count": 57,
   "id": "345977a3",
   "metadata": {},
   "outputs": [
    {
     "data": {
      "text/plain": [
       "StandardScaler()"
      ]
     },
     "execution_count": 57,
     "metadata": {},
     "output_type": "execute_result"
    }
   ],
   "source": [
    "# Standardize features by removing mean and scaling to unit variance:\n",
    "scaler = StandardScaler()\n",
    "scaler.fit(X_train)"
   ]
  },
  {
   "cell_type": "code",
   "execution_count": 58,
   "id": "29482687",
   "metadata": {},
   "outputs": [],
   "source": [
    "X_train = scaler.fit_transform(X_train)\n",
    "X_test = scaler.fit_transform(X_test) \n",
    "X_res = scaler.fit_transform(X_res)"
   ]
  },
  {
   "cell_type": "markdown",
   "id": "d0612542",
   "metadata": {},
   "source": [
    "### 2. KNN classifier:"
   ]
  },
  {
   "cell_type": "code",
   "execution_count": 59,
   "id": "4c164885",
   "metadata": {},
   "outputs": [
    {
     "data": {
      "text/plain": [
       "KNeighborsClassifier()"
      ]
     },
     "execution_count": 59,
     "metadata": {},
     "output_type": "execute_result"
    }
   ],
   "source": [
    "# Use the KNN classifier to fit data:\n",
    "classifier = KNeighborsClassifier()\n",
    "classifier.fit(X_res, y_res)"
   ]
  },
  {
   "cell_type": "code",
   "execution_count": 60,
   "id": "d2ab472f",
   "metadata": {},
   "outputs": [],
   "source": [
    "# Predict y data with classifier: \n",
    "y_predict = classifier.predict(X_test)"
   ]
  },
  {
   "cell_type": "code",
   "execution_count": 61,
   "id": "80ba0d8e",
   "metadata": {},
   "outputs": [
    {
     "name": "stdout",
     "output_type": "stream",
     "text": [
      "[[937  29]\n",
      " [ 49   7]]\n",
      "              precision    recall  f1-score   support\n",
      "\n",
      "           0       0.95      0.97      0.96       966\n",
      "           1       0.19      0.12      0.15        56\n",
      "\n",
      "    accuracy                           0.92      1022\n",
      "   macro avg       0.57      0.55      0.56      1022\n",
      "weighted avg       0.91      0.92      0.92      1022\n",
      "\n"
     ]
    }
   ],
   "source": [
    "# Print results: \n",
    "print(confusion_matrix(y_test, y_predict))\n",
    "print(classification_report(y_test, y_predict)) "
   ]
  },
  {
   "cell_type": "code",
   "execution_count": 62,
   "id": "e9ec483c",
   "metadata": {},
   "outputs": [
    {
     "data": {
      "text/plain": [
       "944"
      ]
     },
     "execution_count": 62,
     "metadata": {},
     "output_type": "execute_result"
    }
   ],
   "source": [
    "knn_score = accuracy_score(y_test, y_predict, normalize=False)\n",
    "knn_score"
   ]
  },
  {
   "cell_type": "code",
   "execution_count": 63,
   "id": "3067edc5",
   "metadata": {},
   "outputs": [
    {
     "name": "stdout",
     "output_type": "stream",
     "text": [
      "(4088, 34)\n",
      "(1022, 34)\n"
     ]
    }
   ],
   "source": [
    "# print the shapes of the new X objects\n",
    "print(X_train.shape)\n",
    "print(X_test.shape)"
   ]
  },
  {
   "cell_type": "code",
   "execution_count": 64,
   "id": "59a1db60",
   "metadata": {},
   "outputs": [
    {
     "name": "stdout",
     "output_type": "stream",
     "text": [
      "(4088,)\n",
      "(1022,)\n"
     ]
    }
   ],
   "source": [
    "# print the shapes of the new y objects\n",
    "print(y_train.shape)\n",
    "print(y_test.shape)"
   ]
  },
  {
   "cell_type": "code",
   "execution_count": 65,
   "id": "b187eb52",
   "metadata": {},
   "outputs": [],
   "source": [
    "#Importing libraries\n",
    "from sklearn.linear_model import LogisticRegression"
   ]
  },
  {
   "cell_type": "code",
   "execution_count": 66,
   "id": "db6ad838",
   "metadata": {},
   "outputs": [
    {
     "data": {
      "text/plain": [
       "LogisticRegression()"
      ]
     },
     "execution_count": 66,
     "metadata": {},
     "output_type": "execute_result"
    }
   ],
   "source": [
    "#train the model on the training set\n",
    "logreg = LogisticRegression()\n",
    "logreg.fit(X_train, y_train)"
   ]
  },
  {
   "cell_type": "code",
   "execution_count": 67,
   "id": "05aec769",
   "metadata": {},
   "outputs": [
    {
     "name": "stdout",
     "output_type": "stream",
     "text": [
      "0.9452054794520548\n"
     ]
    }
   ],
   "source": [
    "import sklearn.metrics as metrics\n",
    "#make predictions on the testing set\n",
    "y_pred = logreg.predict(X_test)\n",
    "\n",
    "print(accuracy_score(y_test, y_pred))"
   ]
  },
  {
   "cell_type": "code",
   "execution_count": 68,
   "id": "37bcdd10",
   "metadata": {},
   "outputs": [
    {
     "name": "stdout",
     "output_type": "stream",
     "text": [
      "0.9442270058708415\n"
     ]
    }
   ],
   "source": [
    "#Repeat for KNN with K=5:\n",
    "knn = KNeighborsClassifier(n_neighbors=5)\n",
    "knn.fit(X_train, y_train)\n",
    "y_pred = knn.predict(X_test)\n",
    "print(metrics.accuracy_score(y_test, y_pred))"
   ]
  },
  {
   "cell_type": "code",
   "execution_count": 69,
   "id": "3a178433",
   "metadata": {},
   "outputs": [
    {
     "name": "stdout",
     "output_type": "stream",
     "text": [
      "0.9442270058708415\n"
     ]
    }
   ],
   "source": [
    "#Repeat for KNN with K=1:\n",
    "knn = KNeighborsClassifier(n_neighbors=5)\n",
    "knn.fit(X_train, y_train)\n",
    "y_pred = knn.predict(X_test)\n",
    "print(metrics.accuracy_score(y_test, y_pred))"
   ]
  },
  {
   "cell_type": "code",
   "execution_count": 70,
   "id": "64eca716",
   "metadata": {},
   "outputs": [
    {
     "name": "stdout",
     "output_type": "stream",
     "text": [
      "Accuracy Score of KNN Classifier:  [0.9187866927592955, 0.9422700587084148, 0.9344422700587084, 0.9461839530332681, 0.9442270058708415, 0.9452054794520548, 0.9442270058708415, 0.9452054794520548, 0.9452054794520548, 0.9442270058708415, 0.9452054794520548, 0.9452054794520548, 0.9452054794520548, 0.9452054794520548, 0.9452054794520548, 0.9452054794520548, 0.9452054794520548, 0.9452054794520548, 0.9452054794520548, 0.9452054794520548, 0.9452054794520548, 0.9452054794520548, 0.9452054794520548, 0.9452054794520548, 0.9452054794520548, 0.9452054794520548, 0.9452054794520548, 0.9452054794520548, 0.9452054794520548, 0.9452054794520548, 0.9452054794520548, 0.9452054794520548, 0.9452054794520548, 0.9452054794520548, 0.9452054794520548]\n"
     ]
    }
   ],
   "source": [
    "# try K=1 through K=35 and record testing accuracy\n",
    "k_range = range(1, 36)\n",
    "\n",
    "# We can create Python dictionary using [] or dict()\n",
    "scores = []\n",
    "\n",
    "# We use a loop through the range 1 to 36\n",
    "# We append the scores in the dictionary\n",
    "for k in k_range:\n",
    "    knn = KNeighborsClassifier(n_neighbors=k)\n",
    "    knn.fit(X_train, y_train)\n",
    "    y_pred = knn.predict(X_test)\n",
    "    scores.append(metrics.accuracy_score(y_test, y_pred))\n",
    "\n",
    "print(\"Accuracy Score of KNN Classifier:  \" + str(scores))"
   ]
  },
  {
   "cell_type": "code",
   "execution_count": 71,
   "id": "bbb2df58",
   "metadata": {},
   "outputs": [
    {
     "data": {
      "text/plain": [
       "Text(0, 0.5, 'Testing Accuracy')"
      ]
     },
     "execution_count": 71,
     "metadata": {},
     "output_type": "execute_result"
    },
    {
     "data": {
      "image/png": "[encoded data removed]",
      "text/plain": [
       "<Figure size 432x288 with 1 Axes>"
      ]
     },
     "metadata": {
      "needs_background": "light"
     },
     "output_type": "display_data"
    }
   ],
   "source": [
    "# import Matplotlib (scientific plotting library)\n",
    "import matplotlib.pyplot as plt\n",
    "\n",
    "# allow plots to appear within the notebook\n",
    "%matplotlib inline\n",
    "\n",
    "# plot the relationship between K and testing accuracy\n",
    "# plt.plot(x_axis, y_axis)\n",
    "plt.plot(k_range, scores)\n",
    "plt.xlabel('Value of K for KNN')\n",
    "plt.ylabel('Testing Accuracy')"
   ]
  },
  {
   "cell_type": "markdown",
   "id": "74b6b461",
   "metadata": {},
   "source": [
    "##### Summary:\n",
    "As per the classification regression and KNeighborsRegressoion after evaluating the accuracy of the training model we got the output around 0.95"
   ]
  },
  {
   "cell_type": "markdown",
   "id": "24b9119b",
   "metadata": {},
   "source": [
    "## Decision Tree Classifier:"
   ]
  },
  {
   "cell_type": "code",
   "execution_count": 72,
   "id": "389891fb",
   "metadata": {},
   "outputs": [],
   "source": [
    "#Import libraries\n",
    "from sklearn.tree import DecisionTreeClassifier"
   ]
  },
  {
   "cell_type": "code",
   "execution_count": 73,
   "id": "bdb78676",
   "metadata": {},
   "outputs": [],
   "source": [
    "#save the feature name and target variables\n",
    "feature_names = X.columns\n",
    "labels = y.unique()\n",
    "#split the dataset\n",
    "from sklearn.model_selection import train_test_split\n",
    "X_train, test_x, y_train, test_lab = train_test_split(X,y,\n",
    "                                                 test_size = 0.4,\n",
    "                                                 random_state = 42)"
   ]
  },
  {
   "cell_type": "code",
   "execution_count": 74,
   "id": "33908cfd",
   "metadata": {},
   "outputs": [
    {
     "data": {
      "text/plain": [
       "DecisionTreeClassifier(max_depth=3, random_state=42)"
      ]
     },
     "execution_count": 74,
     "metadata": {},
     "output_type": "execute_result"
    }
   ],
   "source": [
    "clf = DecisionTreeClassifier(max_depth =3, random_state = 42)\n",
    "clf.fit(X_train, y_train)"
   ]
  },
  {
   "cell_type": "code",
   "execution_count": 75,
   "id": "bd9a45e3",
   "metadata": {},
   "outputs": [
    {
     "data": {
      "image/png": "[encoded data removed]",
      "text/plain": [
       "<Figure size 2160x720 with 1 Axes>"
      ]
     },
     "metadata": {},
     "output_type": "display_data"
    }
   ],
   "source": [
    "#import relevant packages\n",
    "from sklearn import tree\n",
    "import matplotlib.pyplot as plt\n",
    "#plt the figure, setting a black background\n",
    "plt.figure(figsize=(30,10), facecolor ='k')\n",
    "#create the tree plot\n",
    "a = tree.plot_tree(clf,\n",
    "                   #use the feature names stored\n",
    "                   feature_names = feature_names,\n",
    "                   #use the class names stored\n",
    "                   class_names = labels,\n",
    "                   rounded = True,\n",
    "                   filled = True,\n",
    "                   fontsize=14)\n",
    "#show the plot\n",
    "plt.show()"
   ]
  },
  {
   "cell_type": "code",
   "execution_count": 76,
   "id": "1e807ad4",
   "metadata": {},
   "outputs": [],
   "source": [
    "test_pred_decision_tree = clf.predict(test_x)"
   ]
  },
  {
   "cell_type": "code",
   "execution_count": 77,
   "id": "0705ae05",
   "metadata": {},
   "outputs": [
    {
     "data": {
      "image/png": "[encoded data removed]",
      "text/plain": [
       "<Figure size 432x288 with 2 Axes>"
      ]
     },
     "metadata": {
      "needs_background": "light"
     },
     "output_type": "display_data"
    },
    {
     "data": {
      "text/plain": [
       "<Figure size 720x504 with 0 Axes>"
      ]
     },
     "metadata": {},
     "output_type": "display_data"
    }
   ],
   "source": [
    "#import the relevant packages\n",
    "from sklearn import metrics\n",
    "import seaborn as sns\n",
    "import matplotlib.pyplot as plt\n",
    "#get the confusion matrix\n",
    "confusion_matrix = metrics.confusion_matrix(test_lab,  \n",
    "                                            test_pred_decision_tree)\n",
    "#turn this into a dataframe\n",
    "matrix_df = pd.DataFrame(confusion_matrix)\n",
    "#plot the result\n",
    "ax = plt.axes()\n",
    "sns.set(font_scale=1.3)\n",
    "plt.figure(figsize=(10,7))\n",
    "sns.heatmap(matrix_df, annot=True, fmt=\"g\", ax=ax, cmap=\"magma\")\n",
    "#set axis titles\n",
    "ax.set_title('Confusion Matrix - Decision Tree')\n",
    "ax.set_xlabel(\"Predicted label\", fontsize =15)\n",
    "ax.set_xticklabels(['']+labels)\n",
    "ax.set_ylabel(\"True Label\", fontsize=15)\n",
    "ax.set_yticklabels(list(labels), rotation = 0)\n",
    "plt.show()"
   ]
  },
  {
   "cell_type": "code",
   "execution_count": 78,
   "id": "63d4b451",
   "metadata": {},
   "outputs": [
    {
     "name": "stdout",
     "output_type": "stream",
     "text": [
      "Accuracy Score of Decision Tree Classifier:  0.9442270058708415\n"
     ]
    }
   ],
   "source": [
    "print(\"Accuracy Score of Decision Tree Classifier:  \" + str(accuracy_score(test_lab, test_pred_decision_tree)))"
   ]
  },
  {
   "cell_type": "markdown",
   "id": "14862613",
   "metadata": {},
   "source": [
    "## Random Forest Classifier"
   ]
  },
  {
   "cell_type": "code",
   "execution_count": 79,
   "id": "cb1e173b",
   "metadata": {},
   "outputs": [],
   "source": [
    "#Split the data\n",
    "training, testing, training_labels, testing_labels = train_test_split(X, y, test_size = .25, random_state = 42)"
   ]
  },
  {
   "cell_type": "code",
   "execution_count": 80,
   "id": "86020a30",
   "metadata": {},
   "outputs": [],
   "source": [
    "# Normalize the data\n",
    "sc = StandardScaler()\n",
    "normed_train_data = pd.DataFrame(sc.fit_transform(training), columns = X.columns)\n",
    "normed_test_data = pd.DataFrame(sc.fit_transform(testing), columns = X.columns)"
   ]
  },
  {
   "cell_type": "code",
   "execution_count": 81,
   "id": "cfa44246",
   "metadata": {},
   "outputs": [
    {
     "data": {
      "text/plain": [
       "RandomForestClassifier()"
      ]
     },
     "execution_count": 81,
     "metadata": {},
     "output_type": "execute_result"
    }
   ],
   "source": [
    "#Building Random Forest model\n",
    "\n",
    "from sklearn.ensemble import RandomForestClassifier\n",
    "from sklearn.metrics import confusion_matrix\n",
    "\n",
    "clf=RandomForestClassifier()\n",
    "clf.fit(training, training_labels)"
   ]
  },
  {
   "cell_type": "code",
   "execution_count": 82,
   "id": "a09870f0",
   "metadata": {},
   "outputs": [],
   "source": [
    "preds = clf.predict(testing)"
   ]
  },
  {
   "cell_type": "code",
   "execution_count": 83,
   "id": "109bc298",
   "metadata": {},
   "outputs": [
    {
     "name": "stdout",
     "output_type": "stream",
     "text": [
      "0.9374021909233177\n"
     ]
    }
   ],
   "source": [
    "print(clf.score(testing, testing_labels))"
   ]
  },
  {
   "cell_type": "code",
   "execution_count": 84,
   "id": "c1a4d7b1",
   "metadata": {},
   "outputs": [
    {
     "name": "stdout",
     "output_type": "stream",
     "text": [
      "Accuracy Score of Random Forest Classifier:  0.9374021909233177\n"
     ]
    }
   ],
   "source": [
    "print(\"Accuracy Score of Random Forest Classifier:  \" + str(accuracy_score(testing_labels, preds)))"
   ]
  },
  {
   "cell_type": "code",
   "execution_count": 85,
   "id": "3fe78f97",
   "metadata": {},
   "outputs": [
    {
     "data": {
      "text/plain": [
       "array([[1197,    1],\n",
       "       [  79,    1]], dtype=int64)"
      ]
     },
     "execution_count": 85,
     "metadata": {},
     "output_type": "execute_result"
    }
   ],
   "source": [
    "confusion_matrix(testing_labels, preds)"
   ]
  },
  {
   "cell_type": "markdown",
   "id": "84911056",
   "metadata": {},
   "source": [
    "## Summary:\n",
    "\n",
    "With classification regression and KNeighborsRegression, after evaluating the accuracy of the training model we got the output around 0.944.\n",
    "\n",
    "With Decision Tree Classifier, after evaluating the accuracy of the training model we got the output around 0.944.\n",
    "\n",
    "With Random Forest Classifier, after evaluating the accuracy of the training model we got the output around 0.937.\n",
    "\n",
    "Though, there is not much difference, with 95% accuracy, classification regression and KNeighborsRegression is the best model."
   ]
  },
  {
   "cell_type": "code",
   "execution_count": null,
   "id": "c2042737",
   "metadata": {},
   "outputs": [],
   "source": []
  }
 ],
 "metadata": {
  "kernelspec": {
   "display_name": "Python 3 (ipykernel)",
   "language": "python",
   "name": "python3"
  },
  "language_info": {
   "codemirror_mode": {
    "name": "ipython",
    "version": 3
   },
   "file_extension": ".py",
   "mimetype": "text/x-python",
   "name": "python",
   "nbconvert_exporter": "python",
   "pygments_lexer": "ipython3",
   "version": "3.9.12"
  }
 },
 "nbformat": 4,
 "nbformat_minor": 5
}
